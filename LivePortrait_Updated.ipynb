{
  "nbformat": 4,
  "nbformat_minor": 0,
  "metadata": {
    "colab": {
      "provenance": [],
      "gpuType": "T4",
      "include_colab_link": true
    },
    "kernelspec": {
      "name": "python3",
      "display_name": "Python 3"
    },
    "language_info": {
      "name": "python"
    },
    "accelerator": "GPU",
    "widgets": {
      "application/vnd.jupyter.widget-state+json": {
        "bcf6fb782e854669b99f0f82c7149828": {
          "model_module": "@jupyter-widgets/output",
          "model_name": "OutputModel",
          "model_module_version": "1.0.0",
          "state": {
            "_dom_classes": [],
            "_model_module": "@jupyter-widgets/output",
            "_model_module_version": "1.0.0",
            "_model_name": "OutputModel",
            "_view_count": null,
            "_view_module": "@jupyter-widgets/output",
            "_view_module_version": "1.0.0",
            "_view_name": "OutputView",
            "layout": "IPY_MODEL_50eae174391549359f79891e2fae075c",
            "msg_id": "",
            "outputs": [
              {
                "output_type": "display_data",
                "data": {
                  "text/plain": "Making motion templates... \u001b[38;2;114;156;31m━━━━━━━━━━━━━━━━━━━━━━━━━━━━━━━━━━━━━━━━\u001b[0m \u001b[35m100%\u001b[0m \u001b[33m0:00:10\u001b[0m\n",
                  "text/html": "<pre style=\"white-space:pre;overflow-x:auto;line-height:normal;font-family:Menlo,'DejaVu Sans Mono',consolas,'Courier New',monospace\">Making motion templates... <span style=\"color: #729c1f; text-decoration-color: #729c1f\">━━━━━━━━━━━━━━━━━━━━━━━━━━━━━━━━━━━━━━━━</span> <span style=\"color: #800080; text-decoration-color: #800080\">100%</span> <span style=\"color: #808000; text-decoration-color: #808000\">0:00:10</span>\n</pre>\n"
                },
                "metadata": {}
              }
            ]
          }
        },
        "50eae174391549359f79891e2fae075c": {
          "model_module": "@jupyter-widgets/base",
          "model_name": "LayoutModel",
          "model_module_version": "1.2.0",
          "state": {
            "_model_module": "@jupyter-widgets/base",
            "_model_module_version": "1.2.0",
            "_model_name": "LayoutModel",
            "_view_count": null,
            "_view_module": "@jupyter-widgets/base",
            "_view_module_version": "1.2.0",
            "_view_name": "LayoutView",
            "align_content": null,
            "align_items": null,
            "align_self": null,
            "border": null,
            "bottom": null,
            "display": null,
            "flex": null,
            "flex_flow": null,
            "grid_area": null,
            "grid_auto_columns": null,
            "grid_auto_flow": null,
            "grid_auto_rows": null,
            "grid_column": null,
            "grid_gap": null,
            "grid_row": null,
            "grid_template_areas": null,
            "grid_template_columns": null,
            "grid_template_rows": null,
            "height": null,
            "justify_content": null,
            "justify_items": null,
            "left": null,
            "margin": null,
            "max_height": null,
            "max_width": null,
            "min_height": null,
            "min_width": null,
            "object_fit": null,
            "object_position": null,
            "order": null,
            "overflow": null,
            "overflow_x": null,
            "overflow_y": null,
            "padding": null,
            "right": null,
            "top": null,
            "visibility": null,
            "width": null
          }
        },
        "b4cea99797c34fabb158fbc715348b87": {
          "model_module": "@jupyter-widgets/output",
          "model_name": "OutputModel",
          "model_module_version": "1.0.0",
          "state": {
            "_dom_classes": [],
            "_model_module": "@jupyter-widgets/output",
            "_model_module_version": "1.0.0",
            "_model_name": "OutputModel",
            "_view_count": null,
            "_view_module": "@jupyter-widgets/output",
            "_view_module_version": "1.0.0",
            "_view_name": "OutputView",
            "layout": "IPY_MODEL_1dcc34842434422fa5cc4a4c7eff0dde",
            "msg_id": "",
            "outputs": [
              {
                "output_type": "display_data",
                "data": {
                  "text/plain": "🚀Animating... \u001b[38;2;114;156;31m━━━━━━━━━━━━━━━━━━━━━━━━━━━━━━━━━━━━━━━━\u001b[0m \u001b[35m100%\u001b[0m \u001b[33m0:01:11\u001b[0m\n",
                  "text/html": "<pre style=\"white-space:pre;overflow-x:auto;line-height:normal;font-family:Menlo,'DejaVu Sans Mono',consolas,'Courier New',monospace\">🚀Animating... <span style=\"color: #729c1f; text-decoration-color: #729c1f\">━━━━━━━━━━━━━━━━━━━━━━━━━━━━━━━━━━━━━━━━</span> <span style=\"color: #800080; text-decoration-color: #800080\">100%</span> <span style=\"color: #808000; text-decoration-color: #808000\">0:01:11</span>\n</pre>\n"
                },
                "metadata": {}
              }
            ]
          }
        },
        "1dcc34842434422fa5cc4a4c7eff0dde": {
          "model_module": "@jupyter-widgets/base",
          "model_name": "LayoutModel",
          "model_module_version": "1.2.0",
          "state": {
            "_model_module": "@jupyter-widgets/base",
            "_model_module_version": "1.2.0",
            "_model_name": "LayoutModel",
            "_view_count": null,
            "_view_module": "@jupyter-widgets/base",
            "_view_module_version": "1.2.0",
            "_view_name": "LayoutView",
            "align_content": null,
            "align_items": null,
            "align_self": null,
            "border": null,
            "bottom": null,
            "display": null,
            "flex": null,
            "flex_flow": null,
            "grid_area": null,
            "grid_auto_columns": null,
            "grid_auto_flow": null,
            "grid_auto_rows": null,
            "grid_column": null,
            "grid_gap": null,
            "grid_row": null,
            "grid_template_areas": null,
            "grid_template_columns": null,
            "grid_template_rows": null,
            "height": null,
            "justify_content": null,
            "justify_items": null,
            "left": null,
            "margin": null,
            "max_height": null,
            "max_width": null,
            "min_height": null,
            "min_width": null,
            "object_fit": null,
            "object_position": null,
            "order": null,
            "overflow": null,
            "overflow_x": null,
            "overflow_y": null,
            "padding": null,
            "right": null,
            "top": null,
            "visibility": null,
            "width": null
          }
        },
        "91022db532ae453d84d24ac1976e550e": {
          "model_module": "@jupyter-widgets/output",
          "model_name": "OutputModel",
          "model_module_version": "1.0.0",
          "state": {
            "_dom_classes": [],
            "_model_module": "@jupyter-widgets/output",
            "_model_module_version": "1.0.0",
            "_model_name": "OutputModel",
            "_view_count": null,
            "_view_module": "@jupyter-widgets/output",
            "_view_module_version": "1.0.0",
            "_view_name": "OutputView",
            "layout": "IPY_MODEL_13554e66663e49748529264882a97593",
            "msg_id": "",
            "outputs": [
              {
                "output_type": "display_data",
                "data": {
                  "text/plain": "Concatenating result... \u001b[38;2;114;156;31m━━━━━━━━━━━━━━━━━━━━━━━━━━━━━━━━━━━━━━━━\u001b[0m \u001b[35m100%\u001b[0m \u001b[33m0:00:02\u001b[0m\n",
                  "text/html": "<pre style=\"white-space:pre;overflow-x:auto;line-height:normal;font-family:Menlo,'DejaVu Sans Mono',consolas,'Courier New',monospace\">Concatenating result... <span style=\"color: #729c1f; text-decoration-color: #729c1f\">━━━━━━━━━━━━━━━━━━━━━━━━━━━━━━━━━━━━━━━━</span> <span style=\"color: #800080; text-decoration-color: #800080\">100%</span> <span style=\"color: #808000; text-decoration-color: #808000\">0:00:02</span>\n</pre>\n"
                },
                "metadata": {}
              }
            ]
          }
        },
        "13554e66663e49748529264882a97593": {
          "model_module": "@jupyter-widgets/base",
          "model_name": "LayoutModel",
          "model_module_version": "1.2.0",
          "state": {
            "_model_module": "@jupyter-widgets/base",
            "_model_module_version": "1.2.0",
            "_model_name": "LayoutModel",
            "_view_count": null,
            "_view_module": "@jupyter-widgets/base",
            "_view_module_version": "1.2.0",
            "_view_name": "LayoutView",
            "align_content": null,
            "align_items": null,
            "align_self": null,
            "border": null,
            "bottom": null,
            "display": null,
            "flex": null,
            "flex_flow": null,
            "grid_area": null,
            "grid_auto_columns": null,
            "grid_auto_flow": null,
            "grid_auto_rows": null,
            "grid_column": null,
            "grid_gap": null,
            "grid_row": null,
            "grid_template_areas": null,
            "grid_template_columns": null,
            "grid_template_rows": null,
            "height": null,
            "justify_content": null,
            "justify_items": null,
            "left": null,
            "margin": null,
            "max_height": null,
            "max_width": null,
            "min_height": null,
            "min_width": null,
            "object_fit": null,
            "object_position": null,
            "order": null,
            "overflow": null,
            "overflow_x": null,
            "overflow_y": null,
            "padding": null,
            "right": null,
            "top": null,
            "visibility": null,
            "width": null
          }
        },
        "fa60fe2c8993498faa0efe201750cd4c": {
          "model_module": "@jupyter-widgets/output",
          "model_name": "OutputModel",
          "model_module_version": "1.0.0",
          "state": {
            "_dom_classes": [],
            "_model_module": "@jupyter-widgets/output",
            "_model_module_version": "1.0.0",
            "_model_name": "OutputModel",
            "_view_count": null,
            "_view_module": "@jupyter-widgets/output",
            "_view_module_version": "1.0.0",
            "_view_name": "OutputView",
            "layout": "IPY_MODEL_10bfbf8be79d42dd8955dede575eb58f",
            "msg_id": "",
            "outputs": [
              {
                "output_type": "display_data",
                "data": {
                  "text/plain": "Writing \u001b[38;2;114;156;31m━━━━━━━━━━━━━━━━━━━━━━━━━━━━━━━━━━━━━━━━\u001b[0m \u001b[35m100%\u001b[0m \u001b[33m0:00:17\u001b[0m\n",
                  "text/html": "<pre style=\"white-space:pre;overflow-x:auto;line-height:normal;font-family:Menlo,'DejaVu Sans Mono',consolas,'Courier New',monospace\">Writing <span style=\"color: #729c1f; text-decoration-color: #729c1f\">━━━━━━━━━━━━━━━━━━━━━━━━━━━━━━━━━━━━━━━━</span> <span style=\"color: #800080; text-decoration-color: #800080\">100%</span> <span style=\"color: #808000; text-decoration-color: #808000\">0:00:17</span>\n</pre>\n"
                },
                "metadata": {}
              }
            ]
          }
        },
        "10bfbf8be79d42dd8955dede575eb58f": {
          "model_module": "@jupyter-widgets/base",
          "model_name": "LayoutModel",
          "model_module_version": "1.2.0",
          "state": {
            "_model_module": "@jupyter-widgets/base",
            "_model_module_version": "1.2.0",
            "_model_name": "LayoutModel",
            "_view_count": null,
            "_view_module": "@jupyter-widgets/base",
            "_view_module_version": "1.2.0",
            "_view_name": "LayoutView",
            "align_content": null,
            "align_items": null,
            "align_self": null,
            "border": null,
            "bottom": null,
            "display": null,
            "flex": null,
            "flex_flow": null,
            "grid_area": null,
            "grid_auto_columns": null,
            "grid_auto_flow": null,
            "grid_auto_rows": null,
            "grid_column": null,
            "grid_gap": null,
            "grid_row": null,
            "grid_template_areas": null,
            "grid_template_columns": null,
            "grid_template_rows": null,
            "height": null,
            "justify_content": null,
            "justify_items": null,
            "left": null,
            "margin": null,
            "max_height": null,
            "max_width": null,
            "min_height": null,
            "min_width": null,
            "object_fit": null,
            "object_position": null,
            "order": null,
            "overflow": null,
            "overflow_x": null,
            "overflow_y": null,
            "padding": null,
            "right": null,
            "top": null,
            "visibility": null,
            "width": null
          }
        },
        "d5741baccc724666a9ddc6229135ec69": {
          "model_module": "@jupyter-widgets/output",
          "model_name": "OutputModel",
          "model_module_version": "1.0.0",
          "state": {
            "_dom_classes": [],
            "_model_module": "@jupyter-widgets/output",
            "_model_module_version": "1.0.0",
            "_model_name": "OutputModel",
            "_view_count": null,
            "_view_module": "@jupyter-widgets/output",
            "_view_module_version": "1.0.0",
            "_view_name": "OutputView",
            "layout": "IPY_MODEL_42b8111e177b4ccfa17a75a41b9ba7b2",
            "msg_id": "",
            "outputs": [
              {
                "output_type": "display_data",
                "data": {
                  "text/plain": "Writing \u001b[38;2;114;156;31m━━━━━━━━━━━━━━━━━━━━━━━━━━━━━━━━━━━━━━━━\u001b[0m \u001b[35m100%\u001b[0m \u001b[33m0:00:06\u001b[0m\n",
                  "text/html": "<pre style=\"white-space:pre;overflow-x:auto;line-height:normal;font-family:Menlo,'DejaVu Sans Mono',consolas,'Courier New',monospace\">Writing <span style=\"color: #729c1f; text-decoration-color: #729c1f\">━━━━━━━━━━━━━━━━━━━━━━━━━━━━━━━━━━━━━━━━</span> <span style=\"color: #800080; text-decoration-color: #800080\">100%</span> <span style=\"color: #808000; text-decoration-color: #808000\">0:00:06</span>\n</pre>\n"
                },
                "metadata": {}
              }
            ]
          }
        },
        "42b8111e177b4ccfa17a75a41b9ba7b2": {
          "model_module": "@jupyter-widgets/base",
          "model_name": "LayoutModel",
          "model_module_version": "1.2.0",
          "state": {
            "_model_module": "@jupyter-widgets/base",
            "_model_module_version": "1.2.0",
            "_model_name": "LayoutModel",
            "_view_count": null,
            "_view_module": "@jupyter-widgets/base",
            "_view_module_version": "1.2.0",
            "_view_name": "LayoutView",
            "align_content": null,
            "align_items": null,
            "align_self": null,
            "border": null,
            "bottom": null,
            "display": null,
            "flex": null,
            "flex_flow": null,
            "grid_area": null,
            "grid_auto_columns": null,
            "grid_auto_flow": null,
            "grid_auto_rows": null,
            "grid_column": null,
            "grid_gap": null,
            "grid_row": null,
            "grid_template_areas": null,
            "grid_template_columns": null,
            "grid_template_rows": null,
            "height": null,
            "justify_content": null,
            "justify_items": null,
            "left": null,
            "margin": null,
            "max_height": null,
            "max_width": null,
            "min_height": null,
            "min_width": null,
            "object_fit": null,
            "object_position": null,
            "order": null,
            "overflow": null,
            "overflow_x": null,
            "overflow_y": null,
            "padding": null,
            "right": null,
            "top": null,
            "visibility": null,
            "width": null
          }
        },
        "3668e9d881ec4f5886d52a3bc5910601": {
          "model_module": "@jupyter-widgets/output",
          "model_name": "OutputModel",
          "model_module_version": "1.0.0",
          "state": {
            "_dom_classes": [],
            "_model_module": "@jupyter-widgets/output",
            "_model_module_version": "1.0.0",
            "_model_name": "OutputModel",
            "_view_count": null,
            "_view_module": "@jupyter-widgets/output",
            "_view_module_version": "1.0.0",
            "_view_name": "OutputView",
            "layout": "IPY_MODEL_dfb43a4d93ba487da9c41337b2d03e12",
            "msg_id": "",
            "outputs": [
              {
                "output_type": "display_data",
                "data": {
                  "text/plain": "Making motion templates... \u001b[38;2;114;156;31m━━━━━━━━━━━━━━━━━━━━━━━━━━━━━━━━━━━━━━━━\u001b[0m \u001b[35m100%\u001b[0m \u001b[33m0:00:03\u001b[0m\n",
                  "text/html": "<pre style=\"white-space:pre;overflow-x:auto;line-height:normal;font-family:Menlo,'DejaVu Sans Mono',consolas,'Courier New',monospace\">Making motion templates... <span style=\"color: #729c1f; text-decoration-color: #729c1f\">━━━━━━━━━━━━━━━━━━━━━━━━━━━━━━━━━━━━━━━━</span> <span style=\"color: #800080; text-decoration-color: #800080\">100%</span> <span style=\"color: #808000; text-decoration-color: #808000\">0:00:03</span>\n</pre>\n"
                },
                "metadata": {}
              }
            ]
          }
        },
        "dfb43a4d93ba487da9c41337b2d03e12": {
          "model_module": "@jupyter-widgets/base",
          "model_name": "LayoutModel",
          "model_module_version": "1.2.0",
          "state": {
            "_model_module": "@jupyter-widgets/base",
            "_model_module_version": "1.2.0",
            "_model_name": "LayoutModel",
            "_view_count": null,
            "_view_module": "@jupyter-widgets/base",
            "_view_module_version": "1.2.0",
            "_view_name": "LayoutView",
            "align_content": null,
            "align_items": null,
            "align_self": null,
            "border": null,
            "bottom": null,
            "display": null,
            "flex": null,
            "flex_flow": null,
            "grid_area": null,
            "grid_auto_columns": null,
            "grid_auto_flow": null,
            "grid_auto_rows": null,
            "grid_column": null,
            "grid_gap": null,
            "grid_row": null,
            "grid_template_areas": null,
            "grid_template_columns": null,
            "grid_template_rows": null,
            "height": null,
            "justify_content": null,
            "justify_items": null,
            "left": null,
            "margin": null,
            "max_height": null,
            "max_width": null,
            "min_height": null,
            "min_width": null,
            "object_fit": null,
            "object_position": null,
            "order": null,
            "overflow": null,
            "overflow_x": null,
            "overflow_y": null,
            "padding": null,
            "right": null,
            "top": null,
            "visibility": null,
            "width": null
          }
        },
        "3bad1802f67a47c2a2163197c2aed69f": {
          "model_module": "@jupyter-widgets/output",
          "model_name": "OutputModel",
          "model_module_version": "1.0.0",
          "state": {
            "_dom_classes": [],
            "_model_module": "@jupyter-widgets/output",
            "_model_module_version": "1.0.0",
            "_model_name": "OutputModel",
            "_view_count": null,
            "_view_module": "@jupyter-widgets/output",
            "_view_module_version": "1.0.0",
            "_view_name": "OutputView",
            "layout": "IPY_MODEL_0f1cf5e8f6464733b8fa8ae69e7cf743",
            "msg_id": "",
            "outputs": [
              {
                "output_type": "display_data",
                "data": {
                  "text/plain": "🚀Animating... \u001b[38;2;114;156;31m━━━━━━━━━━━━━━━━━━━━━━━━━━━━━━━━━━━━━━━━\u001b[0m \u001b[35m100%\u001b[0m \u001b[33m0:00:24\u001b[0m\n",
                  "text/html": "<pre style=\"white-space:pre;overflow-x:auto;line-height:normal;font-family:Menlo,'DejaVu Sans Mono',consolas,'Courier New',monospace\">🚀Animating... <span style=\"color: #729c1f; text-decoration-color: #729c1f\">━━━━━━━━━━━━━━━━━━━━━━━━━━━━━━━━━━━━━━━━</span> <span style=\"color: #800080; text-decoration-color: #800080\">100%</span> <span style=\"color: #808000; text-decoration-color: #808000\">0:00:24</span>\n</pre>\n"
                },
                "metadata": {}
              }
            ]
          }
        },
        "0f1cf5e8f6464733b8fa8ae69e7cf743": {
          "model_module": "@jupyter-widgets/base",
          "model_name": "LayoutModel",
          "model_module_version": "1.2.0",
          "state": {
            "_model_module": "@jupyter-widgets/base",
            "_model_module_version": "1.2.0",
            "_model_name": "LayoutModel",
            "_view_count": null,
            "_view_module": "@jupyter-widgets/base",
            "_view_module_version": "1.2.0",
            "_view_name": "LayoutView",
            "align_content": null,
            "align_items": null,
            "align_self": null,
            "border": null,
            "bottom": null,
            "display": null,
            "flex": null,
            "flex_flow": null,
            "grid_area": null,
            "grid_auto_columns": null,
            "grid_auto_flow": null,
            "grid_auto_rows": null,
            "grid_column": null,
            "grid_gap": null,
            "grid_row": null,
            "grid_template_areas": null,
            "grid_template_columns": null,
            "grid_template_rows": null,
            "height": null,
            "justify_content": null,
            "justify_items": null,
            "left": null,
            "margin": null,
            "max_height": null,
            "max_width": null,
            "min_height": null,
            "min_width": null,
            "object_fit": null,
            "object_position": null,
            "order": null,
            "overflow": null,
            "overflow_x": null,
            "overflow_y": null,
            "padding": null,
            "right": null,
            "top": null,
            "visibility": null,
            "width": null
          }
        },
        "672a4acdd1a8436bbf702ecae8d116ab": {
          "model_module": "@jupyter-widgets/output",
          "model_name": "OutputModel",
          "model_module_version": "1.0.0",
          "state": {
            "_dom_classes": [],
            "_model_module": "@jupyter-widgets/output",
            "_model_module_version": "1.0.0",
            "_model_name": "OutputModel",
            "_view_count": null,
            "_view_module": "@jupyter-widgets/output",
            "_view_module_version": "1.0.0",
            "_view_name": "OutputView",
            "layout": "IPY_MODEL_d03c5f16f39c42a0b3b220dcf62591f0",
            "msg_id": "",
            "outputs": [
              {
                "output_type": "display_data",
                "data": {
                  "text/plain": "Concatenating result... \u001b[38;2;114;156;31m━━━━━━━━━━━━━━━━━━━━━━━━━━━━━━━━━━━━━━━━\u001b[0m \u001b[35m100%\u001b[0m \u001b[33m0:00:01\u001b[0m\n",
                  "text/html": "<pre style=\"white-space:pre;overflow-x:auto;line-height:normal;font-family:Menlo,'DejaVu Sans Mono',consolas,'Courier New',monospace\">Concatenating result... <span style=\"color: #729c1f; text-decoration-color: #729c1f\">━━━━━━━━━━━━━━━━━━━━━━━━━━━━━━━━━━━━━━━━</span> <span style=\"color: #800080; text-decoration-color: #800080\">100%</span> <span style=\"color: #808000; text-decoration-color: #808000\">0:00:01</span>\n</pre>\n"
                },
                "metadata": {}
              }
            ]
          }
        },
        "d03c5f16f39c42a0b3b220dcf62591f0": {
          "model_module": "@jupyter-widgets/base",
          "model_name": "LayoutModel",
          "model_module_version": "1.2.0",
          "state": {
            "_model_module": "@jupyter-widgets/base",
            "_model_module_version": "1.2.0",
            "_model_name": "LayoutModel",
            "_view_count": null,
            "_view_module": "@jupyter-widgets/base",
            "_view_module_version": "1.2.0",
            "_view_name": "LayoutView",
            "align_content": null,
            "align_items": null,
            "align_self": null,
            "border": null,
            "bottom": null,
            "display": null,
            "flex": null,
            "flex_flow": null,
            "grid_area": null,
            "grid_auto_columns": null,
            "grid_auto_flow": null,
            "grid_auto_rows": null,
            "grid_column": null,
            "grid_gap": null,
            "grid_row": null,
            "grid_template_areas": null,
            "grid_template_columns": null,
            "grid_template_rows": null,
            "height": null,
            "justify_content": null,
            "justify_items": null,
            "left": null,
            "margin": null,
            "max_height": null,
            "max_width": null,
            "min_height": null,
            "min_width": null,
            "object_fit": null,
            "object_position": null,
            "order": null,
            "overflow": null,
            "overflow_x": null,
            "overflow_y": null,
            "padding": null,
            "right": null,
            "top": null,
            "visibility": null,
            "width": null
          }
        },
        "34bada6f1a18412d818d63c1bdff14ed": {
          "model_module": "@jupyter-widgets/output",
          "model_name": "OutputModel",
          "model_module_version": "1.0.0",
          "state": {
            "_dom_classes": [],
            "_model_module": "@jupyter-widgets/output",
            "_model_module_version": "1.0.0",
            "_model_name": "OutputModel",
            "_view_count": null,
            "_view_module": "@jupyter-widgets/output",
            "_view_module_version": "1.0.0",
            "_view_name": "OutputView",
            "layout": "IPY_MODEL_f6599e7aef9144f18a3a96677061363f",
            "msg_id": "",
            "outputs": [
              {
                "output_type": "display_data",
                "data": {
                  "text/plain": "Writing \u001b[38;2;114;156;31m━━━━━━━━━━━━━━━━━━━━━━━━━━━━━━━━━━━━━━━━\u001b[0m \u001b[35m100%\u001b[0m \u001b[33m0:00:05\u001b[0m\n",
                  "text/html": "<pre style=\"white-space:pre;overflow-x:auto;line-height:normal;font-family:Menlo,'DejaVu Sans Mono',consolas,'Courier New',monospace\">Writing <span style=\"color: #729c1f; text-decoration-color: #729c1f\">━━━━━━━━━━━━━━━━━━━━━━━━━━━━━━━━━━━━━━━━</span> <span style=\"color: #800080; text-decoration-color: #800080\">100%</span> <span style=\"color: #808000; text-decoration-color: #808000\">0:00:05</span>\n</pre>\n"
                },
                "metadata": {}
              }
            ]
          }
        },
        "f6599e7aef9144f18a3a96677061363f": {
          "model_module": "@jupyter-widgets/base",
          "model_name": "LayoutModel",
          "model_module_version": "1.2.0",
          "state": {
            "_model_module": "@jupyter-widgets/base",
            "_model_module_version": "1.2.0",
            "_model_name": "LayoutModel",
            "_view_count": null,
            "_view_module": "@jupyter-widgets/base",
            "_view_module_version": "1.2.0",
            "_view_name": "LayoutView",
            "align_content": null,
            "align_items": null,
            "align_self": null,
            "border": null,
            "bottom": null,
            "display": null,
            "flex": null,
            "flex_flow": null,
            "grid_area": null,
            "grid_auto_columns": null,
            "grid_auto_flow": null,
            "grid_auto_rows": null,
            "grid_column": null,
            "grid_gap": null,
            "grid_row": null,
            "grid_template_areas": null,
            "grid_template_columns": null,
            "grid_template_rows": null,
            "height": null,
            "justify_content": null,
            "justify_items": null,
            "left": null,
            "margin": null,
            "max_height": null,
            "max_width": null,
            "min_height": null,
            "min_width": null,
            "object_fit": null,
            "object_position": null,
            "order": null,
            "overflow": null,
            "overflow_x": null,
            "overflow_y": null,
            "padding": null,
            "right": null,
            "top": null,
            "visibility": null,
            "width": null
          }
        },
        "4effdbd349eb47629f555f486b17e47c": {
          "model_module": "@jupyter-widgets/output",
          "model_name": "OutputModel",
          "model_module_version": "1.0.0",
          "state": {
            "_dom_classes": [],
            "_model_module": "@jupyter-widgets/output",
            "_model_module_version": "1.0.0",
            "_model_name": "OutputModel",
            "_view_count": null,
            "_view_module": "@jupyter-widgets/output",
            "_view_module_version": "1.0.0",
            "_view_name": "OutputView",
            "layout": "IPY_MODEL_c9b40f8fd8cd440fb22939de4a1e8367",
            "msg_id": "",
            "outputs": [
              {
                "output_type": "display_data",
                "data": {
                  "text/plain": "Writing \u001b[38;2;114;156;31m━━━━━━━━━━━━━━━━━━━━━━━━━━━━━━━━━━━━━━━━\u001b[0m \u001b[35m100%\u001b[0m \u001b[33m0:00:01\u001b[0m\n",
                  "text/html": "<pre style=\"white-space:pre;overflow-x:auto;line-height:normal;font-family:Menlo,'DejaVu Sans Mono',consolas,'Courier New',monospace\">Writing <span style=\"color: #729c1f; text-decoration-color: #729c1f\">━━━━━━━━━━━━━━━━━━━━━━━━━━━━━━━━━━━━━━━━</span> <span style=\"color: #800080; text-decoration-color: #800080\">100%</span> <span style=\"color: #808000; text-decoration-color: #808000\">0:00:01</span>\n</pre>\n"
                },
                "metadata": {}
              }
            ]
          }
        },
        "c9b40f8fd8cd440fb22939de4a1e8367": {
          "model_module": "@jupyter-widgets/base",
          "model_name": "LayoutModel",
          "model_module_version": "1.2.0",
          "state": {
            "_model_module": "@jupyter-widgets/base",
            "_model_module_version": "1.2.0",
            "_model_name": "LayoutModel",
            "_view_count": null,
            "_view_module": "@jupyter-widgets/base",
            "_view_module_version": "1.2.0",
            "_view_name": "LayoutView",
            "align_content": null,
            "align_items": null,
            "align_self": null,
            "border": null,
            "bottom": null,
            "display": null,
            "flex": null,
            "flex_flow": null,
            "grid_area": null,
            "grid_auto_columns": null,
            "grid_auto_flow": null,
            "grid_auto_rows": null,
            "grid_column": null,
            "grid_gap": null,
            "grid_row": null,
            "grid_template_areas": null,
            "grid_template_columns": null,
            "grid_template_rows": null,
            "height": null,
            "justify_content": null,
            "justify_items": null,
            "left": null,
            "margin": null,
            "max_height": null,
            "max_width": null,
            "min_height": null,
            "min_width": null,
            "object_fit": null,
            "object_position": null,
            "order": null,
            "overflow": null,
            "overflow_x": null,
            "overflow_y": null,
            "padding": null,
            "right": null,
            "top": null,
            "visibility": null,
            "width": null
          }
        },
        "0f0efa340bc04938a9f9a3c8a566c61a": {
          "model_module": "@jupyter-widgets/output",
          "model_name": "OutputModel",
          "model_module_version": "1.0.0",
          "state": {
            "_dom_classes": [],
            "_model_module": "@jupyter-widgets/output",
            "_model_module_version": "1.0.0",
            "_model_name": "OutputModel",
            "_view_count": null,
            "_view_module": "@jupyter-widgets/output",
            "_view_module_version": "1.0.0",
            "_view_name": "OutputView",
            "layout": "IPY_MODEL_8430b25b3ac1441d9b4848099411aeba",
            "msg_id": "",
            "outputs": [
              {
                "output_type": "display_data",
                "data": {
                  "text/plain": "Making motion templates... \u001b[38;2;114;156;31m━━━━━━━━━━━━━━━━━━━━━━━━━━━━━━━━━━━━━━━━\u001b[0m \u001b[35m100%\u001b[0m \u001b[33m0:00:00\u001b[0m\n",
                  "text/html": "<pre style=\"white-space:pre;overflow-x:auto;line-height:normal;font-family:Menlo,'DejaVu Sans Mono',consolas,'Courier New',monospace\">Making motion templates... <span style=\"color: #729c1f; text-decoration-color: #729c1f\">━━━━━━━━━━━━━━━━━━━━━━━━━━━━━━━━━━━━━━━━</span> <span style=\"color: #800080; text-decoration-color: #800080\">100%</span> <span style=\"color: #808000; text-decoration-color: #808000\">0:00:00</span>\n</pre>\n"
                },
                "metadata": {}
              }
            ]
          }
        },
        "8430b25b3ac1441d9b4848099411aeba": {
          "model_module": "@jupyter-widgets/base",
          "model_name": "LayoutModel",
          "model_module_version": "1.2.0",
          "state": {
            "_model_module": "@jupyter-widgets/base",
            "_model_module_version": "1.2.0",
            "_model_name": "LayoutModel",
            "_view_count": null,
            "_view_module": "@jupyter-widgets/base",
            "_view_module_version": "1.2.0",
            "_view_name": "LayoutView",
            "align_content": null,
            "align_items": null,
            "align_self": null,
            "border": null,
            "bottom": null,
            "display": null,
            "flex": null,
            "flex_flow": null,
            "grid_area": null,
            "grid_auto_columns": null,
            "grid_auto_flow": null,
            "grid_auto_rows": null,
            "grid_column": null,
            "grid_gap": null,
            "grid_row": null,
            "grid_template_areas": null,
            "grid_template_columns": null,
            "grid_template_rows": null,
            "height": null,
            "justify_content": null,
            "justify_items": null,
            "left": null,
            "margin": null,
            "max_height": null,
            "max_width": null,
            "min_height": null,
            "min_width": null,
            "object_fit": null,
            "object_position": null,
            "order": null,
            "overflow": null,
            "overflow_x": null,
            "overflow_y": null,
            "padding": null,
            "right": null,
            "top": null,
            "visibility": null,
            "width": null
          }
        },
        "2b587d4dbc55406f805990f1b13f5515": {
          "model_module": "@jupyter-widgets/output",
          "model_name": "OutputModel",
          "model_module_version": "1.0.0",
          "state": {
            "_dom_classes": [],
            "_model_module": "@jupyter-widgets/output",
            "_model_module_version": "1.0.0",
            "_model_name": "OutputModel",
            "_view_count": null,
            "_view_module": "@jupyter-widgets/output",
            "_view_module_version": "1.0.0",
            "_view_name": "OutputView",
            "layout": "IPY_MODEL_5d48d5935a0844759ec32caa48fa73a1",
            "msg_id": "",
            "outputs": [
              {
                "output_type": "display_data",
                "data": {
                  "text/plain": "🚀Animating... \u001b[38;2;114;156;31m━━━━━━━━━━━━━━━━━━━━━━━━━━━━━━━━━━━━━━━━\u001b[0m \u001b[35m100%\u001b[0m \u001b[33m0:00:00\u001b[0m\n",
                  "text/html": "<pre style=\"white-space:pre;overflow-x:auto;line-height:normal;font-family:Menlo,'DejaVu Sans Mono',consolas,'Courier New',monospace\">🚀Animating... <span style=\"color: #729c1f; text-decoration-color: #729c1f\">━━━━━━━━━━━━━━━━━━━━━━━━━━━━━━━━━━━━━━━━</span> <span style=\"color: #800080; text-decoration-color: #800080\">100%</span> <span style=\"color: #808000; text-decoration-color: #808000\">0:00:00</span>\n</pre>\n"
                },
                "metadata": {}
              }
            ]
          }
        },
        "5d48d5935a0844759ec32caa48fa73a1": {
          "model_module": "@jupyter-widgets/base",
          "model_name": "LayoutModel",
          "model_module_version": "1.2.0",
          "state": {
            "_model_module": "@jupyter-widgets/base",
            "_model_module_version": "1.2.0",
            "_model_name": "LayoutModel",
            "_view_count": null,
            "_view_module": "@jupyter-widgets/base",
            "_view_module_version": "1.2.0",
            "_view_name": "LayoutView",
            "align_content": null,
            "align_items": null,
            "align_self": null,
            "border": null,
            "bottom": null,
            "display": null,
            "flex": null,
            "flex_flow": null,
            "grid_area": null,
            "grid_auto_columns": null,
            "grid_auto_flow": null,
            "grid_auto_rows": null,
            "grid_column": null,
            "grid_gap": null,
            "grid_row": null,
            "grid_template_areas": null,
            "grid_template_columns": null,
            "grid_template_rows": null,
            "height": null,
            "justify_content": null,
            "justify_items": null,
            "left": null,
            "margin": null,
            "max_height": null,
            "max_width": null,
            "min_height": null,
            "min_width": null,
            "object_fit": null,
            "object_position": null,
            "order": null,
            "overflow": null,
            "overflow_x": null,
            "overflow_y": null,
            "padding": null,
            "right": null,
            "top": null,
            "visibility": null,
            "width": null
          }
        },
        "9f6daa67fffb40fca47dc7188f73ee1e": {
          "model_module": "@jupyter-widgets/output",
          "model_name": "OutputModel",
          "model_module_version": "1.0.0",
          "state": {
            "_dom_classes": [],
            "_model_module": "@jupyter-widgets/output",
            "_model_module_version": "1.0.0",
            "_model_name": "OutputModel",
            "_view_count": null,
            "_view_module": "@jupyter-widgets/output",
            "_view_module_version": "1.0.0",
            "_view_name": "OutputView",
            "layout": "IPY_MODEL_e66cafbfc3824da1a8428054b8d5ceb9",
            "msg_id": "",
            "outputs": [
              {
                "output_type": "display_data",
                "data": {
                  "text/plain": "Concatenating result... \u001b[38;2;114;156;31m━━━━━━━━━━━━━━━━━━━━━━━━━━━━━━━━━━━━━━━━\u001b[0m \u001b[35m100%\u001b[0m \u001b[33m0:00:00\u001b[0m\n",
                  "text/html": "<pre style=\"white-space:pre;overflow-x:auto;line-height:normal;font-family:Menlo,'DejaVu Sans Mono',consolas,'Courier New',monospace\">Concatenating result... <span style=\"color: #729c1f; text-decoration-color: #729c1f\">━━━━━━━━━━━━━━━━━━━━━━━━━━━━━━━━━━━━━━━━</span> <span style=\"color: #800080; text-decoration-color: #800080\">100%</span> <span style=\"color: #808000; text-decoration-color: #808000\">0:00:00</span>\n</pre>\n"
                },
                "metadata": {}
              }
            ]
          }
        },
        "e66cafbfc3824da1a8428054b8d5ceb9": {
          "model_module": "@jupyter-widgets/base",
          "model_name": "LayoutModel",
          "model_module_version": "1.2.0",
          "state": {
            "_model_module": "@jupyter-widgets/base",
            "_model_module_version": "1.2.0",
            "_model_name": "LayoutModel",
            "_view_count": null,
            "_view_module": "@jupyter-widgets/base",
            "_view_module_version": "1.2.0",
            "_view_name": "LayoutView",
            "align_content": null,
            "align_items": null,
            "align_self": null,
            "border": null,
            "bottom": null,
            "display": null,
            "flex": null,
            "flex_flow": null,
            "grid_area": null,
            "grid_auto_columns": null,
            "grid_auto_flow": null,
            "grid_auto_rows": null,
            "grid_column": null,
            "grid_gap": null,
            "grid_row": null,
            "grid_template_areas": null,
            "grid_template_columns": null,
            "grid_template_rows": null,
            "height": null,
            "justify_content": null,
            "justify_items": null,
            "left": null,
            "margin": null,
            "max_height": null,
            "max_width": null,
            "min_height": null,
            "min_width": null,
            "object_fit": null,
            "object_position": null,
            "order": null,
            "overflow": null,
            "overflow_x": null,
            "overflow_y": null,
            "padding": null,
            "right": null,
            "top": null,
            "visibility": null,
            "width": null
          }
        },
        "f221c4d632804dd080403a915fb17415": {
          "model_module": "@jupyter-widgets/output",
          "model_name": "OutputModel",
          "model_module_version": "1.0.0",
          "state": {
            "_dom_classes": [],
            "_model_module": "@jupyter-widgets/output",
            "_model_module_version": "1.0.0",
            "_model_name": "OutputModel",
            "_view_count": null,
            "_view_module": "@jupyter-widgets/output",
            "_view_module_version": "1.0.0",
            "_view_name": "OutputView",
            "layout": "IPY_MODEL_cbadc0df8d304a54b3ff372867f6a9b3",
            "msg_id": "",
            "outputs": [
              {
                "output_type": "display_data",
                "data": {
                  "text/plain": "Making motion templates... \u001b[38;2;114;156;31m━━━━━━━━━━━━━━━━━━━━━━━━━━━━━━━━━━━━━━━━\u001b[0m \u001b[35m100%\u001b[0m \u001b[33m0:00:00\u001b[0m\n",
                  "text/html": "<pre style=\"white-space:pre;overflow-x:auto;line-height:normal;font-family:Menlo,'DejaVu Sans Mono',consolas,'Courier New',monospace\">Making motion templates... <span style=\"color: #729c1f; text-decoration-color: #729c1f\">━━━━━━━━━━━━━━━━━━━━━━━━━━━━━━━━━━━━━━━━</span> <span style=\"color: #800080; text-decoration-color: #800080\">100%</span> <span style=\"color: #808000; text-decoration-color: #808000\">0:00:00</span>\n</pre>\n"
                },
                "metadata": {}
              }
            ]
          }
        },
        "cbadc0df8d304a54b3ff372867f6a9b3": {
          "model_module": "@jupyter-widgets/base",
          "model_name": "LayoutModel",
          "model_module_version": "1.2.0",
          "state": {
            "_model_module": "@jupyter-widgets/base",
            "_model_module_version": "1.2.0",
            "_model_name": "LayoutModel",
            "_view_count": null,
            "_view_module": "@jupyter-widgets/base",
            "_view_module_version": "1.2.0",
            "_view_name": "LayoutView",
            "align_content": null,
            "align_items": null,
            "align_self": null,
            "border": null,
            "bottom": null,
            "display": null,
            "flex": null,
            "flex_flow": null,
            "grid_area": null,
            "grid_auto_columns": null,
            "grid_auto_flow": null,
            "grid_auto_rows": null,
            "grid_column": null,
            "grid_gap": null,
            "grid_row": null,
            "grid_template_areas": null,
            "grid_template_columns": null,
            "grid_template_rows": null,
            "height": null,
            "justify_content": null,
            "justify_items": null,
            "left": null,
            "margin": null,
            "max_height": null,
            "max_width": null,
            "min_height": null,
            "min_width": null,
            "object_fit": null,
            "object_position": null,
            "order": null,
            "overflow": null,
            "overflow_x": null,
            "overflow_y": null,
            "padding": null,
            "right": null,
            "top": null,
            "visibility": null,
            "width": null
          }
        },
        "690fb70da5364b75a567e50038308f14": {
          "model_module": "@jupyter-widgets/output",
          "model_name": "OutputModel",
          "model_module_version": "1.0.0",
          "state": {
            "_dom_classes": [],
            "_model_module": "@jupyter-widgets/output",
            "_model_module_version": "1.0.0",
            "_model_name": "OutputModel",
            "_view_count": null,
            "_view_module": "@jupyter-widgets/output",
            "_view_module_version": "1.0.0",
            "_view_name": "OutputView",
            "layout": "IPY_MODEL_0aa7a74fd950431682d26df4247bcf2b",
            "msg_id": "",
            "outputs": [
              {
                "output_type": "display_data",
                "data": {
                  "text/plain": "🚀Animating... \u001b[38;2;114;156;31m━━━━━━━━━━━━━━━━━━━━━━━━━━━━━━━━━━━━━━━━\u001b[0m \u001b[35m100%\u001b[0m \u001b[33m0:00:02\u001b[0m\n",
                  "text/html": "<pre style=\"white-space:pre;overflow-x:auto;line-height:normal;font-family:Menlo,'DejaVu Sans Mono',consolas,'Courier New',monospace\">🚀Animating... <span style=\"color: #729c1f; text-decoration-color: #729c1f\">━━━━━━━━━━━━━━━━━━━━━━━━━━━━━━━━━━━━━━━━</span> <span style=\"color: #800080; text-decoration-color: #800080\">100%</span> <span style=\"color: #808000; text-decoration-color: #808000\">0:00:02</span>\n</pre>\n"
                },
                "metadata": {}
              }
            ]
          }
        },
        "0aa7a74fd950431682d26df4247bcf2b": {
          "model_module": "@jupyter-widgets/base",
          "model_name": "LayoutModel",
          "model_module_version": "1.2.0",
          "state": {
            "_model_module": "@jupyter-widgets/base",
            "_model_module_version": "1.2.0",
            "_model_name": "LayoutModel",
            "_view_count": null,
            "_view_module": "@jupyter-widgets/base",
            "_view_module_version": "1.2.0",
            "_view_name": "LayoutView",
            "align_content": null,
            "align_items": null,
            "align_self": null,
            "border": null,
            "bottom": null,
            "display": null,
            "flex": null,
            "flex_flow": null,
            "grid_area": null,
            "grid_auto_columns": null,
            "grid_auto_flow": null,
            "grid_auto_rows": null,
            "grid_column": null,
            "grid_gap": null,
            "grid_row": null,
            "grid_template_areas": null,
            "grid_template_columns": null,
            "grid_template_rows": null,
            "height": null,
            "justify_content": null,
            "justify_items": null,
            "left": null,
            "margin": null,
            "max_height": null,
            "max_width": null,
            "min_height": null,
            "min_width": null,
            "object_fit": null,
            "object_position": null,
            "order": null,
            "overflow": null,
            "overflow_x": null,
            "overflow_y": null,
            "padding": null,
            "right": null,
            "top": null,
            "visibility": null,
            "width": null
          }
        },
        "c9bf68e6959b412b8eb6cde71a609bc7": {
          "model_module": "@jupyter-widgets/output",
          "model_name": "OutputModel",
          "model_module_version": "1.0.0",
          "state": {
            "_dom_classes": [],
            "_model_module": "@jupyter-widgets/output",
            "_model_module_version": "1.0.0",
            "_model_name": "OutputModel",
            "_view_count": null,
            "_view_module": "@jupyter-widgets/output",
            "_view_module_version": "1.0.0",
            "_view_name": "OutputView",
            "layout": "IPY_MODEL_82151f40990e457eb48ea3ebec9963d5",
            "msg_id": "",
            "outputs": [
              {
                "output_type": "display_data",
                "data": {
                  "text/plain": "Concatenating result... \u001b[38;2;114;156;31m━━━━━━━━━━━━━━━━━━━━━━━━━━━━━━━━━━━━━━━━\u001b[0m \u001b[35m100%\u001b[0m \u001b[33m0:00:00\u001b[0m\n",
                  "text/html": "<pre style=\"white-space:pre;overflow-x:auto;line-height:normal;font-family:Menlo,'DejaVu Sans Mono',consolas,'Courier New',monospace\">Concatenating result... <span style=\"color: #729c1f; text-decoration-color: #729c1f\">━━━━━━━━━━━━━━━━━━━━━━━━━━━━━━━━━━━━━━━━</span> <span style=\"color: #800080; text-decoration-color: #800080\">100%</span> <span style=\"color: #808000; text-decoration-color: #808000\">0:00:00</span>\n</pre>\n"
                },
                "metadata": {}
              }
            ]
          }
        },
        "82151f40990e457eb48ea3ebec9963d5": {
          "model_module": "@jupyter-widgets/base",
          "model_name": "LayoutModel",
          "model_module_version": "1.2.0",
          "state": {
            "_model_module": "@jupyter-widgets/base",
            "_model_module_version": "1.2.0",
            "_model_name": "LayoutModel",
            "_view_count": null,
            "_view_module": "@jupyter-widgets/base",
            "_view_module_version": "1.2.0",
            "_view_name": "LayoutView",
            "align_content": null,
            "align_items": null,
            "align_self": null,
            "border": null,
            "bottom": null,
            "display": null,
            "flex": null,
            "flex_flow": null,
            "grid_area": null,
            "grid_auto_columns": null,
            "grid_auto_flow": null,
            "grid_auto_rows": null,
            "grid_column": null,
            "grid_gap": null,
            "grid_row": null,
            "grid_template_areas": null,
            "grid_template_columns": null,
            "grid_template_rows": null,
            "height": null,
            "justify_content": null,
            "justify_items": null,
            "left": null,
            "margin": null,
            "max_height": null,
            "max_width": null,
            "min_height": null,
            "min_width": null,
            "object_fit": null,
            "object_position": null,
            "order": null,
            "overflow": null,
            "overflow_x": null,
            "overflow_y": null,
            "padding": null,
            "right": null,
            "top": null,
            "visibility": null,
            "width": null
          }
        },
        "2bdfb62607564f849a93cc7dc6ef404e": {
          "model_module": "@jupyter-widgets/output",
          "model_name": "OutputModel",
          "model_module_version": "1.0.0",
          "state": {
            "_dom_classes": [],
            "_model_module": "@jupyter-widgets/output",
            "_model_module_version": "1.0.0",
            "_model_name": "OutputModel",
            "_view_count": null,
            "_view_module": "@jupyter-widgets/output",
            "_view_module_version": "1.0.0",
            "_view_name": "OutputView",
            "layout": "IPY_MODEL_5ccff30f18c1441997df372efb14cc0a",
            "msg_id": "",
            "outputs": [
              {
                "output_type": "display_data",
                "data": {
                  "text/plain": "Making motion templates... \u001b[38;2;114;156;31m━━━━━━━━━━━━━━━━━━━━━━━━━━━━━━━━━━━━━━━━\u001b[0m \u001b[35m100%\u001b[0m \u001b[33m0:00:00\u001b[0m\n",
                  "text/html": "<pre style=\"white-space:pre;overflow-x:auto;line-height:normal;font-family:Menlo,'DejaVu Sans Mono',consolas,'Courier New',monospace\">Making motion templates... <span style=\"color: #729c1f; text-decoration-color: #729c1f\">━━━━━━━━━━━━━━━━━━━━━━━━━━━━━━━━━━━━━━━━</span> <span style=\"color: #800080; text-decoration-color: #800080\">100%</span> <span style=\"color: #808000; text-decoration-color: #808000\">0:00:00</span>\n</pre>\n"
                },
                "metadata": {}
              }
            ]
          }
        },
        "5ccff30f18c1441997df372efb14cc0a": {
          "model_module": "@jupyter-widgets/base",
          "model_name": "LayoutModel",
          "model_module_version": "1.2.0",
          "state": {
            "_model_module": "@jupyter-widgets/base",
            "_model_module_version": "1.2.0",
            "_model_name": "LayoutModel",
            "_view_count": null,
            "_view_module": "@jupyter-widgets/base",
            "_view_module_version": "1.2.0",
            "_view_name": "LayoutView",
            "align_content": null,
            "align_items": null,
            "align_self": null,
            "border": null,
            "bottom": null,
            "display": null,
            "flex": null,
            "flex_flow": null,
            "grid_area": null,
            "grid_auto_columns": null,
            "grid_auto_flow": null,
            "grid_auto_rows": null,
            "grid_column": null,
            "grid_gap": null,
            "grid_row": null,
            "grid_template_areas": null,
            "grid_template_columns": null,
            "grid_template_rows": null,
            "height": null,
            "justify_content": null,
            "justify_items": null,
            "left": null,
            "margin": null,
            "max_height": null,
            "max_width": null,
            "min_height": null,
            "min_width": null,
            "object_fit": null,
            "object_position": null,
            "order": null,
            "overflow": null,
            "overflow_x": null,
            "overflow_y": null,
            "padding": null,
            "right": null,
            "top": null,
            "visibility": null,
            "width": null
          }
        },
        "d2c8b5b7e3db480391b0c367ce31f0b2": {
          "model_module": "@jupyter-widgets/output",
          "model_name": "OutputModel",
          "model_module_version": "1.0.0",
          "state": {
            "_dom_classes": [],
            "_model_module": "@jupyter-widgets/output",
            "_model_module_version": "1.0.0",
            "_model_name": "OutputModel",
            "_view_count": null,
            "_view_module": "@jupyter-widgets/output",
            "_view_module_version": "1.0.0",
            "_view_name": "OutputView",
            "layout": "IPY_MODEL_99e05b5ca10a47a9988de157d4ad7ff8",
            "msg_id": "",
            "outputs": [
              {
                "output_type": "display_data",
                "data": {
                  "text/plain": "🚀Animating... \u001b[38;2;114;156;31m━━━━━━━━━━━━━━━━━━━━━━━━━━━━━━━━━━━━━━━━\u001b[0m \u001b[35m100%\u001b[0m \u001b[33m0:00:00\u001b[0m\n",
                  "text/html": "<pre style=\"white-space:pre;overflow-x:auto;line-height:normal;font-family:Menlo,'DejaVu Sans Mono',consolas,'Courier New',monospace\">🚀Animating... <span style=\"color: #729c1f; text-decoration-color: #729c1f\">━━━━━━━━━━━━━━━━━━━━━━━━━━━━━━━━━━━━━━━━</span> <span style=\"color: #800080; text-decoration-color: #800080\">100%</span> <span style=\"color: #808000; text-decoration-color: #808000\">0:00:00</span>\n</pre>\n"
                },
                "metadata": {}
              }
            ]
          }
        },
        "99e05b5ca10a47a9988de157d4ad7ff8": {
          "model_module": "@jupyter-widgets/base",
          "model_name": "LayoutModel",
          "model_module_version": "1.2.0",
          "state": {
            "_model_module": "@jupyter-widgets/base",
            "_model_module_version": "1.2.0",
            "_model_name": "LayoutModel",
            "_view_count": null,
            "_view_module": "@jupyter-widgets/base",
            "_view_module_version": "1.2.0",
            "_view_name": "LayoutView",
            "align_content": null,
            "align_items": null,
            "align_self": null,
            "border": null,
            "bottom": null,
            "display": null,
            "flex": null,
            "flex_flow": null,
            "grid_area": null,
            "grid_auto_columns": null,
            "grid_auto_flow": null,
            "grid_auto_rows": null,
            "grid_column": null,
            "grid_gap": null,
            "grid_row": null,
            "grid_template_areas": null,
            "grid_template_columns": null,
            "grid_template_rows": null,
            "height": null,
            "justify_content": null,
            "justify_items": null,
            "left": null,
            "margin": null,
            "max_height": null,
            "max_width": null,
            "min_height": null,
            "min_width": null,
            "object_fit": null,
            "object_position": null,
            "order": null,
            "overflow": null,
            "overflow_x": null,
            "overflow_y": null,
            "padding": null,
            "right": null,
            "top": null,
            "visibility": null,
            "width": null
          }
        },
        "43b72793065145d9959b4d5817f3578d": {
          "model_module": "@jupyter-widgets/output",
          "model_name": "OutputModel",
          "model_module_version": "1.0.0",
          "state": {
            "_dom_classes": [],
            "_model_module": "@jupyter-widgets/output",
            "_model_module_version": "1.0.0",
            "_model_name": "OutputModel",
            "_view_count": null,
            "_view_module": "@jupyter-widgets/output",
            "_view_module_version": "1.0.0",
            "_view_name": "OutputView",
            "layout": "IPY_MODEL_d3616429d7ee4de8968ed3079f318f40",
            "msg_id": "",
            "outputs": [
              {
                "output_type": "display_data",
                "data": {
                  "text/plain": "Concatenating result... \u001b[38;2;114;156;31m━━━━━━━━━━━━━━━━━━━━━━━━━━━━━━━━━━━━━━━━\u001b[0m \u001b[35m100%\u001b[0m \u001b[33m0:00:00\u001b[0m\n",
                  "text/html": "<pre style=\"white-space:pre;overflow-x:auto;line-height:normal;font-family:Menlo,'DejaVu Sans Mono',consolas,'Courier New',monospace\">Concatenating result... <span style=\"color: #729c1f; text-decoration-color: #729c1f\">━━━━━━━━━━━━━━━━━━━━━━━━━━━━━━━━━━━━━━━━</span> <span style=\"color: #800080; text-decoration-color: #800080\">100%</span> <span style=\"color: #808000; text-decoration-color: #808000\">0:00:00</span>\n</pre>\n"
                },
                "metadata": {}
              }
            ]
          }
        },
        "d3616429d7ee4de8968ed3079f318f40": {
          "model_module": "@jupyter-widgets/base",
          "model_name": "LayoutModel",
          "model_module_version": "1.2.0",
          "state": {
            "_model_module": "@jupyter-widgets/base",
            "_model_module_version": "1.2.0",
            "_model_name": "LayoutModel",
            "_view_count": null,
            "_view_module": "@jupyter-widgets/base",
            "_view_module_version": "1.2.0",
            "_view_name": "LayoutView",
            "align_content": null,
            "align_items": null,
            "align_self": null,
            "border": null,
            "bottom": null,
            "display": null,
            "flex": null,
            "flex_flow": null,
            "grid_area": null,
            "grid_auto_columns": null,
            "grid_auto_flow": null,
            "grid_auto_rows": null,
            "grid_column": null,
            "grid_gap": null,
            "grid_row": null,
            "grid_template_areas": null,
            "grid_template_columns": null,
            "grid_template_rows": null,
            "height": null,
            "justify_content": null,
            "justify_items": null,
            "left": null,
            "margin": null,
            "max_height": null,
            "max_width": null,
            "min_height": null,
            "min_width": null,
            "object_fit": null,
            "object_position": null,
            "order": null,
            "overflow": null,
            "overflow_x": null,
            "overflow_y": null,
            "padding": null,
            "right": null,
            "top": null,
            "visibility": null,
            "width": null
          }
        },
        "8059715e9a9d4f869795f19eb111c885": {
          "model_module": "@jupyter-widgets/output",
          "model_name": "OutputModel",
          "model_module_version": "1.0.0",
          "state": {
            "_dom_classes": [],
            "_model_module": "@jupyter-widgets/output",
            "_model_module_version": "1.0.0",
            "_model_name": "OutputModel",
            "_view_count": null,
            "_view_module": "@jupyter-widgets/output",
            "_view_module_version": "1.0.0",
            "_view_name": "OutputView",
            "layout": "IPY_MODEL_599200e9edcb4c2889714184b61e20e5",
            "msg_id": "",
            "outputs": [
              {
                "output_type": "display_data",
                "data": {
                  "text/plain": "Making motion templates... \u001b[38;2;114;156;31m━━━━━━━━━━━━━━━━━━━━━━━━━━━━━━━━━━━━━━━━\u001b[0m \u001b[35m100%\u001b[0m \u001b[33m0:00:00\u001b[0m\n",
                  "text/html": "<pre style=\"white-space:pre;overflow-x:auto;line-height:normal;font-family:Menlo,'DejaVu Sans Mono',consolas,'Courier New',monospace\">Making motion templates... <span style=\"color: #729c1f; text-decoration-color: #729c1f\">━━━━━━━━━━━━━━━━━━━━━━━━━━━━━━━━━━━━━━━━</span> <span style=\"color: #800080; text-decoration-color: #800080\">100%</span> <span style=\"color: #808000; text-decoration-color: #808000\">0:00:00</span>\n</pre>\n"
                },
                "metadata": {}
              }
            ]
          }
        },
        "599200e9edcb4c2889714184b61e20e5": {
          "model_module": "@jupyter-widgets/base",
          "model_name": "LayoutModel",
          "model_module_version": "1.2.0",
          "state": {
            "_model_module": "@jupyter-widgets/base",
            "_model_module_version": "1.2.0",
            "_model_name": "LayoutModel",
            "_view_count": null,
            "_view_module": "@jupyter-widgets/base",
            "_view_module_version": "1.2.0",
            "_view_name": "LayoutView",
            "align_content": null,
            "align_items": null,
            "align_self": null,
            "border": null,
            "bottom": null,
            "display": null,
            "flex": null,
            "flex_flow": null,
            "grid_area": null,
            "grid_auto_columns": null,
            "grid_auto_flow": null,
            "grid_auto_rows": null,
            "grid_column": null,
            "grid_gap": null,
            "grid_row": null,
            "grid_template_areas": null,
            "grid_template_columns": null,
            "grid_template_rows": null,
            "height": null,
            "justify_content": null,
            "justify_items": null,
            "left": null,
            "margin": null,
            "max_height": null,
            "max_width": null,
            "min_height": null,
            "min_width": null,
            "object_fit": null,
            "object_position": null,
            "order": null,
            "overflow": null,
            "overflow_x": null,
            "overflow_y": null,
            "padding": null,
            "right": null,
            "top": null,
            "visibility": null,
            "width": null
          }
        },
        "52d92195544147b89a5be35fd0242385": {
          "model_module": "@jupyter-widgets/output",
          "model_name": "OutputModel",
          "model_module_version": "1.0.0",
          "state": {
            "_dom_classes": [],
            "_model_module": "@jupyter-widgets/output",
            "_model_module_version": "1.0.0",
            "_model_name": "OutputModel",
            "_view_count": null,
            "_view_module": "@jupyter-widgets/output",
            "_view_module_version": "1.0.0",
            "_view_name": "OutputView",
            "layout": "IPY_MODEL_c59de78d1aef47bab2e3586e698940ac",
            "msg_id": "",
            "outputs": [
              {
                "output_type": "display_data",
                "data": {
                  "text/plain": "🚀Animating... \u001b[38;2;114;156;31m━━━━━━━━━━━━━━━━━━━━━━━━━━━━━━━━━━━━━━━━\u001b[0m \u001b[35m100%\u001b[0m \u001b[33m0:00:00\u001b[0m\n",
                  "text/html": "<pre style=\"white-space:pre;overflow-x:auto;line-height:normal;font-family:Menlo,'DejaVu Sans Mono',consolas,'Courier New',monospace\">🚀Animating... <span style=\"color: #729c1f; text-decoration-color: #729c1f\">━━━━━━━━━━━━━━━━━━━━━━━━━━━━━━━━━━━━━━━━</span> <span style=\"color: #800080; text-decoration-color: #800080\">100%</span> <span style=\"color: #808000; text-decoration-color: #808000\">0:00:00</span>\n</pre>\n"
                },
                "metadata": {}
              }
            ]
          }
        },
        "c59de78d1aef47bab2e3586e698940ac": {
          "model_module": "@jupyter-widgets/base",
          "model_name": "LayoutModel",
          "model_module_version": "1.2.0",
          "state": {
            "_model_module": "@jupyter-widgets/base",
            "_model_module_version": "1.2.0",
            "_model_name": "LayoutModel",
            "_view_count": null,
            "_view_module": "@jupyter-widgets/base",
            "_view_module_version": "1.2.0",
            "_view_name": "LayoutView",
            "align_content": null,
            "align_items": null,
            "align_self": null,
            "border": null,
            "bottom": null,
            "display": null,
            "flex": null,
            "flex_flow": null,
            "grid_area": null,
            "grid_auto_columns": null,
            "grid_auto_flow": null,
            "grid_auto_rows": null,
            "grid_column": null,
            "grid_gap": null,
            "grid_row": null,
            "grid_template_areas": null,
            "grid_template_columns": null,
            "grid_template_rows": null,
            "height": null,
            "justify_content": null,
            "justify_items": null,
            "left": null,
            "margin": null,
            "max_height": null,
            "max_width": null,
            "min_height": null,
            "min_width": null,
            "object_fit": null,
            "object_position": null,
            "order": null,
            "overflow": null,
            "overflow_x": null,
            "overflow_y": null,
            "padding": null,
            "right": null,
            "top": null,
            "visibility": null,
            "width": null
          }
        },
        "6d1ae548d0ef41fabeecda95a3d39f85": {
          "model_module": "@jupyter-widgets/output",
          "model_name": "OutputModel",
          "model_module_version": "1.0.0",
          "state": {
            "_dom_classes": [],
            "_model_module": "@jupyter-widgets/output",
            "_model_module_version": "1.0.0",
            "_model_name": "OutputModel",
            "_view_count": null,
            "_view_module": "@jupyter-widgets/output",
            "_view_module_version": "1.0.0",
            "_view_name": "OutputView",
            "layout": "IPY_MODEL_933377c688d5448489d6ca0cb8db784e",
            "msg_id": "",
            "outputs": [
              {
                "output_type": "display_data",
                "data": {
                  "text/plain": "Concatenating result... \u001b[38;2;114;156;31m━━━━━━━━━━━━━━━━━━━━━━━━━━━━━━━━━━━━━━━━\u001b[0m \u001b[35m100%\u001b[0m \u001b[33m0:00:00\u001b[0m\n",
                  "text/html": "<pre style=\"white-space:pre;overflow-x:auto;line-height:normal;font-family:Menlo,'DejaVu Sans Mono',consolas,'Courier New',monospace\">Concatenating result... <span style=\"color: #729c1f; text-decoration-color: #729c1f\">━━━━━━━━━━━━━━━━━━━━━━━━━━━━━━━━━━━━━━━━</span> <span style=\"color: #800080; text-decoration-color: #800080\">100%</span> <span style=\"color: #808000; text-decoration-color: #808000\">0:00:00</span>\n</pre>\n"
                },
                "metadata": {}
              }
            ]
          }
        },
        "933377c688d5448489d6ca0cb8db784e": {
          "model_module": "@jupyter-widgets/base",
          "model_name": "LayoutModel",
          "model_module_version": "1.2.0",
          "state": {
            "_model_module": "@jupyter-widgets/base",
            "_model_module_version": "1.2.0",
            "_model_name": "LayoutModel",
            "_view_count": null,
            "_view_module": "@jupyter-widgets/base",
            "_view_module_version": "1.2.0",
            "_view_name": "LayoutView",
            "align_content": null,
            "align_items": null,
            "align_self": null,
            "border": null,
            "bottom": null,
            "display": null,
            "flex": null,
            "flex_flow": null,
            "grid_area": null,
            "grid_auto_columns": null,
            "grid_auto_flow": null,
            "grid_auto_rows": null,
            "grid_column": null,
            "grid_gap": null,
            "grid_row": null,
            "grid_template_areas": null,
            "grid_template_columns": null,
            "grid_template_rows": null,
            "height": null,
            "justify_content": null,
            "justify_items": null,
            "left": null,
            "margin": null,
            "max_height": null,
            "max_width": null,
            "min_height": null,
            "min_width": null,
            "object_fit": null,
            "object_position": null,
            "order": null,
            "overflow": null,
            "overflow_x": null,
            "overflow_y": null,
            "padding": null,
            "right": null,
            "top": null,
            "visibility": null,
            "width": null
          }
        },
        "12989d93af3f4fa18fa3da7705dfac0f": {
          "model_module": "@jupyter-widgets/output",
          "model_name": "OutputModel",
          "model_module_version": "1.0.0",
          "state": {
            "_dom_classes": [],
            "_model_module": "@jupyter-widgets/output",
            "_model_module_version": "1.0.0",
            "_model_name": "OutputModel",
            "_view_count": null,
            "_view_module": "@jupyter-widgets/output",
            "_view_module_version": "1.0.0",
            "_view_name": "OutputView",
            "layout": "IPY_MODEL_4b24760d9a46420f82193b1d94463d86",
            "msg_id": "",
            "outputs": [
              {
                "output_type": "display_data",
                "data": {
                  "text/plain": "Making motion templates... \u001b[38;2;114;156;31m━━━━━━━━━━━━━━━━━━━━━━━━━━━━━━━━━━━━━━━━\u001b[0m \u001b[35m100%\u001b[0m \u001b[33m0:00:00\u001b[0m\n",
                  "text/html": "<pre style=\"white-space:pre;overflow-x:auto;line-height:normal;font-family:Menlo,'DejaVu Sans Mono',consolas,'Courier New',monospace\">Making motion templates... <span style=\"color: #729c1f; text-decoration-color: #729c1f\">━━━━━━━━━━━━━━━━━━━━━━━━━━━━━━━━━━━━━━━━</span> <span style=\"color: #800080; text-decoration-color: #800080\">100%</span> <span style=\"color: #808000; text-decoration-color: #808000\">0:00:00</span>\n</pre>\n"
                },
                "metadata": {}
              }
            ]
          }
        },
        "4b24760d9a46420f82193b1d94463d86": {
          "model_module": "@jupyter-widgets/base",
          "model_name": "LayoutModel",
          "model_module_version": "1.2.0",
          "state": {
            "_model_module": "@jupyter-widgets/base",
            "_model_module_version": "1.2.0",
            "_model_name": "LayoutModel",
            "_view_count": null,
            "_view_module": "@jupyter-widgets/base",
            "_view_module_version": "1.2.0",
            "_view_name": "LayoutView",
            "align_content": null,
            "align_items": null,
            "align_self": null,
            "border": null,
            "bottom": null,
            "display": null,
            "flex": null,
            "flex_flow": null,
            "grid_area": null,
            "grid_auto_columns": null,
            "grid_auto_flow": null,
            "grid_auto_rows": null,
            "grid_column": null,
            "grid_gap": null,
            "grid_row": null,
            "grid_template_areas": null,
            "grid_template_columns": null,
            "grid_template_rows": null,
            "height": null,
            "justify_content": null,
            "justify_items": null,
            "left": null,
            "margin": null,
            "max_height": null,
            "max_width": null,
            "min_height": null,
            "min_width": null,
            "object_fit": null,
            "object_position": null,
            "order": null,
            "overflow": null,
            "overflow_x": null,
            "overflow_y": null,
            "padding": null,
            "right": null,
            "top": null,
            "visibility": null,
            "width": null
          }
        },
        "7f8f55189f534558b00e454ab6342afc": {
          "model_module": "@jupyter-widgets/output",
          "model_name": "OutputModel",
          "model_module_version": "1.0.0",
          "state": {
            "_dom_classes": [],
            "_model_module": "@jupyter-widgets/output",
            "_model_module_version": "1.0.0",
            "_model_name": "OutputModel",
            "_view_count": null,
            "_view_module": "@jupyter-widgets/output",
            "_view_module_version": "1.0.0",
            "_view_name": "OutputView",
            "layout": "IPY_MODEL_d6a7610f40864ca7a560ff9b5cb214f0",
            "msg_id": "",
            "outputs": [
              {
                "output_type": "display_data",
                "data": {
                  "text/plain": "🚀Animating... \u001b[38;2;114;156;31m━━━━━━━━━━━━━━━━━━━━━━━━━━━━━━━━━━━━━━━━\u001b[0m \u001b[35m100%\u001b[0m \u001b[33m0:00:00\u001b[0m\n",
                  "text/html": "<pre style=\"white-space:pre;overflow-x:auto;line-height:normal;font-family:Menlo,'DejaVu Sans Mono',consolas,'Courier New',monospace\">🚀Animating... <span style=\"color: #729c1f; text-decoration-color: #729c1f\">━━━━━━━━━━━━━━━━━━━━━━━━━━━━━━━━━━━━━━━━</span> <span style=\"color: #800080; text-decoration-color: #800080\">100%</span> <span style=\"color: #808000; text-decoration-color: #808000\">0:00:00</span>\n</pre>\n"
                },
                "metadata": {}
              }
            ]
          }
        },
        "d6a7610f40864ca7a560ff9b5cb214f0": {
          "model_module": "@jupyter-widgets/base",
          "model_name": "LayoutModel",
          "model_module_version": "1.2.0",
          "state": {
            "_model_module": "@jupyter-widgets/base",
            "_model_module_version": "1.2.0",
            "_model_name": "LayoutModel",
            "_view_count": null,
            "_view_module": "@jupyter-widgets/base",
            "_view_module_version": "1.2.0",
            "_view_name": "LayoutView",
            "align_content": null,
            "align_items": null,
            "align_self": null,
            "border": null,
            "bottom": null,
            "display": null,
            "flex": null,
            "flex_flow": null,
            "grid_area": null,
            "grid_auto_columns": null,
            "grid_auto_flow": null,
            "grid_auto_rows": null,
            "grid_column": null,
            "grid_gap": null,
            "grid_row": null,
            "grid_template_areas": null,
            "grid_template_columns": null,
            "grid_template_rows": null,
            "height": null,
            "justify_content": null,
            "justify_items": null,
            "left": null,
            "margin": null,
            "max_height": null,
            "max_width": null,
            "min_height": null,
            "min_width": null,
            "object_fit": null,
            "object_position": null,
            "order": null,
            "overflow": null,
            "overflow_x": null,
            "overflow_y": null,
            "padding": null,
            "right": null,
            "top": null,
            "visibility": null,
            "width": null
          }
        },
        "54fc0d0c81b341efa7586df1e2abbc58": {
          "model_module": "@jupyter-widgets/output",
          "model_name": "OutputModel",
          "model_module_version": "1.0.0",
          "state": {
            "_dom_classes": [],
            "_model_module": "@jupyter-widgets/output",
            "_model_module_version": "1.0.0",
            "_model_name": "OutputModel",
            "_view_count": null,
            "_view_module": "@jupyter-widgets/output",
            "_view_module_version": "1.0.0",
            "_view_name": "OutputView",
            "layout": "IPY_MODEL_644aeadb869b44d6929daad4205d1b4f",
            "msg_id": "",
            "outputs": [
              {
                "output_type": "display_data",
                "data": {
                  "text/plain": "Concatenating result... \u001b[38;2;114;156;31m━━━━━━━━━━━━━━━━━━━━━━━━━━━━━━━━━━━━━━━━\u001b[0m \u001b[35m100%\u001b[0m \u001b[33m0:00:00\u001b[0m\n",
                  "text/html": "<pre style=\"white-space:pre;overflow-x:auto;line-height:normal;font-family:Menlo,'DejaVu Sans Mono',consolas,'Courier New',monospace\">Concatenating result... <span style=\"color: #729c1f; text-decoration-color: #729c1f\">━━━━━━━━━━━━━━━━━━━━━━━━━━━━━━━━━━━━━━━━</span> <span style=\"color: #800080; text-decoration-color: #800080\">100%</span> <span style=\"color: #808000; text-decoration-color: #808000\">0:00:00</span>\n</pre>\n"
                },
                "metadata": {}
              }
            ]
          }
        },
        "644aeadb869b44d6929daad4205d1b4f": {
          "model_module": "@jupyter-widgets/base",
          "model_name": "LayoutModel",
          "model_module_version": "1.2.0",
          "state": {
            "_model_module": "@jupyter-widgets/base",
            "_model_module_version": "1.2.0",
            "_model_name": "LayoutModel",
            "_view_count": null,
            "_view_module": "@jupyter-widgets/base",
            "_view_module_version": "1.2.0",
            "_view_name": "LayoutView",
            "align_content": null,
            "align_items": null,
            "align_self": null,
            "border": null,
            "bottom": null,
            "display": null,
            "flex": null,
            "flex_flow": null,
            "grid_area": null,
            "grid_auto_columns": null,
            "grid_auto_flow": null,
            "grid_auto_rows": null,
            "grid_column": null,
            "grid_gap": null,
            "grid_row": null,
            "grid_template_areas": null,
            "grid_template_columns": null,
            "grid_template_rows": null,
            "height": null,
            "justify_content": null,
            "justify_items": null,
            "left": null,
            "margin": null,
            "max_height": null,
            "max_width": null,
            "min_height": null,
            "min_width": null,
            "object_fit": null,
            "object_position": null,
            "order": null,
            "overflow": null,
            "overflow_x": null,
            "overflow_y": null,
            "padding": null,
            "right": null,
            "top": null,
            "visibility": null,
            "width": null
          }
        },
        "5d8a2cb8a6d945b1974ff33ebd6124f3": {
          "model_module": "@jupyter-widgets/output",
          "model_name": "OutputModel",
          "model_module_version": "1.0.0",
          "state": {
            "_dom_classes": [],
            "_model_module": "@jupyter-widgets/output",
            "_model_module_version": "1.0.0",
            "_model_name": "OutputModel",
            "_view_count": null,
            "_view_module": "@jupyter-widgets/output",
            "_view_module_version": "1.0.0",
            "_view_name": "OutputView",
            "layout": "IPY_MODEL_c97da959a66a48c698e6d1d1d339e6a9",
            "msg_id": "",
            "outputs": [
              {
                "output_type": "display_data",
                "data": {
                  "text/plain": "Making motion templates... \u001b[38;2;114;156;31m━━━━━━━━━━━━━━━━━━━━━━━━━━━━━━━━━━━━━━━━\u001b[0m \u001b[35m100%\u001b[0m \u001b[33m0:00:00\u001b[0m\n",
                  "text/html": "<pre style=\"white-space:pre;overflow-x:auto;line-height:normal;font-family:Menlo,'DejaVu Sans Mono',consolas,'Courier New',monospace\">Making motion templates... <span style=\"color: #729c1f; text-decoration-color: #729c1f\">━━━━━━━━━━━━━━━━━━━━━━━━━━━━━━━━━━━━━━━━</span> <span style=\"color: #800080; text-decoration-color: #800080\">100%</span> <span style=\"color: #808000; text-decoration-color: #808000\">0:00:00</span>\n</pre>\n"
                },
                "metadata": {}
              }
            ]
          }
        },
        "c97da959a66a48c698e6d1d1d339e6a9": {
          "model_module": "@jupyter-widgets/base",
          "model_name": "LayoutModel",
          "model_module_version": "1.2.0",
          "state": {
            "_model_module": "@jupyter-widgets/base",
            "_model_module_version": "1.2.0",
            "_model_name": "LayoutModel",
            "_view_count": null,
            "_view_module": "@jupyter-widgets/base",
            "_view_module_version": "1.2.0",
            "_view_name": "LayoutView",
            "align_content": null,
            "align_items": null,
            "align_self": null,
            "border": null,
            "bottom": null,
            "display": null,
            "flex": null,
            "flex_flow": null,
            "grid_area": null,
            "grid_auto_columns": null,
            "grid_auto_flow": null,
            "grid_auto_rows": null,
            "grid_column": null,
            "grid_gap": null,
            "grid_row": null,
            "grid_template_areas": null,
            "grid_template_columns": null,
            "grid_template_rows": null,
            "height": null,
            "justify_content": null,
            "justify_items": null,
            "left": null,
            "margin": null,
            "max_height": null,
            "max_width": null,
            "min_height": null,
            "min_width": null,
            "object_fit": null,
            "object_position": null,
            "order": null,
            "overflow": null,
            "overflow_x": null,
            "overflow_y": null,
            "padding": null,
            "right": null,
            "top": null,
            "visibility": null,
            "width": null
          }
        },
        "435c0e43b3a34b3990256cd5911a92a6": {
          "model_module": "@jupyter-widgets/output",
          "model_name": "OutputModel",
          "model_module_version": "1.0.0",
          "state": {
            "_dom_classes": [],
            "_model_module": "@jupyter-widgets/output",
            "_model_module_version": "1.0.0",
            "_model_name": "OutputModel",
            "_view_count": null,
            "_view_module": "@jupyter-widgets/output",
            "_view_module_version": "1.0.0",
            "_view_name": "OutputView",
            "layout": "IPY_MODEL_22895beffc2d40a48dcb7cad12f35fed",
            "msg_id": "",
            "outputs": [
              {
                "output_type": "display_data",
                "data": {
                  "text/plain": "🚀Animating... \u001b[38;2;114;156;31m━━━━━━━━━━━━━━━━━━━━━━━━━━━━━━━━━━━━━━━━\u001b[0m \u001b[35m100%\u001b[0m \u001b[33m0:00:00\u001b[0m\n",
                  "text/html": "<pre style=\"white-space:pre;overflow-x:auto;line-height:normal;font-family:Menlo,'DejaVu Sans Mono',consolas,'Courier New',monospace\">🚀Animating... <span style=\"color: #729c1f; text-decoration-color: #729c1f\">━━━━━━━━━━━━━━━━━━━━━━━━━━━━━━━━━━━━━━━━</span> <span style=\"color: #800080; text-decoration-color: #800080\">100%</span> <span style=\"color: #808000; text-decoration-color: #808000\">0:00:00</span>\n</pre>\n"
                },
                "metadata": {}
              }
            ]
          }
        },
        "22895beffc2d40a48dcb7cad12f35fed": {
          "model_module": "@jupyter-widgets/base",
          "model_name": "LayoutModel",
          "model_module_version": "1.2.0",
          "state": {
            "_model_module": "@jupyter-widgets/base",
            "_model_module_version": "1.2.0",
            "_model_name": "LayoutModel",
            "_view_count": null,
            "_view_module": "@jupyter-widgets/base",
            "_view_module_version": "1.2.0",
            "_view_name": "LayoutView",
            "align_content": null,
            "align_items": null,
            "align_self": null,
            "border": null,
            "bottom": null,
            "display": null,
            "flex": null,
            "flex_flow": null,
            "grid_area": null,
            "grid_auto_columns": null,
            "grid_auto_flow": null,
            "grid_auto_rows": null,
            "grid_column": null,
            "grid_gap": null,
            "grid_row": null,
            "grid_template_areas": null,
            "grid_template_columns": null,
            "grid_template_rows": null,
            "height": null,
            "justify_content": null,
            "justify_items": null,
            "left": null,
            "margin": null,
            "max_height": null,
            "max_width": null,
            "min_height": null,
            "min_width": null,
            "object_fit": null,
            "object_position": null,
            "order": null,
            "overflow": null,
            "overflow_x": null,
            "overflow_y": null,
            "padding": null,
            "right": null,
            "top": null,
            "visibility": null,
            "width": null
          }
        },
        "fc73e339195540cb9c43e7fd6825d7fc": {
          "model_module": "@jupyter-widgets/output",
          "model_name": "OutputModel",
          "model_module_version": "1.0.0",
          "state": {
            "_dom_classes": [],
            "_model_module": "@jupyter-widgets/output",
            "_model_module_version": "1.0.0",
            "_model_name": "OutputModel",
            "_view_count": null,
            "_view_module": "@jupyter-widgets/output",
            "_view_module_version": "1.0.0",
            "_view_name": "OutputView",
            "layout": "IPY_MODEL_3b58d0e5edd14ce5b3cc8c2e1e260d0e",
            "msg_id": "",
            "outputs": [
              {
                "output_type": "display_data",
                "data": {
                  "text/plain": "Concatenating result... \u001b[38;2;114;156;31m━━━━━━━━━━━━━━━━━━━━━━━━━━━━━━━━━━━━━━━━\u001b[0m \u001b[35m100%\u001b[0m \u001b[33m0:00:00\u001b[0m\n",
                  "text/html": "<pre style=\"white-space:pre;overflow-x:auto;line-height:normal;font-family:Menlo,'DejaVu Sans Mono',consolas,'Courier New',monospace\">Concatenating result... <span style=\"color: #729c1f; text-decoration-color: #729c1f\">━━━━━━━━━━━━━━━━━━━━━━━━━━━━━━━━━━━━━━━━</span> <span style=\"color: #800080; text-decoration-color: #800080\">100%</span> <span style=\"color: #808000; text-decoration-color: #808000\">0:00:00</span>\n</pre>\n"
                },
                "metadata": {}
              }
            ]
          }
        },
        "3b58d0e5edd14ce5b3cc8c2e1e260d0e": {
          "model_module": "@jupyter-widgets/base",
          "model_name": "LayoutModel",
          "model_module_version": "1.2.0",
          "state": {
            "_model_module": "@jupyter-widgets/base",
            "_model_module_version": "1.2.0",
            "_model_name": "LayoutModel",
            "_view_count": null,
            "_view_module": "@jupyter-widgets/base",
            "_view_module_version": "1.2.0",
            "_view_name": "LayoutView",
            "align_content": null,
            "align_items": null,
            "align_self": null,
            "border": null,
            "bottom": null,
            "display": null,
            "flex": null,
            "flex_flow": null,
            "grid_area": null,
            "grid_auto_columns": null,
            "grid_auto_flow": null,
            "grid_auto_rows": null,
            "grid_column": null,
            "grid_gap": null,
            "grid_row": null,
            "grid_template_areas": null,
            "grid_template_columns": null,
            "grid_template_rows": null,
            "height": null,
            "justify_content": null,
            "justify_items": null,
            "left": null,
            "margin": null,
            "max_height": null,
            "max_width": null,
            "min_height": null,
            "min_width": null,
            "object_fit": null,
            "object_position": null,
            "order": null,
            "overflow": null,
            "overflow_x": null,
            "overflow_y": null,
            "padding": null,
            "right": null,
            "top": null,
            "visibility": null,
            "width": null
          }
        },
        "d35e640b8e864655b1b3fb492ce8b8f3": {
          "model_module": "@jupyter-widgets/output",
          "model_name": "OutputModel",
          "model_module_version": "1.0.0",
          "state": {
            "_dom_classes": [],
            "_model_module": "@jupyter-widgets/output",
            "_model_module_version": "1.0.0",
            "_model_name": "OutputModel",
            "_view_count": null,
            "_view_module": "@jupyter-widgets/output",
            "_view_module_version": "1.0.0",
            "_view_name": "OutputView",
            "layout": "IPY_MODEL_da5b44f87bdd493091dd4172e30025f5",
            "msg_id": "",
            "outputs": [
              {
                "output_type": "display_data",
                "data": {
                  "text/plain": "Making motion templates... \u001b[38;2;114;156;31m━━━━━━━━━━━━━━━━━━━━━━━━━━━━━━━━━━━━━━━━\u001b[0m \u001b[35m100%\u001b[0m \u001b[33m0:00:00\u001b[0m\n",
                  "text/html": "<pre style=\"white-space:pre;overflow-x:auto;line-height:normal;font-family:Menlo,'DejaVu Sans Mono',consolas,'Courier New',monospace\">Making motion templates... <span style=\"color: #729c1f; text-decoration-color: #729c1f\">━━━━━━━━━━━━━━━━━━━━━━━━━━━━━━━━━━━━━━━━</span> <span style=\"color: #800080; text-decoration-color: #800080\">100%</span> <span style=\"color: #808000; text-decoration-color: #808000\">0:00:00</span>\n</pre>\n"
                },
                "metadata": {}
              }
            ]
          }
        },
        "da5b44f87bdd493091dd4172e30025f5": {
          "model_module": "@jupyter-widgets/base",
          "model_name": "LayoutModel",
          "model_module_version": "1.2.0",
          "state": {
            "_model_module": "@jupyter-widgets/base",
            "_model_module_version": "1.2.0",
            "_model_name": "LayoutModel",
            "_view_count": null,
            "_view_module": "@jupyter-widgets/base",
            "_view_module_version": "1.2.0",
            "_view_name": "LayoutView",
            "align_content": null,
            "align_items": null,
            "align_self": null,
            "border": null,
            "bottom": null,
            "display": null,
            "flex": null,
            "flex_flow": null,
            "grid_area": null,
            "grid_auto_columns": null,
            "grid_auto_flow": null,
            "grid_auto_rows": null,
            "grid_column": null,
            "grid_gap": null,
            "grid_row": null,
            "grid_template_areas": null,
            "grid_template_columns": null,
            "grid_template_rows": null,
            "height": null,
            "justify_content": null,
            "justify_items": null,
            "left": null,
            "margin": null,
            "max_height": null,
            "max_width": null,
            "min_height": null,
            "min_width": null,
            "object_fit": null,
            "object_position": null,
            "order": null,
            "overflow": null,
            "overflow_x": null,
            "overflow_y": null,
            "padding": null,
            "right": null,
            "top": null,
            "visibility": null,
            "width": null
          }
        },
        "c29b2fdafcb24843b3add381141dc14f": {
          "model_module": "@jupyter-widgets/output",
          "model_name": "OutputModel",
          "model_module_version": "1.0.0",
          "state": {
            "_dom_classes": [],
            "_model_module": "@jupyter-widgets/output",
            "_model_module_version": "1.0.0",
            "_model_name": "OutputModel",
            "_view_count": null,
            "_view_module": "@jupyter-widgets/output",
            "_view_module_version": "1.0.0",
            "_view_name": "OutputView",
            "layout": "IPY_MODEL_dff6ef33b6fc4d6d8d3552100666661b",
            "msg_id": "",
            "outputs": [
              {
                "output_type": "display_data",
                "data": {
                  "text/plain": "🚀Animating... \u001b[38;2;114;156;31m━━━━━━━━━━━━━━━━━━━━━━━━━━━━━━━━━━━━━━━━\u001b[0m \u001b[35m100%\u001b[0m \u001b[33m0:00:00\u001b[0m\n",
                  "text/html": "<pre style=\"white-space:pre;overflow-x:auto;line-height:normal;font-family:Menlo,'DejaVu Sans Mono',consolas,'Courier New',monospace\">🚀Animating... <span style=\"color: #729c1f; text-decoration-color: #729c1f\">━━━━━━━━━━━━━━━━━━━━━━━━━━━━━━━━━━━━━━━━</span> <span style=\"color: #800080; text-decoration-color: #800080\">100%</span> <span style=\"color: #808000; text-decoration-color: #808000\">0:00:00</span>\n</pre>\n"
                },
                "metadata": {}
              }
            ]
          }
        },
        "dff6ef33b6fc4d6d8d3552100666661b": {
          "model_module": "@jupyter-widgets/base",
          "model_name": "LayoutModel",
          "model_module_version": "1.2.0",
          "state": {
            "_model_module": "@jupyter-widgets/base",
            "_model_module_version": "1.2.0",
            "_model_name": "LayoutModel",
            "_view_count": null,
            "_view_module": "@jupyter-widgets/base",
            "_view_module_version": "1.2.0",
            "_view_name": "LayoutView",
            "align_content": null,
            "align_items": null,
            "align_self": null,
            "border": null,
            "bottom": null,
            "display": null,
            "flex": null,
            "flex_flow": null,
            "grid_area": null,
            "grid_auto_columns": null,
            "grid_auto_flow": null,
            "grid_auto_rows": null,
            "grid_column": null,
            "grid_gap": null,
            "grid_row": null,
            "grid_template_areas": null,
            "grid_template_columns": null,
            "grid_template_rows": null,
            "height": null,
            "justify_content": null,
            "justify_items": null,
            "left": null,
            "margin": null,
            "max_height": null,
            "max_width": null,
            "min_height": null,
            "min_width": null,
            "object_fit": null,
            "object_position": null,
            "order": null,
            "overflow": null,
            "overflow_x": null,
            "overflow_y": null,
            "padding": null,
            "right": null,
            "top": null,
            "visibility": null,
            "width": null
          }
        },
        "60ea96412d21417c9da4064267e39bd2": {
          "model_module": "@jupyter-widgets/output",
          "model_name": "OutputModel",
          "model_module_version": "1.0.0",
          "state": {
            "_dom_classes": [],
            "_model_module": "@jupyter-widgets/output",
            "_model_module_version": "1.0.0",
            "_model_name": "OutputModel",
            "_view_count": null,
            "_view_module": "@jupyter-widgets/output",
            "_view_module_version": "1.0.0",
            "_view_name": "OutputView",
            "layout": "IPY_MODEL_89b91b273b464374b03e073fd2ab70bd",
            "msg_id": "",
            "outputs": [
              {
                "output_type": "display_data",
                "data": {
                  "text/plain": "Concatenating result... \u001b[38;2;114;156;31m━━━━━━━━━━━━━━━━━━━━━━━━━━━━━━━━━━━━━━━━\u001b[0m \u001b[35m100%\u001b[0m \u001b[33m0:00:00\u001b[0m\n",
                  "text/html": "<pre style=\"white-space:pre;overflow-x:auto;line-height:normal;font-family:Menlo,'DejaVu Sans Mono',consolas,'Courier New',monospace\">Concatenating result... <span style=\"color: #729c1f; text-decoration-color: #729c1f\">━━━━━━━━━━━━━━━━━━━━━━━━━━━━━━━━━━━━━━━━</span> <span style=\"color: #800080; text-decoration-color: #800080\">100%</span> <span style=\"color: #808000; text-decoration-color: #808000\">0:00:00</span>\n</pre>\n"
                },
                "metadata": {}
              }
            ]
          }
        },
        "89b91b273b464374b03e073fd2ab70bd": {
          "model_module": "@jupyter-widgets/base",
          "model_name": "LayoutModel",
          "model_module_version": "1.2.0",
          "state": {
            "_model_module": "@jupyter-widgets/base",
            "_model_module_version": "1.2.0",
            "_model_name": "LayoutModel",
            "_view_count": null,
            "_view_module": "@jupyter-widgets/base",
            "_view_module_version": "1.2.0",
            "_view_name": "LayoutView",
            "align_content": null,
            "align_items": null,
            "align_self": null,
            "border": null,
            "bottom": null,
            "display": null,
            "flex": null,
            "flex_flow": null,
            "grid_area": null,
            "grid_auto_columns": null,
            "grid_auto_flow": null,
            "grid_auto_rows": null,
            "grid_column": null,
            "grid_gap": null,
            "grid_row": null,
            "grid_template_areas": null,
            "grid_template_columns": null,
            "grid_template_rows": null,
            "height": null,
            "justify_content": null,
            "justify_items": null,
            "left": null,
            "margin": null,
            "max_height": null,
            "max_width": null,
            "min_height": null,
            "min_width": null,
            "object_fit": null,
            "object_position": null,
            "order": null,
            "overflow": null,
            "overflow_x": null,
            "overflow_y": null,
            "padding": null,
            "right": null,
            "top": null,
            "visibility": null,
            "width": null
          }
        },
        "58ea9234fa954fa79203c506d774edc5": {
          "model_module": "@jupyter-widgets/output",
          "model_name": "OutputModel",
          "model_module_version": "1.0.0",
          "state": {
            "_dom_classes": [],
            "_model_module": "@jupyter-widgets/output",
            "_model_module_version": "1.0.0",
            "_model_name": "OutputModel",
            "_view_count": null,
            "_view_module": "@jupyter-widgets/output",
            "_view_module_version": "1.0.0",
            "_view_name": "OutputView",
            "layout": "IPY_MODEL_4e8c47f6856e440989962c2319bb3843",
            "msg_id": "",
            "outputs": [
              {
                "output_type": "display_data",
                "data": {
                  "text/plain": "Making motion templates... \u001b[38;2;114;156;31m━━━━━━━━━━━━━━━━━━━━━━━━━━━━━━━━━━━━━━━━\u001b[0m \u001b[35m100%\u001b[0m \u001b[33m0:00:00\u001b[0m\n",
                  "text/html": "<pre style=\"white-space:pre;overflow-x:auto;line-height:normal;font-family:Menlo,'DejaVu Sans Mono',consolas,'Courier New',monospace\">Making motion templates... <span style=\"color: #729c1f; text-decoration-color: #729c1f\">━━━━━━━━━━━━━━━━━━━━━━━━━━━━━━━━━━━━━━━━</span> <span style=\"color: #800080; text-decoration-color: #800080\">100%</span> <span style=\"color: #808000; text-decoration-color: #808000\">0:00:00</span>\n</pre>\n"
                },
                "metadata": {}
              }
            ]
          }
        },
        "4e8c47f6856e440989962c2319bb3843": {
          "model_module": "@jupyter-widgets/base",
          "model_name": "LayoutModel",
          "model_module_version": "1.2.0",
          "state": {
            "_model_module": "@jupyter-widgets/base",
            "_model_module_version": "1.2.0",
            "_model_name": "LayoutModel",
            "_view_count": null,
            "_view_module": "@jupyter-widgets/base",
            "_view_module_version": "1.2.0",
            "_view_name": "LayoutView",
            "align_content": null,
            "align_items": null,
            "align_self": null,
            "border": null,
            "bottom": null,
            "display": null,
            "flex": null,
            "flex_flow": null,
            "grid_area": null,
            "grid_auto_columns": null,
            "grid_auto_flow": null,
            "grid_auto_rows": null,
            "grid_column": null,
            "grid_gap": null,
            "grid_row": null,
            "grid_template_areas": null,
            "grid_template_columns": null,
            "grid_template_rows": null,
            "height": null,
            "justify_content": null,
            "justify_items": null,
            "left": null,
            "margin": null,
            "max_height": null,
            "max_width": null,
            "min_height": null,
            "min_width": null,
            "object_fit": null,
            "object_position": null,
            "order": null,
            "overflow": null,
            "overflow_x": null,
            "overflow_y": null,
            "padding": null,
            "right": null,
            "top": null,
            "visibility": null,
            "width": null
          }
        },
        "5a9622ef176048d7a9921c8c5672210d": {
          "model_module": "@jupyter-widgets/output",
          "model_name": "OutputModel",
          "model_module_version": "1.0.0",
          "state": {
            "_dom_classes": [],
            "_model_module": "@jupyter-widgets/output",
            "_model_module_version": "1.0.0",
            "_model_name": "OutputModel",
            "_view_count": null,
            "_view_module": "@jupyter-widgets/output",
            "_view_module_version": "1.0.0",
            "_view_name": "OutputView",
            "layout": "IPY_MODEL_7a4ea3a5370b416e8bd0c411be2cb7e7",
            "msg_id": "",
            "outputs": [
              {
                "output_type": "display_data",
                "data": {
                  "text/plain": "🚀Animating... \u001b[38;2;114;156;31m━━━━━━━━━━━━━━━━━━━━━━━━━━━━━━━━━━━━━━━━\u001b[0m \u001b[35m100%\u001b[0m \u001b[33m0:00:02\u001b[0m\n",
                  "text/html": "<pre style=\"white-space:pre;overflow-x:auto;line-height:normal;font-family:Menlo,'DejaVu Sans Mono',consolas,'Courier New',monospace\">🚀Animating... <span style=\"color: #729c1f; text-decoration-color: #729c1f\">━━━━━━━━━━━━━━━━━━━━━━━━━━━━━━━━━━━━━━━━</span> <span style=\"color: #800080; text-decoration-color: #800080\">100%</span> <span style=\"color: #808000; text-decoration-color: #808000\">0:00:02</span>\n</pre>\n"
                },
                "metadata": {}
              }
            ]
          }
        },
        "7a4ea3a5370b416e8bd0c411be2cb7e7": {
          "model_module": "@jupyter-widgets/base",
          "model_name": "LayoutModel",
          "model_module_version": "1.2.0",
          "state": {
            "_model_module": "@jupyter-widgets/base",
            "_model_module_version": "1.2.0",
            "_model_name": "LayoutModel",
            "_view_count": null,
            "_view_module": "@jupyter-widgets/base",
            "_view_module_version": "1.2.0",
            "_view_name": "LayoutView",
            "align_content": null,
            "align_items": null,
            "align_self": null,
            "border": null,
            "bottom": null,
            "display": null,
            "flex": null,
            "flex_flow": null,
            "grid_area": null,
            "grid_auto_columns": null,
            "grid_auto_flow": null,
            "grid_auto_rows": null,
            "grid_column": null,
            "grid_gap": null,
            "grid_row": null,
            "grid_template_areas": null,
            "grid_template_columns": null,
            "grid_template_rows": null,
            "height": null,
            "justify_content": null,
            "justify_items": null,
            "left": null,
            "margin": null,
            "max_height": null,
            "max_width": null,
            "min_height": null,
            "min_width": null,
            "object_fit": null,
            "object_position": null,
            "order": null,
            "overflow": null,
            "overflow_x": null,
            "overflow_y": null,
            "padding": null,
            "right": null,
            "top": null,
            "visibility": null,
            "width": null
          }
        },
        "cf31f7644be547b89b9b8dc66e97ec87": {
          "model_module": "@jupyter-widgets/output",
          "model_name": "OutputModel",
          "model_module_version": "1.0.0",
          "state": {
            "_dom_classes": [],
            "_model_module": "@jupyter-widgets/output",
            "_model_module_version": "1.0.0",
            "_model_name": "OutputModel",
            "_view_count": null,
            "_view_module": "@jupyter-widgets/output",
            "_view_module_version": "1.0.0",
            "_view_name": "OutputView",
            "layout": "IPY_MODEL_a292124c82e54404b3c432d23ee04c6a",
            "msg_id": "",
            "outputs": [
              {
                "output_type": "display_data",
                "data": {
                  "text/plain": "Concatenating result... \u001b[38;2;114;156;31m━━━━━━━━━━━━━━━━━━━━━━━━━━━━━━━━━━━━━━━━\u001b[0m \u001b[35m100%\u001b[0m \u001b[33m0:00:00\u001b[0m\n",
                  "text/html": "<pre style=\"white-space:pre;overflow-x:auto;line-height:normal;font-family:Menlo,'DejaVu Sans Mono',consolas,'Courier New',monospace\">Concatenating result... <span style=\"color: #729c1f; text-decoration-color: #729c1f\">━━━━━━━━━━━━━━━━━━━━━━━━━━━━━━━━━━━━━━━━</span> <span style=\"color: #800080; text-decoration-color: #800080\">100%</span> <span style=\"color: #808000; text-decoration-color: #808000\">0:00:00</span>\n</pre>\n"
                },
                "metadata": {}
              }
            ]
          }
        },
        "a292124c82e54404b3c432d23ee04c6a": {
          "model_module": "@jupyter-widgets/base",
          "model_name": "LayoutModel",
          "model_module_version": "1.2.0",
          "state": {
            "_model_module": "@jupyter-widgets/base",
            "_model_module_version": "1.2.0",
            "_model_name": "LayoutModel",
            "_view_count": null,
            "_view_module": "@jupyter-widgets/base",
            "_view_module_version": "1.2.0",
            "_view_name": "LayoutView",
            "align_content": null,
            "align_items": null,
            "align_self": null,
            "border": null,
            "bottom": null,
            "display": null,
            "flex": null,
            "flex_flow": null,
            "grid_area": null,
            "grid_auto_columns": null,
            "grid_auto_flow": null,
            "grid_auto_rows": null,
            "grid_column": null,
            "grid_gap": null,
            "grid_row": null,
            "grid_template_areas": null,
            "grid_template_columns": null,
            "grid_template_rows": null,
            "height": null,
            "justify_content": null,
            "justify_items": null,
            "left": null,
            "margin": null,
            "max_height": null,
            "max_width": null,
            "min_height": null,
            "min_width": null,
            "object_fit": null,
            "object_position": null,
            "order": null,
            "overflow": null,
            "overflow_x": null,
            "overflow_y": null,
            "padding": null,
            "right": null,
            "top": null,
            "visibility": null,
            "width": null
          }
        },
        "54247f86d2de4bb291753481f99f92a9": {
          "model_module": "@jupyter-widgets/output",
          "model_name": "OutputModel",
          "model_module_version": "1.0.0",
          "state": {
            "_dom_classes": [],
            "_model_module": "@jupyter-widgets/output",
            "_model_module_version": "1.0.0",
            "_model_name": "OutputModel",
            "_view_count": null,
            "_view_module": "@jupyter-widgets/output",
            "_view_module_version": "1.0.0",
            "_view_name": "OutputView",
            "layout": "IPY_MODEL_b81d2ac1d9834482a9482fcb54f3efd5",
            "msg_id": "",
            "outputs": [
              {
                "output_type": "display_data",
                "data": {
                  "text/plain": "Making motion templates... \u001b[38;2;114;156;31m━━━━━━━━━━━━━━━━━━━━━━━━━━━━━━━━━━━━━━━━\u001b[0m \u001b[35m100%\u001b[0m \u001b[33m0:00:00\u001b[0m\n",
                  "text/html": "<pre style=\"white-space:pre;overflow-x:auto;line-height:normal;font-family:Menlo,'DejaVu Sans Mono',consolas,'Courier New',monospace\">Making motion templates... <span style=\"color: #729c1f; text-decoration-color: #729c1f\">━━━━━━━━━━━━━━━━━━━━━━━━━━━━━━━━━━━━━━━━</span> <span style=\"color: #800080; text-decoration-color: #800080\">100%</span> <span style=\"color: #808000; text-decoration-color: #808000\">0:00:00</span>\n</pre>\n"
                },
                "metadata": {}
              }
            ]
          }
        },
        "b81d2ac1d9834482a9482fcb54f3efd5": {
          "model_module": "@jupyter-widgets/base",
          "model_name": "LayoutModel",
          "model_module_version": "1.2.0",
          "state": {
            "_model_module": "@jupyter-widgets/base",
            "_model_module_version": "1.2.0",
            "_model_name": "LayoutModel",
            "_view_count": null,
            "_view_module": "@jupyter-widgets/base",
            "_view_module_version": "1.2.0",
            "_view_name": "LayoutView",
            "align_content": null,
            "align_items": null,
            "align_self": null,
            "border": null,
            "bottom": null,
            "display": null,
            "flex": null,
            "flex_flow": null,
            "grid_area": null,
            "grid_auto_columns": null,
            "grid_auto_flow": null,
            "grid_auto_rows": null,
            "grid_column": null,
            "grid_gap": null,
            "grid_row": null,
            "grid_template_areas": null,
            "grid_template_columns": null,
            "grid_template_rows": null,
            "height": null,
            "justify_content": null,
            "justify_items": null,
            "left": null,
            "margin": null,
            "max_height": null,
            "max_width": null,
            "min_height": null,
            "min_width": null,
            "object_fit": null,
            "object_position": null,
            "order": null,
            "overflow": null,
            "overflow_x": null,
            "overflow_y": null,
            "padding": null,
            "right": null,
            "top": null,
            "visibility": null,
            "width": null
          }
        },
        "803e38bd78884b28bf172e008da76963": {
          "model_module": "@jupyter-widgets/output",
          "model_name": "OutputModel",
          "model_module_version": "1.0.0",
          "state": {
            "_dom_classes": [],
            "_model_module": "@jupyter-widgets/output",
            "_model_module_version": "1.0.0",
            "_model_name": "OutputModel",
            "_view_count": null,
            "_view_module": "@jupyter-widgets/output",
            "_view_module_version": "1.0.0",
            "_view_name": "OutputView",
            "layout": "IPY_MODEL_60a91ca3bf6449c0ad15ce7c2f3607c2",
            "msg_id": "",
            "outputs": [
              {
                "output_type": "display_data",
                "data": {
                  "text/plain": "🚀Animating... \u001b[38;2;114;156;31m━━━━━━━━━━━━━━━━━━━━━━━━━━━━━━━━━━━━━━━━\u001b[0m \u001b[35m100%\u001b[0m \u001b[33m0:00:02\u001b[0m\n",
                  "text/html": "<pre style=\"white-space:pre;overflow-x:auto;line-height:normal;font-family:Menlo,'DejaVu Sans Mono',consolas,'Courier New',monospace\">🚀Animating... <span style=\"color: #729c1f; text-decoration-color: #729c1f\">━━━━━━━━━━━━━━━━━━━━━━━━━━━━━━━━━━━━━━━━</span> <span style=\"color: #800080; text-decoration-color: #800080\">100%</span> <span style=\"color: #808000; text-decoration-color: #808000\">0:00:02</span>\n</pre>\n"
                },
                "metadata": {}
              }
            ]
          }
        },
        "60a91ca3bf6449c0ad15ce7c2f3607c2": {
          "model_module": "@jupyter-widgets/base",
          "model_name": "LayoutModel",
          "model_module_version": "1.2.0",
          "state": {
            "_model_module": "@jupyter-widgets/base",
            "_model_module_version": "1.2.0",
            "_model_name": "LayoutModel",
            "_view_count": null,
            "_view_module": "@jupyter-widgets/base",
            "_view_module_version": "1.2.0",
            "_view_name": "LayoutView",
            "align_content": null,
            "align_items": null,
            "align_self": null,
            "border": null,
            "bottom": null,
            "display": null,
            "flex": null,
            "flex_flow": null,
            "grid_area": null,
            "grid_auto_columns": null,
            "grid_auto_flow": null,
            "grid_auto_rows": null,
            "grid_column": null,
            "grid_gap": null,
            "grid_row": null,
            "grid_template_areas": null,
            "grid_template_columns": null,
            "grid_template_rows": null,
            "height": null,
            "justify_content": null,
            "justify_items": null,
            "left": null,
            "margin": null,
            "max_height": null,
            "max_width": null,
            "min_height": null,
            "min_width": null,
            "object_fit": null,
            "object_position": null,
            "order": null,
            "overflow": null,
            "overflow_x": null,
            "overflow_y": null,
            "padding": null,
            "right": null,
            "top": null,
            "visibility": null,
            "width": null
          }
        },
        "4a867e16458641a48597795eee19df62": {
          "model_module": "@jupyter-widgets/output",
          "model_name": "OutputModel",
          "model_module_version": "1.0.0",
          "state": {
            "_dom_classes": [],
            "_model_module": "@jupyter-widgets/output",
            "_model_module_version": "1.0.0",
            "_model_name": "OutputModel",
            "_view_count": null,
            "_view_module": "@jupyter-widgets/output",
            "_view_module_version": "1.0.0",
            "_view_name": "OutputView",
            "layout": "IPY_MODEL_c56cb223d1ce4101aea3840ae5b7f398",
            "msg_id": "",
            "outputs": [
              {
                "output_type": "display_data",
                "data": {
                  "text/plain": "Concatenating result... \u001b[38;2;114;156;31m━━━━━━━━━━━━━━━━━━━━━━━━━━━━━━━━━━━━━━━━\u001b[0m \u001b[35m100%\u001b[0m \u001b[33m0:00:00\u001b[0m\n",
                  "text/html": "<pre style=\"white-space:pre;overflow-x:auto;line-height:normal;font-family:Menlo,'DejaVu Sans Mono',consolas,'Courier New',monospace\">Concatenating result... <span style=\"color: #729c1f; text-decoration-color: #729c1f\">━━━━━━━━━━━━━━━━━━━━━━━━━━━━━━━━━━━━━━━━</span> <span style=\"color: #800080; text-decoration-color: #800080\">100%</span> <span style=\"color: #808000; text-decoration-color: #808000\">0:00:00</span>\n</pre>\n"
                },
                "metadata": {}
              }
            ]
          }
        },
        "c56cb223d1ce4101aea3840ae5b7f398": {
          "model_module": "@jupyter-widgets/base",
          "model_name": "LayoutModel",
          "model_module_version": "1.2.0",
          "state": {
            "_model_module": "@jupyter-widgets/base",
            "_model_module_version": "1.2.0",
            "_model_name": "LayoutModel",
            "_view_count": null,
            "_view_module": "@jupyter-widgets/base",
            "_view_module_version": "1.2.0",
            "_view_name": "LayoutView",
            "align_content": null,
            "align_items": null,
            "align_self": null,
            "border": null,
            "bottom": null,
            "display": null,
            "flex": null,
            "flex_flow": null,
            "grid_area": null,
            "grid_auto_columns": null,
            "grid_auto_flow": null,
            "grid_auto_rows": null,
            "grid_column": null,
            "grid_gap": null,
            "grid_row": null,
            "grid_template_areas": null,
            "grid_template_columns": null,
            "grid_template_rows": null,
            "height": null,
            "justify_content": null,
            "justify_items": null,
            "left": null,
            "margin": null,
            "max_height": null,
            "max_width": null,
            "min_height": null,
            "min_width": null,
            "object_fit": null,
            "object_position": null,
            "order": null,
            "overflow": null,
            "overflow_x": null,
            "overflow_y": null,
            "padding": null,
            "right": null,
            "top": null,
            "visibility": null,
            "width": null
          }
        },
        "00c56f61eec646248abe369d1099de98": {
          "model_module": "@jupyter-widgets/output",
          "model_name": "OutputModel",
          "model_module_version": "1.0.0",
          "state": {
            "_dom_classes": [],
            "_model_module": "@jupyter-widgets/output",
            "_model_module_version": "1.0.0",
            "_model_name": "OutputModel",
            "_view_count": null,
            "_view_module": "@jupyter-widgets/output",
            "_view_module_version": "1.0.0",
            "_view_name": "OutputView",
            "layout": "IPY_MODEL_900b378117c54c8aa0b44f478ba41829",
            "msg_id": "",
            "outputs": [
              {
                "output_type": "display_data",
                "data": {
                  "text/plain": "Making motion templates... \u001b[38;2;114;156;31m━━━━━━━━━━━━━━━━━━━━━━━━━━━━━━━━━━━━━━━━\u001b[0m \u001b[35m100%\u001b[0m \u001b[33m0:00:00\u001b[0m\n",
                  "text/html": "<pre style=\"white-space:pre;overflow-x:auto;line-height:normal;font-family:Menlo,'DejaVu Sans Mono',consolas,'Courier New',monospace\">Making motion templates... <span style=\"color: #729c1f; text-decoration-color: #729c1f\">━━━━━━━━━━━━━━━━━━━━━━━━━━━━━━━━━━━━━━━━</span> <span style=\"color: #800080; text-decoration-color: #800080\">100%</span> <span style=\"color: #808000; text-decoration-color: #808000\">0:00:00</span>\n</pre>\n"
                },
                "metadata": {}
              }
            ]
          }
        },
        "900b378117c54c8aa0b44f478ba41829": {
          "model_module": "@jupyter-widgets/base",
          "model_name": "LayoutModel",
          "model_module_version": "1.2.0",
          "state": {
            "_model_module": "@jupyter-widgets/base",
            "_model_module_version": "1.2.0",
            "_model_name": "LayoutModel",
            "_view_count": null,
            "_view_module": "@jupyter-widgets/base",
            "_view_module_version": "1.2.0",
            "_view_name": "LayoutView",
            "align_content": null,
            "align_items": null,
            "align_self": null,
            "border": null,
            "bottom": null,
            "display": null,
            "flex": null,
            "flex_flow": null,
            "grid_area": null,
            "grid_auto_columns": null,
            "grid_auto_flow": null,
            "grid_auto_rows": null,
            "grid_column": null,
            "grid_gap": null,
            "grid_row": null,
            "grid_template_areas": null,
            "grid_template_columns": null,
            "grid_template_rows": null,
            "height": null,
            "justify_content": null,
            "justify_items": null,
            "left": null,
            "margin": null,
            "max_height": null,
            "max_width": null,
            "min_height": null,
            "min_width": null,
            "object_fit": null,
            "object_position": null,
            "order": null,
            "overflow": null,
            "overflow_x": null,
            "overflow_y": null,
            "padding": null,
            "right": null,
            "top": null,
            "visibility": null,
            "width": null
          }
        },
        "8ee45c9870b44813a6aa5bb5c4c34229": {
          "model_module": "@jupyter-widgets/output",
          "model_name": "OutputModel",
          "model_module_version": "1.0.0",
          "state": {
            "_dom_classes": [],
            "_model_module": "@jupyter-widgets/output",
            "_model_module_version": "1.0.0",
            "_model_name": "OutputModel",
            "_view_count": null,
            "_view_module": "@jupyter-widgets/output",
            "_view_module_version": "1.0.0",
            "_view_name": "OutputView",
            "layout": "IPY_MODEL_1c925a2eb3334bcaae6ae3dc47ef3b60",
            "msg_id": "",
            "outputs": [
              {
                "output_type": "display_data",
                "data": {
                  "text/plain": "🚀Animating... \u001b[38;2;114;156;31m━━━━━━━━━━━━━━━━━━━━━━━━━━━━━━━━━━━━━━━━\u001b[0m \u001b[35m100%\u001b[0m \u001b[33m0:00:00\u001b[0m\n",
                  "text/html": "<pre style=\"white-space:pre;overflow-x:auto;line-height:normal;font-family:Menlo,'DejaVu Sans Mono',consolas,'Courier New',monospace\">🚀Animating... <span style=\"color: #729c1f; text-decoration-color: #729c1f\">━━━━━━━━━━━━━━━━━━━━━━━━━━━━━━━━━━━━━━━━</span> <span style=\"color: #800080; text-decoration-color: #800080\">100%</span> <span style=\"color: #808000; text-decoration-color: #808000\">0:00:00</span>\n</pre>\n"
                },
                "metadata": {}
              }
            ]
          }
        },
        "1c925a2eb3334bcaae6ae3dc47ef3b60": {
          "model_module": "@jupyter-widgets/base",
          "model_name": "LayoutModel",
          "model_module_version": "1.2.0",
          "state": {
            "_model_module": "@jupyter-widgets/base",
            "_model_module_version": "1.2.0",
            "_model_name": "LayoutModel",
            "_view_count": null,
            "_view_module": "@jupyter-widgets/base",
            "_view_module_version": "1.2.0",
            "_view_name": "LayoutView",
            "align_content": null,
            "align_items": null,
            "align_self": null,
            "border": null,
            "bottom": null,
            "display": null,
            "flex": null,
            "flex_flow": null,
            "grid_area": null,
            "grid_auto_columns": null,
            "grid_auto_flow": null,
            "grid_auto_rows": null,
            "grid_column": null,
            "grid_gap": null,
            "grid_row": null,
            "grid_template_areas": null,
            "grid_template_columns": null,
            "grid_template_rows": null,
            "height": null,
            "justify_content": null,
            "justify_items": null,
            "left": null,
            "margin": null,
            "max_height": null,
            "max_width": null,
            "min_height": null,
            "min_width": null,
            "object_fit": null,
            "object_position": null,
            "order": null,
            "overflow": null,
            "overflow_x": null,
            "overflow_y": null,
            "padding": null,
            "right": null,
            "top": null,
            "visibility": null,
            "width": null
          }
        },
        "ba63078be3ab4c28b40f30c5624eb354": {
          "model_module": "@jupyter-widgets/output",
          "model_name": "OutputModel",
          "model_module_version": "1.0.0",
          "state": {
            "_dom_classes": [],
            "_model_module": "@jupyter-widgets/output",
            "_model_module_version": "1.0.0",
            "_model_name": "OutputModel",
            "_view_count": null,
            "_view_module": "@jupyter-widgets/output",
            "_view_module_version": "1.0.0",
            "_view_name": "OutputView",
            "layout": "IPY_MODEL_89fc4cdcac7c4b1eb0716335010d76a2",
            "msg_id": "",
            "outputs": [
              {
                "output_type": "display_data",
                "data": {
                  "text/plain": "Concatenating result... \u001b[38;2;114;156;31m━━━━━━━━━━━━━━━━━━━━━━━━━━━━━━━━━━━━━━━━\u001b[0m \u001b[35m100%\u001b[0m \u001b[33m0:00:00\u001b[0m\n",
                  "text/html": "<pre style=\"white-space:pre;overflow-x:auto;line-height:normal;font-family:Menlo,'DejaVu Sans Mono',consolas,'Courier New',monospace\">Concatenating result... <span style=\"color: #729c1f; text-decoration-color: #729c1f\">━━━━━━━━━━━━━━━━━━━━━━━━━━━━━━━━━━━━━━━━</span> <span style=\"color: #800080; text-decoration-color: #800080\">100%</span> <span style=\"color: #808000; text-decoration-color: #808000\">0:00:00</span>\n</pre>\n"
                },
                "metadata": {}
              }
            ]
          }
        },
        "89fc4cdcac7c4b1eb0716335010d76a2": {
          "model_module": "@jupyter-widgets/base",
          "model_name": "LayoutModel",
          "model_module_version": "1.2.0",
          "state": {
            "_model_module": "@jupyter-widgets/base",
            "_model_module_version": "1.2.0",
            "_model_name": "LayoutModel",
            "_view_count": null,
            "_view_module": "@jupyter-widgets/base",
            "_view_module_version": "1.2.0",
            "_view_name": "LayoutView",
            "align_content": null,
            "align_items": null,
            "align_self": null,
            "border": null,
            "bottom": null,
            "display": null,
            "flex": null,
            "flex_flow": null,
            "grid_area": null,
            "grid_auto_columns": null,
            "grid_auto_flow": null,
            "grid_auto_rows": null,
            "grid_column": null,
            "grid_gap": null,
            "grid_row": null,
            "grid_template_areas": null,
            "grid_template_columns": null,
            "grid_template_rows": null,
            "height": null,
            "justify_content": null,
            "justify_items": null,
            "left": null,
            "margin": null,
            "max_height": null,
            "max_width": null,
            "min_height": null,
            "min_width": null,
            "object_fit": null,
            "object_position": null,
            "order": null,
            "overflow": null,
            "overflow_x": null,
            "overflow_y": null,
            "padding": null,
            "right": null,
            "top": null,
            "visibility": null,
            "width": null
          }
        },
        "b6e920ccf02d4a7d839dd676c32ba515": {
          "model_module": "@jupyter-widgets/output",
          "model_name": "OutputModel",
          "model_module_version": "1.0.0",
          "state": {
            "_dom_classes": [],
            "_model_module": "@jupyter-widgets/output",
            "_model_module_version": "1.0.0",
            "_model_name": "OutputModel",
            "_view_count": null,
            "_view_module": "@jupyter-widgets/output",
            "_view_module_version": "1.0.0",
            "_view_name": "OutputView",
            "layout": "IPY_MODEL_7a741306428e40eb871c79c8e56c0f6e",
            "msg_id": "",
            "outputs": [
              {
                "output_type": "display_data",
                "data": {
                  "text/plain": "Making motion templates... \u001b[38;2;114;156;31m━━━━━━━━━━━━━━━━━━━━━━━━━━━━━━━━━━━━━━━━\u001b[0m \u001b[35m100%\u001b[0m \u001b[33m0:00:00\u001b[0m\n",
                  "text/html": "<pre style=\"white-space:pre;overflow-x:auto;line-height:normal;font-family:Menlo,'DejaVu Sans Mono',consolas,'Courier New',monospace\">Making motion templates... <span style=\"color: #729c1f; text-decoration-color: #729c1f\">━━━━━━━━━━━━━━━━━━━━━━━━━━━━━━━━━━━━━━━━</span> <span style=\"color: #800080; text-decoration-color: #800080\">100%</span> <span style=\"color: #808000; text-decoration-color: #808000\">0:00:00</span>\n</pre>\n"
                },
                "metadata": {}
              }
            ]
          }
        },
        "7a741306428e40eb871c79c8e56c0f6e": {
          "model_module": "@jupyter-widgets/base",
          "model_name": "LayoutModel",
          "model_module_version": "1.2.0",
          "state": {
            "_model_module": "@jupyter-widgets/base",
            "_model_module_version": "1.2.0",
            "_model_name": "LayoutModel",
            "_view_count": null,
            "_view_module": "@jupyter-widgets/base",
            "_view_module_version": "1.2.0",
            "_view_name": "LayoutView",
            "align_content": null,
            "align_items": null,
            "align_self": null,
            "border": null,
            "bottom": null,
            "display": null,
            "flex": null,
            "flex_flow": null,
            "grid_area": null,
            "grid_auto_columns": null,
            "grid_auto_flow": null,
            "grid_auto_rows": null,
            "grid_column": null,
            "grid_gap": null,
            "grid_row": null,
            "grid_template_areas": null,
            "grid_template_columns": null,
            "grid_template_rows": null,
            "height": null,
            "justify_content": null,
            "justify_items": null,
            "left": null,
            "margin": null,
            "max_height": null,
            "max_width": null,
            "min_height": null,
            "min_width": null,
            "object_fit": null,
            "object_position": null,
            "order": null,
            "overflow": null,
            "overflow_x": null,
            "overflow_y": null,
            "padding": null,
            "right": null,
            "top": null,
            "visibility": null,
            "width": null
          }
        },
        "f3be96622b5e47d7a254ef4ad20ecb95": {
          "model_module": "@jupyter-widgets/output",
          "model_name": "OutputModel",
          "model_module_version": "1.0.0",
          "state": {
            "_dom_classes": [],
            "_model_module": "@jupyter-widgets/output",
            "_model_module_version": "1.0.0",
            "_model_name": "OutputModel",
            "_view_count": null,
            "_view_module": "@jupyter-widgets/output",
            "_view_module_version": "1.0.0",
            "_view_name": "OutputView",
            "layout": "IPY_MODEL_fd02dc5f96a14148aad5bed8becfdb26",
            "msg_id": "",
            "outputs": [
              {
                "output_type": "display_data",
                "data": {
                  "text/plain": "🚀Animating... \u001b[38;2;114;156;31m━━━━━━━━━━━━━━━━━━━━━━━━━━━━━━━━━━━━━━━━\u001b[0m \u001b[35m100%\u001b[0m \u001b[33m0:00:00\u001b[0m\n",
                  "text/html": "<pre style=\"white-space:pre;overflow-x:auto;line-height:normal;font-family:Menlo,'DejaVu Sans Mono',consolas,'Courier New',monospace\">🚀Animating... <span style=\"color: #729c1f; text-decoration-color: #729c1f\">━━━━━━━━━━━━━━━━━━━━━━━━━━━━━━━━━━━━━━━━</span> <span style=\"color: #800080; text-decoration-color: #800080\">100%</span> <span style=\"color: #808000; text-decoration-color: #808000\">0:00:00</span>\n</pre>\n"
                },
                "metadata": {}
              }
            ]
          }
        },
        "fd02dc5f96a14148aad5bed8becfdb26": {
          "model_module": "@jupyter-widgets/base",
          "model_name": "LayoutModel",
          "model_module_version": "1.2.0",
          "state": {
            "_model_module": "@jupyter-widgets/base",
            "_model_module_version": "1.2.0",
            "_model_name": "LayoutModel",
            "_view_count": null,
            "_view_module": "@jupyter-widgets/base",
            "_view_module_version": "1.2.0",
            "_view_name": "LayoutView",
            "align_content": null,
            "align_items": null,
            "align_self": null,
            "border": null,
            "bottom": null,
            "display": null,
            "flex": null,
            "flex_flow": null,
            "grid_area": null,
            "grid_auto_columns": null,
            "grid_auto_flow": null,
            "grid_auto_rows": null,
            "grid_column": null,
            "grid_gap": null,
            "grid_row": null,
            "grid_template_areas": null,
            "grid_template_columns": null,
            "grid_template_rows": null,
            "height": null,
            "justify_content": null,
            "justify_items": null,
            "left": null,
            "margin": null,
            "max_height": null,
            "max_width": null,
            "min_height": null,
            "min_width": null,
            "object_fit": null,
            "object_position": null,
            "order": null,
            "overflow": null,
            "overflow_x": null,
            "overflow_y": null,
            "padding": null,
            "right": null,
            "top": null,
            "visibility": null,
            "width": null
          }
        },
        "8f562e7932d8459e9d1884aef71a32bd": {
          "model_module": "@jupyter-widgets/output",
          "model_name": "OutputModel",
          "model_module_version": "1.0.0",
          "state": {
            "_dom_classes": [],
            "_model_module": "@jupyter-widgets/output",
            "_model_module_version": "1.0.0",
            "_model_name": "OutputModel",
            "_view_count": null,
            "_view_module": "@jupyter-widgets/output",
            "_view_module_version": "1.0.0",
            "_view_name": "OutputView",
            "layout": "IPY_MODEL_65370af2c346486d86ccdf92922acad9",
            "msg_id": "",
            "outputs": [
              {
                "output_type": "display_data",
                "data": {
                  "text/plain": "Concatenating result... \u001b[38;2;114;156;31m━━━━━━━━━━━━━━━━━━━━━━━━━━━━━━━━━━━━━━━━\u001b[0m \u001b[35m100%\u001b[0m \u001b[33m0:00:00\u001b[0m\n",
                  "text/html": "<pre style=\"white-space:pre;overflow-x:auto;line-height:normal;font-family:Menlo,'DejaVu Sans Mono',consolas,'Courier New',monospace\">Concatenating result... <span style=\"color: #729c1f; text-decoration-color: #729c1f\">━━━━━━━━━━━━━━━━━━━━━━━━━━━━━━━━━━━━━━━━</span> <span style=\"color: #800080; text-decoration-color: #800080\">100%</span> <span style=\"color: #808000; text-decoration-color: #808000\">0:00:00</span>\n</pre>\n"
                },
                "metadata": {}
              }
            ]
          }
        },
        "65370af2c346486d86ccdf92922acad9": {
          "model_module": "@jupyter-widgets/base",
          "model_name": "LayoutModel",
          "model_module_version": "1.2.0",
          "state": {
            "_model_module": "@jupyter-widgets/base",
            "_model_module_version": "1.2.0",
            "_model_name": "LayoutModel",
            "_view_count": null,
            "_view_module": "@jupyter-widgets/base",
            "_view_module_version": "1.2.0",
            "_view_name": "LayoutView",
            "align_content": null,
            "align_items": null,
            "align_self": null,
            "border": null,
            "bottom": null,
            "display": null,
            "flex": null,
            "flex_flow": null,
            "grid_area": null,
            "grid_auto_columns": null,
            "grid_auto_flow": null,
            "grid_auto_rows": null,
            "grid_column": null,
            "grid_gap": null,
            "grid_row": null,
            "grid_template_areas": null,
            "grid_template_columns": null,
            "grid_template_rows": null,
            "height": null,
            "justify_content": null,
            "justify_items": null,
            "left": null,
            "margin": null,
            "max_height": null,
            "max_width": null,
            "min_height": null,
            "min_width": null,
            "object_fit": null,
            "object_position": null,
            "order": null,
            "overflow": null,
            "overflow_x": null,
            "overflow_y": null,
            "padding": null,
            "right": null,
            "top": null,
            "visibility": null,
            "width": null
          }
        }
      }
    }
  },
  "cells": [
    {
      "cell_type": "markdown",
      "metadata": {
        "id": "view-in-github",
        "colab_type": "text"
      },
      "source": [
        "<a href=\"https://colab.research.google.com/github/akiitr/python/blob/master/LivePortrait_Updated.ipynb\" target=\"_parent\"><img src=\"https://colab.research.google.com/assets/colab-badge.svg\" alt=\"Open In Colab\"/></a>"
      ]
    },
    {
      "cell_type": "markdown",
      "source": [
        "\n",
        "[LivePortrait GitHub](https://github.com/KwaiVGI/LivePortrait) <br>\n",
        "[Hugging Face Model Card](https://huggingface.co/KwaiVGI/LivePortrait/tree/main)<br>\n",
        "[Hugging Face Space](https://huggingface.co/spaces/KwaiVGI/LivePortrait)\n",
        "\n"
      ],
      "metadata": {
        "id": "lOUrxxaVsqsi"
      }
    },
    {
      "cell_type": "code",
      "source": [
        "#@title Install LiveProtrait and Restart Session\n",
        "base_path=\"/content\"\n",
        "%cd $base_path\n",
        "!rm -rf $base_path/LivePortrait\n",
        "!git clone https://github.com/KwaiVGI/LivePortrait.git\n",
        "%cd $base_path/LivePortrait\n",
        "!pip install -r requirements.txt\n",
        "%cd $base_path/LivePortrait/src/utils/dependencies/XPose/models/UniPose/ops\n",
        "!python setup.py build install\n",
        "\n",
        "\n",
        "from huggingface_hub import hf_hub_download, snapshot_download\n",
        "import os\n",
        "import shutil\n",
        "import platform\n",
        "def download_models():\n",
        "  model_folder=f\"{base_path}/LivePortrait/pretrained_weights\"\n",
        "  os.makedirs(model_folder,exist_ok=True)\n",
        "  model_repo = \"KwaiVGI/LivePortrait\"\n",
        "  os.makedirs(f\"{model_folder}/docs\", exist_ok=True)\n",
        "  os.makedirs(f\"{model_folder}/insightface/models/buffalo_l\", exist_ok=True)\n",
        "  os.makedirs(f\"{model_folder}/liveportrait/base_models\", exist_ok=True)\n",
        "  os.makedirs(f\"{model_folder}/liveportrait/retargeting_models\", exist_ok=True)\n",
        "  os.makedirs(f\"{model_folder}/liveportrait_animals/base_models\", exist_ok=True)\n",
        "  os.makedirs(f\"{model_folder}/liveportrait_animals/retargeting_models\", exist_ok=True)\n",
        "  snapshot_path = snapshot_download(repo_id=model_repo, local_dir=model_folder)\n",
        "  for i in [\"/README.md\",\"/docs/inference.gif\",\"/docs/showcase2.gif\",\"/.gitignore\",\"/.gitattributes\",\"/.gitkeep\"]:\n",
        "    delete_path=f\"{model_folder}{i}\"\n",
        "    if os.path.exists(delete_path):\n",
        "      os.remove(delete_path)\n",
        "    if os.path.exists(f\"{model_folder}/docs\"):\n",
        "      shutil.rmtree(f\"{model_folder}/docs\")\n",
        "download_models()\n",
        "\n",
        "\n",
        "from IPython.display import clear_output\n",
        "clear_output()\n",
        "\n",
        "import time\n",
        "time.sleep(5)\n",
        "import os\n",
        "os.kill(os.getpid(), 9)"
      ],
      "metadata": {
        "id": "IgW3_O5m4WuB"
      },
      "execution_count": null,
      "outputs": []
    },
    {
      "cell_type": "code",
      "source": [
        "#@title Human\n",
        "base_path=\"/content\"\n",
        "%cd $base_path/LivePortrait\n",
        "\"\"\"\n",
        "The entrance of the gradio for human\n",
        "\"\"\"\n",
        "\n",
        "import os\n",
        "import tyro\n",
        "import subprocess\n",
        "import gradio as gr\n",
        "import os.path as osp\n",
        "from src.utils.helper import load_description\n",
        "from src.gradio_pipeline import GradioPipeline\n",
        "from src.config.crop_config import CropConfig\n",
        "from src.config.argument_config import ArgumentConfig\n",
        "from src.config.inference_config import InferenceConfig\n",
        "\n",
        "\n",
        "def partial_fields(target_class, kwargs):\n",
        "    return target_class(**{k: v for k, v in kwargs.items() if hasattr(target_class, k)})\n",
        "\n",
        "\n",
        "def fast_check_ffmpeg():\n",
        "    try:\n",
        "        subprocess.run([\"ffmpeg\", \"-version\"], capture_output=True, check=True)\n",
        "        return True\n",
        "    except:\n",
        "        return False\n",
        "\n",
        "\n",
        "# # set tyro theme\n",
        "# tyro.extras.set_accent_color(\"bright_cyan\")\n",
        "# args = tyro.cli(ArgumentConfig)\n",
        "\n",
        "\n",
        "default_args = {\n",
        "    \"server_name\": \"0.0.0.0\",\n",
        "    \"server_port\": 7860,\n",
        "    \"share\": True,\n",
        "    # Add other default values as needed\n",
        "}\n",
        "\n",
        "# Create an args object with default values\n",
        "args = ArgumentConfig(**default_args)\n",
        "\n",
        "\n",
        "\n",
        "ffmpeg_dir = os.path.join(os.getcwd(), \"ffmpeg\")\n",
        "if osp.exists(ffmpeg_dir):\n",
        "    os.environ[\"PATH\"] += (os.pathsep + ffmpeg_dir)\n",
        "\n",
        "if not fast_check_ffmpeg():\n",
        "    raise ImportError(\n",
        "        \"FFmpeg is not installed. Please install FFmpeg (including ffmpeg and ffprobe) before running this script. https://ffmpeg.org/download.html\"\n",
        "    )\n",
        "# specify configs for inference\n",
        "inference_cfg = partial_fields(InferenceConfig, args.__dict__)  # use attribute of args to initial InferenceConfig\n",
        "crop_cfg = partial_fields(CropConfig, args.__dict__)  # use attribute of args to initial CropConfig\n",
        "# global_tab_selection = None\n",
        "\n",
        "gradio_pipeline = GradioPipeline(\n",
        "    inference_cfg=inference_cfg,\n",
        "    crop_cfg=crop_cfg,\n",
        "    args=args\n",
        ")\n",
        "\n",
        "if args.gradio_temp_dir not in (None, ''):\n",
        "    os.environ[\"GRADIO_TEMP_DIR\"] = args.gradio_temp_dir\n",
        "    os.makedirs(args.gradio_temp_dir, exist_ok=True)\n",
        "\n",
        "\n",
        "def gpu_wrapped_execute_video(*args, **kwargs):\n",
        "    return gradio_pipeline.execute_video(*args, **kwargs)\n",
        "\n",
        "\n",
        "def gpu_wrapped_execute_image_retargeting(*args, **kwargs):\n",
        "    return gradio_pipeline.execute_image_retargeting(*args, **kwargs)\n",
        "\n",
        "\n",
        "def gpu_wrapped_execute_video_retargeting(*args, **kwargs):\n",
        "    return gradio_pipeline.execute_video_retargeting(*args, **kwargs)\n",
        "\n",
        "\n",
        "def reset_sliders(*args, **kwargs):\n",
        "    return 0.0, 0.0, 0.0, 0.0, 0.0, 1.0, 0.0, 0.0, 0.0, 0.0, 0.0, 0.0, 0.0, 0.0, 0.0, 2.5, True, True\n",
        "\n",
        "\n",
        "# assets\n",
        "title_md = \"assets/gradio/gradio_title.md\"\n",
        "example_portrait_dir = \"assets/examples/source\"\n",
        "example_video_dir = \"assets/examples/driving\"\n",
        "data_examples_i2v = [\n",
        "    [osp.join(example_portrait_dir, \"s9.jpg\"), osp.join(example_video_dir, \"d0.mp4\"), True, True, True, False],\n",
        "    [osp.join(example_portrait_dir, \"s6.jpg\"), osp.join(example_video_dir, \"d0.mp4\"), True, True, True, False],\n",
        "    [osp.join(example_portrait_dir, \"s10.jpg\"), osp.join(example_video_dir, \"d0.mp4\"), True, True, True, False],\n",
        "    [osp.join(example_portrait_dir, \"s5.jpg\"), osp.join(example_video_dir, \"d18.mp4\"), True, True, True, False],\n",
        "    [osp.join(example_portrait_dir, \"s7.jpg\"), osp.join(example_video_dir, \"d19.mp4\"), True, True, True, False],\n",
        "    [osp.join(example_portrait_dir, \"s2.jpg\"), osp.join(example_video_dir, \"d13.mp4\"), True, True, True, True],\n",
        "]\n",
        "data_examples_v2v = [\n",
        "    [osp.join(example_portrait_dir, \"s13.mp4\"), osp.join(example_video_dir, \"d0.mp4\"), True, True, True, False, 3e-7],\n",
        "    # [osp.join(example_portrait_dir, \"s14.mp4\"), osp.join(example_video_dir, \"d18.mp4\"), True, True, True, False, False, 3e-7],\n",
        "    # [osp.join(example_portrait_dir, \"s15.mp4\"), osp.join(example_video_dir, \"d19.mp4\"), True, True, True, False, False, 3e-7],\n",
        "    [osp.join(example_portrait_dir, \"s18.mp4\"), osp.join(example_video_dir, \"d6.mp4\"), True, True, True, False, 3e-7],\n",
        "    # [osp.join(example_portrait_dir, \"s19.mp4\"), osp.join(example_video_dir, \"d6.mp4\"), True, True, True, False, False, 3e-7],\n",
        "    [osp.join(example_portrait_dir, \"s20.mp4\"), osp.join(example_video_dir, \"d0.mp4\"), True, True, True, False, 3e-7],\n",
        "]\n",
        "#################### interface logic ####################\n",
        "\n",
        "# Define components first\n",
        "retargeting_source_scale = gr.Number(minimum=1.8, maximum=3.2, value=2.5, step=0.05, label=\"crop scale\")\n",
        "video_retargeting_source_scale = gr.Number(minimum=1.8, maximum=3.2, value=2.3, step=0.05, label=\"crop scale\")\n",
        "driving_smooth_observation_variance_retargeting = gr.Number(value=3e-6, label=\"motion smooth strength\", minimum=1e-11, maximum=1e-2, step=1e-8)\n",
        "video_retargeting_silence = gr.Checkbox(value=False, label=\"keeping the lip silent\")\n",
        "eye_retargeting_slider = gr.Slider(minimum=0, maximum=0.8, step=0.01, label=\"target eyes-open ratio\")\n",
        "lip_retargeting_slider = gr.Slider(minimum=0, maximum=0.8, step=0.01, label=\"target lip-open ratio\")\n",
        "video_lip_retargeting_slider = gr.Slider(minimum=0, maximum=0.8, step=0.01, label=\"target lip-open ratio\")\n",
        "head_pitch_slider = gr.Slider(minimum=-15.0, maximum=15.0, value=0, step=1, label=\"relative pitch\")\n",
        "head_yaw_slider = gr.Slider(minimum=-25, maximum=25, value=0, step=1, label=\"relative yaw\")\n",
        "head_roll_slider = gr.Slider(minimum=-15.0, maximum=15.0, value=0, step=1, label=\"relative roll\")\n",
        "mov_x = gr.Slider(minimum=-0.19, maximum=0.19, value=0.0, step=0.01, label=\"x-axis movement\")\n",
        "mov_y = gr.Slider(minimum=-0.19, maximum=0.19, value=0.0, step=0.01, label=\"y-axis movement\")\n",
        "mov_z = gr.Slider(minimum=0.9, maximum=1.2, value=1.0, step=0.01, label=\"z-axis movement\")\n",
        "lip_variation_zero = gr.Slider(minimum=-0.09, maximum=0.09, value=0, step=0.01, label=\"pouting\")\n",
        "lip_variation_one = gr.Slider(minimum=-20.0, maximum=15.0, value=0, step=0.01, label=\"pursing 😐\")\n",
        "lip_variation_two = gr.Slider(minimum=0.0, maximum=15.0, value=0, step=0.01, label=\"grin 😁\")\n",
        "lip_variation_three = gr.Slider(minimum=-90.0, maximum=120.0, value=0, step=1.0, label=\"lip close <-> open\")\n",
        "smile = gr.Slider(minimum=-0.3, maximum=1.3, value=0, step=0.01, label=\"smile 😄\")\n",
        "wink = gr.Slider(minimum=0, maximum=39, value=0, step=0.01, label=\"wink 😉\")\n",
        "eyebrow = gr.Slider(minimum=-30, maximum=30, value=0, step=0.01, label=\"eyebrow 🤨\")\n",
        "eyeball_direction_x = gr.Slider(minimum=-30.0, maximum=30.0, value=0, step=0.01, label=\"eye gaze (horizontal) 👀\")\n",
        "eyeball_direction_y = gr.Slider(minimum=-63.0, maximum=63.0, value=0, step=0.01, label=\"eye gaze (vertical) 🙄\")\n",
        "retargeting_input_image = gr.Image(type=\"filepath\")\n",
        "retargeting_input_video = gr.Video()\n",
        "output_image = gr.Image(type=\"numpy\")\n",
        "output_image_paste_back = gr.Image(type=\"numpy\")\n",
        "retargeting_output_image = gr.Image(type=\"numpy\")\n",
        "retargeting_output_image_paste_back = gr.Image(type=\"numpy\")\n",
        "output_video = gr.Video(autoplay=False)\n",
        "output_video_paste_back = gr.Video(autoplay=False)\n",
        "\n",
        "with gr.Blocks(theme=gr.themes.Soft(font=[gr.themes.GoogleFont(\"Plus Jakarta Sans\")])) as demo:\n",
        "    gr.HTML(load_description(title_md))\n",
        "\n",
        "    gr.Markdown(load_description(\"assets/gradio/gradio_description_upload.md\"))\n",
        "    with gr.Row():\n",
        "        with gr.Column():\n",
        "            with gr.Tabs():\n",
        "                with gr.TabItem(\"🖼️ Source Image\") as tab_image:\n",
        "                    with gr.Accordion(open=True, label=\"Source Image\"):\n",
        "                        source_image_input = gr.Image(type=\"filepath\")\n",
        "                        gr.Examples(\n",
        "                            examples=[\n",
        "                                [osp.join(example_portrait_dir, \"s9.jpg\")],\n",
        "                                [osp.join(example_portrait_dir, \"s6.jpg\")],\n",
        "                                [osp.join(example_portrait_dir, \"s10.jpg\")],\n",
        "                                [osp.join(example_portrait_dir, \"s5.jpg\")],\n",
        "                                [osp.join(example_portrait_dir, \"s7.jpg\")],\n",
        "                                [osp.join(example_portrait_dir, \"s12.jpg\")],\n",
        "                                [osp.join(example_portrait_dir, \"s22.jpg\")],\n",
        "                                [osp.join(example_portrait_dir, \"s23.jpg\")],\n",
        "                            ],\n",
        "                            inputs=[source_image_input],\n",
        "                            cache_examples=False,\n",
        "                        )\n",
        "\n",
        "                with gr.TabItem(\"🎞️ Source Video\") as tab_video:\n",
        "                    with gr.Accordion(open=True, label=\"Source Video\"):\n",
        "                        source_video_input = gr.Video()\n",
        "                        gr.Examples(\n",
        "                            examples=[\n",
        "                                [osp.join(example_portrait_dir, \"s13.mp4\")],\n",
        "                                # [osp.join(example_portrait_dir, \"s14.mp4\")],\n",
        "                                # [osp.join(example_portrait_dir, \"s15.mp4\")],\n",
        "                                [osp.join(example_portrait_dir, \"s18.mp4\")],\n",
        "                                # [osp.join(example_portrait_dir, \"s19.mp4\")],\n",
        "                                [osp.join(example_portrait_dir, \"s20.mp4\")],\n",
        "                            ],\n",
        "                            inputs=[source_video_input],\n",
        "                            cache_examples=False,\n",
        "                        )\n",
        "\n",
        "                tab_selection = gr.Textbox(visible=False)\n",
        "                tab_image.select(lambda: \"Image\", None, tab_selection)\n",
        "                tab_video.select(lambda: \"Video\", None, tab_selection)\n",
        "            with gr.Accordion(open=True, label=\"Cropping Options for Source Image or Video\"):\n",
        "                with gr.Row():\n",
        "                    flag_do_crop_input = gr.Checkbox(value=True, label=\"do crop (source)\")\n",
        "                    scale = gr.Number(value=2.3, label=\"source crop scale\", minimum=1.8, maximum=3.2, step=0.05)\n",
        "                    vx_ratio = gr.Number(value=0.0, label=\"source crop x\", minimum=-0.5, maximum=0.5, step=0.01)\n",
        "                    vy_ratio = gr.Number(value=-0.125, label=\"source crop y\", minimum=-0.5, maximum=0.5, step=0.01)\n",
        "\n",
        "        with gr.Column():\n",
        "            with gr.Tabs():\n",
        "                with gr.TabItem(\"🎞️ Driving Video\") as v_tab_video:\n",
        "                    with gr.Accordion(open=True, label=\"Driving Video\"):\n",
        "                        driving_video_input = gr.Video()\n",
        "                        gr.Examples(\n",
        "                            examples=[\n",
        "                                [osp.join(example_video_dir, \"d0.mp4\")],\n",
        "                                [osp.join(example_video_dir, \"d18.mp4\")],\n",
        "                                [osp.join(example_video_dir, \"d19.mp4\")],\n",
        "                                [osp.join(example_video_dir, \"d14.mp4\")],\n",
        "                                [osp.join(example_video_dir, \"d6.mp4\")],\n",
        "                                [osp.join(example_video_dir, \"d20.mp4\")],\n",
        "                            ],\n",
        "                            inputs=[driving_video_input],\n",
        "                            cache_examples=False,\n",
        "                        )\n",
        "                with gr.TabItem(\"🖼️ Driving Image\") as v_tab_image:\n",
        "                    with gr.Accordion(open=True, label=\"Driving Image\"):\n",
        "                        driving_image_input = gr.Image(type=\"filepath\")\n",
        "                        gr.Examples(\n",
        "                            examples=[\n",
        "                                [osp.join(example_video_dir, \"d30.jpg\")],\n",
        "                                [osp.join(example_video_dir, \"d9.jpg\")],\n",
        "                                [osp.join(example_video_dir, \"d19.jpg\")],\n",
        "                                [osp.join(example_video_dir, \"d8.jpg\")],\n",
        "                                [osp.join(example_video_dir, \"d12.jpg\")],\n",
        "                                [osp.join(example_video_dir, \"d38.jpg\")],\n",
        "                            ],\n",
        "                            inputs=[driving_image_input],\n",
        "                            cache_examples=False,\n",
        "                        )\n",
        "\n",
        "                with gr.TabItem(\"📁 Driving Pickle\") as v_tab_pickle:\n",
        "                    with gr.Accordion(open=True, label=\"Driving Pickle\"):\n",
        "                        driving_video_pickle_input = gr.File(type=\"filepath\", file_types=[\".pkl\"])\n",
        "                        gr.Examples(\n",
        "                            examples=[\n",
        "                                [osp.join(example_video_dir, \"d1.pkl\")],\n",
        "                                [osp.join(example_video_dir, \"d2.pkl\")],\n",
        "                                [osp.join(example_video_dir, \"d5.pkl\")],\n",
        "                                [osp.join(example_video_dir, \"d7.pkl\")],\n",
        "                                [osp.join(example_video_dir, \"d8.pkl\")],\n",
        "                            ],\n",
        "                            inputs=[driving_video_pickle_input],\n",
        "                            cache_examples=False,\n",
        "                        )\n",
        "\n",
        "                v_tab_selection = gr.Textbox(visible=False)\n",
        "                v_tab_video.select(lambda: \"Video\", None, v_tab_selection)\n",
        "                v_tab_image.select(lambda: \"Image\", None, v_tab_selection)\n",
        "                v_tab_pickle.select(lambda: \"Pickle\", None, v_tab_selection)\n",
        "            # with gr.Accordion(open=False, label=\"Animation Instructions\"):\n",
        "                # gr.Markdown(load_description(\"assets/gradio/gradio_description_animation.md\"))\n",
        "            with gr.Accordion(open=True, label=\"Cropping Options for Driving Video\"):\n",
        "                with gr.Row():\n",
        "                    flag_crop_driving_video_input = gr.Checkbox(value=False, label=\"do crop (driving)\")\n",
        "                    scale_crop_driving_video = gr.Number(value=2.2, label=\"driving crop scale\", minimum=1.8, maximum=3.2, step=0.05)\n",
        "                    vx_ratio_crop_driving_video = gr.Number(value=0.0, label=\"driving crop x\", minimum=-0.5, maximum=0.5, step=0.01)\n",
        "                    vy_ratio_crop_driving_video = gr.Number(value=-0.1, label=\"driving crop y\", minimum=-0.5, maximum=0.5, step=0.01)\n",
        "\n",
        "    with gr.Row():\n",
        "        with gr.Accordion(open=True, label=\"Animation Options\"):\n",
        "            with gr.Row():\n",
        "                flag_normalize_lip = gr.Checkbox(value=False, label=\"normalize lip\")\n",
        "                flag_relative_input = gr.Checkbox(value=True, label=\"relative motion\")\n",
        "                flag_remap_input = gr.Checkbox(value=True, label=\"paste-back\")\n",
        "                flag_stitching_input = gr.Checkbox(value=True, label=\"stitching\")\n",
        "                animation_region = gr.Radio([\"exp\", \"pose\", \"lip\", \"eyes\", \"all\"], value=\"all\", label=\"animation region\")\n",
        "                driving_option_input = gr.Radio(['expression-friendly', 'pose-friendly'], value=\"expression-friendly\", label=\"driving option (i2v)\")\n",
        "                driving_multiplier = gr.Number(value=1.0, label=\"driving multiplier (i2v)\", minimum=0.0, maximum=2.0, step=0.02)\n",
        "                driving_smooth_observation_variance = gr.Number(value=3e-7, label=\"motion smooth strength (v2v)\", minimum=1e-11, maximum=1e-2, step=1e-8)\n",
        "\n",
        "    gr.Markdown(load_description(\"assets/gradio/gradio_description_animate_clear.md\"))\n",
        "    with gr.Row():\n",
        "        process_button_animation = gr.Button(\"🚀 Animate\", variant=\"primary\")\n",
        "    with gr.Row():\n",
        "        with gr.Column():\n",
        "            output_video_i2v = gr.Video(autoplay=False, label=\"The animated video in the original image space\")\n",
        "        with gr.Column():\n",
        "            output_video_concat_i2v = gr.Video(autoplay=False, label=\"The animated video\")\n",
        "    with gr.Row():\n",
        "        with gr.Column():\n",
        "            output_image_i2i = gr.Image(type=\"numpy\", label=\"The animated image in the original image space\", visible=False)\n",
        "        with gr.Column():\n",
        "            output_image_concat_i2i = gr.Image(type=\"numpy\", label=\"The animated image\", visible=False)\n",
        "    with gr.Row():\n",
        "        process_button_reset = gr.ClearButton([source_image_input, source_video_input, driving_video_pickle_input, driving_video_input, driving_image_input, output_video_i2v, output_video_concat_i2v, output_image_i2i, output_image_concat_i2i], value=\"🧹 Clear\")\n",
        "\n",
        "    with gr.Row():\n",
        "        # Examples\n",
        "        gr.Markdown(\"## You could also choose the examples below by one click ⬇️\")\n",
        "    with gr.Row():\n",
        "        with gr.Tabs():\n",
        "            with gr.TabItem(\"🖼️ Portrait Animation\"):\n",
        "                gr.Examples(\n",
        "                    examples=data_examples_i2v,\n",
        "                    fn=gpu_wrapped_execute_video,\n",
        "                    inputs=[\n",
        "                        source_image_input,\n",
        "                        driving_video_input,\n",
        "                        flag_relative_input,\n",
        "                        flag_do_crop_input,\n",
        "                        flag_remap_input,\n",
        "                        flag_crop_driving_video_input,\n",
        "                    ],\n",
        "                    outputs=[output_image, output_image_paste_back],\n",
        "                    examples_per_page=len(data_examples_i2v),\n",
        "                    cache_examples=False,\n",
        "                )\n",
        "            with gr.TabItem(\"🎞️ Portrait Video Editing\"):\n",
        "                gr.Examples(\n",
        "                    examples=data_examples_v2v,\n",
        "                    fn=gpu_wrapped_execute_video,\n",
        "                    inputs=[\n",
        "                        source_video_input,\n",
        "                        driving_video_input,\n",
        "                        flag_relative_input,\n",
        "                        flag_do_crop_input,\n",
        "                        flag_remap_input,\n",
        "                        flag_crop_driving_video_input,\n",
        "                        driving_smooth_observation_variance,\n",
        "                    ],\n",
        "                    outputs=[output_image, output_image_paste_back],\n",
        "                    examples_per_page=len(data_examples_v2v),\n",
        "                    cache_examples=False,\n",
        "                )\n",
        "\n",
        "    # Retargeting Image\n",
        "    gr.Markdown(load_description(\"assets/gradio/gradio_description_retargeting.md\"), visible=True)\n",
        "    with gr.Row(visible=True):\n",
        "        flag_do_crop_input_retargeting_image = gr.Checkbox(value=True, label=\"do crop (source)\")\n",
        "        flag_stitching_retargeting_input = gr.Checkbox(value=True, label=\"stitching\")\n",
        "        retargeting_source_scale.render()\n",
        "        eye_retargeting_slider.render()\n",
        "        lip_retargeting_slider.render()\n",
        "    with gr.Row(visible=True):\n",
        "        with gr.Column():\n",
        "            with gr.Accordion(open=True, label=\"Facial movement sliders\"):\n",
        "                with gr.Row(visible=True):\n",
        "                    head_pitch_slider.render()\n",
        "                    head_yaw_slider.render()\n",
        "                    head_roll_slider.render()\n",
        "                with gr.Row(visible=True):\n",
        "                    mov_x.render()\n",
        "                    mov_y.render()\n",
        "                    mov_z.render()\n",
        "        with gr.Column():\n",
        "            with gr.Accordion(open=True, label=\"Facial expression sliders\"):\n",
        "                with gr.Row(visible=True):\n",
        "                    lip_variation_zero.render()\n",
        "                    lip_variation_one.render()\n",
        "                    lip_variation_two.render()\n",
        "                with gr.Row(visible=True):\n",
        "                    lip_variation_three.render()\n",
        "                    smile.render()\n",
        "                    wink.render()\n",
        "                with gr.Row(visible=True):\n",
        "                    eyebrow.render()\n",
        "                    eyeball_direction_x.render()\n",
        "                    eyeball_direction_y.render()\n",
        "    with gr.Row(visible=True):\n",
        "        reset_button = gr.Button(\"🔄 Reset\")\n",
        "        reset_button.click(\n",
        "            fn=reset_sliders,\n",
        "            inputs=None,\n",
        "            outputs=[\n",
        "                head_pitch_slider, head_yaw_slider, head_roll_slider, mov_x, mov_y, mov_z,\n",
        "                lip_variation_zero, lip_variation_one, lip_variation_two, lip_variation_three, smile, wink, eyebrow, eyeball_direction_x, eyeball_direction_y,\n",
        "                retargeting_source_scale, flag_stitching_retargeting_input, flag_do_crop_input_retargeting_image\n",
        "            ]\n",
        "        )\n",
        "    with gr.Row(visible=True):\n",
        "        with gr.Column():\n",
        "            with gr.Accordion(open=True, label=\"Retargeting Image Input\"):\n",
        "                retargeting_input_image.render()\n",
        "                gr.Examples(\n",
        "                    examples=[\n",
        "                        [osp.join(example_portrait_dir, \"s9.jpg\")],\n",
        "                        [osp.join(example_portrait_dir, \"s6.jpg\")],\n",
        "                        [osp.join(example_portrait_dir, \"s10.jpg\")],\n",
        "                        [osp.join(example_portrait_dir, \"s5.jpg\")],\n",
        "                        [osp.join(example_portrait_dir, \"s7.jpg\")],\n",
        "                        [osp.join(example_portrait_dir, \"s12.jpg\")],\n",
        "                        [osp.join(example_portrait_dir, \"s22.jpg\")],\n",
        "                        # [osp.join(example_portrait_dir, \"s23.jpg\")],\n",
        "                        [osp.join(example_portrait_dir, \"s42.jpg\")],\n",
        "                    ],\n",
        "                    inputs=[retargeting_input_image],\n",
        "                    cache_examples=False,\n",
        "                )\n",
        "        with gr.Column():\n",
        "            with gr.Accordion(open=True, label=\"Retargeting Result\"):\n",
        "                retargeting_output_image.render()\n",
        "        with gr.Column():\n",
        "            with gr.Accordion(open=True, label=\"Paste-back Result\"):\n",
        "                retargeting_output_image_paste_back.render()\n",
        "    with gr.Row(visible=True):\n",
        "        process_button_reset_retargeting = gr.ClearButton(\n",
        "            [\n",
        "                retargeting_input_image,\n",
        "                retargeting_output_image,\n",
        "                retargeting_output_image_paste_back,\n",
        "            ],\n",
        "            value=\"🧹 Clear\"\n",
        "        )\n",
        "\n",
        "    # Retargeting Video\n",
        "    gr.Markdown(load_description(\"assets/gradio/gradio_description_retargeting_video.md\"), visible=True)\n",
        "    with gr.Row(visible=True):\n",
        "        flag_do_crop_input_retargeting_video = gr.Checkbox(value=True, label=\"do crop (source)\")\n",
        "        video_retargeting_source_scale.render()\n",
        "        video_lip_retargeting_slider.render()\n",
        "        driving_smooth_observation_variance_retargeting.render()\n",
        "        video_retargeting_silence.render()\n",
        "    with gr.Row(visible=True):\n",
        "        process_button_retargeting_video = gr.Button(\"🚗 Retargeting Video\", variant=\"primary\")\n",
        "    with gr.Row(visible=True):\n",
        "        with gr.Column():\n",
        "            with gr.Accordion(open=True, label=\"Retargeting Video Input\"):\n",
        "                retargeting_input_video.render()\n",
        "                gr.Examples(\n",
        "                    examples=[\n",
        "                        [osp.join(example_portrait_dir, \"s13.mp4\")],\n",
        "                        # [osp.join(example_portrait_dir, \"s18.mp4\")],\n",
        "                        # [osp.join(example_portrait_dir, \"s20.mp4\")],\n",
        "                        [osp.join(example_portrait_dir, \"s29.mp4\")],\n",
        "                        [osp.join(example_portrait_dir, \"s32.mp4\")],\n",
        "                        [osp.join(example_video_dir, \"d3.mp4\")],\n",
        "                    ],\n",
        "                    inputs=[retargeting_input_video],\n",
        "                    cache_examples=False,\n",
        "                )\n",
        "        with gr.Column():\n",
        "            with gr.Accordion(open=True, label=\"Retargeting Result\"):\n",
        "                output_video.render()\n",
        "        with gr.Column():\n",
        "            with gr.Accordion(open=True, label=\"Paste-back Result\"):\n",
        "                output_video_paste_back.render()\n",
        "    with gr.Row(visible=True):\n",
        "        process_button_reset_retargeting = gr.ClearButton(\n",
        "            [\n",
        "                video_lip_retargeting_slider,\n",
        "                retargeting_input_video,\n",
        "                output_video,\n",
        "                output_video_paste_back\n",
        "            ],\n",
        "            value=\"🧹 Clear\"\n",
        "        )\n",
        "\n",
        "    # binding functions for buttons\n",
        "    process_button_animation.click(\n",
        "        fn=gpu_wrapped_execute_video,\n",
        "        inputs=[\n",
        "            source_image_input,\n",
        "            source_video_input,\n",
        "            driving_video_input,\n",
        "            driving_image_input,\n",
        "            driving_video_pickle_input,\n",
        "            flag_normalize_lip,\n",
        "            flag_relative_input,\n",
        "            flag_do_crop_input,\n",
        "            flag_remap_input,\n",
        "            flag_stitching_input,\n",
        "            animation_region,\n",
        "            driving_option_input,\n",
        "            driving_multiplier,\n",
        "            flag_crop_driving_video_input,\n",
        "            scale,\n",
        "            vx_ratio,\n",
        "            vy_ratio,\n",
        "            scale_crop_driving_video,\n",
        "            vx_ratio_crop_driving_video,\n",
        "            vy_ratio_crop_driving_video,\n",
        "            driving_smooth_observation_variance,\n",
        "            tab_selection,\n",
        "            v_tab_selection,\n",
        "        ],\n",
        "        outputs=[output_video_i2v, output_video_i2v, output_video_concat_i2v, output_video_concat_i2v, output_image_i2i, output_image_i2i, output_image_concat_i2i, output_image_concat_i2i],\n",
        "        show_progress=True\n",
        "    )\n",
        "\n",
        "\n",
        "    retargeting_input_image.change(\n",
        "        fn=gradio_pipeline.init_retargeting_image,\n",
        "        inputs=[retargeting_source_scale, eye_retargeting_slider, lip_retargeting_slider, retargeting_input_image],\n",
        "        outputs=[eye_retargeting_slider, lip_retargeting_slider]\n",
        "    )\n",
        "\n",
        "    sliders = [eye_retargeting_slider, lip_retargeting_slider, head_pitch_slider, head_yaw_slider, head_roll_slider, mov_x, mov_y, mov_z, lip_variation_zero, lip_variation_one, lip_variation_two, lip_variation_three, smile, wink, eyebrow, eyeball_direction_x, eyeball_direction_y]\n",
        "    for slider in sliders:\n",
        "        # NOTE: gradio >= 4.0.0 may cause slow response\n",
        "        slider.change(\n",
        "            fn=gpu_wrapped_execute_image_retargeting,\n",
        "            inputs=[\n",
        "                eye_retargeting_slider, lip_retargeting_slider, head_pitch_slider, head_yaw_slider, head_roll_slider, mov_x, mov_y, mov_z,\n",
        "                lip_variation_zero, lip_variation_one, lip_variation_two, lip_variation_three, smile, wink, eyebrow, eyeball_direction_x, eyeball_direction_y,\n",
        "                retargeting_input_image, retargeting_source_scale, flag_stitching_retargeting_input, flag_do_crop_input_retargeting_image\n",
        "            ],\n",
        "            outputs=[retargeting_output_image, retargeting_output_image_paste_back],\n",
        "        )\n",
        "\n",
        "    process_button_retargeting_video.click(\n",
        "        fn=gpu_wrapped_execute_video_retargeting,\n",
        "        inputs=[video_lip_retargeting_slider, retargeting_input_video, video_retargeting_source_scale, driving_smooth_observation_variance_retargeting, video_retargeting_silence, flag_do_crop_input_retargeting_video],\n",
        "        outputs=[output_video, output_video_paste_back],\n",
        "        show_progress=True\n",
        "    )\n",
        "\n",
        "# demo.launch(\n",
        "#     server_port=args.server_port,\n",
        "#     share=args.share,\n",
        "#     server_name=args.server_name\n",
        "# )\n",
        "demo.launch(debug=True,share=True)"
      ],
      "metadata": {
        "cellView": "form",
        "id": "deJJJx03Qlx_",
        "outputId": "2180be8e-14dc-46b4-93c9-bd538cb5ba36",
        "colab": {
          "base_uri": "https://localhost:8080/",
          "height": 1000,
          "referenced_widgets": [
            "bcf6fb782e854669b99f0f82c7149828",
            "50eae174391549359f79891e2fae075c",
            "b4cea99797c34fabb158fbc715348b87",
            "1dcc34842434422fa5cc4a4c7eff0dde",
            "91022db532ae453d84d24ac1976e550e",
            "13554e66663e49748529264882a97593",
            "fa60fe2c8993498faa0efe201750cd4c",
            "10bfbf8be79d42dd8955dede575eb58f",
            "d5741baccc724666a9ddc6229135ec69",
            "42b8111e177b4ccfa17a75a41b9ba7b2",
            "3668e9d881ec4f5886d52a3bc5910601",
            "dfb43a4d93ba487da9c41337b2d03e12",
            "3bad1802f67a47c2a2163197c2aed69f",
            "0f1cf5e8f6464733b8fa8ae69e7cf743",
            "672a4acdd1a8436bbf702ecae8d116ab",
            "d03c5f16f39c42a0b3b220dcf62591f0",
            "34bada6f1a18412d818d63c1bdff14ed",
            "f6599e7aef9144f18a3a96677061363f",
            "4effdbd349eb47629f555f486b17e47c",
            "c9b40f8fd8cd440fb22939de4a1e8367",
            "0f0efa340bc04938a9f9a3c8a566c61a",
            "8430b25b3ac1441d9b4848099411aeba",
            "2b587d4dbc55406f805990f1b13f5515",
            "5d48d5935a0844759ec32caa48fa73a1",
            "9f6daa67fffb40fca47dc7188f73ee1e",
            "e66cafbfc3824da1a8428054b8d5ceb9",
            "f221c4d632804dd080403a915fb17415",
            "cbadc0df8d304a54b3ff372867f6a9b3",
            "690fb70da5364b75a567e50038308f14",
            "0aa7a74fd950431682d26df4247bcf2b",
            "c9bf68e6959b412b8eb6cde71a609bc7",
            "82151f40990e457eb48ea3ebec9963d5",
            "2bdfb62607564f849a93cc7dc6ef404e",
            "5ccff30f18c1441997df372efb14cc0a",
            "d2c8b5b7e3db480391b0c367ce31f0b2",
            "99e05b5ca10a47a9988de157d4ad7ff8",
            "43b72793065145d9959b4d5817f3578d",
            "d3616429d7ee4de8968ed3079f318f40",
            "8059715e9a9d4f869795f19eb111c885",
            "599200e9edcb4c2889714184b61e20e5",
            "52d92195544147b89a5be35fd0242385",
            "c59de78d1aef47bab2e3586e698940ac",
            "6d1ae548d0ef41fabeecda95a3d39f85",
            "933377c688d5448489d6ca0cb8db784e",
            "12989d93af3f4fa18fa3da7705dfac0f",
            "4b24760d9a46420f82193b1d94463d86",
            "7f8f55189f534558b00e454ab6342afc",
            "d6a7610f40864ca7a560ff9b5cb214f0",
            "54fc0d0c81b341efa7586df1e2abbc58",
            "644aeadb869b44d6929daad4205d1b4f",
            "5d8a2cb8a6d945b1974ff33ebd6124f3",
            "c97da959a66a48c698e6d1d1d339e6a9",
            "435c0e43b3a34b3990256cd5911a92a6",
            "22895beffc2d40a48dcb7cad12f35fed",
            "fc73e339195540cb9c43e7fd6825d7fc",
            "3b58d0e5edd14ce5b3cc8c2e1e260d0e",
            "d35e640b8e864655b1b3fb492ce8b8f3",
            "da5b44f87bdd493091dd4172e30025f5",
            "c29b2fdafcb24843b3add381141dc14f",
            "dff6ef33b6fc4d6d8d3552100666661b",
            "60ea96412d21417c9da4064267e39bd2",
            "89b91b273b464374b03e073fd2ab70bd",
            "58ea9234fa954fa79203c506d774edc5",
            "4e8c47f6856e440989962c2319bb3843",
            "5a9622ef176048d7a9921c8c5672210d",
            "7a4ea3a5370b416e8bd0c411be2cb7e7",
            "cf31f7644be547b89b9b8dc66e97ec87",
            "a292124c82e54404b3c432d23ee04c6a",
            "54247f86d2de4bb291753481f99f92a9",
            "b81d2ac1d9834482a9482fcb54f3efd5",
            "803e38bd78884b28bf172e008da76963",
            "60a91ca3bf6449c0ad15ce7c2f3607c2",
            "4a867e16458641a48597795eee19df62",
            "c56cb223d1ce4101aea3840ae5b7f398",
            "00c56f61eec646248abe369d1099de98",
            "900b378117c54c8aa0b44f478ba41829",
            "8ee45c9870b44813a6aa5bb5c4c34229",
            "1c925a2eb3334bcaae6ae3dc47ef3b60",
            "ba63078be3ab4c28b40f30c5624eb354",
            "89fc4cdcac7c4b1eb0716335010d76a2",
            "b6e920ccf02d4a7d839dd676c32ba515",
            "7a741306428e40eb871c79c8e56c0f6e",
            "f3be96622b5e47d7a254ef4ad20ecb95",
            "fd02dc5f96a14148aad5bed8becfdb26",
            "8f562e7932d8459e9d1884aef71a32bd",
            "65370af2c346486d86ccdf92922acad9"
          ]
        }
      },
      "execution_count": 1,
      "outputs": [
        {
          "output_type": "stream",
          "name": "stdout",
          "text": [
            "/content/LivePortrait\n"
          ]
        },
        {
          "output_type": "stream",
          "name": "stderr",
          "text": [
            "/content/LivePortrait/src/utils/helper.py:170: FutureWarning: You are using `torch.load` with `weights_only=False` (the current default value), which uses the default pickle module implicitly. It is possible to construct malicious pickle data which will execute arbitrary code during unpickling (See https://github.com/pytorch/pytorch/blob/main/SECURITY.md#untrusted-models for more details). In a future release, the default value for `weights_only` will be flipped to `True`. This limits the functions that could be executed during unpickling. Arbitrary objects will no longer be allowed to be loaded via this mode unless they are explicitly allowlisted by the user via `torch.serialization.add_safe_globals`. We recommend you start setting `weights_only=True` for any use case where you don't have full control of the loaded file. Please open an issue on GitHub for any issues related to this experimental feature.\n",
            "  model.load_state_dict(torch.load(ckpt_path, map_location=lambda storage, loc: storage))\n"
          ]
        },
        {
          "output_type": "display_data",
          "data": {
            "text/plain": [
              "\u001b[2;36m[14:04:38]\u001b[0m\u001b[2;36m \u001b[0mLoad appearance_feature_extractor from                                       \u001b]8;id=120132;file:///content/LivePortrait/src/live_portrait_wrapper.py\u001b\\\u001b[2mlive_portrait_wrapper.py\u001b[0m\u001b]8;;\u001b\\\u001b[2m:\u001b[0m\u001b]8;id=736695;file:///content/LivePortrait/src/live_portrait_wrapper.py#46\u001b\\\u001b[2m46\u001b[0m\u001b]8;;\u001b\\\n",
              "\u001b[2;36m           \u001b[0m\u001b[35m/content/LivePortrait/pretrained_weights/liveportrait/base_models/\u001b[0m\u001b[95mappearance\u001b[0m \u001b[2m                           \u001b[0m\n",
              "\u001b[2;36m           \u001b[0m\u001b[95m_feature_extractor.pth\u001b[0m done.                                                 \u001b[2m                           \u001b[0m\n"
            ],
            "text/html": [
              "<pre style=\"white-space:pre;overflow-x:auto;line-height:normal;font-family:Menlo,'DejaVu Sans Mono',consolas,'Courier New',monospace\"><span style=\"color: #7fbfbf; text-decoration-color: #7fbfbf\">[14:04:38] </span>Load appearance_feature_extractor from                                       <a href=\"file:///content/LivePortrait/src/live_portrait_wrapper.py\" target=\"_blank\"><span style=\"color: #7f7f7f; text-decoration-color: #7f7f7f\">live_portrait_wrapper.py</span></a><span style=\"color: #7f7f7f; text-decoration-color: #7f7f7f\">:</span><a href=\"file:///content/LivePortrait/src/live_portrait_wrapper.py#46\" target=\"_blank\"><span style=\"color: #7f7f7f; text-decoration-color: #7f7f7f\">46</span></a>\n",
              "<span style=\"color: #7fbfbf; text-decoration-color: #7fbfbf\">           </span><span style=\"color: #800080; text-decoration-color: #800080\">/content/LivePortrait/pretrained_weights/liveportrait/base_models/</span><span style=\"color: #ff00ff; text-decoration-color: #ff00ff\">appearance</span> <span style=\"color: #7f7f7f; text-decoration-color: #7f7f7f\">                           </span>\n",
              "<span style=\"color: #7fbfbf; text-decoration-color: #7fbfbf\">           </span><span style=\"color: #ff00ff; text-decoration-color: #ff00ff\">_feature_extractor.pth</span> done.                                                 <span style=\"color: #7f7f7f; text-decoration-color: #7f7f7f\">                           </span>\n",
              "</pre>\n"
            ]
          },
          "metadata": {}
        },
        {
          "output_type": "display_data",
          "data": {
            "text/plain": [
              "\u001b[2;36m[14:04:39]\u001b[0m\u001b[2;36m \u001b[0mLoad motion_extractor from                                                   \u001b]8;id=529211;file:///content/LivePortrait/src/live_portrait_wrapper.py\u001b\\\u001b[2mlive_portrait_wrapper.py\u001b[0m\u001b]8;;\u001b\\\u001b[2m:\u001b[0m\u001b]8;id=121046;file:///content/LivePortrait/src/live_portrait_wrapper.py#49\u001b\\\u001b[2m49\u001b[0m\u001b]8;;\u001b\\\n",
              "\u001b[2;36m           \u001b[0m\u001b[35m/content/LivePortrait/pretrained_weights/liveportrait/base_models/\u001b[0m\u001b[95mmotion_ext\u001b[0m \u001b[2m                           \u001b[0m\n",
              "\u001b[2;36m           \u001b[0m\u001b[95mractor.pth\u001b[0m done.                                                             \u001b[2m                           \u001b[0m\n"
            ],
            "text/html": [
              "<pre style=\"white-space:pre;overflow-x:auto;line-height:normal;font-family:Menlo,'DejaVu Sans Mono',consolas,'Courier New',monospace\"><span style=\"color: #7fbfbf; text-decoration-color: #7fbfbf\">[14:04:39] </span>Load motion_extractor from                                                   <a href=\"file:///content/LivePortrait/src/live_portrait_wrapper.py\" target=\"_blank\"><span style=\"color: #7f7f7f; text-decoration-color: #7f7f7f\">live_portrait_wrapper.py</span></a><span style=\"color: #7f7f7f; text-decoration-color: #7f7f7f\">:</span><a href=\"file:///content/LivePortrait/src/live_portrait_wrapper.py#49\" target=\"_blank\"><span style=\"color: #7f7f7f; text-decoration-color: #7f7f7f\">49</span></a>\n",
              "<span style=\"color: #7fbfbf; text-decoration-color: #7fbfbf\">           </span><span style=\"color: #800080; text-decoration-color: #800080\">/content/LivePortrait/pretrained_weights/liveportrait/base_models/</span><span style=\"color: #ff00ff; text-decoration-color: #ff00ff\">motion_ext</span> <span style=\"color: #7f7f7f; text-decoration-color: #7f7f7f\">                           </span>\n",
              "<span style=\"color: #7fbfbf; text-decoration-color: #7fbfbf\">           </span><span style=\"color: #ff00ff; text-decoration-color: #ff00ff\">ractor.pth</span> done.                                                             <span style=\"color: #7f7f7f; text-decoration-color: #7f7f7f\">                           </span>\n",
              "</pre>\n"
            ]
          },
          "metadata": {}
        },
        {
          "output_type": "display_data",
          "data": {
            "text/plain": [
              "\u001b[2;36m[14:04:40]\u001b[0m\u001b[2;36m \u001b[0mLoad warping_module from                                                     \u001b]8;id=412884;file:///content/LivePortrait/src/live_portrait_wrapper.py\u001b\\\u001b[2mlive_portrait_wrapper.py\u001b[0m\u001b]8;;\u001b\\\u001b[2m:\u001b[0m\u001b]8;id=333518;file:///content/LivePortrait/src/live_portrait_wrapper.py#52\u001b\\\u001b[2m52\u001b[0m\u001b]8;;\u001b\\\n",
              "\u001b[2;36m           \u001b[0m\u001b[35m/content/LivePortrait/pretrained_weights/liveportrait/base_models/\u001b[0m\u001b[95mwarping_mo\u001b[0m \u001b[2m                           \u001b[0m\n",
              "\u001b[2;36m           \u001b[0m\u001b[95mdule.pth\u001b[0m done.                                                               \u001b[2m                           \u001b[0m\n"
            ],
            "text/html": [
              "<pre style=\"white-space:pre;overflow-x:auto;line-height:normal;font-family:Menlo,'DejaVu Sans Mono',consolas,'Courier New',monospace\"><span style=\"color: #7fbfbf; text-decoration-color: #7fbfbf\">[14:04:40] </span>Load warping_module from                                                     <a href=\"file:///content/LivePortrait/src/live_portrait_wrapper.py\" target=\"_blank\"><span style=\"color: #7f7f7f; text-decoration-color: #7f7f7f\">live_portrait_wrapper.py</span></a><span style=\"color: #7f7f7f; text-decoration-color: #7f7f7f\">:</span><a href=\"file:///content/LivePortrait/src/live_portrait_wrapper.py#52\" target=\"_blank\"><span style=\"color: #7f7f7f; text-decoration-color: #7f7f7f\">52</span></a>\n",
              "<span style=\"color: #7fbfbf; text-decoration-color: #7fbfbf\">           </span><span style=\"color: #800080; text-decoration-color: #800080\">/content/LivePortrait/pretrained_weights/liveportrait/base_models/</span><span style=\"color: #ff00ff; text-decoration-color: #ff00ff\">warping_mo</span> <span style=\"color: #7f7f7f; text-decoration-color: #7f7f7f\">                           </span>\n",
              "<span style=\"color: #7fbfbf; text-decoration-color: #7fbfbf\">           </span><span style=\"color: #ff00ff; text-decoration-color: #ff00ff\">dule.pth</span> done.                                                               <span style=\"color: #7f7f7f; text-decoration-color: #7f7f7f\">                           </span>\n",
              "</pre>\n"
            ]
          },
          "metadata": {}
        },
        {
          "output_type": "display_data",
          "data": {
            "text/plain": [
              "\u001b[2;36m[14:04:41]\u001b[0m\u001b[2;36m \u001b[0mLoad spade_generator from                                                    \u001b]8;id=693639;file:///content/LivePortrait/src/live_portrait_wrapper.py\u001b\\\u001b[2mlive_portrait_wrapper.py\u001b[0m\u001b]8;;\u001b\\\u001b[2m:\u001b[0m\u001b]8;id=135776;file:///content/LivePortrait/src/live_portrait_wrapper.py#55\u001b\\\u001b[2m55\u001b[0m\u001b]8;;\u001b\\\n",
              "\u001b[2;36m           \u001b[0m\u001b[35m/content/LivePortrait/pretrained_weights/liveportrait/base_models/\u001b[0m\u001b[95mspade_gene\u001b[0m \u001b[2m                           \u001b[0m\n",
              "\u001b[2;36m           \u001b[0m\u001b[95mrator.pth\u001b[0m done.                                                              \u001b[2m                           \u001b[0m\n"
            ],
            "text/html": [
              "<pre style=\"white-space:pre;overflow-x:auto;line-height:normal;font-family:Menlo,'DejaVu Sans Mono',consolas,'Courier New',monospace\"><span style=\"color: #7fbfbf; text-decoration-color: #7fbfbf\">[14:04:41] </span>Load spade_generator from                                                    <a href=\"file:///content/LivePortrait/src/live_portrait_wrapper.py\" target=\"_blank\"><span style=\"color: #7f7f7f; text-decoration-color: #7f7f7f\">live_portrait_wrapper.py</span></a><span style=\"color: #7f7f7f; text-decoration-color: #7f7f7f\">:</span><a href=\"file:///content/LivePortrait/src/live_portrait_wrapper.py#55\" target=\"_blank\"><span style=\"color: #7f7f7f; text-decoration-color: #7f7f7f\">55</span></a>\n",
              "<span style=\"color: #7fbfbf; text-decoration-color: #7fbfbf\">           </span><span style=\"color: #800080; text-decoration-color: #800080\">/content/LivePortrait/pretrained_weights/liveportrait/base_models/</span><span style=\"color: #ff00ff; text-decoration-color: #ff00ff\">spade_gene</span> <span style=\"color: #7f7f7f; text-decoration-color: #7f7f7f\">                           </span>\n",
              "<span style=\"color: #7fbfbf; text-decoration-color: #7fbfbf\">           </span><span style=\"color: #ff00ff; text-decoration-color: #ff00ff\">rator.pth</span> done.                                                              <span style=\"color: #7f7f7f; text-decoration-color: #7f7f7f\">                           </span>\n",
              "</pre>\n"
            ]
          },
          "metadata": {}
        },
        {
          "output_type": "stream",
          "name": "stderr",
          "text": [
            "/content/LivePortrait/src/utils/helper.py:145: FutureWarning: You are using `torch.load` with `weights_only=False` (the current default value), which uses the default pickle module implicitly. It is possible to construct malicious pickle data which will execute arbitrary code during unpickling (See https://github.com/pytorch/pytorch/blob/main/SECURITY.md#untrusted-models for more details). In a future release, the default value for `weights_only` will be flipped to `True`. This limits the functions that could be executed during unpickling. Arbitrary objects will no longer be allowed to be loaded via this mode unless they are explicitly allowlisted by the user via `torch.serialization.add_safe_globals`. We recommend you start setting `weights_only=True` for any use case where you don't have full control of the loaded file. Please open an issue on GitHub for any issues related to this experimental feature.\n",
            "  checkpoint = torch.load(ckpt_path, map_location=lambda storage, loc: storage)\n"
          ]
        },
        {
          "output_type": "display_data",
          "data": {
            "text/plain": [
              "\u001b[2;36m          \u001b[0m\u001b[2;36m \u001b[0mLoad stitching_retargeting_module from                                       \u001b]8;id=708475;file:///content/LivePortrait/src/live_portrait_wrapper.py\u001b\\\u001b[2mlive_portrait_wrapper.py\u001b[0m\u001b]8;;\u001b\\\u001b[2m:\u001b[0m\u001b]8;id=468691;file:///content/LivePortrait/src/live_portrait_wrapper.py#59\u001b\\\u001b[2m59\u001b[0m\u001b]8;;\u001b\\\n",
              "\u001b[2;36m           \u001b[0m\u001b[35m/content/LivePortrait/pretrained_weights/liveportrait/retargeting_models/\u001b[0m\u001b[95msti\u001b[0m \u001b[2m                           \u001b[0m\n",
              "\u001b[2;36m           \u001b[0m\u001b[95mtching_retargeting_module.pth\u001b[0m done.                                          \u001b[2m                           \u001b[0m\n"
            ],
            "text/html": [
              "<pre style=\"white-space:pre;overflow-x:auto;line-height:normal;font-family:Menlo,'DejaVu Sans Mono',consolas,'Courier New',monospace\"><span style=\"color: #7fbfbf; text-decoration-color: #7fbfbf\">           </span>Load stitching_retargeting_module from                                       <a href=\"file:///content/LivePortrait/src/live_portrait_wrapper.py\" target=\"_blank\"><span style=\"color: #7f7f7f; text-decoration-color: #7f7f7f\">live_portrait_wrapper.py</span></a><span style=\"color: #7f7f7f; text-decoration-color: #7f7f7f\">:</span><a href=\"file:///content/LivePortrait/src/live_portrait_wrapper.py#59\" target=\"_blank\"><span style=\"color: #7f7f7f; text-decoration-color: #7f7f7f\">59</span></a>\n",
              "<span style=\"color: #7fbfbf; text-decoration-color: #7fbfbf\">           </span><span style=\"color: #800080; text-decoration-color: #800080\">/content/LivePortrait/pretrained_weights/liveportrait/retargeting_models/</span><span style=\"color: #ff00ff; text-decoration-color: #ff00ff\">sti</span> <span style=\"color: #7f7f7f; text-decoration-color: #7f7f7f\">                           </span>\n",
              "<span style=\"color: #7fbfbf; text-decoration-color: #7fbfbf\">           </span><span style=\"color: #ff00ff; text-decoration-color: #ff00ff\">tching_retargeting_module.pth</span> done.                                          <span style=\"color: #7f7f7f; text-decoration-color: #7f7f7f\">                           </span>\n",
              "</pre>\n"
            ]
          },
          "metadata": {}
        },
        {
          "output_type": "display_data",
          "data": {
            "text/plain": [
              "\u001b[2;36m[14:04:42]\u001b[0m\u001b[2;36m \u001b[0mFaceAnalysisDIY warmup time: \u001b[1;36m0.\u001b[0m243s                                              \u001b]8;id=176076;file:///content/LivePortrait/src/utils/face_analysis_diy.py\u001b\\\u001b[2mface_analysis_diy.py\u001b[0m\u001b]8;;\u001b\\\u001b[2m:\u001b[0m\u001b]8;id=30444;file:///content/LivePortrait/src/utils/face_analysis_diy.py#79\u001b\\\u001b[2m79\u001b[0m\u001b]8;;\u001b\\\n"
            ],
            "text/html": [
              "<pre style=\"white-space:pre;overflow-x:auto;line-height:normal;font-family:Menlo,'DejaVu Sans Mono',consolas,'Courier New',monospace\"><span style=\"color: #7fbfbf; text-decoration-color: #7fbfbf\">[14:04:42] </span>FaceAnalysisDIY warmup time: <span style=\"color: #008080; text-decoration-color: #008080; font-weight: bold\">0.</span>243s                                              <a href=\"file:///content/LivePortrait/src/utils/face_analysis_diy.py\" target=\"_blank\"><span style=\"color: #7f7f7f; text-decoration-color: #7f7f7f\">face_analysis_diy.py</span></a><span style=\"color: #7f7f7f; text-decoration-color: #7f7f7f\">:</span><a href=\"file:///content/LivePortrait/src/utils/face_analysis_diy.py#79\" target=\"_blank\"><span style=\"color: #7f7f7f; text-decoration-color: #7f7f7f\">79</span></a>\n",
              "</pre>\n"
            ]
          },
          "metadata": {}
        },
        {
          "output_type": "display_data",
          "data": {
            "text/plain": [
              "\u001b[2;36m          \u001b[0m\u001b[2;36m \u001b[0mLandmarkRunner warmup time: \u001b[1;36m0.\u001b[0m148s                                           \u001b]8;id=215236;file:///content/LivePortrait/src/utils/human_landmark_runner.py\u001b\\\u001b[2mhuman_landmark_runner.py\u001b[0m\u001b]8;;\u001b\\\u001b[2m:\u001b[0m\u001b]8;id=896263;file:///content/LivePortrait/src/utils/human_landmark_runner.py#95\u001b\\\u001b[2m95\u001b[0m\u001b]8;;\u001b\\\n"
            ],
            "text/html": [
              "<pre style=\"white-space:pre;overflow-x:auto;line-height:normal;font-family:Menlo,'DejaVu Sans Mono',consolas,'Courier New',monospace\"><span style=\"color: #7fbfbf; text-decoration-color: #7fbfbf\">           </span>LandmarkRunner warmup time: <span style=\"color: #008080; text-decoration-color: #008080; font-weight: bold\">0.</span>148s                                           <a href=\"file:///content/LivePortrait/src/utils/human_landmark_runner.py\" target=\"_blank\"><span style=\"color: #7f7f7f; text-decoration-color: #7f7f7f\">human_landmark_runner.py</span></a><span style=\"color: #7f7f7f; text-decoration-color: #7f7f7f\">:</span><a href=\"file:///content/LivePortrait/src/utils/human_landmark_runner.py#95\" target=\"_blank\"><span style=\"color: #7f7f7f; text-decoration-color: #7f7f7f\">95</span></a>\n",
              "</pre>\n"
            ]
          },
          "metadata": {}
        },
        {
          "output_type": "stream",
          "name": "stdout",
          "text": [
            "Colab notebook detected. This cell will run indefinitely so that you can see errors and logs. To turn off, set debug=False in launch().\n",
            "* Running on public URL: https://e4c4c5e8cd18916b09.gradio.live\n",
            "\n",
            "This share link expires in 72 hours. For free permanent hosting and GPU upgrades, run `gradio deploy` from the terminal in the working directory to deploy to Hugging Face Spaces (https://huggingface.co/spaces)\n"
          ]
        },
        {
          "output_type": "display_data",
          "data": {
            "text/plain": [
              "<IPython.core.display.HTML object>"
            ],
            "text/html": [
              "<div><iframe src=\"https://e4c4c5e8cd18916b09.gradio.live\" width=\"100%\" height=\"500\" allow=\"autoplay; camera; microphone; clipboard-read; clipboard-write;\" frameborder=\"0\" allowfullscreen></iframe></div>"
            ]
          },
          "metadata": {}
        },
        {
          "output_type": "display_data",
          "data": {
            "text/plain": [
              "\u001b[2;36m[14:06:49]\u001b[0m\u001b[2;36m \u001b[0mLoad source image from                                                      \u001b]8;id=561775;file:///content/LivePortrait/src/live_portrait_pipeline.py\u001b\\\u001b[2mlive_portrait_pipeline.py\u001b[0m\u001b]8;;\u001b\\\u001b[2m:\u001b[0m\u001b]8;id=631122;file:///content/LivePortrait/src/live_portrait_pipeline.py#90\u001b\\\u001b[2m90\u001b[0m\u001b]8;;\u001b\\\n",
              "\u001b[2;36m           \u001b[0m\u001b[35m/tmp/gradio/72b490bf4ece98c5f19bbbe7c4173b6d9713bba0cb27f1bdd40643697e89c65\u001b[0m \u001b[2m                            \u001b[0m\n",
              "\u001b[2;36m           \u001b[0m\u001b[35m8/\u001b[0m\u001b[95mandroid-chrome-512x512.png\u001b[0m                                                \u001b[2m                            \u001b[0m\n"
            ],
            "text/html": [
              "<pre style=\"white-space:pre;overflow-x:auto;line-height:normal;font-family:Menlo,'DejaVu Sans Mono',consolas,'Courier New',monospace\"><span style=\"color: #7fbfbf; text-decoration-color: #7fbfbf\">[14:06:49] </span>Load source image from                                                      <a href=\"file:///content/LivePortrait/src/live_portrait_pipeline.py\" target=\"_blank\"><span style=\"color: #7f7f7f; text-decoration-color: #7f7f7f\">live_portrait_pipeline.py</span></a><span style=\"color: #7f7f7f; text-decoration-color: #7f7f7f\">:</span><a href=\"file:///content/LivePortrait/src/live_portrait_pipeline.py#90\" target=\"_blank\"><span style=\"color: #7f7f7f; text-decoration-color: #7f7f7f\">90</span></a>\n",
              "<span style=\"color: #7fbfbf; text-decoration-color: #7fbfbf\">           </span><span style=\"color: #800080; text-decoration-color: #800080\">/tmp/gradio/72b490bf4ece98c5f19bbbe7c4173b6d9713bba0cb27f1bdd40643697e89c65</span> <span style=\"color: #7f7f7f; text-decoration-color: #7f7f7f\">                            </span>\n",
              "<span style=\"color: #7fbfbf; text-decoration-color: #7fbfbf\">           </span><span style=\"color: #800080; text-decoration-color: #800080\">8/</span><span style=\"color: #ff00ff; text-decoration-color: #ff00ff\">android-chrome-512x512.png</span>                                                <span style=\"color: #7f7f7f; text-decoration-color: #7f7f7f\">                            </span>\n",
              "</pre>\n"
            ]
          },
          "metadata": {}
        },
        {
          "output_type": "display_data",
          "data": {
            "text/plain": [
              "\u001b[2;36m          \u001b[0m\u001b[2;36m \u001b[0mLoad driving video from:                                                   \u001b]8;id=96436;file:///content/LivePortrait/src/live_portrait_pipeline.py\u001b\\\u001b[2mlive_portrait_pipeline.py\u001b[0m\u001b]8;;\u001b\\\u001b[2m:\u001b[0m\u001b]8;id=506616;file:///content/LivePortrait/src/live_portrait_pipeline.py#133\u001b\\\u001b[2m133\u001b[0m\u001b]8;;\u001b\\\n",
              "\u001b[2;36m           \u001b[0m\u001b[35m/tmp/gradio/ef14b1e1c94a961e793a18b67d6ceeea6d10a70678404cc344651918b87595\u001b[0m \u001b[2m                             \u001b[0m\n",
              "\u001b[2;36m           \u001b[0m\u001b[35mc5/\u001b[0m\u001b[95md14.mp4\u001b[0m, FPS is \u001b[1;36m30\u001b[0m                                                      \u001b[2m                             \u001b[0m\n"
            ],
            "text/html": [
              "<pre style=\"white-space:pre;overflow-x:auto;line-height:normal;font-family:Menlo,'DejaVu Sans Mono',consolas,'Courier New',monospace\"><span style=\"color: #7fbfbf; text-decoration-color: #7fbfbf\">           </span>Load driving video from:                                                   <a href=\"file:///content/LivePortrait/src/live_portrait_pipeline.py\" target=\"_blank\"><span style=\"color: #7f7f7f; text-decoration-color: #7f7f7f\">live_portrait_pipeline.py</span></a><span style=\"color: #7f7f7f; text-decoration-color: #7f7f7f\">:</span><a href=\"file:///content/LivePortrait/src/live_portrait_pipeline.py#133\" target=\"_blank\"><span style=\"color: #7f7f7f; text-decoration-color: #7f7f7f\">133</span></a>\n",
              "<span style=\"color: #7fbfbf; text-decoration-color: #7fbfbf\">           </span><span style=\"color: #800080; text-decoration-color: #800080\">/tmp/gradio/ef14b1e1c94a961e793a18b67d6ceeea6d10a70678404cc344651918b87595</span> <span style=\"color: #7f7f7f; text-decoration-color: #7f7f7f\">                             </span>\n",
              "<span style=\"color: #7fbfbf; text-decoration-color: #7fbfbf\">           </span><span style=\"color: #800080; text-decoration-color: #800080\">c5/</span><span style=\"color: #ff00ff; text-decoration-color: #ff00ff\">d14.mp4</span>, FPS is <span style=\"color: #008080; text-decoration-color: #008080; font-weight: bold\">30</span>                                                      <span style=\"color: #7f7f7f; text-decoration-color: #7f7f7f\">                             </span>\n",
              "</pre>\n"
            ]
          },
          "metadata": {}
        },
        {
          "output_type": "display_data",
          "data": {
            "text/plain": [
              "\u001b[2;36m[14:06:50]\u001b[0m\u001b[2;36m \u001b[0mStart making driving motion template\u001b[33m...\u001b[0m                                    \u001b]8;id=210319;file:///content/LivePortrait/src/live_portrait_pipeline.py\u001b\\\u001b[2mlive_portrait_pipeline.py\u001b[0m\u001b]8;;\u001b\\\u001b[2m:\u001b[0m\u001b]8;id=176246;file:///content/LivePortrait/src/live_portrait_pipeline.py#144\u001b\\\u001b[2m144\u001b[0m\u001b]8;;\u001b\\\n"
            ],
            "text/html": [
              "<pre style=\"white-space:pre;overflow-x:auto;line-height:normal;font-family:Menlo,'DejaVu Sans Mono',consolas,'Courier New',monospace\"><span style=\"color: #7fbfbf; text-decoration-color: #7fbfbf\">[14:06:50] </span>Start making driving motion template<span style=\"color: #808000; text-decoration-color: #808000\">...</span>                                    <a href=\"file:///content/LivePortrait/src/live_portrait_pipeline.py\" target=\"_blank\"><span style=\"color: #7f7f7f; text-decoration-color: #7f7f7f\">live_portrait_pipeline.py</span></a><span style=\"color: #7f7f7f; text-decoration-color: #7f7f7f\">:</span><a href=\"file:///content/LivePortrait/src/live_portrait_pipeline.py#144\" target=\"_blank\"><span style=\"color: #7f7f7f; text-decoration-color: #7f7f7f\">144</span></a>\n",
              "</pre>\n"
            ]
          },
          "metadata": {}
        },
        {
          "output_type": "display_data",
          "data": {
            "text/plain": [
              "Output()"
            ],
            "application/vnd.jupyter.widget-view+json": {
              "version_major": 2,
              "version_minor": 0,
              "model_id": "bcf6fb782e854669b99f0f82c7149828"
            }
          },
          "metadata": {}
        },
        {
          "output_type": "display_data",
          "data": {
            "text/plain": [],
            "text/html": [
              "<pre style=\"white-space:pre;overflow-x:auto;line-height:normal;font-family:Menlo,'DejaVu Sans Mono',consolas,'Courier New',monospace\"></pre>\n"
            ]
          },
          "metadata": {}
        },
        {
          "output_type": "display_data",
          "data": {
            "text/plain": [
              "\n"
            ],
            "text/html": [
              "<pre style=\"white-space:pre;overflow-x:auto;line-height:normal;font-family:Menlo,'DejaVu Sans Mono',consolas,'Courier New',monospace\">\n",
              "</pre>\n"
            ]
          },
          "metadata": {}
        },
        {
          "output_type": "display_data",
          "data": {
            "text/plain": [
              "\u001b[2;36m[14:08:54]\u001b[0m\u001b[2;36m \u001b[0mDump motion template to                                                    \u001b]8;id=482859;file:///content/LivePortrait/src/live_portrait_pipeline.py\u001b\\\u001b[2mlive_portrait_pipeline.py\u001b[0m\u001b]8;;\u001b\\\u001b[2m:\u001b[0m\u001b]8;id=722384;file:///content/LivePortrait/src/live_portrait_pipeline.py#172\u001b\\\u001b[2m172\u001b[0m\u001b]8;;\u001b\\\n",
              "\u001b[2;36m           \u001b[0m\u001b[35m/tmp/gradio/ef14b1e1c94a961e793a18b67d6ceeea6d10a70678404cc344651918b87595\u001b[0m \u001b[2m                             \u001b[0m\n",
              "\u001b[2;36m           \u001b[0m\u001b[35mc5/\u001b[0m\u001b[95md14.pkl\u001b[0m                                                                 \u001b[2m                             \u001b[0m\n"
            ],
            "text/html": [
              "<pre style=\"white-space:pre;overflow-x:auto;line-height:normal;font-family:Menlo,'DejaVu Sans Mono',consolas,'Courier New',monospace\"><span style=\"color: #7fbfbf; text-decoration-color: #7fbfbf\">[14:08:54] </span>Dump motion template to                                                    <a href=\"file:///content/LivePortrait/src/live_portrait_pipeline.py\" target=\"_blank\"><span style=\"color: #7f7f7f; text-decoration-color: #7f7f7f\">live_portrait_pipeline.py</span></a><span style=\"color: #7f7f7f; text-decoration-color: #7f7f7f\">:</span><a href=\"file:///content/LivePortrait/src/live_portrait_pipeline.py#172\" target=\"_blank\"><span style=\"color: #7f7f7f; text-decoration-color: #7f7f7f\">172</span></a>\n",
              "<span style=\"color: #7fbfbf; text-decoration-color: #7fbfbf\">           </span><span style=\"color: #800080; text-decoration-color: #800080\">/tmp/gradio/ef14b1e1c94a961e793a18b67d6ceeea6d10a70678404cc344651918b87595</span> <span style=\"color: #7f7f7f; text-decoration-color: #7f7f7f\">                             </span>\n",
              "<span style=\"color: #7fbfbf; text-decoration-color: #7fbfbf\">           </span><span style=\"color: #800080; text-decoration-color: #800080\">c5/</span><span style=\"color: #ff00ff; text-decoration-color: #ff00ff\">d14.pkl</span>                                                                 <span style=\"color: #7f7f7f; text-decoration-color: #7f7f7f\">                             </span>\n",
              "</pre>\n"
            ]
          },
          "metadata": {}
        },
        {
          "output_type": "display_data",
          "data": {
            "text/plain": [
              "\u001b[2;36m          \u001b[0m\u001b[2;36m \u001b[0mPrepared pasteback mask done.                                              \u001b]8;id=612125;file:///content/LivePortrait/src/live_portrait_pipeline.py\u001b\\\u001b[2mlive_portrait_pipeline.py\u001b[0m\u001b]8;;\u001b\\\u001b[2m:\u001b[0m\u001b]8;id=536452;file:///content/LivePortrait/src/live_portrait_pipeline.py#183\u001b\\\u001b[2m183\u001b[0m\u001b]8;;\u001b\\\n"
            ],
            "text/html": [
              "<pre style=\"white-space:pre;overflow-x:auto;line-height:normal;font-family:Menlo,'DejaVu Sans Mono',consolas,'Courier New',monospace\"><span style=\"color: #7fbfbf; text-decoration-color: #7fbfbf\">           </span>Prepared pasteback mask done.                                              <a href=\"file:///content/LivePortrait/src/live_portrait_pipeline.py\" target=\"_blank\"><span style=\"color: #7f7f7f; text-decoration-color: #7f7f7f\">live_portrait_pipeline.py</span></a><span style=\"color: #7f7f7f; text-decoration-color: #7f7f7f\">:</span><a href=\"file:///content/LivePortrait/src/live_portrait_pipeline.py#183\" target=\"_blank\"><span style=\"color: #7f7f7f; text-decoration-color: #7f7f7f\">183</span></a>\n",
              "</pre>\n"
            ]
          },
          "metadata": {}
        },
        {
          "output_type": "display_data",
          "data": {
            "text/plain": [
              "\u001b[2;36m[14:08:55]\u001b[0m\u001b[2;36m \u001b[0mThe animated video consists of \u001b[1;36m536\u001b[0m frames.                                 \u001b]8;id=260319;file:///content/LivePortrait/src/live_portrait_pipeline.py\u001b\\\u001b[2mlive_portrait_pipeline.py\u001b[0m\u001b]8;;\u001b\\\u001b[2m:\u001b[0m\u001b]8;id=536404;file:///content/LivePortrait/src/live_portrait_pipeline.py#270\u001b\\\u001b[2m270\u001b[0m\u001b]8;;\u001b\\\n"
            ],
            "text/html": [
              "<pre style=\"white-space:pre;overflow-x:auto;line-height:normal;font-family:Menlo,'DejaVu Sans Mono',consolas,'Courier New',monospace\"><span style=\"color: #7fbfbf; text-decoration-color: #7fbfbf\">[14:08:55] </span>The animated video consists of <span style=\"color: #008080; text-decoration-color: #008080; font-weight: bold\">536</span> frames.                                 <a href=\"file:///content/LivePortrait/src/live_portrait_pipeline.py\" target=\"_blank\"><span style=\"color: #7f7f7f; text-decoration-color: #7f7f7f\">live_portrait_pipeline.py</span></a><span style=\"color: #7f7f7f; text-decoration-color: #7f7f7f\">:</span><a href=\"file:///content/LivePortrait/src/live_portrait_pipeline.py#270\" target=\"_blank\"><span style=\"color: #7f7f7f; text-decoration-color: #7f7f7f\">270</span></a>\n",
              "</pre>\n"
            ]
          },
          "metadata": {}
        },
        {
          "output_type": "display_data",
          "data": {
            "text/plain": [
              "Output()"
            ],
            "application/vnd.jupyter.widget-view+json": {
              "version_major": 2,
              "version_minor": 0,
              "model_id": "b4cea99797c34fabb158fbc715348b87"
            }
          },
          "metadata": {}
        },
        {
          "output_type": "display_data",
          "data": {
            "text/plain": [],
            "text/html": [
              "<pre style=\"white-space:pre;overflow-x:auto;line-height:normal;font-family:Menlo,'DejaVu Sans Mono',consolas,'Courier New',monospace\"></pre>\n"
            ]
          },
          "metadata": {}
        },
        {
          "output_type": "display_data",
          "data": {
            "text/plain": [
              "\n"
            ],
            "text/html": [
              "<pre style=\"white-space:pre;overflow-x:auto;line-height:normal;font-family:Menlo,'DejaVu Sans Mono',consolas,'Courier New',monospace\">\n",
              "</pre>\n"
            ]
          },
          "metadata": {}
        },
        {
          "output_type": "display_data",
          "data": {
            "text/plain": [
              "Output()"
            ],
            "application/vnd.jupyter.widget-view+json": {
              "version_major": 2,
              "version_minor": 0,
              "model_id": "91022db532ae453d84d24ac1976e550e"
            }
          },
          "metadata": {}
        },
        {
          "output_type": "display_data",
          "data": {
            "text/plain": [],
            "text/html": [
              "<pre style=\"white-space:pre;overflow-x:auto;line-height:normal;font-family:Menlo,'DejaVu Sans Mono',consolas,'Courier New',monospace\"></pre>\n"
            ]
          },
          "metadata": {}
        },
        {
          "output_type": "display_data",
          "data": {
            "text/plain": [
              "\n"
            ],
            "text/html": [
              "<pre style=\"white-space:pre;overflow-x:auto;line-height:normal;font-family:Menlo,'DejaVu Sans Mono',consolas,'Courier New',monospace\">\n",
              "</pre>\n"
            ]
          },
          "metadata": {}
        },
        {
          "output_type": "display_data",
          "data": {
            "text/plain": [
              "Output()"
            ],
            "application/vnd.jupyter.widget-view+json": {
              "version_major": 2,
              "version_minor": 0,
              "model_id": "fa60fe2c8993498faa0efe201750cd4c"
            }
          },
          "metadata": {}
        },
        {
          "output_type": "display_data",
          "data": {
            "text/plain": [],
            "text/html": [
              "<pre style=\"white-space:pre;overflow-x:auto;line-height:normal;font-family:Menlo,'DejaVu Sans Mono',consolas,'Courier New',monospace\"></pre>\n"
            ]
          },
          "metadata": {}
        },
        {
          "output_type": "display_data",
          "data": {
            "text/plain": [
              "\n"
            ],
            "text/html": [
              "<pre style=\"white-space:pre;overflow-x:auto;line-height:normal;font-family:Menlo,'DejaVu Sans Mono',consolas,'Courier New',monospace\">\n",
              "</pre>\n"
            ]
          },
          "metadata": {}
        },
        {
          "output_type": "display_data",
          "data": {
            "text/plain": [
              "\u001b[2;36m[14:10:28]\u001b[0m\u001b[2;36m \u001b[0mAudio is selected from                                                     \u001b]8;id=291571;file:///content/LivePortrait/src/live_portrait_pipeline.py\u001b\\\u001b[2mlive_portrait_pipeline.py\u001b[0m\u001b]8;;\u001b\\\u001b[2m:\u001b[0m\u001b]8;id=44449;file:///content/LivePortrait/src/live_portrait_pipeline.py#480\u001b\\\u001b[2m480\u001b[0m\u001b]8;;\u001b\\\n",
              "\u001b[2;36m           \u001b[0m\u001b[35m/tmp/gradio/ef14b1e1c94a961e793a18b67d6ceeea6d10a70678404cc344651918b87595\u001b[0m \u001b[2m                             \u001b[0m\n",
              "\u001b[2;36m           \u001b[0m\u001b[35mc5/\u001b[0m\u001b[95md14.mp4\u001b[0m, concat mode                                                    \u001b[2m                             \u001b[0m\n"
            ],
            "text/html": [
              "<pre style=\"white-space:pre;overflow-x:auto;line-height:normal;font-family:Menlo,'DejaVu Sans Mono',consolas,'Courier New',monospace\"><span style=\"color: #7fbfbf; text-decoration-color: #7fbfbf\">[14:10:28] </span>Audio is selected from                                                     <a href=\"file:///content/LivePortrait/src/live_portrait_pipeline.py\" target=\"_blank\"><span style=\"color: #7f7f7f; text-decoration-color: #7f7f7f\">live_portrait_pipeline.py</span></a><span style=\"color: #7f7f7f; text-decoration-color: #7f7f7f\">:</span><a href=\"file:///content/LivePortrait/src/live_portrait_pipeline.py#480\" target=\"_blank\"><span style=\"color: #7f7f7f; text-decoration-color: #7f7f7f\">480</span></a>\n",
              "<span style=\"color: #7fbfbf; text-decoration-color: #7fbfbf\">           </span><span style=\"color: #800080; text-decoration-color: #800080\">/tmp/gradio/ef14b1e1c94a961e793a18b67d6ceeea6d10a70678404cc344651918b87595</span> <span style=\"color: #7f7f7f; text-decoration-color: #7f7f7f\">                             </span>\n",
              "<span style=\"color: #7fbfbf; text-decoration-color: #7fbfbf\">           </span><span style=\"color: #800080; text-decoration-color: #800080\">c5/</span><span style=\"color: #ff00ff; text-decoration-color: #ff00ff\">d14.mp4</span>, concat mode                                                    <span style=\"color: #7f7f7f; text-decoration-color: #7f7f7f\">                             </span>\n",
              "</pre>\n"
            ]
          },
          "metadata": {}
        },
        {
          "output_type": "display_data",
          "data": {
            "text/plain": [
              "\u001b[2;36m[14:10:29]\u001b[0m\u001b[2;36m \u001b[0mVideo with audio generated successfully:                                                    \u001b]8;id=612873;file:///content/LivePortrait/src/utils/video.py\u001b\\\u001b[2mvideo.py\u001b[0m\u001b]8;;\u001b\\\u001b[2m:\u001b[0m\u001b]8;id=646512;file:///content/LivePortrait/src/utils/video.py#204\u001b\\\u001b[2m204\u001b[0m\u001b]8;;\u001b\\\n",
              "\u001b[2;36m           \u001b[0manimations/android-chrome-512x512--d14_concat_with_audio.mp4                                \u001b[2m            \u001b[0m\n"
            ],
            "text/html": [
              "<pre style=\"white-space:pre;overflow-x:auto;line-height:normal;font-family:Menlo,'DejaVu Sans Mono',consolas,'Courier New',monospace\"><span style=\"color: #7fbfbf; text-decoration-color: #7fbfbf\">[14:10:29] </span>Video with audio generated successfully:                                                    <a href=\"file:///content/LivePortrait/src/utils/video.py\" target=\"_blank\"><span style=\"color: #7f7f7f; text-decoration-color: #7f7f7f\">video.py</span></a><span style=\"color: #7f7f7f; text-decoration-color: #7f7f7f\">:</span><a href=\"file:///content/LivePortrait/src/utils/video.py#204\" target=\"_blank\"><span style=\"color: #7f7f7f; text-decoration-color: #7f7f7f\">204</span></a>\n",
              "<span style=\"color: #7fbfbf; text-decoration-color: #7fbfbf\">           </span>animations/android-chrome-512x512--d14_concat_with_audio.mp4                                <span style=\"color: #7f7f7f; text-decoration-color: #7f7f7f\">            </span>\n",
              "</pre>\n"
            ]
          },
          "metadata": {}
        },
        {
          "output_type": "display_data",
          "data": {
            "text/plain": [
              "\u001b[2;36m          \u001b[0m\u001b[2;36m \u001b[0mReplace animations/android-chrome-512x512--d14_concat_with_audio.mp4 with  \u001b]8;id=872154;file:///content/LivePortrait/src/live_portrait_pipeline.py\u001b\\\u001b[2mlive_portrait_pipeline.py\u001b[0m\u001b]8;;\u001b\\\u001b[2m:\u001b[0m\u001b]8;id=754647;file:///content/LivePortrait/src/live_portrait_pipeline.py#483\u001b\\\u001b[2m483\u001b[0m\u001b]8;;\u001b\\\n",
              "\u001b[2;36m           \u001b[0manimations/android-chrome-512x512--d14_concat.mp4                          \u001b[2m                             \u001b[0m\n"
            ],
            "text/html": [
              "<pre style=\"white-space:pre;overflow-x:auto;line-height:normal;font-family:Menlo,'DejaVu Sans Mono',consolas,'Courier New',monospace\"><span style=\"color: #7fbfbf; text-decoration-color: #7fbfbf\">           </span>Replace animations/android-chrome-512x512--d14_concat_with_audio.mp4 with  <a href=\"file:///content/LivePortrait/src/live_portrait_pipeline.py\" target=\"_blank\"><span style=\"color: #7f7f7f; text-decoration-color: #7f7f7f\">live_portrait_pipeline.py</span></a><span style=\"color: #7f7f7f; text-decoration-color: #7f7f7f\">:</span><a href=\"file:///content/LivePortrait/src/live_portrait_pipeline.py#483\" target=\"_blank\"><span style=\"color: #7f7f7f; text-decoration-color: #7f7f7f\">483</span></a>\n",
              "<span style=\"color: #7fbfbf; text-decoration-color: #7fbfbf\">           </span>animations/android-chrome-512x512--d14_concat.mp4                          <span style=\"color: #7f7f7f; text-decoration-color: #7f7f7f\">                             </span>\n",
              "</pre>\n"
            ]
          },
          "metadata": {}
        },
        {
          "output_type": "display_data",
          "data": {
            "text/plain": [
              "Output()"
            ],
            "application/vnd.jupyter.widget-view+json": {
              "version_major": 2,
              "version_minor": 0,
              "model_id": "d5741baccc724666a9ddc6229135ec69"
            }
          },
          "metadata": {}
        },
        {
          "output_type": "display_data",
          "data": {
            "text/plain": [],
            "text/html": [
              "<pre style=\"white-space:pre;overflow-x:auto;line-height:normal;font-family:Menlo,'DejaVu Sans Mono',consolas,'Courier New',monospace\"></pre>\n"
            ]
          },
          "metadata": {}
        },
        {
          "output_type": "display_data",
          "data": {
            "text/plain": [
              "\n"
            ],
            "text/html": [
              "<pre style=\"white-space:pre;overflow-x:auto;line-height:normal;font-family:Menlo,'DejaVu Sans Mono',consolas,'Courier New',monospace\">\n",
              "</pre>\n"
            ]
          },
          "metadata": {}
        },
        {
          "output_type": "display_data",
          "data": {
            "text/plain": [
              "\u001b[2;36m[14:10:36]\u001b[0m\u001b[2;36m \u001b[0mAudio is selected from                                                     \u001b]8;id=549981;file:///content/LivePortrait/src/live_portrait_pipeline.py\u001b\\\u001b[2mlive_portrait_pipeline.py\u001b[0m\u001b]8;;\u001b\\\u001b[2m:\u001b[0m\u001b]8;id=642626;file:///content/LivePortrait/src/live_portrait_pipeline.py#496\u001b\\\u001b[2m496\u001b[0m\u001b]8;;\u001b\\\n",
              "\u001b[2;36m           \u001b[0m\u001b[35m/tmp/gradio/ef14b1e1c94a961e793a18b67d6ceeea6d10a70678404cc344651918b87595\u001b[0m \u001b[2m                             \u001b[0m\n",
              "\u001b[2;36m           \u001b[0m\u001b[35mc5/\u001b[0m\u001b[95md14.mp4\u001b[0m                                                                 \u001b[2m                             \u001b[0m\n"
            ],
            "text/html": [
              "<pre style=\"white-space:pre;overflow-x:auto;line-height:normal;font-family:Menlo,'DejaVu Sans Mono',consolas,'Courier New',monospace\"><span style=\"color: #7fbfbf; text-decoration-color: #7fbfbf\">[14:10:36] </span>Audio is selected from                                                     <a href=\"file:///content/LivePortrait/src/live_portrait_pipeline.py\" target=\"_blank\"><span style=\"color: #7f7f7f; text-decoration-color: #7f7f7f\">live_portrait_pipeline.py</span></a><span style=\"color: #7f7f7f; text-decoration-color: #7f7f7f\">:</span><a href=\"file:///content/LivePortrait/src/live_portrait_pipeline.py#496\" target=\"_blank\"><span style=\"color: #7f7f7f; text-decoration-color: #7f7f7f\">496</span></a>\n",
              "<span style=\"color: #7fbfbf; text-decoration-color: #7fbfbf\">           </span><span style=\"color: #800080; text-decoration-color: #800080\">/tmp/gradio/ef14b1e1c94a961e793a18b67d6ceeea6d10a70678404cc344651918b87595</span> <span style=\"color: #7f7f7f; text-decoration-color: #7f7f7f\">                             </span>\n",
              "<span style=\"color: #7fbfbf; text-decoration-color: #7fbfbf\">           </span><span style=\"color: #800080; text-decoration-color: #800080\">c5/</span><span style=\"color: #ff00ff; text-decoration-color: #ff00ff\">d14.mp4</span>                                                                 <span style=\"color: #7f7f7f; text-decoration-color: #7f7f7f\">                             </span>\n",
              "</pre>\n"
            ]
          },
          "metadata": {}
        },
        {
          "output_type": "display_data",
          "data": {
            "text/plain": [
              "\u001b[2;36m[14:10:37]\u001b[0m\u001b[2;36m \u001b[0mVideo with audio generated successfully:                                                    \u001b]8;id=174200;file:///content/LivePortrait/src/utils/video.py\u001b\\\u001b[2mvideo.py\u001b[0m\u001b]8;;\u001b\\\u001b[2m:\u001b[0m\u001b]8;id=599279;file:///content/LivePortrait/src/utils/video.py#204\u001b\\\u001b[2m204\u001b[0m\u001b]8;;\u001b\\\n",
              "\u001b[2;36m           \u001b[0manimations/android-chrome-512x512--d14_with_audio.mp4                                       \u001b[2m            \u001b[0m\n"
            ],
            "text/html": [
              "<pre style=\"white-space:pre;overflow-x:auto;line-height:normal;font-family:Menlo,'DejaVu Sans Mono',consolas,'Courier New',monospace\"><span style=\"color: #7fbfbf; text-decoration-color: #7fbfbf\">[14:10:37] </span>Video with audio generated successfully:                                                    <a href=\"file:///content/LivePortrait/src/utils/video.py\" target=\"_blank\"><span style=\"color: #7f7f7f; text-decoration-color: #7f7f7f\">video.py</span></a><span style=\"color: #7f7f7f; text-decoration-color: #7f7f7f\">:</span><a href=\"file:///content/LivePortrait/src/utils/video.py#204\" target=\"_blank\"><span style=\"color: #7f7f7f; text-decoration-color: #7f7f7f\">204</span></a>\n",
              "<span style=\"color: #7fbfbf; text-decoration-color: #7fbfbf\">           </span>animations/android-chrome-512x512--d14_with_audio.mp4                                       <span style=\"color: #7f7f7f; text-decoration-color: #7f7f7f\">            </span>\n",
              "</pre>\n"
            ]
          },
          "metadata": {}
        },
        {
          "output_type": "display_data",
          "data": {
            "text/plain": [
              "\u001b[2;36m          \u001b[0m\u001b[2;36m \u001b[0mReplace animations/android-chrome-512x512--d14_with_audio.mp4 with         \u001b]8;id=243744;file:///content/LivePortrait/src/live_portrait_pipeline.py\u001b\\\u001b[2mlive_portrait_pipeline.py\u001b[0m\u001b]8;;\u001b\\\u001b[2m:\u001b[0m\u001b]8;id=587758;file:///content/LivePortrait/src/live_portrait_pipeline.py#499\u001b\\\u001b[2m499\u001b[0m\u001b]8;;\u001b\\\n",
              "\u001b[2;36m           \u001b[0manimations/android-chrome-512x512--d14.mp4                                 \u001b[2m                             \u001b[0m\n"
            ],
            "text/html": [
              "<pre style=\"white-space:pre;overflow-x:auto;line-height:normal;font-family:Menlo,'DejaVu Sans Mono',consolas,'Courier New',monospace\"><span style=\"color: #7fbfbf; text-decoration-color: #7fbfbf\">           </span>Replace animations/android-chrome-512x512--d14_with_audio.mp4 with         <a href=\"file:///content/LivePortrait/src/live_portrait_pipeline.py\" target=\"_blank\"><span style=\"color: #7f7f7f; text-decoration-color: #7f7f7f\">live_portrait_pipeline.py</span></a><span style=\"color: #7f7f7f; text-decoration-color: #7f7f7f\">:</span><a href=\"file:///content/LivePortrait/src/live_portrait_pipeline.py#499\" target=\"_blank\"><span style=\"color: #7f7f7f; text-decoration-color: #7f7f7f\">499</span></a>\n",
              "<span style=\"color: #7fbfbf; text-decoration-color: #7fbfbf\">           </span>animations/android-chrome-512x512--d14.mp4                                 <span style=\"color: #7f7f7f; text-decoration-color: #7f7f7f\">                             </span>\n",
              "</pre>\n"
            ]
          },
          "metadata": {}
        },
        {
          "output_type": "display_data",
          "data": {
            "text/plain": [
              "\u001b[2;36m          \u001b[0m\u001b[2;36m \u001b[0m\u001b[1;32mAnimated template:                                                        \u001b[0m \u001b]8;id=773370;file:///content/LivePortrait/src/live_portrait_pipeline.py\u001b\\\u001b[2mlive_portrait_pipeline.py\u001b[0m\u001b]8;;\u001b\\\u001b[2m:\u001b[0m\u001b]8;id=102903;file:///content/LivePortrait/src/live_portrait_pipeline.py#503\u001b\\\u001b[2m503\u001b[0m\u001b]8;;\u001b\\\n",
              "\u001b[2;36m           \u001b[0m\u001b[1;35m/tmp/gradio/ef14b1e1c94a961e793a18b67d6ceeea6d10a70678404cc344651918b87595\u001b[0m \u001b[2m                             \u001b[0m\n",
              "\u001b[2;36m           \u001b[0m\u001b[1;35mc5/\u001b[0m\u001b[1;95md14.pkl\u001b[0m\u001b[1;32m, you can specify `-d` argument with this template path next    \u001b[0m \u001b[2m                             \u001b[0m\n",
              "\u001b[2;36m           \u001b[0m\u001b[1;32mtime to avoid cropping video, motion making and protecting privacy.       \u001b[0m \u001b[2m                             \u001b[0m\n"
            ],
            "text/html": [
              "<pre style=\"white-space:pre;overflow-x:auto;line-height:normal;font-family:Menlo,'DejaVu Sans Mono',consolas,'Courier New',monospace\"><span style=\"color: #7fbfbf; text-decoration-color: #7fbfbf\">           </span><span style=\"color: #008000; text-decoration-color: #008000; font-weight: bold\">Animated template:                                                        </span> <a href=\"file:///content/LivePortrait/src/live_portrait_pipeline.py\" target=\"_blank\"><span style=\"color: #7f7f7f; text-decoration-color: #7f7f7f\">live_portrait_pipeline.py</span></a><span style=\"color: #7f7f7f; text-decoration-color: #7f7f7f\">:</span><a href=\"file:///content/LivePortrait/src/live_portrait_pipeline.py#503\" target=\"_blank\"><span style=\"color: #7f7f7f; text-decoration-color: #7f7f7f\">503</span></a>\n",
              "<span style=\"color: #7fbfbf; text-decoration-color: #7fbfbf\">           </span><span style=\"color: #800080; text-decoration-color: #800080; font-weight: bold\">/tmp/gradio/ef14b1e1c94a961e793a18b67d6ceeea6d10a70678404cc344651918b87595</span> <span style=\"color: #7f7f7f; text-decoration-color: #7f7f7f\">                             </span>\n",
              "<span style=\"color: #7fbfbf; text-decoration-color: #7fbfbf\">           </span><span style=\"color: #800080; text-decoration-color: #800080; font-weight: bold\">c5/</span><span style=\"color: #ff00ff; text-decoration-color: #ff00ff; font-weight: bold\">d14.pkl</span><span style=\"color: #008000; text-decoration-color: #008000; font-weight: bold\">, you can specify `-d` argument with this template path next    </span> <span style=\"color: #7f7f7f; text-decoration-color: #7f7f7f\">                             </span>\n",
              "<span style=\"color: #7fbfbf; text-decoration-color: #7fbfbf\">           </span><span style=\"color: #008000; text-decoration-color: #008000; font-weight: bold\">time to avoid cropping video, motion making and protecting privacy.       </span> <span style=\"color: #7f7f7f; text-decoration-color: #7f7f7f\">                             </span>\n",
              "</pre>\n"
            ]
          },
          "metadata": {}
        },
        {
          "output_type": "display_data",
          "data": {
            "text/plain": [
              "\u001b[2;36m          \u001b[0m\u001b[2;36m \u001b[0mAnimated video: animations/android-chrome-512x512--d14.mp4                 \u001b]8;id=277087;file:///content/LivePortrait/src/live_portrait_pipeline.py\u001b\\\u001b[2mlive_portrait_pipeline.py\u001b[0m\u001b]8;;\u001b\\\u001b[2m:\u001b[0m\u001b]8;id=874582;file:///content/LivePortrait/src/live_portrait_pipeline.py#504\u001b\\\u001b[2m504\u001b[0m\u001b]8;;\u001b\\\n"
            ],
            "text/html": [
              "<pre style=\"white-space:pre;overflow-x:auto;line-height:normal;font-family:Menlo,'DejaVu Sans Mono',consolas,'Courier New',monospace\"><span style=\"color: #7fbfbf; text-decoration-color: #7fbfbf\">           </span>Animated video: animations/android-chrome-512x512--d14.mp4                 <a href=\"file:///content/LivePortrait/src/live_portrait_pipeline.py\" target=\"_blank\"><span style=\"color: #7f7f7f; text-decoration-color: #7f7f7f\">live_portrait_pipeline.py</span></a><span style=\"color: #7f7f7f; text-decoration-color: #7f7f7f\">:</span><a href=\"file:///content/LivePortrait/src/live_portrait_pipeline.py#504\" target=\"_blank\"><span style=\"color: #7f7f7f; text-decoration-color: #7f7f7f\">504</span></a>\n",
              "</pre>\n"
            ]
          },
          "metadata": {}
        },
        {
          "output_type": "display_data",
          "data": {
            "text/plain": [
              "\u001b[2;36m          \u001b[0m\u001b[2;36m \u001b[0mAnimated video with concat:                                                \u001b]8;id=526150;file:///content/LivePortrait/src/live_portrait_pipeline.py\u001b\\\u001b[2mlive_portrait_pipeline.py\u001b[0m\u001b]8;;\u001b\\\u001b[2m:\u001b[0m\u001b]8;id=22893;file:///content/LivePortrait/src/live_portrait_pipeline.py#505\u001b\\\u001b[2m505\u001b[0m\u001b]8;;\u001b\\\n",
              "\u001b[2;36m           \u001b[0manimations/android-chrome-512x512--d14_concat.mp4                          \u001b[2m                             \u001b[0m\n"
            ],
            "text/html": [
              "<pre style=\"white-space:pre;overflow-x:auto;line-height:normal;font-family:Menlo,'DejaVu Sans Mono',consolas,'Courier New',monospace\"><span style=\"color: #7fbfbf; text-decoration-color: #7fbfbf\">           </span>Animated video with concat:                                                <a href=\"file:///content/LivePortrait/src/live_portrait_pipeline.py\" target=\"_blank\"><span style=\"color: #7f7f7f; text-decoration-color: #7f7f7f\">live_portrait_pipeline.py</span></a><span style=\"color: #7f7f7f; text-decoration-color: #7f7f7f\">:</span><a href=\"file:///content/LivePortrait/src/live_portrait_pipeline.py#505\" target=\"_blank\"><span style=\"color: #7f7f7f; text-decoration-color: #7f7f7f\">505</span></a>\n",
              "<span style=\"color: #7fbfbf; text-decoration-color: #7fbfbf\">           </span>animations/android-chrome-512x512--d14_concat.mp4                          <span style=\"color: #7f7f7f; text-decoration-color: #7f7f7f\">                             </span>\n",
              "</pre>\n"
            ]
          },
          "metadata": {}
        },
        {
          "output_type": "display_data",
          "data": {
            "text/plain": [
              "\u001b[2;36m[14:14:13]\u001b[0m\u001b[2;36m \u001b[0mLoad source image from                                                      \u001b]8;id=620841;file:///content/LivePortrait/src/live_portrait_pipeline.py\u001b\\\u001b[2mlive_portrait_pipeline.py\u001b[0m\u001b]8;;\u001b\\\u001b[2m:\u001b[0m\u001b]8;id=403928;file:///content/LivePortrait/src/live_portrait_pipeline.py#90\u001b\\\u001b[2m90\u001b[0m\u001b]8;;\u001b\\\n",
              "\u001b[2;36m           \u001b[0m\u001b[35m/tmp/gradio/72b490bf4ece98c5f19bbbe7c4173b6d9713bba0cb27f1bdd40643697e89c65\u001b[0m \u001b[2m                            \u001b[0m\n",
              "\u001b[2;36m           \u001b[0m\u001b[35m8/\u001b[0m\u001b[95mandroid-chrome-512x512.png\u001b[0m                                                \u001b[2m                            \u001b[0m\n"
            ],
            "text/html": [
              "<pre style=\"white-space:pre;overflow-x:auto;line-height:normal;font-family:Menlo,'DejaVu Sans Mono',consolas,'Courier New',monospace\"><span style=\"color: #7fbfbf; text-decoration-color: #7fbfbf\">[14:14:13] </span>Load source image from                                                      <a href=\"file:///content/LivePortrait/src/live_portrait_pipeline.py\" target=\"_blank\"><span style=\"color: #7f7f7f; text-decoration-color: #7f7f7f\">live_portrait_pipeline.py</span></a><span style=\"color: #7f7f7f; text-decoration-color: #7f7f7f\">:</span><a href=\"file:///content/LivePortrait/src/live_portrait_pipeline.py#90\" target=\"_blank\"><span style=\"color: #7f7f7f; text-decoration-color: #7f7f7f\">90</span></a>\n",
              "<span style=\"color: #7fbfbf; text-decoration-color: #7fbfbf\">           </span><span style=\"color: #800080; text-decoration-color: #800080\">/tmp/gradio/72b490bf4ece98c5f19bbbe7c4173b6d9713bba0cb27f1bdd40643697e89c65</span> <span style=\"color: #7f7f7f; text-decoration-color: #7f7f7f\">                            </span>\n",
              "<span style=\"color: #7fbfbf; text-decoration-color: #7fbfbf\">           </span><span style=\"color: #800080; text-decoration-color: #800080\">8/</span><span style=\"color: #ff00ff; text-decoration-color: #ff00ff\">android-chrome-512x512.png</span>                                                <span style=\"color: #7f7f7f; text-decoration-color: #7f7f7f\">                            </span>\n",
              "</pre>\n"
            ]
          },
          "metadata": {}
        },
        {
          "output_type": "display_data",
          "data": {
            "text/plain": [
              "\u001b[2;36m          \u001b[0m\u001b[2;36m \u001b[0mLoad driving video from:                                                   \u001b]8;id=543835;file:///content/LivePortrait/src/live_portrait_pipeline.py\u001b\\\u001b[2mlive_portrait_pipeline.py\u001b[0m\u001b]8;;\u001b\\\u001b[2m:\u001b[0m\u001b]8;id=29224;file:///content/LivePortrait/src/live_portrait_pipeline.py#133\u001b\\\u001b[2m133\u001b[0m\u001b]8;;\u001b\\\n",
              "\u001b[2;36m           \u001b[0m\u001b[35m/tmp/gradio/4b2368c0ae506a28e6b5cd3f7259eca1e769409452ce470c17c0c790cac0ed\u001b[0m \u001b[2m                             \u001b[0m\n",
              "\u001b[2;36m           \u001b[0m\u001b[35m8e/\u001b[0m\u001b[95md20.mp4\u001b[0m, FPS is \u001b[1;36m25\u001b[0m                                                      \u001b[2m                             \u001b[0m\n"
            ],
            "text/html": [
              "<pre style=\"white-space:pre;overflow-x:auto;line-height:normal;font-family:Menlo,'DejaVu Sans Mono',consolas,'Courier New',monospace\"><span style=\"color: #7fbfbf; text-decoration-color: #7fbfbf\">           </span>Load driving video from:                                                   <a href=\"file:///content/LivePortrait/src/live_portrait_pipeline.py\" target=\"_blank\"><span style=\"color: #7f7f7f; text-decoration-color: #7f7f7f\">live_portrait_pipeline.py</span></a><span style=\"color: #7f7f7f; text-decoration-color: #7f7f7f\">:</span><a href=\"file:///content/LivePortrait/src/live_portrait_pipeline.py#133\" target=\"_blank\"><span style=\"color: #7f7f7f; text-decoration-color: #7f7f7f\">133</span></a>\n",
              "<span style=\"color: #7fbfbf; text-decoration-color: #7fbfbf\">           </span><span style=\"color: #800080; text-decoration-color: #800080\">/tmp/gradio/4b2368c0ae506a28e6b5cd3f7259eca1e769409452ce470c17c0c790cac0ed</span> <span style=\"color: #7f7f7f; text-decoration-color: #7f7f7f\">                             </span>\n",
              "<span style=\"color: #7fbfbf; text-decoration-color: #7fbfbf\">           </span><span style=\"color: #800080; text-decoration-color: #800080\">8e/</span><span style=\"color: #ff00ff; text-decoration-color: #ff00ff\">d20.mp4</span>, FPS is <span style=\"color: #008080; text-decoration-color: #008080; font-weight: bold\">25</span>                                                      <span style=\"color: #7f7f7f; text-decoration-color: #7f7f7f\">                             </span>\n",
              "</pre>\n"
            ]
          },
          "metadata": {}
        },
        {
          "output_type": "display_data",
          "data": {
            "text/plain": [
              "\u001b[2;36m[14:14:14]\u001b[0m\u001b[2;36m \u001b[0mStart making driving motion template\u001b[33m...\u001b[0m                                    \u001b]8;id=862330;file:///content/LivePortrait/src/live_portrait_pipeline.py\u001b\\\u001b[2mlive_portrait_pipeline.py\u001b[0m\u001b]8;;\u001b\\\u001b[2m:\u001b[0m\u001b]8;id=903975;file:///content/LivePortrait/src/live_portrait_pipeline.py#144\u001b\\\u001b[2m144\u001b[0m\u001b]8;;\u001b\\\n"
            ],
            "text/html": [
              "<pre style=\"white-space:pre;overflow-x:auto;line-height:normal;font-family:Menlo,'DejaVu Sans Mono',consolas,'Courier New',monospace\"><span style=\"color: #7fbfbf; text-decoration-color: #7fbfbf\">[14:14:14] </span>Start making driving motion template<span style=\"color: #808000; text-decoration-color: #808000\">...</span>                                    <a href=\"file:///content/LivePortrait/src/live_portrait_pipeline.py\" target=\"_blank\"><span style=\"color: #7f7f7f; text-decoration-color: #7f7f7f\">live_portrait_pipeline.py</span></a><span style=\"color: #7f7f7f; text-decoration-color: #7f7f7f\">:</span><a href=\"file:///content/LivePortrait/src/live_portrait_pipeline.py#144\" target=\"_blank\"><span style=\"color: #7f7f7f; text-decoration-color: #7f7f7f\">144</span></a>\n",
              "</pre>\n"
            ]
          },
          "metadata": {}
        },
        {
          "output_type": "display_data",
          "data": {
            "text/plain": [
              "\u001b[2;36m[14:14:15]\u001b[0m\u001b[2;36m \u001b[0mMore than one face detected in the driving frame_0, only pick one face by rule            \u001b]8;id=672402;file:///content/LivePortrait/src/utils/cropper.py\u001b\\\u001b[2mcropper.py\u001b[0m\u001b]8;;\u001b\\\u001b[2m:\u001b[0m\u001b]8;id=983128;file:///content/LivePortrait/src/utils/cropper.py#301\u001b\\\u001b[2m301\u001b[0m\u001b]8;;\u001b\\\n",
              "\u001b[2;36m           \u001b[0mlarge-small.                                                                              \u001b[2m              \u001b[0m\n"
            ],
            "text/html": [
              "<pre style=\"white-space:pre;overflow-x:auto;line-height:normal;font-family:Menlo,'DejaVu Sans Mono',consolas,'Courier New',monospace\"><span style=\"color: #7fbfbf; text-decoration-color: #7fbfbf\">[14:14:15] </span>More than one face detected in the driving frame_0, only pick one face by rule            <a href=\"file:///content/LivePortrait/src/utils/cropper.py\" target=\"_blank\"><span style=\"color: #7f7f7f; text-decoration-color: #7f7f7f\">cropper.py</span></a><span style=\"color: #7f7f7f; text-decoration-color: #7f7f7f\">:</span><a href=\"file:///content/LivePortrait/src/utils/cropper.py#301\" target=\"_blank\"><span style=\"color: #7f7f7f; text-decoration-color: #7f7f7f\">301</span></a>\n",
              "<span style=\"color: #7fbfbf; text-decoration-color: #7fbfbf\">           </span>large-small.                                                                              <span style=\"color: #7f7f7f; text-decoration-color: #7f7f7f\">              </span>\n",
              "</pre>\n"
            ]
          },
          "metadata": {}
        },
        {
          "output_type": "display_data",
          "data": {
            "text/plain": [
              "Output()"
            ],
            "application/vnd.jupyter.widget-view+json": {
              "version_major": 2,
              "version_minor": 0,
              "model_id": "3668e9d881ec4f5886d52a3bc5910601"
            }
          },
          "metadata": {}
        },
        {
          "output_type": "display_data",
          "data": {
            "text/plain": [],
            "text/html": [
              "<pre style=\"white-space:pre;overflow-x:auto;line-height:normal;font-family:Menlo,'DejaVu Sans Mono',consolas,'Courier New',monospace\"></pre>\n"
            ]
          },
          "metadata": {}
        },
        {
          "output_type": "display_data",
          "data": {
            "text/plain": [
              "\n"
            ],
            "text/html": [
              "<pre style=\"white-space:pre;overflow-x:auto;line-height:normal;font-family:Menlo,'DejaVu Sans Mono',consolas,'Courier New',monospace\">\n",
              "</pre>\n"
            ]
          },
          "metadata": {}
        },
        {
          "output_type": "display_data",
          "data": {
            "text/plain": [
              "\u001b[2;36m[14:14:54]\u001b[0m\u001b[2;36m \u001b[0mDump motion template to                                                    \u001b]8;id=520744;file:///content/LivePortrait/src/live_portrait_pipeline.py\u001b\\\u001b[2mlive_portrait_pipeline.py\u001b[0m\u001b]8;;\u001b\\\u001b[2m:\u001b[0m\u001b]8;id=688797;file:///content/LivePortrait/src/live_portrait_pipeline.py#172\u001b\\\u001b[2m172\u001b[0m\u001b]8;;\u001b\\\n",
              "\u001b[2;36m           \u001b[0m\u001b[35m/tmp/gradio/4b2368c0ae506a28e6b5cd3f7259eca1e769409452ce470c17c0c790cac0ed\u001b[0m \u001b[2m                             \u001b[0m\n",
              "\u001b[2;36m           \u001b[0m\u001b[35m8e/\u001b[0m\u001b[95md20.pkl\u001b[0m                                                                 \u001b[2m                             \u001b[0m\n"
            ],
            "text/html": [
              "<pre style=\"white-space:pre;overflow-x:auto;line-height:normal;font-family:Menlo,'DejaVu Sans Mono',consolas,'Courier New',monospace\"><span style=\"color: #7fbfbf; text-decoration-color: #7fbfbf\">[14:14:54] </span>Dump motion template to                                                    <a href=\"file:///content/LivePortrait/src/live_portrait_pipeline.py\" target=\"_blank\"><span style=\"color: #7f7f7f; text-decoration-color: #7f7f7f\">live_portrait_pipeline.py</span></a><span style=\"color: #7f7f7f; text-decoration-color: #7f7f7f\">:</span><a href=\"file:///content/LivePortrait/src/live_portrait_pipeline.py#172\" target=\"_blank\"><span style=\"color: #7f7f7f; text-decoration-color: #7f7f7f\">172</span></a>\n",
              "<span style=\"color: #7fbfbf; text-decoration-color: #7fbfbf\">           </span><span style=\"color: #800080; text-decoration-color: #800080\">/tmp/gradio/4b2368c0ae506a28e6b5cd3f7259eca1e769409452ce470c17c0c790cac0ed</span> <span style=\"color: #7f7f7f; text-decoration-color: #7f7f7f\">                             </span>\n",
              "<span style=\"color: #7fbfbf; text-decoration-color: #7fbfbf\">           </span><span style=\"color: #800080; text-decoration-color: #800080\">8e/</span><span style=\"color: #ff00ff; text-decoration-color: #ff00ff\">d20.pkl</span>                                                                 <span style=\"color: #7f7f7f; text-decoration-color: #7f7f7f\">                             </span>\n",
              "</pre>\n"
            ]
          },
          "metadata": {}
        },
        {
          "output_type": "display_data",
          "data": {
            "text/plain": [
              "\u001b[2;36m          \u001b[0m\u001b[2;36m \u001b[0mPrepared pasteback mask done.                                              \u001b]8;id=406483;file:///content/LivePortrait/src/live_portrait_pipeline.py\u001b\\\u001b[2mlive_portrait_pipeline.py\u001b[0m\u001b]8;;\u001b\\\u001b[2m:\u001b[0m\u001b]8;id=940913;file:///content/LivePortrait/src/live_portrait_pipeline.py#183\u001b\\\u001b[2m183\u001b[0m\u001b]8;;\u001b\\\n"
            ],
            "text/html": [
              "<pre style=\"white-space:pre;overflow-x:auto;line-height:normal;font-family:Menlo,'DejaVu Sans Mono',consolas,'Courier New',monospace\"><span style=\"color: #7fbfbf; text-decoration-color: #7fbfbf\">           </span>Prepared pasteback mask done.                                              <a href=\"file:///content/LivePortrait/src/live_portrait_pipeline.py\" target=\"_blank\"><span style=\"color: #7f7f7f; text-decoration-color: #7f7f7f\">live_portrait_pipeline.py</span></a><span style=\"color: #7f7f7f; text-decoration-color: #7f7f7f\">:</span><a href=\"file:///content/LivePortrait/src/live_portrait_pipeline.py#183\" target=\"_blank\"><span style=\"color: #7f7f7f; text-decoration-color: #7f7f7f\">183</span></a>\n",
              "</pre>\n"
            ]
          },
          "metadata": {}
        },
        {
          "output_type": "display_data",
          "data": {
            "text/plain": [
              "\u001b[2;36m[14:14:55]\u001b[0m\u001b[2;36m \u001b[0mThe animated video consists of \u001b[1;36m175\u001b[0m frames.                                 \u001b]8;id=986509;file:///content/LivePortrait/src/live_portrait_pipeline.py\u001b\\\u001b[2mlive_portrait_pipeline.py\u001b[0m\u001b]8;;\u001b\\\u001b[2m:\u001b[0m\u001b]8;id=820040;file:///content/LivePortrait/src/live_portrait_pipeline.py#270\u001b\\\u001b[2m270\u001b[0m\u001b]8;;\u001b\\\n"
            ],
            "text/html": [
              "<pre style=\"white-space:pre;overflow-x:auto;line-height:normal;font-family:Menlo,'DejaVu Sans Mono',consolas,'Courier New',monospace\"><span style=\"color: #7fbfbf; text-decoration-color: #7fbfbf\">[14:14:55] </span>The animated video consists of <span style=\"color: #008080; text-decoration-color: #008080; font-weight: bold\">175</span> frames.                                 <a href=\"file:///content/LivePortrait/src/live_portrait_pipeline.py\" target=\"_blank\"><span style=\"color: #7f7f7f; text-decoration-color: #7f7f7f\">live_portrait_pipeline.py</span></a><span style=\"color: #7f7f7f; text-decoration-color: #7f7f7f\">:</span><a href=\"file:///content/LivePortrait/src/live_portrait_pipeline.py#270\" target=\"_blank\"><span style=\"color: #7f7f7f; text-decoration-color: #7f7f7f\">270</span></a>\n",
              "</pre>\n"
            ]
          },
          "metadata": {}
        },
        {
          "output_type": "display_data",
          "data": {
            "text/plain": [
              "Output()"
            ],
            "application/vnd.jupyter.widget-view+json": {
              "version_major": 2,
              "version_minor": 0,
              "model_id": "3bad1802f67a47c2a2163197c2aed69f"
            }
          },
          "metadata": {}
        },
        {
          "output_type": "display_data",
          "data": {
            "text/plain": [],
            "text/html": [
              "<pre style=\"white-space:pre;overflow-x:auto;line-height:normal;font-family:Menlo,'DejaVu Sans Mono',consolas,'Courier New',monospace\"></pre>\n"
            ]
          },
          "metadata": {}
        },
        {
          "output_type": "display_data",
          "data": {
            "text/plain": [
              "\n"
            ],
            "text/html": [
              "<pre style=\"white-space:pre;overflow-x:auto;line-height:normal;font-family:Menlo,'DejaVu Sans Mono',consolas,'Courier New',monospace\">\n",
              "</pre>\n"
            ]
          },
          "metadata": {}
        },
        {
          "output_type": "display_data",
          "data": {
            "text/plain": [
              "Output()"
            ],
            "application/vnd.jupyter.widget-view+json": {
              "version_major": 2,
              "version_minor": 0,
              "model_id": "672a4acdd1a8436bbf702ecae8d116ab"
            }
          },
          "metadata": {}
        },
        {
          "output_type": "display_data",
          "data": {
            "text/plain": [],
            "text/html": [
              "<pre style=\"white-space:pre;overflow-x:auto;line-height:normal;font-family:Menlo,'DejaVu Sans Mono',consolas,'Courier New',monospace\"></pre>\n"
            ]
          },
          "metadata": {}
        },
        {
          "output_type": "display_data",
          "data": {
            "text/plain": [
              "\n"
            ],
            "text/html": [
              "<pre style=\"white-space:pre;overflow-x:auto;line-height:normal;font-family:Menlo,'DejaVu Sans Mono',consolas,'Courier New',monospace\">\n",
              "</pre>\n"
            ]
          },
          "metadata": {}
        },
        {
          "output_type": "display_data",
          "data": {
            "text/plain": [
              "Output()"
            ],
            "application/vnd.jupyter.widget-view+json": {
              "version_major": 2,
              "version_minor": 0,
              "model_id": "34bada6f1a18412d818d63c1bdff14ed"
            }
          },
          "metadata": {}
        },
        {
          "output_type": "display_data",
          "data": {
            "text/plain": [],
            "text/html": [
              "<pre style=\"white-space:pre;overflow-x:auto;line-height:normal;font-family:Menlo,'DejaVu Sans Mono',consolas,'Courier New',monospace\"></pre>\n"
            ]
          },
          "metadata": {}
        },
        {
          "output_type": "display_data",
          "data": {
            "text/plain": [
              "\n"
            ],
            "text/html": [
              "<pre style=\"white-space:pre;overflow-x:auto;line-height:normal;font-family:Menlo,'DejaVu Sans Mono',consolas,'Courier New',monospace\">\n",
              "</pre>\n"
            ]
          },
          "metadata": {}
        },
        {
          "output_type": "display_data",
          "data": {
            "text/plain": [
              "\u001b[2;36m[14:15:27]\u001b[0m\u001b[2;36m \u001b[0mAudio is selected from                                                     \u001b]8;id=888854;file:///content/LivePortrait/src/live_portrait_pipeline.py\u001b\\\u001b[2mlive_portrait_pipeline.py\u001b[0m\u001b]8;;\u001b\\\u001b[2m:\u001b[0m\u001b]8;id=179885;file:///content/LivePortrait/src/live_portrait_pipeline.py#480\u001b\\\u001b[2m480\u001b[0m\u001b]8;;\u001b\\\n",
              "\u001b[2;36m           \u001b[0m\u001b[35m/tmp/gradio/4b2368c0ae506a28e6b5cd3f7259eca1e769409452ce470c17c0c790cac0ed\u001b[0m \u001b[2m                             \u001b[0m\n",
              "\u001b[2;36m           \u001b[0m\u001b[35m8e/\u001b[0m\u001b[95md20.mp4\u001b[0m, concat mode                                                    \u001b[2m                             \u001b[0m\n"
            ],
            "text/html": [
              "<pre style=\"white-space:pre;overflow-x:auto;line-height:normal;font-family:Menlo,'DejaVu Sans Mono',consolas,'Courier New',monospace\"><span style=\"color: #7fbfbf; text-decoration-color: #7fbfbf\">[14:15:27] </span>Audio is selected from                                                     <a href=\"file:///content/LivePortrait/src/live_portrait_pipeline.py\" target=\"_blank\"><span style=\"color: #7f7f7f; text-decoration-color: #7f7f7f\">live_portrait_pipeline.py</span></a><span style=\"color: #7f7f7f; text-decoration-color: #7f7f7f\">:</span><a href=\"file:///content/LivePortrait/src/live_portrait_pipeline.py#480\" target=\"_blank\"><span style=\"color: #7f7f7f; text-decoration-color: #7f7f7f\">480</span></a>\n",
              "<span style=\"color: #7fbfbf; text-decoration-color: #7fbfbf\">           </span><span style=\"color: #800080; text-decoration-color: #800080\">/tmp/gradio/4b2368c0ae506a28e6b5cd3f7259eca1e769409452ce470c17c0c790cac0ed</span> <span style=\"color: #7f7f7f; text-decoration-color: #7f7f7f\">                             </span>\n",
              "<span style=\"color: #7fbfbf; text-decoration-color: #7fbfbf\">           </span><span style=\"color: #800080; text-decoration-color: #800080\">8e/</span><span style=\"color: #ff00ff; text-decoration-color: #ff00ff\">d20.mp4</span>, concat mode                                                    <span style=\"color: #7f7f7f; text-decoration-color: #7f7f7f\">                             </span>\n",
              "</pre>\n"
            ]
          },
          "metadata": {}
        },
        {
          "output_type": "display_data",
          "data": {
            "text/plain": [
              "\u001b[2;36m[14:15:28]\u001b[0m\u001b[2;36m \u001b[0mVideo with audio generated successfully:                                                    \u001b]8;id=750314;file:///content/LivePortrait/src/utils/video.py\u001b\\\u001b[2mvideo.py\u001b[0m\u001b]8;;\u001b\\\u001b[2m:\u001b[0m\u001b]8;id=338183;file:///content/LivePortrait/src/utils/video.py#204\u001b\\\u001b[2m204\u001b[0m\u001b]8;;\u001b\\\n",
              "\u001b[2;36m           \u001b[0manimations/android-chrome-512x512--d20_concat_with_audio.mp4                                \u001b[2m            \u001b[0m\n"
            ],
            "text/html": [
              "<pre style=\"white-space:pre;overflow-x:auto;line-height:normal;font-family:Menlo,'DejaVu Sans Mono',consolas,'Courier New',monospace\"><span style=\"color: #7fbfbf; text-decoration-color: #7fbfbf\">[14:15:28] </span>Video with audio generated successfully:                                                    <a href=\"file:///content/LivePortrait/src/utils/video.py\" target=\"_blank\"><span style=\"color: #7f7f7f; text-decoration-color: #7f7f7f\">video.py</span></a><span style=\"color: #7f7f7f; text-decoration-color: #7f7f7f\">:</span><a href=\"file:///content/LivePortrait/src/utils/video.py#204\" target=\"_blank\"><span style=\"color: #7f7f7f; text-decoration-color: #7f7f7f\">204</span></a>\n",
              "<span style=\"color: #7fbfbf; text-decoration-color: #7fbfbf\">           </span>animations/android-chrome-512x512--d20_concat_with_audio.mp4                                <span style=\"color: #7f7f7f; text-decoration-color: #7f7f7f\">            </span>\n",
              "</pre>\n"
            ]
          },
          "metadata": {}
        },
        {
          "output_type": "display_data",
          "data": {
            "text/plain": [
              "\u001b[2;36m          \u001b[0m\u001b[2;36m \u001b[0mReplace animations/android-chrome-512x512--d20_concat_with_audio.mp4 with  \u001b]8;id=210768;file:///content/LivePortrait/src/live_portrait_pipeline.py\u001b\\\u001b[2mlive_portrait_pipeline.py\u001b[0m\u001b]8;;\u001b\\\u001b[2m:\u001b[0m\u001b]8;id=640895;file:///content/LivePortrait/src/live_portrait_pipeline.py#483\u001b\\\u001b[2m483\u001b[0m\u001b]8;;\u001b\\\n",
              "\u001b[2;36m           \u001b[0manimations/android-chrome-512x512--d20_concat.mp4                          \u001b[2m                             \u001b[0m\n"
            ],
            "text/html": [
              "<pre style=\"white-space:pre;overflow-x:auto;line-height:normal;font-family:Menlo,'DejaVu Sans Mono',consolas,'Courier New',monospace\"><span style=\"color: #7fbfbf; text-decoration-color: #7fbfbf\">           </span>Replace animations/android-chrome-512x512--d20_concat_with_audio.mp4 with  <a href=\"file:///content/LivePortrait/src/live_portrait_pipeline.py\" target=\"_blank\"><span style=\"color: #7f7f7f; text-decoration-color: #7f7f7f\">live_portrait_pipeline.py</span></a><span style=\"color: #7f7f7f; text-decoration-color: #7f7f7f\">:</span><a href=\"file:///content/LivePortrait/src/live_portrait_pipeline.py#483\" target=\"_blank\"><span style=\"color: #7f7f7f; text-decoration-color: #7f7f7f\">483</span></a>\n",
              "<span style=\"color: #7fbfbf; text-decoration-color: #7fbfbf\">           </span>animations/android-chrome-512x512--d20_concat.mp4                          <span style=\"color: #7f7f7f; text-decoration-color: #7f7f7f\">                             </span>\n",
              "</pre>\n"
            ]
          },
          "metadata": {}
        },
        {
          "output_type": "display_data",
          "data": {
            "text/plain": [
              "Output()"
            ],
            "application/vnd.jupyter.widget-view+json": {
              "version_major": 2,
              "version_minor": 0,
              "model_id": "4effdbd349eb47629f555f486b17e47c"
            }
          },
          "metadata": {}
        },
        {
          "output_type": "display_data",
          "data": {
            "text/plain": [],
            "text/html": [
              "<pre style=\"white-space:pre;overflow-x:auto;line-height:normal;font-family:Menlo,'DejaVu Sans Mono',consolas,'Courier New',monospace\"></pre>\n"
            ]
          },
          "metadata": {}
        },
        {
          "output_type": "display_data",
          "data": {
            "text/plain": [
              "\n"
            ],
            "text/html": [
              "<pre style=\"white-space:pre;overflow-x:auto;line-height:normal;font-family:Menlo,'DejaVu Sans Mono',consolas,'Courier New',monospace\">\n",
              "</pre>\n"
            ]
          },
          "metadata": {}
        },
        {
          "output_type": "display_data",
          "data": {
            "text/plain": [
              "\u001b[2;36m[14:15:30]\u001b[0m\u001b[2;36m \u001b[0mAudio is selected from                                                     \u001b]8;id=14149;file:///content/LivePortrait/src/live_portrait_pipeline.py\u001b\\\u001b[2mlive_portrait_pipeline.py\u001b[0m\u001b]8;;\u001b\\\u001b[2m:\u001b[0m\u001b]8;id=773026;file:///content/LivePortrait/src/live_portrait_pipeline.py#496\u001b\\\u001b[2m496\u001b[0m\u001b]8;;\u001b\\\n",
              "\u001b[2;36m           \u001b[0m\u001b[35m/tmp/gradio/4b2368c0ae506a28e6b5cd3f7259eca1e769409452ce470c17c0c790cac0ed\u001b[0m \u001b[2m                             \u001b[0m\n",
              "\u001b[2;36m           \u001b[0m\u001b[35m8e/\u001b[0m\u001b[95md20.mp4\u001b[0m                                                                 \u001b[2m                             \u001b[0m\n"
            ],
            "text/html": [
              "<pre style=\"white-space:pre;overflow-x:auto;line-height:normal;font-family:Menlo,'DejaVu Sans Mono',consolas,'Courier New',monospace\"><span style=\"color: #7fbfbf; text-decoration-color: #7fbfbf\">[14:15:30] </span>Audio is selected from                                                     <a href=\"file:///content/LivePortrait/src/live_portrait_pipeline.py\" target=\"_blank\"><span style=\"color: #7f7f7f; text-decoration-color: #7f7f7f\">live_portrait_pipeline.py</span></a><span style=\"color: #7f7f7f; text-decoration-color: #7f7f7f\">:</span><a href=\"file:///content/LivePortrait/src/live_portrait_pipeline.py#496\" target=\"_blank\"><span style=\"color: #7f7f7f; text-decoration-color: #7f7f7f\">496</span></a>\n",
              "<span style=\"color: #7fbfbf; text-decoration-color: #7fbfbf\">           </span><span style=\"color: #800080; text-decoration-color: #800080\">/tmp/gradio/4b2368c0ae506a28e6b5cd3f7259eca1e769409452ce470c17c0c790cac0ed</span> <span style=\"color: #7f7f7f; text-decoration-color: #7f7f7f\">                             </span>\n",
              "<span style=\"color: #7fbfbf; text-decoration-color: #7fbfbf\">           </span><span style=\"color: #800080; text-decoration-color: #800080\">8e/</span><span style=\"color: #ff00ff; text-decoration-color: #ff00ff\">d20.mp4</span>                                                                 <span style=\"color: #7f7f7f; text-decoration-color: #7f7f7f\">                             </span>\n",
              "</pre>\n"
            ]
          },
          "metadata": {}
        },
        {
          "output_type": "display_data",
          "data": {
            "text/plain": [
              "\u001b[2;36m          \u001b[0m\u001b[2;36m \u001b[0mVideo with audio generated successfully:                                                    \u001b]8;id=625095;file:///content/LivePortrait/src/utils/video.py\u001b\\\u001b[2mvideo.py\u001b[0m\u001b]8;;\u001b\\\u001b[2m:\u001b[0m\u001b]8;id=307753;file:///content/LivePortrait/src/utils/video.py#204\u001b\\\u001b[2m204\u001b[0m\u001b]8;;\u001b\\\n",
              "\u001b[2;36m           \u001b[0manimations/android-chrome-512x512--d20_with_audio.mp4                                       \u001b[2m            \u001b[0m\n"
            ],
            "text/html": [
              "<pre style=\"white-space:pre;overflow-x:auto;line-height:normal;font-family:Menlo,'DejaVu Sans Mono',consolas,'Courier New',monospace\"><span style=\"color: #7fbfbf; text-decoration-color: #7fbfbf\">           </span>Video with audio generated successfully:                                                    <a href=\"file:///content/LivePortrait/src/utils/video.py\" target=\"_blank\"><span style=\"color: #7f7f7f; text-decoration-color: #7f7f7f\">video.py</span></a><span style=\"color: #7f7f7f; text-decoration-color: #7f7f7f\">:</span><a href=\"file:///content/LivePortrait/src/utils/video.py#204\" target=\"_blank\"><span style=\"color: #7f7f7f; text-decoration-color: #7f7f7f\">204</span></a>\n",
              "<span style=\"color: #7fbfbf; text-decoration-color: #7fbfbf\">           </span>animations/android-chrome-512x512--d20_with_audio.mp4                                       <span style=\"color: #7f7f7f; text-decoration-color: #7f7f7f\">            </span>\n",
              "</pre>\n"
            ]
          },
          "metadata": {}
        },
        {
          "output_type": "display_data",
          "data": {
            "text/plain": [
              "\u001b[2;36m          \u001b[0m\u001b[2;36m \u001b[0mReplace animations/android-chrome-512x512--d20_with_audio.mp4 with         \u001b]8;id=497791;file:///content/LivePortrait/src/live_portrait_pipeline.py\u001b\\\u001b[2mlive_portrait_pipeline.py\u001b[0m\u001b]8;;\u001b\\\u001b[2m:\u001b[0m\u001b]8;id=777029;file:///content/LivePortrait/src/live_portrait_pipeline.py#499\u001b\\\u001b[2m499\u001b[0m\u001b]8;;\u001b\\\n",
              "\u001b[2;36m           \u001b[0manimations/android-chrome-512x512--d20.mp4                                 \u001b[2m                             \u001b[0m\n"
            ],
            "text/html": [
              "<pre style=\"white-space:pre;overflow-x:auto;line-height:normal;font-family:Menlo,'DejaVu Sans Mono',consolas,'Courier New',monospace\"><span style=\"color: #7fbfbf; text-decoration-color: #7fbfbf\">           </span>Replace animations/android-chrome-512x512--d20_with_audio.mp4 with         <a href=\"file:///content/LivePortrait/src/live_portrait_pipeline.py\" target=\"_blank\"><span style=\"color: #7f7f7f; text-decoration-color: #7f7f7f\">live_portrait_pipeline.py</span></a><span style=\"color: #7f7f7f; text-decoration-color: #7f7f7f\">:</span><a href=\"file:///content/LivePortrait/src/live_portrait_pipeline.py#499\" target=\"_blank\"><span style=\"color: #7f7f7f; text-decoration-color: #7f7f7f\">499</span></a>\n",
              "<span style=\"color: #7fbfbf; text-decoration-color: #7fbfbf\">           </span>animations/android-chrome-512x512--d20.mp4                                 <span style=\"color: #7f7f7f; text-decoration-color: #7f7f7f\">                             </span>\n",
              "</pre>\n"
            ]
          },
          "metadata": {}
        },
        {
          "output_type": "display_data",
          "data": {
            "text/plain": [
              "\u001b[2;36m          \u001b[0m\u001b[2;36m \u001b[0m\u001b[1;32mAnimated template:                                                        \u001b[0m \u001b]8;id=475186;file:///content/LivePortrait/src/live_portrait_pipeline.py\u001b\\\u001b[2mlive_portrait_pipeline.py\u001b[0m\u001b]8;;\u001b\\\u001b[2m:\u001b[0m\u001b]8;id=929172;file:///content/LivePortrait/src/live_portrait_pipeline.py#503\u001b\\\u001b[2m503\u001b[0m\u001b]8;;\u001b\\\n",
              "\u001b[2;36m           \u001b[0m\u001b[1;35m/tmp/gradio/4b2368c0ae506a28e6b5cd3f7259eca1e769409452ce470c17c0c790cac0ed\u001b[0m \u001b[2m                             \u001b[0m\n",
              "\u001b[2;36m           \u001b[0m\u001b[1;35m8e/\u001b[0m\u001b[1;95md20.pkl\u001b[0m\u001b[1;32m, you can specify `-d` argument with this template path next    \u001b[0m \u001b[2m                             \u001b[0m\n",
              "\u001b[2;36m           \u001b[0m\u001b[1;32mtime to avoid cropping video, motion making and protecting privacy.       \u001b[0m \u001b[2m                             \u001b[0m\n"
            ],
            "text/html": [
              "<pre style=\"white-space:pre;overflow-x:auto;line-height:normal;font-family:Menlo,'DejaVu Sans Mono',consolas,'Courier New',monospace\"><span style=\"color: #7fbfbf; text-decoration-color: #7fbfbf\">           </span><span style=\"color: #008000; text-decoration-color: #008000; font-weight: bold\">Animated template:                                                        </span> <a href=\"file:///content/LivePortrait/src/live_portrait_pipeline.py\" target=\"_blank\"><span style=\"color: #7f7f7f; text-decoration-color: #7f7f7f\">live_portrait_pipeline.py</span></a><span style=\"color: #7f7f7f; text-decoration-color: #7f7f7f\">:</span><a href=\"file:///content/LivePortrait/src/live_portrait_pipeline.py#503\" target=\"_blank\"><span style=\"color: #7f7f7f; text-decoration-color: #7f7f7f\">503</span></a>\n",
              "<span style=\"color: #7fbfbf; text-decoration-color: #7fbfbf\">           </span><span style=\"color: #800080; text-decoration-color: #800080; font-weight: bold\">/tmp/gradio/4b2368c0ae506a28e6b5cd3f7259eca1e769409452ce470c17c0c790cac0ed</span> <span style=\"color: #7f7f7f; text-decoration-color: #7f7f7f\">                             </span>\n",
              "<span style=\"color: #7fbfbf; text-decoration-color: #7fbfbf\">           </span><span style=\"color: #800080; text-decoration-color: #800080; font-weight: bold\">8e/</span><span style=\"color: #ff00ff; text-decoration-color: #ff00ff; font-weight: bold\">d20.pkl</span><span style=\"color: #008000; text-decoration-color: #008000; font-weight: bold\">, you can specify `-d` argument with this template path next    </span> <span style=\"color: #7f7f7f; text-decoration-color: #7f7f7f\">                             </span>\n",
              "<span style=\"color: #7fbfbf; text-decoration-color: #7fbfbf\">           </span><span style=\"color: #008000; text-decoration-color: #008000; font-weight: bold\">time to avoid cropping video, motion making and protecting privacy.       </span> <span style=\"color: #7f7f7f; text-decoration-color: #7f7f7f\">                             </span>\n",
              "</pre>\n"
            ]
          },
          "metadata": {}
        },
        {
          "output_type": "display_data",
          "data": {
            "text/plain": [
              "\u001b[2;36m          \u001b[0m\u001b[2;36m \u001b[0mAnimated video: animations/android-chrome-512x512--d20.mp4                 \u001b]8;id=433957;file:///content/LivePortrait/src/live_portrait_pipeline.py\u001b\\\u001b[2mlive_portrait_pipeline.py\u001b[0m\u001b]8;;\u001b\\\u001b[2m:\u001b[0m\u001b]8;id=951464;file:///content/LivePortrait/src/live_portrait_pipeline.py#504\u001b\\\u001b[2m504\u001b[0m\u001b]8;;\u001b\\\n"
            ],
            "text/html": [
              "<pre style=\"white-space:pre;overflow-x:auto;line-height:normal;font-family:Menlo,'DejaVu Sans Mono',consolas,'Courier New',monospace\"><span style=\"color: #7fbfbf; text-decoration-color: #7fbfbf\">           </span>Animated video: animations/android-chrome-512x512--d20.mp4                 <a href=\"file:///content/LivePortrait/src/live_portrait_pipeline.py\" target=\"_blank\"><span style=\"color: #7f7f7f; text-decoration-color: #7f7f7f\">live_portrait_pipeline.py</span></a><span style=\"color: #7f7f7f; text-decoration-color: #7f7f7f\">:</span><a href=\"file:///content/LivePortrait/src/live_portrait_pipeline.py#504\" target=\"_blank\"><span style=\"color: #7f7f7f; text-decoration-color: #7f7f7f\">504</span></a>\n",
              "</pre>\n"
            ]
          },
          "metadata": {}
        },
        {
          "output_type": "display_data",
          "data": {
            "text/plain": [
              "\u001b[2;36m          \u001b[0m\u001b[2;36m \u001b[0mAnimated video with concat:                                                \u001b]8;id=91821;file:///content/LivePortrait/src/live_portrait_pipeline.py\u001b\\\u001b[2mlive_portrait_pipeline.py\u001b[0m\u001b]8;;\u001b\\\u001b[2m:\u001b[0m\u001b]8;id=915331;file:///content/LivePortrait/src/live_portrait_pipeline.py#505\u001b\\\u001b[2m505\u001b[0m\u001b]8;;\u001b\\\n",
              "\u001b[2;36m           \u001b[0manimations/android-chrome-512x512--d20_concat.mp4                          \u001b[2m                             \u001b[0m\n"
            ],
            "text/html": [
              "<pre style=\"white-space:pre;overflow-x:auto;line-height:normal;font-family:Menlo,'DejaVu Sans Mono',consolas,'Courier New',monospace\"><span style=\"color: #7fbfbf; text-decoration-color: #7fbfbf\">           </span>Animated video with concat:                                                <a href=\"file:///content/LivePortrait/src/live_portrait_pipeline.py\" target=\"_blank\"><span style=\"color: #7f7f7f; text-decoration-color: #7f7f7f\">live_portrait_pipeline.py</span></a><span style=\"color: #7f7f7f; text-decoration-color: #7f7f7f\">:</span><a href=\"file:///content/LivePortrait/src/live_portrait_pipeline.py#505\" target=\"_blank\"><span style=\"color: #7f7f7f; text-decoration-color: #7f7f7f\">505</span></a>\n",
              "<span style=\"color: #7fbfbf; text-decoration-color: #7fbfbf\">           </span>animations/android-chrome-512x512--d20_concat.mp4                          <span style=\"color: #7f7f7f; text-decoration-color: #7f7f7f\">                             </span>\n",
              "</pre>\n"
            ]
          },
          "metadata": {}
        },
        {
          "output_type": "display_data",
          "data": {
            "text/plain": [
              "\u001b[2;36m[14:21:50]\u001b[0m\u001b[2;36m \u001b[0mLoad source image from                                                      \u001b]8;id=364661;file:///content/LivePortrait/src/live_portrait_pipeline.py\u001b\\\u001b[2mlive_portrait_pipeline.py\u001b[0m\u001b]8;;\u001b\\\u001b[2m:\u001b[0m\u001b]8;id=253242;file:///content/LivePortrait/src/live_portrait_pipeline.py#90\u001b\\\u001b[2m90\u001b[0m\u001b]8;;\u001b\\\n",
              "\u001b[2;36m           \u001b[0m\u001b[35m/tmp/gradio/72b490bf4ece98c5f19bbbe7c4173b6d9713bba0cb27f1bdd40643697e89c65\u001b[0m \u001b[2m                            \u001b[0m\n",
              "\u001b[2;36m           \u001b[0m\u001b[35m8/\u001b[0m\u001b[95mandroid-chrome-512x512.png\u001b[0m                                                \u001b[2m                            \u001b[0m\n"
            ],
            "text/html": [
              "<pre style=\"white-space:pre;overflow-x:auto;line-height:normal;font-family:Menlo,'DejaVu Sans Mono',consolas,'Courier New',monospace\"><span style=\"color: #7fbfbf; text-decoration-color: #7fbfbf\">[14:21:50] </span>Load source image from                                                      <a href=\"file:///content/LivePortrait/src/live_portrait_pipeline.py\" target=\"_blank\"><span style=\"color: #7f7f7f; text-decoration-color: #7f7f7f\">live_portrait_pipeline.py</span></a><span style=\"color: #7f7f7f; text-decoration-color: #7f7f7f\">:</span><a href=\"file:///content/LivePortrait/src/live_portrait_pipeline.py#90\" target=\"_blank\"><span style=\"color: #7f7f7f; text-decoration-color: #7f7f7f\">90</span></a>\n",
              "<span style=\"color: #7fbfbf; text-decoration-color: #7fbfbf\">           </span><span style=\"color: #800080; text-decoration-color: #800080\">/tmp/gradio/72b490bf4ece98c5f19bbbe7c4173b6d9713bba0cb27f1bdd40643697e89c65</span> <span style=\"color: #7f7f7f; text-decoration-color: #7f7f7f\">                            </span>\n",
              "<span style=\"color: #7fbfbf; text-decoration-color: #7fbfbf\">           </span><span style=\"color: #800080; text-decoration-color: #800080\">8/</span><span style=\"color: #ff00ff; text-decoration-color: #ff00ff\">android-chrome-512x512.png</span>                                                <span style=\"color: #7f7f7f; text-decoration-color: #7f7f7f\">                            </span>\n",
              "</pre>\n"
            ]
          },
          "metadata": {}
        },
        {
          "output_type": "display_data",
          "data": {
            "text/plain": [
              "\u001b[2;36m          \u001b[0m\u001b[2;36m \u001b[0mLoad driving image from                                                    \u001b]8;id=755483;file:///content/LivePortrait/src/live_portrait_pipeline.py\u001b\\\u001b[2mlive_portrait_pipeline.py\u001b[0m\u001b]8;;\u001b\\\u001b[2m:\u001b[0m\u001b]8;id=857912;file:///content/LivePortrait/src/live_portrait_pipeline.py#139\u001b\\\u001b[2m139\u001b[0m\u001b]8;;\u001b\\\n",
              "\u001b[2;36m           \u001b[0m\u001b[35m/tmp/gradio/c451f054969dd7ece6ad10b0125fd2bbf7bf678dfff72bd0ceae7ea0d12d26\u001b[0m \u001b[2m                             \u001b[0m\n",
              "\u001b[2;36m           \u001b[0m\u001b[35mf7/\u001b[0m\u001b[95md12.jpg\u001b[0m                                                                 \u001b[2m                             \u001b[0m\n"
            ],
            "text/html": [
              "<pre style=\"white-space:pre;overflow-x:auto;line-height:normal;font-family:Menlo,'DejaVu Sans Mono',consolas,'Courier New',monospace\"><span style=\"color: #7fbfbf; text-decoration-color: #7fbfbf\">           </span>Load driving image from                                                    <a href=\"file:///content/LivePortrait/src/live_portrait_pipeline.py\" target=\"_blank\"><span style=\"color: #7f7f7f; text-decoration-color: #7f7f7f\">live_portrait_pipeline.py</span></a><span style=\"color: #7f7f7f; text-decoration-color: #7f7f7f\">:</span><a href=\"file:///content/LivePortrait/src/live_portrait_pipeline.py#139\" target=\"_blank\"><span style=\"color: #7f7f7f; text-decoration-color: #7f7f7f\">139</span></a>\n",
              "<span style=\"color: #7fbfbf; text-decoration-color: #7fbfbf\">           </span><span style=\"color: #800080; text-decoration-color: #800080\">/tmp/gradio/c451f054969dd7ece6ad10b0125fd2bbf7bf678dfff72bd0ceae7ea0d12d26</span> <span style=\"color: #7f7f7f; text-decoration-color: #7f7f7f\">                             </span>\n",
              "<span style=\"color: #7fbfbf; text-decoration-color: #7fbfbf\">           </span><span style=\"color: #800080; text-decoration-color: #800080\">f7/</span><span style=\"color: #ff00ff; text-decoration-color: #ff00ff\">d12.jpg</span>                                                                 <span style=\"color: #7f7f7f; text-decoration-color: #7f7f7f\">                             </span>\n",
              "</pre>\n"
            ]
          },
          "metadata": {}
        },
        {
          "output_type": "display_data",
          "data": {
            "text/plain": [
              "\u001b[2;36m          \u001b[0m\u001b[2;36m \u001b[0mStart making driving motion template\u001b[33m...\u001b[0m                                    \u001b]8;id=137322;file:///content/LivePortrait/src/live_portrait_pipeline.py\u001b\\\u001b[2mlive_portrait_pipeline.py\u001b[0m\u001b]8;;\u001b\\\u001b[2m:\u001b[0m\u001b]8;id=31084;file:///content/LivePortrait/src/live_portrait_pipeline.py#144\u001b\\\u001b[2m144\u001b[0m\u001b]8;;\u001b\\\n"
            ],
            "text/html": [
              "<pre style=\"white-space:pre;overflow-x:auto;line-height:normal;font-family:Menlo,'DejaVu Sans Mono',consolas,'Courier New',monospace\"><span style=\"color: #7fbfbf; text-decoration-color: #7fbfbf\">           </span>Start making driving motion template<span style=\"color: #808000; text-decoration-color: #808000\">...</span>                                    <a href=\"file:///content/LivePortrait/src/live_portrait_pipeline.py\" target=\"_blank\"><span style=\"color: #7f7f7f; text-decoration-color: #7f7f7f\">live_portrait_pipeline.py</span></a><span style=\"color: #7f7f7f; text-decoration-color: #7f7f7f\">:</span><a href=\"file:///content/LivePortrait/src/live_portrait_pipeline.py#144\" target=\"_blank\"><span style=\"color: #7f7f7f; text-decoration-color: #7f7f7f\">144</span></a>\n",
              "</pre>\n"
            ]
          },
          "metadata": {}
        },
        {
          "output_type": "display_data",
          "data": {
            "text/plain": [
              "Output()"
            ],
            "application/vnd.jupyter.widget-view+json": {
              "version_major": 2,
              "version_minor": 0,
              "model_id": "0f0efa340bc04938a9f9a3c8a566c61a"
            }
          },
          "metadata": {}
        },
        {
          "output_type": "display_data",
          "data": {
            "text/plain": [],
            "text/html": [
              "<pre style=\"white-space:pre;overflow-x:auto;line-height:normal;font-family:Menlo,'DejaVu Sans Mono',consolas,'Courier New',monospace\"></pre>\n"
            ]
          },
          "metadata": {}
        },
        {
          "output_type": "display_data",
          "data": {
            "text/plain": [
              "\n"
            ],
            "text/html": [
              "<pre style=\"white-space:pre;overflow-x:auto;line-height:normal;font-family:Menlo,'DejaVu Sans Mono',consolas,'Courier New',monospace\">\n",
              "</pre>\n"
            ]
          },
          "metadata": {}
        },
        {
          "output_type": "display_data",
          "data": {
            "text/plain": [
              "\u001b[2;36m[14:21:51]\u001b[0m\u001b[2;36m \u001b[0mDump motion template to                                                    \u001b]8;id=769989;file:///content/LivePortrait/src/live_portrait_pipeline.py\u001b\\\u001b[2mlive_portrait_pipeline.py\u001b[0m\u001b]8;;\u001b\\\u001b[2m:\u001b[0m\u001b]8;id=475366;file:///content/LivePortrait/src/live_portrait_pipeline.py#172\u001b\\\u001b[2m172\u001b[0m\u001b]8;;\u001b\\\n",
              "\u001b[2;36m           \u001b[0m\u001b[35m/tmp/gradio/c451f054969dd7ece6ad10b0125fd2bbf7bf678dfff72bd0ceae7ea0d12d26\u001b[0m \u001b[2m                             \u001b[0m\n",
              "\u001b[2;36m           \u001b[0m\u001b[35mf7/\u001b[0m\u001b[95md12.pkl\u001b[0m                                                                 \u001b[2m                             \u001b[0m\n"
            ],
            "text/html": [
              "<pre style=\"white-space:pre;overflow-x:auto;line-height:normal;font-family:Menlo,'DejaVu Sans Mono',consolas,'Courier New',monospace\"><span style=\"color: #7fbfbf; text-decoration-color: #7fbfbf\">[14:21:51] </span>Dump motion template to                                                    <a href=\"file:///content/LivePortrait/src/live_portrait_pipeline.py\" target=\"_blank\"><span style=\"color: #7f7f7f; text-decoration-color: #7f7f7f\">live_portrait_pipeline.py</span></a><span style=\"color: #7f7f7f; text-decoration-color: #7f7f7f\">:</span><a href=\"file:///content/LivePortrait/src/live_portrait_pipeline.py#172\" target=\"_blank\"><span style=\"color: #7f7f7f; text-decoration-color: #7f7f7f\">172</span></a>\n",
              "<span style=\"color: #7fbfbf; text-decoration-color: #7fbfbf\">           </span><span style=\"color: #800080; text-decoration-color: #800080\">/tmp/gradio/c451f054969dd7ece6ad10b0125fd2bbf7bf678dfff72bd0ceae7ea0d12d26</span> <span style=\"color: #7f7f7f; text-decoration-color: #7f7f7f\">                             </span>\n",
              "<span style=\"color: #7fbfbf; text-decoration-color: #7fbfbf\">           </span><span style=\"color: #800080; text-decoration-color: #800080\">f7/</span><span style=\"color: #ff00ff; text-decoration-color: #ff00ff\">d12.pkl</span>                                                                 <span style=\"color: #7f7f7f; text-decoration-color: #7f7f7f\">                             </span>\n",
              "</pre>\n"
            ]
          },
          "metadata": {}
        },
        {
          "output_type": "display_data",
          "data": {
            "text/plain": [
              "\u001b[2;36m          \u001b[0m\u001b[2;36m \u001b[0mPrepared pasteback mask done.                                              \u001b]8;id=610305;file:///content/LivePortrait/src/live_portrait_pipeline.py\u001b\\\u001b[2mlive_portrait_pipeline.py\u001b[0m\u001b]8;;\u001b\\\u001b[2m:\u001b[0m\u001b]8;id=42288;file:///content/LivePortrait/src/live_portrait_pipeline.py#183\u001b\\\u001b[2m183\u001b[0m\u001b]8;;\u001b\\\n"
            ],
            "text/html": [
              "<pre style=\"white-space:pre;overflow-x:auto;line-height:normal;font-family:Menlo,'DejaVu Sans Mono',consolas,'Courier New',monospace\"><span style=\"color: #7fbfbf; text-decoration-color: #7fbfbf\">           </span>Prepared pasteback mask done.                                              <a href=\"file:///content/LivePortrait/src/live_portrait_pipeline.py\" target=\"_blank\"><span style=\"color: #7f7f7f; text-decoration-color: #7f7f7f\">live_portrait_pipeline.py</span></a><span style=\"color: #7f7f7f; text-decoration-color: #7f7f7f\">:</span><a href=\"file:///content/LivePortrait/src/live_portrait_pipeline.py#183\" target=\"_blank\"><span style=\"color: #7f7f7f; text-decoration-color: #7f7f7f\">183</span></a>\n",
              "</pre>\n"
            ]
          },
          "metadata": {}
        },
        {
          "output_type": "display_data",
          "data": {
            "text/plain": [
              "\u001b[2;36m          \u001b[0m\u001b[2;36m \u001b[0mThe output of image-driven portrait animation is an image.                 \u001b]8;id=356961;file:///content/LivePortrait/src/live_portrait_pipeline.py\u001b\\\u001b[2mlive_portrait_pipeline.py\u001b[0m\u001b]8;;\u001b\\\u001b[2m:\u001b[0m\u001b]8;id=634124;file:///content/LivePortrait/src/live_portrait_pipeline.py#272\u001b\\\u001b[2m272\u001b[0m\u001b]8;;\u001b\\\n"
            ],
            "text/html": [
              "<pre style=\"white-space:pre;overflow-x:auto;line-height:normal;font-family:Menlo,'DejaVu Sans Mono',consolas,'Courier New',monospace\"><span style=\"color: #7fbfbf; text-decoration-color: #7fbfbf\">           </span>The output of image-driven portrait animation is an image.                 <a href=\"file:///content/LivePortrait/src/live_portrait_pipeline.py\" target=\"_blank\"><span style=\"color: #7f7f7f; text-decoration-color: #7f7f7f\">live_portrait_pipeline.py</span></a><span style=\"color: #7f7f7f; text-decoration-color: #7f7f7f\">:</span><a href=\"file:///content/LivePortrait/src/live_portrait_pipeline.py#272\" target=\"_blank\"><span style=\"color: #7f7f7f; text-decoration-color: #7f7f7f\">272</span></a>\n",
              "</pre>\n"
            ]
          },
          "metadata": {}
        },
        {
          "output_type": "display_data",
          "data": {
            "text/plain": [
              "Output()"
            ],
            "application/vnd.jupyter.widget-view+json": {
              "version_major": 2,
              "version_minor": 0,
              "model_id": "2b587d4dbc55406f805990f1b13f5515"
            }
          },
          "metadata": {}
        },
        {
          "output_type": "display_data",
          "data": {
            "text/plain": [],
            "text/html": [
              "<pre style=\"white-space:pre;overflow-x:auto;line-height:normal;font-family:Menlo,'DejaVu Sans Mono',consolas,'Courier New',monospace\"></pre>\n"
            ]
          },
          "metadata": {}
        },
        {
          "output_type": "display_data",
          "data": {
            "text/plain": [
              "\n"
            ],
            "text/html": [
              "<pre style=\"white-space:pre;overflow-x:auto;line-height:normal;font-family:Menlo,'DejaVu Sans Mono',consolas,'Courier New',monospace\">\n",
              "</pre>\n"
            ]
          },
          "metadata": {}
        },
        {
          "output_type": "display_data",
          "data": {
            "text/plain": [
              "Output()"
            ],
            "application/vnd.jupyter.widget-view+json": {
              "version_major": 2,
              "version_minor": 0,
              "model_id": "9f6daa67fffb40fca47dc7188f73ee1e"
            }
          },
          "metadata": {}
        },
        {
          "output_type": "display_data",
          "data": {
            "text/plain": [],
            "text/html": [
              "<pre style=\"white-space:pre;overflow-x:auto;line-height:normal;font-family:Menlo,'DejaVu Sans Mono',consolas,'Courier New',monospace\"></pre>\n"
            ]
          },
          "metadata": {}
        },
        {
          "output_type": "display_data",
          "data": {
            "text/plain": [
              "\n"
            ],
            "text/html": [
              "<pre style=\"white-space:pre;overflow-x:auto;line-height:normal;font-family:Menlo,'DejaVu Sans Mono',consolas,'Courier New',monospace\">\n",
              "</pre>\n"
            ]
          },
          "metadata": {}
        },
        {
          "output_type": "display_data",
          "data": {
            "text/plain": [
              "\u001b[2;36m          \u001b[0m\u001b[2;36m \u001b[0mAnimated image: animations/android-chrome-512x512--d12.jpg                 \u001b]8;id=785435;file:///content/LivePortrait/src/live_portrait_pipeline.py\u001b\\\u001b[2mlive_portrait_pipeline.py\u001b[0m\u001b]8;;\u001b\\\u001b[2m:\u001b[0m\u001b]8;id=582482;file:///content/LivePortrait/src/live_portrait_pipeline.py#515\u001b\\\u001b[2m515\u001b[0m\u001b]8;;\u001b\\\n"
            ],
            "text/html": [
              "<pre style=\"white-space:pre;overflow-x:auto;line-height:normal;font-family:Menlo,'DejaVu Sans Mono',consolas,'Courier New',monospace\"><span style=\"color: #7fbfbf; text-decoration-color: #7fbfbf\">           </span>Animated image: animations/android-chrome-512x512--d12.jpg                 <a href=\"file:///content/LivePortrait/src/live_portrait_pipeline.py\" target=\"_blank\"><span style=\"color: #7f7f7f; text-decoration-color: #7f7f7f\">live_portrait_pipeline.py</span></a><span style=\"color: #7f7f7f; text-decoration-color: #7f7f7f\">:</span><a href=\"file:///content/LivePortrait/src/live_portrait_pipeline.py#515\" target=\"_blank\"><span style=\"color: #7f7f7f; text-decoration-color: #7f7f7f\">515</span></a>\n",
              "</pre>\n"
            ]
          },
          "metadata": {}
        },
        {
          "output_type": "display_data",
          "data": {
            "text/plain": [
              "\u001b[2;36m          \u001b[0m\u001b[2;36m \u001b[0mAnimated image with concat:                                                \u001b]8;id=138401;file:///content/LivePortrait/src/live_portrait_pipeline.py\u001b\\\u001b[2mlive_portrait_pipeline.py\u001b[0m\u001b]8;;\u001b\\\u001b[2m:\u001b[0m\u001b]8;id=156018;file:///content/LivePortrait/src/live_portrait_pipeline.py#516\u001b\\\u001b[2m516\u001b[0m\u001b]8;;\u001b\\\n",
              "\u001b[2;36m           \u001b[0manimations/android-chrome-512x512--d12_concat.jpg                          \u001b[2m                             \u001b[0m\n"
            ],
            "text/html": [
              "<pre style=\"white-space:pre;overflow-x:auto;line-height:normal;font-family:Menlo,'DejaVu Sans Mono',consolas,'Courier New',monospace\"><span style=\"color: #7fbfbf; text-decoration-color: #7fbfbf\">           </span>Animated image with concat:                                                <a href=\"file:///content/LivePortrait/src/live_portrait_pipeline.py\" target=\"_blank\"><span style=\"color: #7f7f7f; text-decoration-color: #7f7f7f\">live_portrait_pipeline.py</span></a><span style=\"color: #7f7f7f; text-decoration-color: #7f7f7f\">:</span><a href=\"file:///content/LivePortrait/src/live_portrait_pipeline.py#516\" target=\"_blank\"><span style=\"color: #7f7f7f; text-decoration-color: #7f7f7f\">516</span></a>\n",
              "<span style=\"color: #7fbfbf; text-decoration-color: #7fbfbf\">           </span>animations/android-chrome-512x512--d12_concat.jpg                          <span style=\"color: #7f7f7f; text-decoration-color: #7f7f7f\">                             </span>\n",
              "</pre>\n"
            ]
          },
          "metadata": {}
        },
        {
          "output_type": "display_data",
          "data": {
            "text/plain": [
              "\u001b[2;36m[14:22:05]\u001b[0m\u001b[2;36m \u001b[0mLoad source image from                                                      \u001b]8;id=588478;file:///content/LivePortrait/src/live_portrait_pipeline.py\u001b\\\u001b[2mlive_portrait_pipeline.py\u001b[0m\u001b]8;;\u001b\\\u001b[2m:\u001b[0m\u001b]8;id=838946;file:///content/LivePortrait/src/live_portrait_pipeline.py#90\u001b\\\u001b[2m90\u001b[0m\u001b]8;;\u001b\\\n",
              "\u001b[2;36m           \u001b[0m\u001b[35m/tmp/gradio/72b490bf4ece98c5f19bbbe7c4173b6d9713bba0cb27f1bdd40643697e89c65\u001b[0m \u001b[2m                            \u001b[0m\n",
              "\u001b[2;36m           \u001b[0m\u001b[35m8/\u001b[0m\u001b[95mandroid-chrome-512x512.png\u001b[0m                                                \u001b[2m                            \u001b[0m\n"
            ],
            "text/html": [
              "<pre style=\"white-space:pre;overflow-x:auto;line-height:normal;font-family:Menlo,'DejaVu Sans Mono',consolas,'Courier New',monospace\"><span style=\"color: #7fbfbf; text-decoration-color: #7fbfbf\">[14:22:05] </span>Load source image from                                                      <a href=\"file:///content/LivePortrait/src/live_portrait_pipeline.py\" target=\"_blank\"><span style=\"color: #7f7f7f; text-decoration-color: #7f7f7f\">live_portrait_pipeline.py</span></a><span style=\"color: #7f7f7f; text-decoration-color: #7f7f7f\">:</span><a href=\"file:///content/LivePortrait/src/live_portrait_pipeline.py#90\" target=\"_blank\"><span style=\"color: #7f7f7f; text-decoration-color: #7f7f7f\">90</span></a>\n",
              "<span style=\"color: #7fbfbf; text-decoration-color: #7fbfbf\">           </span><span style=\"color: #800080; text-decoration-color: #800080\">/tmp/gradio/72b490bf4ece98c5f19bbbe7c4173b6d9713bba0cb27f1bdd40643697e89c65</span> <span style=\"color: #7f7f7f; text-decoration-color: #7f7f7f\">                            </span>\n",
              "<span style=\"color: #7fbfbf; text-decoration-color: #7fbfbf\">           </span><span style=\"color: #800080; text-decoration-color: #800080\">8/</span><span style=\"color: #ff00ff; text-decoration-color: #ff00ff\">android-chrome-512x512.png</span>                                                <span style=\"color: #7f7f7f; text-decoration-color: #7f7f7f\">                            </span>\n",
              "</pre>\n"
            ]
          },
          "metadata": {}
        },
        {
          "output_type": "display_data",
          "data": {
            "text/plain": [
              "\u001b[2;36m          \u001b[0m\u001b[2;36m \u001b[0mLoad driving image from                                                    \u001b]8;id=353183;file:///content/LivePortrait/src/live_portrait_pipeline.py\u001b\\\u001b[2mlive_portrait_pipeline.py\u001b[0m\u001b]8;;\u001b\\\u001b[2m:\u001b[0m\u001b]8;id=803099;file:///content/LivePortrait/src/live_portrait_pipeline.py#139\u001b\\\u001b[2m139\u001b[0m\u001b]8;;\u001b\\\n",
              "\u001b[2;36m           \u001b[0m\u001b[35m/tmp/gradio/f90bb0840bbff380f4f64ae2791f2baa2fa7658aa70d612414b2be3a92f7db\u001b[0m \u001b[2m                             \u001b[0m\n",
              "\u001b[2;36m           \u001b[0m\u001b[35m2e/\u001b[0m\u001b[95md19.jpg\u001b[0m                                                                 \u001b[2m                             \u001b[0m\n"
            ],
            "text/html": [
              "<pre style=\"white-space:pre;overflow-x:auto;line-height:normal;font-family:Menlo,'DejaVu Sans Mono',consolas,'Courier New',monospace\"><span style=\"color: #7fbfbf; text-decoration-color: #7fbfbf\">           </span>Load driving image from                                                    <a href=\"file:///content/LivePortrait/src/live_portrait_pipeline.py\" target=\"_blank\"><span style=\"color: #7f7f7f; text-decoration-color: #7f7f7f\">live_portrait_pipeline.py</span></a><span style=\"color: #7f7f7f; text-decoration-color: #7f7f7f\">:</span><a href=\"file:///content/LivePortrait/src/live_portrait_pipeline.py#139\" target=\"_blank\"><span style=\"color: #7f7f7f; text-decoration-color: #7f7f7f\">139</span></a>\n",
              "<span style=\"color: #7fbfbf; text-decoration-color: #7fbfbf\">           </span><span style=\"color: #800080; text-decoration-color: #800080\">/tmp/gradio/f90bb0840bbff380f4f64ae2791f2baa2fa7658aa70d612414b2be3a92f7db</span> <span style=\"color: #7f7f7f; text-decoration-color: #7f7f7f\">                             </span>\n",
              "<span style=\"color: #7fbfbf; text-decoration-color: #7fbfbf\">           </span><span style=\"color: #800080; text-decoration-color: #800080\">2e/</span><span style=\"color: #ff00ff; text-decoration-color: #ff00ff\">d19.jpg</span>                                                                 <span style=\"color: #7f7f7f; text-decoration-color: #7f7f7f\">                             </span>\n",
              "</pre>\n"
            ]
          },
          "metadata": {}
        },
        {
          "output_type": "display_data",
          "data": {
            "text/plain": [
              "\u001b[2;36m          \u001b[0m\u001b[2;36m \u001b[0mStart making driving motion template\u001b[33m...\u001b[0m                                    \u001b]8;id=189177;file:///content/LivePortrait/src/live_portrait_pipeline.py\u001b\\\u001b[2mlive_portrait_pipeline.py\u001b[0m\u001b]8;;\u001b\\\u001b[2m:\u001b[0m\u001b]8;id=221427;file:///content/LivePortrait/src/live_portrait_pipeline.py#144\u001b\\\u001b[2m144\u001b[0m\u001b]8;;\u001b\\\n"
            ],
            "text/html": [
              "<pre style=\"white-space:pre;overflow-x:auto;line-height:normal;font-family:Menlo,'DejaVu Sans Mono',consolas,'Courier New',monospace\"><span style=\"color: #7fbfbf; text-decoration-color: #7fbfbf\">           </span>Start making driving motion template<span style=\"color: #808000; text-decoration-color: #808000\">...</span>                                    <a href=\"file:///content/LivePortrait/src/live_portrait_pipeline.py\" target=\"_blank\"><span style=\"color: #7f7f7f; text-decoration-color: #7f7f7f\">live_portrait_pipeline.py</span></a><span style=\"color: #7f7f7f; text-decoration-color: #7f7f7f\">:</span><a href=\"file:///content/LivePortrait/src/live_portrait_pipeline.py#144\" target=\"_blank\"><span style=\"color: #7f7f7f; text-decoration-color: #7f7f7f\">144</span></a>\n",
              "</pre>\n"
            ]
          },
          "metadata": {}
        },
        {
          "output_type": "display_data",
          "data": {
            "text/plain": [
              "Output()"
            ],
            "application/vnd.jupyter.widget-view+json": {
              "version_major": 2,
              "version_minor": 0,
              "model_id": "f221c4d632804dd080403a915fb17415"
            }
          },
          "metadata": {}
        },
        {
          "output_type": "display_data",
          "data": {
            "text/plain": [],
            "text/html": [
              "<pre style=\"white-space:pre;overflow-x:auto;line-height:normal;font-family:Menlo,'DejaVu Sans Mono',consolas,'Courier New',monospace\"></pre>\n"
            ]
          },
          "metadata": {}
        },
        {
          "output_type": "display_data",
          "data": {
            "text/plain": [
              "\n"
            ],
            "text/html": [
              "<pre style=\"white-space:pre;overflow-x:auto;line-height:normal;font-family:Menlo,'DejaVu Sans Mono',consolas,'Courier New',monospace\">\n",
              "</pre>\n"
            ]
          },
          "metadata": {}
        },
        {
          "output_type": "display_data",
          "data": {
            "text/plain": [
              "\u001b[2;36m          \u001b[0m\u001b[2;36m \u001b[0mDump motion template to                                                    \u001b]8;id=941117;file:///content/LivePortrait/src/live_portrait_pipeline.py\u001b\\\u001b[2mlive_portrait_pipeline.py\u001b[0m\u001b]8;;\u001b\\\u001b[2m:\u001b[0m\u001b]8;id=538144;file:///content/LivePortrait/src/live_portrait_pipeline.py#172\u001b\\\u001b[2m172\u001b[0m\u001b]8;;\u001b\\\n",
              "\u001b[2;36m           \u001b[0m\u001b[35m/tmp/gradio/f90bb0840bbff380f4f64ae2791f2baa2fa7658aa70d612414b2be3a92f7db\u001b[0m \u001b[2m                             \u001b[0m\n",
              "\u001b[2;36m           \u001b[0m\u001b[35m2e/\u001b[0m\u001b[95md19.pkl\u001b[0m                                                                 \u001b[2m                             \u001b[0m\n"
            ],
            "text/html": [
              "<pre style=\"white-space:pre;overflow-x:auto;line-height:normal;font-family:Menlo,'DejaVu Sans Mono',consolas,'Courier New',monospace\"><span style=\"color: #7fbfbf; text-decoration-color: #7fbfbf\">           </span>Dump motion template to                                                    <a href=\"file:///content/LivePortrait/src/live_portrait_pipeline.py\" target=\"_blank\"><span style=\"color: #7f7f7f; text-decoration-color: #7f7f7f\">live_portrait_pipeline.py</span></a><span style=\"color: #7f7f7f; text-decoration-color: #7f7f7f\">:</span><a href=\"file:///content/LivePortrait/src/live_portrait_pipeline.py#172\" target=\"_blank\"><span style=\"color: #7f7f7f; text-decoration-color: #7f7f7f\">172</span></a>\n",
              "<span style=\"color: #7fbfbf; text-decoration-color: #7fbfbf\">           </span><span style=\"color: #800080; text-decoration-color: #800080\">/tmp/gradio/f90bb0840bbff380f4f64ae2791f2baa2fa7658aa70d612414b2be3a92f7db</span> <span style=\"color: #7f7f7f; text-decoration-color: #7f7f7f\">                             </span>\n",
              "<span style=\"color: #7fbfbf; text-decoration-color: #7fbfbf\">           </span><span style=\"color: #800080; text-decoration-color: #800080\">2e/</span><span style=\"color: #ff00ff; text-decoration-color: #ff00ff\">d19.pkl</span>                                                                 <span style=\"color: #7f7f7f; text-decoration-color: #7f7f7f\">                             </span>\n",
              "</pre>\n"
            ]
          },
          "metadata": {}
        },
        {
          "output_type": "display_data",
          "data": {
            "text/plain": [
              "\u001b[2;36m          \u001b[0m\u001b[2;36m \u001b[0mPrepared pasteback mask done.                                              \u001b]8;id=614108;file:///content/LivePortrait/src/live_portrait_pipeline.py\u001b\\\u001b[2mlive_portrait_pipeline.py\u001b[0m\u001b]8;;\u001b\\\u001b[2m:\u001b[0m\u001b]8;id=521110;file:///content/LivePortrait/src/live_portrait_pipeline.py#183\u001b\\\u001b[2m183\u001b[0m\u001b]8;;\u001b\\\n"
            ],
            "text/html": [
              "<pre style=\"white-space:pre;overflow-x:auto;line-height:normal;font-family:Menlo,'DejaVu Sans Mono',consolas,'Courier New',monospace\"><span style=\"color: #7fbfbf; text-decoration-color: #7fbfbf\">           </span>Prepared pasteback mask done.                                              <a href=\"file:///content/LivePortrait/src/live_portrait_pipeline.py\" target=\"_blank\"><span style=\"color: #7f7f7f; text-decoration-color: #7f7f7f\">live_portrait_pipeline.py</span></a><span style=\"color: #7f7f7f; text-decoration-color: #7f7f7f\">:</span><a href=\"file:///content/LivePortrait/src/live_portrait_pipeline.py#183\" target=\"_blank\"><span style=\"color: #7f7f7f; text-decoration-color: #7f7f7f\">183</span></a>\n",
              "</pre>\n"
            ]
          },
          "metadata": {}
        },
        {
          "output_type": "display_data",
          "data": {
            "text/plain": [
              "\u001b[2;36m[14:22:06]\u001b[0m\u001b[2;36m \u001b[0mThe output of image-driven portrait animation is an image.                 \u001b]8;id=45550;file:///content/LivePortrait/src/live_portrait_pipeline.py\u001b\\\u001b[2mlive_portrait_pipeline.py\u001b[0m\u001b]8;;\u001b\\\u001b[2m:\u001b[0m\u001b]8;id=507700;file:///content/LivePortrait/src/live_portrait_pipeline.py#272\u001b\\\u001b[2m272\u001b[0m\u001b]8;;\u001b\\\n"
            ],
            "text/html": [
              "<pre style=\"white-space:pre;overflow-x:auto;line-height:normal;font-family:Menlo,'DejaVu Sans Mono',consolas,'Courier New',monospace\"><span style=\"color: #7fbfbf; text-decoration-color: #7fbfbf\">[14:22:06] </span>The output of image-driven portrait animation is an image.                 <a href=\"file:///content/LivePortrait/src/live_portrait_pipeline.py\" target=\"_blank\"><span style=\"color: #7f7f7f; text-decoration-color: #7f7f7f\">live_portrait_pipeline.py</span></a><span style=\"color: #7f7f7f; text-decoration-color: #7f7f7f\">:</span><a href=\"file:///content/LivePortrait/src/live_portrait_pipeline.py#272\" target=\"_blank\"><span style=\"color: #7f7f7f; text-decoration-color: #7f7f7f\">272</span></a>\n",
              "</pre>\n"
            ]
          },
          "metadata": {}
        },
        {
          "output_type": "display_data",
          "data": {
            "text/plain": [
              "Output()"
            ],
            "application/vnd.jupyter.widget-view+json": {
              "version_major": 2,
              "version_minor": 0,
              "model_id": "690fb70da5364b75a567e50038308f14"
            }
          },
          "metadata": {}
        },
        {
          "output_type": "display_data",
          "data": {
            "text/plain": [],
            "text/html": [
              "<pre style=\"white-space:pre;overflow-x:auto;line-height:normal;font-family:Menlo,'DejaVu Sans Mono',consolas,'Courier New',monospace\"></pre>\n"
            ]
          },
          "metadata": {}
        },
        {
          "output_type": "display_data",
          "data": {
            "text/plain": [
              "\n"
            ],
            "text/html": [
              "<pre style=\"white-space:pre;overflow-x:auto;line-height:normal;font-family:Menlo,'DejaVu Sans Mono',consolas,'Courier New',monospace\">\n",
              "</pre>\n"
            ]
          },
          "metadata": {}
        },
        {
          "output_type": "display_data",
          "data": {
            "text/plain": [
              "Output()"
            ],
            "application/vnd.jupyter.widget-view+json": {
              "version_major": 2,
              "version_minor": 0,
              "model_id": "c9bf68e6959b412b8eb6cde71a609bc7"
            }
          },
          "metadata": {}
        },
        {
          "output_type": "display_data",
          "data": {
            "text/plain": [],
            "text/html": [
              "<pre style=\"white-space:pre;overflow-x:auto;line-height:normal;font-family:Menlo,'DejaVu Sans Mono',consolas,'Courier New',monospace\"></pre>\n"
            ]
          },
          "metadata": {}
        },
        {
          "output_type": "display_data",
          "data": {
            "text/plain": [
              "\n"
            ],
            "text/html": [
              "<pre style=\"white-space:pre;overflow-x:auto;line-height:normal;font-family:Menlo,'DejaVu Sans Mono',consolas,'Courier New',monospace\">\n",
              "</pre>\n"
            ]
          },
          "metadata": {}
        },
        {
          "output_type": "display_data",
          "data": {
            "text/plain": [
              "\u001b[2;36m[14:22:09]\u001b[0m\u001b[2;36m \u001b[0mAnimated image: animations/android-chrome-512x512--d19.jpg                 \u001b]8;id=703674;file:///content/LivePortrait/src/live_portrait_pipeline.py\u001b\\\u001b[2mlive_portrait_pipeline.py\u001b[0m\u001b]8;;\u001b\\\u001b[2m:\u001b[0m\u001b]8;id=492618;file:///content/LivePortrait/src/live_portrait_pipeline.py#515\u001b\\\u001b[2m515\u001b[0m\u001b]8;;\u001b\\\n"
            ],
            "text/html": [
              "<pre style=\"white-space:pre;overflow-x:auto;line-height:normal;font-family:Menlo,'DejaVu Sans Mono',consolas,'Courier New',monospace\"><span style=\"color: #7fbfbf; text-decoration-color: #7fbfbf\">[14:22:09] </span>Animated image: animations/android-chrome-512x512--d19.jpg                 <a href=\"file:///content/LivePortrait/src/live_portrait_pipeline.py\" target=\"_blank\"><span style=\"color: #7f7f7f; text-decoration-color: #7f7f7f\">live_portrait_pipeline.py</span></a><span style=\"color: #7f7f7f; text-decoration-color: #7f7f7f\">:</span><a href=\"file:///content/LivePortrait/src/live_portrait_pipeline.py#515\" target=\"_blank\"><span style=\"color: #7f7f7f; text-decoration-color: #7f7f7f\">515</span></a>\n",
              "</pre>\n"
            ]
          },
          "metadata": {}
        },
        {
          "output_type": "display_data",
          "data": {
            "text/plain": [
              "\u001b[2;36m          \u001b[0m\u001b[2;36m \u001b[0mAnimated image with concat:                                                \u001b]8;id=106254;file:///content/LivePortrait/src/live_portrait_pipeline.py\u001b\\\u001b[2mlive_portrait_pipeline.py\u001b[0m\u001b]8;;\u001b\\\u001b[2m:\u001b[0m\u001b]8;id=798700;file:///content/LivePortrait/src/live_portrait_pipeline.py#516\u001b\\\u001b[2m516\u001b[0m\u001b]8;;\u001b\\\n",
              "\u001b[2;36m           \u001b[0manimations/android-chrome-512x512--d19_concat.jpg                          \u001b[2m                             \u001b[0m\n"
            ],
            "text/html": [
              "<pre style=\"white-space:pre;overflow-x:auto;line-height:normal;font-family:Menlo,'DejaVu Sans Mono',consolas,'Courier New',monospace\"><span style=\"color: #7fbfbf; text-decoration-color: #7fbfbf\">           </span>Animated image with concat:                                                <a href=\"file:///content/LivePortrait/src/live_portrait_pipeline.py\" target=\"_blank\"><span style=\"color: #7f7f7f; text-decoration-color: #7f7f7f\">live_portrait_pipeline.py</span></a><span style=\"color: #7f7f7f; text-decoration-color: #7f7f7f\">:</span><a href=\"file:///content/LivePortrait/src/live_portrait_pipeline.py#516\" target=\"_blank\"><span style=\"color: #7f7f7f; text-decoration-color: #7f7f7f\">516</span></a>\n",
              "<span style=\"color: #7fbfbf; text-decoration-color: #7fbfbf\">           </span>animations/android-chrome-512x512--d19_concat.jpg                          <span style=\"color: #7f7f7f; text-decoration-color: #7f7f7f\">                             </span>\n",
              "</pre>\n"
            ]
          },
          "metadata": {}
        },
        {
          "output_type": "display_data",
          "data": {
            "text/plain": [
              "\u001b[2;36m[14:22:38]\u001b[0m\u001b[2;36m \u001b[0mLoad source image from                                                      \u001b]8;id=435240;file:///content/LivePortrait/src/live_portrait_pipeline.py\u001b\\\u001b[2mlive_portrait_pipeline.py\u001b[0m\u001b]8;;\u001b\\\u001b[2m:\u001b[0m\u001b]8;id=894178;file:///content/LivePortrait/src/live_portrait_pipeline.py#90\u001b\\\u001b[2m90\u001b[0m\u001b]8;;\u001b\\\n",
              "\u001b[2;36m           \u001b[0m\u001b[35m/tmp/gradio/72b490bf4ece98c5f19bbbe7c4173b6d9713bba0cb27f1bdd40643697e89c65\u001b[0m \u001b[2m                            \u001b[0m\n",
              "\u001b[2;36m           \u001b[0m\u001b[35m8/\u001b[0m\u001b[95mandroid-chrome-512x512.png\u001b[0m                                                \u001b[2m                            \u001b[0m\n"
            ],
            "text/html": [
              "<pre style=\"white-space:pre;overflow-x:auto;line-height:normal;font-family:Menlo,'DejaVu Sans Mono',consolas,'Courier New',monospace\"><span style=\"color: #7fbfbf; text-decoration-color: #7fbfbf\">[14:22:38] </span>Load source image from                                                      <a href=\"file:///content/LivePortrait/src/live_portrait_pipeline.py\" target=\"_blank\"><span style=\"color: #7f7f7f; text-decoration-color: #7f7f7f\">live_portrait_pipeline.py</span></a><span style=\"color: #7f7f7f; text-decoration-color: #7f7f7f\">:</span><a href=\"file:///content/LivePortrait/src/live_portrait_pipeline.py#90\" target=\"_blank\"><span style=\"color: #7f7f7f; text-decoration-color: #7f7f7f\">90</span></a>\n",
              "<span style=\"color: #7fbfbf; text-decoration-color: #7fbfbf\">           </span><span style=\"color: #800080; text-decoration-color: #800080\">/tmp/gradio/72b490bf4ece98c5f19bbbe7c4173b6d9713bba0cb27f1bdd40643697e89c65</span> <span style=\"color: #7f7f7f; text-decoration-color: #7f7f7f\">                            </span>\n",
              "<span style=\"color: #7fbfbf; text-decoration-color: #7fbfbf\">           </span><span style=\"color: #800080; text-decoration-color: #800080\">8/</span><span style=\"color: #ff00ff; text-decoration-color: #ff00ff\">android-chrome-512x512.png</span>                                                <span style=\"color: #7f7f7f; text-decoration-color: #7f7f7f\">                            </span>\n",
              "</pre>\n"
            ]
          },
          "metadata": {}
        },
        {
          "output_type": "display_data",
          "data": {
            "text/plain": [
              "\u001b[2;36m          \u001b[0m\u001b[2;36m \u001b[0mLoad driving image from                                                    \u001b]8;id=793734;file:///content/LivePortrait/src/live_portrait_pipeline.py\u001b\\\u001b[2mlive_portrait_pipeline.py\u001b[0m\u001b]8;;\u001b\\\u001b[2m:\u001b[0m\u001b]8;id=549016;file:///content/LivePortrait/src/live_portrait_pipeline.py#139\u001b\\\u001b[2m139\u001b[0m\u001b]8;;\u001b\\\n",
              "\u001b[2;36m           \u001b[0m\u001b[35m/tmp/gradio/26a53fdb24e180a2110d85d307ad42dedf3e9105f0a191010c54faa1e568b4\u001b[0m \u001b[2m                             \u001b[0m\n",
              "\u001b[2;36m           \u001b[0m\u001b[35m09/\u001b[0m\u001b[95md38.jpg\u001b[0m                                                                 \u001b[2m                             \u001b[0m\n"
            ],
            "text/html": [
              "<pre style=\"white-space:pre;overflow-x:auto;line-height:normal;font-family:Menlo,'DejaVu Sans Mono',consolas,'Courier New',monospace\"><span style=\"color: #7fbfbf; text-decoration-color: #7fbfbf\">           </span>Load driving image from                                                    <a href=\"file:///content/LivePortrait/src/live_portrait_pipeline.py\" target=\"_blank\"><span style=\"color: #7f7f7f; text-decoration-color: #7f7f7f\">live_portrait_pipeline.py</span></a><span style=\"color: #7f7f7f; text-decoration-color: #7f7f7f\">:</span><a href=\"file:///content/LivePortrait/src/live_portrait_pipeline.py#139\" target=\"_blank\"><span style=\"color: #7f7f7f; text-decoration-color: #7f7f7f\">139</span></a>\n",
              "<span style=\"color: #7fbfbf; text-decoration-color: #7fbfbf\">           </span><span style=\"color: #800080; text-decoration-color: #800080\">/tmp/gradio/26a53fdb24e180a2110d85d307ad42dedf3e9105f0a191010c54faa1e568b4</span> <span style=\"color: #7f7f7f; text-decoration-color: #7f7f7f\">                             </span>\n",
              "<span style=\"color: #7fbfbf; text-decoration-color: #7fbfbf\">           </span><span style=\"color: #800080; text-decoration-color: #800080\">09/</span><span style=\"color: #ff00ff; text-decoration-color: #ff00ff\">d38.jpg</span>                                                                 <span style=\"color: #7f7f7f; text-decoration-color: #7f7f7f\">                             </span>\n",
              "</pre>\n"
            ]
          },
          "metadata": {}
        },
        {
          "output_type": "display_data",
          "data": {
            "text/plain": [
              "\u001b[2;36m          \u001b[0m\u001b[2;36m \u001b[0mStart making driving motion template\u001b[33m...\u001b[0m                                    \u001b]8;id=466449;file:///content/LivePortrait/src/live_portrait_pipeline.py\u001b\\\u001b[2mlive_portrait_pipeline.py\u001b[0m\u001b]8;;\u001b\\\u001b[2m:\u001b[0m\u001b]8;id=291848;file:///content/LivePortrait/src/live_portrait_pipeline.py#144\u001b\\\u001b[2m144\u001b[0m\u001b]8;;\u001b\\\n"
            ],
            "text/html": [
              "<pre style=\"white-space:pre;overflow-x:auto;line-height:normal;font-family:Menlo,'DejaVu Sans Mono',consolas,'Courier New',monospace\"><span style=\"color: #7fbfbf; text-decoration-color: #7fbfbf\">           </span>Start making driving motion template<span style=\"color: #808000; text-decoration-color: #808000\">...</span>                                    <a href=\"file:///content/LivePortrait/src/live_portrait_pipeline.py\" target=\"_blank\"><span style=\"color: #7f7f7f; text-decoration-color: #7f7f7f\">live_portrait_pipeline.py</span></a><span style=\"color: #7f7f7f; text-decoration-color: #7f7f7f\">:</span><a href=\"file:///content/LivePortrait/src/live_portrait_pipeline.py#144\" target=\"_blank\"><span style=\"color: #7f7f7f; text-decoration-color: #7f7f7f\">144</span></a>\n",
              "</pre>\n"
            ]
          },
          "metadata": {}
        },
        {
          "output_type": "display_data",
          "data": {
            "text/plain": [
              "Output()"
            ],
            "application/vnd.jupyter.widget-view+json": {
              "version_major": 2,
              "version_minor": 0,
              "model_id": "2bdfb62607564f849a93cc7dc6ef404e"
            }
          },
          "metadata": {}
        },
        {
          "output_type": "display_data",
          "data": {
            "text/plain": [],
            "text/html": [
              "<pre style=\"white-space:pre;overflow-x:auto;line-height:normal;font-family:Menlo,'DejaVu Sans Mono',consolas,'Courier New',monospace\"></pre>\n"
            ]
          },
          "metadata": {}
        },
        {
          "output_type": "display_data",
          "data": {
            "text/plain": [
              "\n"
            ],
            "text/html": [
              "<pre style=\"white-space:pre;overflow-x:auto;line-height:normal;font-family:Menlo,'DejaVu Sans Mono',consolas,'Courier New',monospace\">\n",
              "</pre>\n"
            ]
          },
          "metadata": {}
        },
        {
          "output_type": "display_data",
          "data": {
            "text/plain": [
              "\u001b[2;36m[14:22:39]\u001b[0m\u001b[2;36m \u001b[0mDump motion template to                                                    \u001b]8;id=839250;file:///content/LivePortrait/src/live_portrait_pipeline.py\u001b\\\u001b[2mlive_portrait_pipeline.py\u001b[0m\u001b]8;;\u001b\\\u001b[2m:\u001b[0m\u001b]8;id=391239;file:///content/LivePortrait/src/live_portrait_pipeline.py#172\u001b\\\u001b[2m172\u001b[0m\u001b]8;;\u001b\\\n",
              "\u001b[2;36m           \u001b[0m\u001b[35m/tmp/gradio/26a53fdb24e180a2110d85d307ad42dedf3e9105f0a191010c54faa1e568b4\u001b[0m \u001b[2m                             \u001b[0m\n",
              "\u001b[2;36m           \u001b[0m\u001b[35m09/\u001b[0m\u001b[95md38.pkl\u001b[0m                                                                 \u001b[2m                             \u001b[0m\n"
            ],
            "text/html": [
              "<pre style=\"white-space:pre;overflow-x:auto;line-height:normal;font-family:Menlo,'DejaVu Sans Mono',consolas,'Courier New',monospace\"><span style=\"color: #7fbfbf; text-decoration-color: #7fbfbf\">[14:22:39] </span>Dump motion template to                                                    <a href=\"file:///content/LivePortrait/src/live_portrait_pipeline.py\" target=\"_blank\"><span style=\"color: #7f7f7f; text-decoration-color: #7f7f7f\">live_portrait_pipeline.py</span></a><span style=\"color: #7f7f7f; text-decoration-color: #7f7f7f\">:</span><a href=\"file:///content/LivePortrait/src/live_portrait_pipeline.py#172\" target=\"_blank\"><span style=\"color: #7f7f7f; text-decoration-color: #7f7f7f\">172</span></a>\n",
              "<span style=\"color: #7fbfbf; text-decoration-color: #7fbfbf\">           </span><span style=\"color: #800080; text-decoration-color: #800080\">/tmp/gradio/26a53fdb24e180a2110d85d307ad42dedf3e9105f0a191010c54faa1e568b4</span> <span style=\"color: #7f7f7f; text-decoration-color: #7f7f7f\">                             </span>\n",
              "<span style=\"color: #7fbfbf; text-decoration-color: #7fbfbf\">           </span><span style=\"color: #800080; text-decoration-color: #800080\">09/</span><span style=\"color: #ff00ff; text-decoration-color: #ff00ff\">d38.pkl</span>                                                                 <span style=\"color: #7f7f7f; text-decoration-color: #7f7f7f\">                             </span>\n",
              "</pre>\n"
            ]
          },
          "metadata": {}
        },
        {
          "output_type": "display_data",
          "data": {
            "text/plain": [
              "\u001b[2;36m          \u001b[0m\u001b[2;36m \u001b[0mPrepared pasteback mask done.                                              \u001b]8;id=860264;file:///content/LivePortrait/src/live_portrait_pipeline.py\u001b\\\u001b[2mlive_portrait_pipeline.py\u001b[0m\u001b]8;;\u001b\\\u001b[2m:\u001b[0m\u001b]8;id=701496;file:///content/LivePortrait/src/live_portrait_pipeline.py#183\u001b\\\u001b[2m183\u001b[0m\u001b]8;;\u001b\\\n"
            ],
            "text/html": [
              "<pre style=\"white-space:pre;overflow-x:auto;line-height:normal;font-family:Menlo,'DejaVu Sans Mono',consolas,'Courier New',monospace\"><span style=\"color: #7fbfbf; text-decoration-color: #7fbfbf\">           </span>Prepared pasteback mask done.                                              <a href=\"file:///content/LivePortrait/src/live_portrait_pipeline.py\" target=\"_blank\"><span style=\"color: #7f7f7f; text-decoration-color: #7f7f7f\">live_portrait_pipeline.py</span></a><span style=\"color: #7f7f7f; text-decoration-color: #7f7f7f\">:</span><a href=\"file:///content/LivePortrait/src/live_portrait_pipeline.py#183\" target=\"_blank\"><span style=\"color: #7f7f7f; text-decoration-color: #7f7f7f\">183</span></a>\n",
              "</pre>\n"
            ]
          },
          "metadata": {}
        },
        {
          "output_type": "display_data",
          "data": {
            "text/plain": [
              "\u001b[2;36m          \u001b[0m\u001b[2;36m \u001b[0mThe output of image-driven portrait animation is an image.                 \u001b]8;id=951048;file:///content/LivePortrait/src/live_portrait_pipeline.py\u001b\\\u001b[2mlive_portrait_pipeline.py\u001b[0m\u001b]8;;\u001b\\\u001b[2m:\u001b[0m\u001b]8;id=341614;file:///content/LivePortrait/src/live_portrait_pipeline.py#272\u001b\\\u001b[2m272\u001b[0m\u001b]8;;\u001b\\\n"
            ],
            "text/html": [
              "<pre style=\"white-space:pre;overflow-x:auto;line-height:normal;font-family:Menlo,'DejaVu Sans Mono',consolas,'Courier New',monospace\"><span style=\"color: #7fbfbf; text-decoration-color: #7fbfbf\">           </span>The output of image-driven portrait animation is an image.                 <a href=\"file:///content/LivePortrait/src/live_portrait_pipeline.py\" target=\"_blank\"><span style=\"color: #7f7f7f; text-decoration-color: #7f7f7f\">live_portrait_pipeline.py</span></a><span style=\"color: #7f7f7f; text-decoration-color: #7f7f7f\">:</span><a href=\"file:///content/LivePortrait/src/live_portrait_pipeline.py#272\" target=\"_blank\"><span style=\"color: #7f7f7f; text-decoration-color: #7f7f7f\">272</span></a>\n",
              "</pre>\n"
            ]
          },
          "metadata": {}
        },
        {
          "output_type": "display_data",
          "data": {
            "text/plain": [
              "Output()"
            ],
            "application/vnd.jupyter.widget-view+json": {
              "version_major": 2,
              "version_minor": 0,
              "model_id": "d2c8b5b7e3db480391b0c367ce31f0b2"
            }
          },
          "metadata": {}
        },
        {
          "output_type": "display_data",
          "data": {
            "text/plain": [],
            "text/html": [
              "<pre style=\"white-space:pre;overflow-x:auto;line-height:normal;font-family:Menlo,'DejaVu Sans Mono',consolas,'Courier New',monospace\"></pre>\n"
            ]
          },
          "metadata": {}
        },
        {
          "output_type": "display_data",
          "data": {
            "text/plain": [
              "\n"
            ],
            "text/html": [
              "<pre style=\"white-space:pre;overflow-x:auto;line-height:normal;font-family:Menlo,'DejaVu Sans Mono',consolas,'Courier New',monospace\">\n",
              "</pre>\n"
            ]
          },
          "metadata": {}
        },
        {
          "output_type": "display_data",
          "data": {
            "text/plain": [
              "Output()"
            ],
            "application/vnd.jupyter.widget-view+json": {
              "version_major": 2,
              "version_minor": 0,
              "model_id": "43b72793065145d9959b4d5817f3578d"
            }
          },
          "metadata": {}
        },
        {
          "output_type": "display_data",
          "data": {
            "text/plain": [],
            "text/html": [
              "<pre style=\"white-space:pre;overflow-x:auto;line-height:normal;font-family:Menlo,'DejaVu Sans Mono',consolas,'Courier New',monospace\"></pre>\n"
            ]
          },
          "metadata": {}
        },
        {
          "output_type": "display_data",
          "data": {
            "text/plain": [
              "\n"
            ],
            "text/html": [
              "<pre style=\"white-space:pre;overflow-x:auto;line-height:normal;font-family:Menlo,'DejaVu Sans Mono',consolas,'Courier New',monospace\">\n",
              "</pre>\n"
            ]
          },
          "metadata": {}
        },
        {
          "output_type": "display_data",
          "data": {
            "text/plain": [
              "\u001b[2;36m          \u001b[0m\u001b[2;36m \u001b[0mAnimated image: animations/android-chrome-512x512--d38.jpg                 \u001b]8;id=910046;file:///content/LivePortrait/src/live_portrait_pipeline.py\u001b\\\u001b[2mlive_portrait_pipeline.py\u001b[0m\u001b]8;;\u001b\\\u001b[2m:\u001b[0m\u001b]8;id=550762;file:///content/LivePortrait/src/live_portrait_pipeline.py#515\u001b\\\u001b[2m515\u001b[0m\u001b]8;;\u001b\\\n"
            ],
            "text/html": [
              "<pre style=\"white-space:pre;overflow-x:auto;line-height:normal;font-family:Menlo,'DejaVu Sans Mono',consolas,'Courier New',monospace\"><span style=\"color: #7fbfbf; text-decoration-color: #7fbfbf\">           </span>Animated image: animations/android-chrome-512x512--d38.jpg                 <a href=\"file:///content/LivePortrait/src/live_portrait_pipeline.py\" target=\"_blank\"><span style=\"color: #7f7f7f; text-decoration-color: #7f7f7f\">live_portrait_pipeline.py</span></a><span style=\"color: #7f7f7f; text-decoration-color: #7f7f7f\">:</span><a href=\"file:///content/LivePortrait/src/live_portrait_pipeline.py#515\" target=\"_blank\"><span style=\"color: #7f7f7f; text-decoration-color: #7f7f7f\">515</span></a>\n",
              "</pre>\n"
            ]
          },
          "metadata": {}
        },
        {
          "output_type": "display_data",
          "data": {
            "text/plain": [
              "\u001b[2;36m          \u001b[0m\u001b[2;36m \u001b[0mAnimated image with concat:                                                \u001b]8;id=436875;file:///content/LivePortrait/src/live_portrait_pipeline.py\u001b\\\u001b[2mlive_portrait_pipeline.py\u001b[0m\u001b]8;;\u001b\\\u001b[2m:\u001b[0m\u001b]8;id=795921;file:///content/LivePortrait/src/live_portrait_pipeline.py#516\u001b\\\u001b[2m516\u001b[0m\u001b]8;;\u001b\\\n",
              "\u001b[2;36m           \u001b[0manimations/android-chrome-512x512--d38_concat.jpg                          \u001b[2m                             \u001b[0m\n"
            ],
            "text/html": [
              "<pre style=\"white-space:pre;overflow-x:auto;line-height:normal;font-family:Menlo,'DejaVu Sans Mono',consolas,'Courier New',monospace\"><span style=\"color: #7fbfbf; text-decoration-color: #7fbfbf\">           </span>Animated image with concat:                                                <a href=\"file:///content/LivePortrait/src/live_portrait_pipeline.py\" target=\"_blank\"><span style=\"color: #7f7f7f; text-decoration-color: #7f7f7f\">live_portrait_pipeline.py</span></a><span style=\"color: #7f7f7f; text-decoration-color: #7f7f7f\">:</span><a href=\"file:///content/LivePortrait/src/live_portrait_pipeline.py#516\" target=\"_blank\"><span style=\"color: #7f7f7f; text-decoration-color: #7f7f7f\">516</span></a>\n",
              "<span style=\"color: #7fbfbf; text-decoration-color: #7fbfbf\">           </span>animations/android-chrome-512x512--d38_concat.jpg                          <span style=\"color: #7f7f7f; text-decoration-color: #7f7f7f\">                             </span>\n",
              "</pre>\n"
            ]
          },
          "metadata": {}
        },
        {
          "output_type": "display_data",
          "data": {
            "text/plain": [
              "\u001b[2;36m[14:22:53]\u001b[0m\u001b[2;36m \u001b[0mLoad source image from                                                      \u001b]8;id=506286;file:///content/LivePortrait/src/live_portrait_pipeline.py\u001b\\\u001b[2mlive_portrait_pipeline.py\u001b[0m\u001b]8;;\u001b\\\u001b[2m:\u001b[0m\u001b]8;id=531810;file:///content/LivePortrait/src/live_portrait_pipeline.py#90\u001b\\\u001b[2m90\u001b[0m\u001b]8;;\u001b\\\n",
              "\u001b[2;36m           \u001b[0m\u001b[35m/tmp/gradio/72b490bf4ece98c5f19bbbe7c4173b6d9713bba0cb27f1bdd40643697e89c65\u001b[0m \u001b[2m                            \u001b[0m\n",
              "\u001b[2;36m           \u001b[0m\u001b[35m8/\u001b[0m\u001b[95mandroid-chrome-512x512.png\u001b[0m                                                \u001b[2m                            \u001b[0m\n"
            ],
            "text/html": [
              "<pre style=\"white-space:pre;overflow-x:auto;line-height:normal;font-family:Menlo,'DejaVu Sans Mono',consolas,'Courier New',monospace\"><span style=\"color: #7fbfbf; text-decoration-color: #7fbfbf\">[14:22:53] </span>Load source image from                                                      <a href=\"file:///content/LivePortrait/src/live_portrait_pipeline.py\" target=\"_blank\"><span style=\"color: #7f7f7f; text-decoration-color: #7f7f7f\">live_portrait_pipeline.py</span></a><span style=\"color: #7f7f7f; text-decoration-color: #7f7f7f\">:</span><a href=\"file:///content/LivePortrait/src/live_portrait_pipeline.py#90\" target=\"_blank\"><span style=\"color: #7f7f7f; text-decoration-color: #7f7f7f\">90</span></a>\n",
              "<span style=\"color: #7fbfbf; text-decoration-color: #7fbfbf\">           </span><span style=\"color: #800080; text-decoration-color: #800080\">/tmp/gradio/72b490bf4ece98c5f19bbbe7c4173b6d9713bba0cb27f1bdd40643697e89c65</span> <span style=\"color: #7f7f7f; text-decoration-color: #7f7f7f\">                            </span>\n",
              "<span style=\"color: #7fbfbf; text-decoration-color: #7fbfbf\">           </span><span style=\"color: #800080; text-decoration-color: #800080\">8/</span><span style=\"color: #ff00ff; text-decoration-color: #ff00ff\">android-chrome-512x512.png</span>                                                <span style=\"color: #7f7f7f; text-decoration-color: #7f7f7f\">                            </span>\n",
              "</pre>\n"
            ]
          },
          "metadata": {}
        },
        {
          "output_type": "display_data",
          "data": {
            "text/plain": [
              "\u001b[2;36m          \u001b[0m\u001b[2;36m \u001b[0mLoad driving image from                                                    \u001b]8;id=423663;file:///content/LivePortrait/src/live_portrait_pipeline.py\u001b\\\u001b[2mlive_portrait_pipeline.py\u001b[0m\u001b]8;;\u001b\\\u001b[2m:\u001b[0m\u001b]8;id=831187;file:///content/LivePortrait/src/live_portrait_pipeline.py#139\u001b\\\u001b[2m139\u001b[0m\u001b]8;;\u001b\\\n",
              "\u001b[2;36m           \u001b[0m\u001b[35m/tmp/gradio/7e1ea23c1d6f5069c45983ecd9c41ec8489432b72a62c75f056a810e425706\u001b[0m \u001b[2m                             \u001b[0m\n",
              "\u001b[2;36m           \u001b[0m\u001b[35mce/\u001b[0m\u001b[95md30.jpg\u001b[0m                                                                 \u001b[2m                             \u001b[0m\n"
            ],
            "text/html": [
              "<pre style=\"white-space:pre;overflow-x:auto;line-height:normal;font-family:Menlo,'DejaVu Sans Mono',consolas,'Courier New',monospace\"><span style=\"color: #7fbfbf; text-decoration-color: #7fbfbf\">           </span>Load driving image from                                                    <a href=\"file:///content/LivePortrait/src/live_portrait_pipeline.py\" target=\"_blank\"><span style=\"color: #7f7f7f; text-decoration-color: #7f7f7f\">live_portrait_pipeline.py</span></a><span style=\"color: #7f7f7f; text-decoration-color: #7f7f7f\">:</span><a href=\"file:///content/LivePortrait/src/live_portrait_pipeline.py#139\" target=\"_blank\"><span style=\"color: #7f7f7f; text-decoration-color: #7f7f7f\">139</span></a>\n",
              "<span style=\"color: #7fbfbf; text-decoration-color: #7fbfbf\">           </span><span style=\"color: #800080; text-decoration-color: #800080\">/tmp/gradio/7e1ea23c1d6f5069c45983ecd9c41ec8489432b72a62c75f056a810e425706</span> <span style=\"color: #7f7f7f; text-decoration-color: #7f7f7f\">                             </span>\n",
              "<span style=\"color: #7fbfbf; text-decoration-color: #7fbfbf\">           </span><span style=\"color: #800080; text-decoration-color: #800080\">ce/</span><span style=\"color: #ff00ff; text-decoration-color: #ff00ff\">d30.jpg</span>                                                                 <span style=\"color: #7f7f7f; text-decoration-color: #7f7f7f\">                             </span>\n",
              "</pre>\n"
            ]
          },
          "metadata": {}
        },
        {
          "output_type": "display_data",
          "data": {
            "text/plain": [
              "\u001b[2;36m          \u001b[0m\u001b[2;36m \u001b[0mStart making driving motion template\u001b[33m...\u001b[0m                                    \u001b]8;id=345964;file:///content/LivePortrait/src/live_portrait_pipeline.py\u001b\\\u001b[2mlive_portrait_pipeline.py\u001b[0m\u001b]8;;\u001b\\\u001b[2m:\u001b[0m\u001b]8;id=166213;file:///content/LivePortrait/src/live_portrait_pipeline.py#144\u001b\\\u001b[2m144\u001b[0m\u001b]8;;\u001b\\\n"
            ],
            "text/html": [
              "<pre style=\"white-space:pre;overflow-x:auto;line-height:normal;font-family:Menlo,'DejaVu Sans Mono',consolas,'Courier New',monospace\"><span style=\"color: #7fbfbf; text-decoration-color: #7fbfbf\">           </span>Start making driving motion template<span style=\"color: #808000; text-decoration-color: #808000\">...</span>                                    <a href=\"file:///content/LivePortrait/src/live_portrait_pipeline.py\" target=\"_blank\"><span style=\"color: #7f7f7f; text-decoration-color: #7f7f7f\">live_portrait_pipeline.py</span></a><span style=\"color: #7f7f7f; text-decoration-color: #7f7f7f\">:</span><a href=\"file:///content/LivePortrait/src/live_portrait_pipeline.py#144\" target=\"_blank\"><span style=\"color: #7f7f7f; text-decoration-color: #7f7f7f\">144</span></a>\n",
              "</pre>\n"
            ]
          },
          "metadata": {}
        },
        {
          "output_type": "display_data",
          "data": {
            "text/plain": [
              "\u001b[2;36m          \u001b[0m\u001b[2;36m \u001b[0mDriving video is cropped, \u001b[1;36m1\u001b[0m frames are processed.                          \u001b]8;id=167128;file:///content/LivePortrait/src/live_portrait_pipeline.py\u001b\\\u001b[2mlive_portrait_pipeline.py\u001b[0m\u001b]8;;\u001b\\\u001b[2m:\u001b[0m\u001b]8;id=503817;file:///content/LivePortrait/src/live_portrait_pipeline.py#155\u001b\\\u001b[2m155\u001b[0m\u001b]8;;\u001b\\\n"
            ],
            "text/html": [
              "<pre style=\"white-space:pre;overflow-x:auto;line-height:normal;font-family:Menlo,'DejaVu Sans Mono',consolas,'Courier New',monospace\"><span style=\"color: #7fbfbf; text-decoration-color: #7fbfbf\">           </span>Driving video is cropped, <span style=\"color: #008080; text-decoration-color: #008080; font-weight: bold\">1</span> frames are processed.                          <a href=\"file:///content/LivePortrait/src/live_portrait_pipeline.py\" target=\"_blank\"><span style=\"color: #7f7f7f; text-decoration-color: #7f7f7f\">live_portrait_pipeline.py</span></a><span style=\"color: #7f7f7f; text-decoration-color: #7f7f7f\">:</span><a href=\"file:///content/LivePortrait/src/live_portrait_pipeline.py#155\" target=\"_blank\"><span style=\"color: #7f7f7f; text-decoration-color: #7f7f7f\">155</span></a>\n",
              "</pre>\n"
            ]
          },
          "metadata": {}
        },
        {
          "output_type": "display_data",
          "data": {
            "text/plain": [
              "Output()"
            ],
            "application/vnd.jupyter.widget-view+json": {
              "version_major": 2,
              "version_minor": 0,
              "model_id": "8059715e9a9d4f869795f19eb111c885"
            }
          },
          "metadata": {}
        },
        {
          "output_type": "display_data",
          "data": {
            "text/plain": [],
            "text/html": [
              "<pre style=\"white-space:pre;overflow-x:auto;line-height:normal;font-family:Menlo,'DejaVu Sans Mono',consolas,'Courier New',monospace\"></pre>\n"
            ]
          },
          "metadata": {}
        },
        {
          "output_type": "display_data",
          "data": {
            "text/plain": [
              "\n"
            ],
            "text/html": [
              "<pre style=\"white-space:pre;overflow-x:auto;line-height:normal;font-family:Menlo,'DejaVu Sans Mono',consolas,'Courier New',monospace\">\n",
              "</pre>\n"
            ]
          },
          "metadata": {}
        },
        {
          "output_type": "display_data",
          "data": {
            "text/plain": [
              "\u001b[2;36m          \u001b[0m\u001b[2;36m \u001b[0mDump motion template to                                                    \u001b]8;id=177503;file:///content/LivePortrait/src/live_portrait_pipeline.py\u001b\\\u001b[2mlive_portrait_pipeline.py\u001b[0m\u001b]8;;\u001b\\\u001b[2m:\u001b[0m\u001b]8;id=42333;file:///content/LivePortrait/src/live_portrait_pipeline.py#172\u001b\\\u001b[2m172\u001b[0m\u001b]8;;\u001b\\\n",
              "\u001b[2;36m           \u001b[0m\u001b[35m/tmp/gradio/7e1ea23c1d6f5069c45983ecd9c41ec8489432b72a62c75f056a810e425706\u001b[0m \u001b[2m                             \u001b[0m\n",
              "\u001b[2;36m           \u001b[0m\u001b[35mce/\u001b[0m\u001b[95md30.pkl\u001b[0m                                                                 \u001b[2m                             \u001b[0m\n"
            ],
            "text/html": [
              "<pre style=\"white-space:pre;overflow-x:auto;line-height:normal;font-family:Menlo,'DejaVu Sans Mono',consolas,'Courier New',monospace\"><span style=\"color: #7fbfbf; text-decoration-color: #7fbfbf\">           </span>Dump motion template to                                                    <a href=\"file:///content/LivePortrait/src/live_portrait_pipeline.py\" target=\"_blank\"><span style=\"color: #7f7f7f; text-decoration-color: #7f7f7f\">live_portrait_pipeline.py</span></a><span style=\"color: #7f7f7f; text-decoration-color: #7f7f7f\">:</span><a href=\"file:///content/LivePortrait/src/live_portrait_pipeline.py#172\" target=\"_blank\"><span style=\"color: #7f7f7f; text-decoration-color: #7f7f7f\">172</span></a>\n",
              "<span style=\"color: #7fbfbf; text-decoration-color: #7fbfbf\">           </span><span style=\"color: #800080; text-decoration-color: #800080\">/tmp/gradio/7e1ea23c1d6f5069c45983ecd9c41ec8489432b72a62c75f056a810e425706</span> <span style=\"color: #7f7f7f; text-decoration-color: #7f7f7f\">                             </span>\n",
              "<span style=\"color: #7fbfbf; text-decoration-color: #7fbfbf\">           </span><span style=\"color: #800080; text-decoration-color: #800080\">ce/</span><span style=\"color: #ff00ff; text-decoration-color: #ff00ff\">d30.pkl</span>                                                                 <span style=\"color: #7f7f7f; text-decoration-color: #7f7f7f\">                             </span>\n",
              "</pre>\n"
            ]
          },
          "metadata": {}
        },
        {
          "output_type": "display_data",
          "data": {
            "text/plain": [
              "\u001b[2;36m          \u001b[0m\u001b[2;36m \u001b[0mPrepared pasteback mask done.                                              \u001b]8;id=394326;file:///content/LivePortrait/src/live_portrait_pipeline.py\u001b\\\u001b[2mlive_portrait_pipeline.py\u001b[0m\u001b]8;;\u001b\\\u001b[2m:\u001b[0m\u001b]8;id=11375;file:///content/LivePortrait/src/live_portrait_pipeline.py#183\u001b\\\u001b[2m183\u001b[0m\u001b]8;;\u001b\\\n"
            ],
            "text/html": [
              "<pre style=\"white-space:pre;overflow-x:auto;line-height:normal;font-family:Menlo,'DejaVu Sans Mono',consolas,'Courier New',monospace\"><span style=\"color: #7fbfbf; text-decoration-color: #7fbfbf\">           </span>Prepared pasteback mask done.                                              <a href=\"file:///content/LivePortrait/src/live_portrait_pipeline.py\" target=\"_blank\"><span style=\"color: #7f7f7f; text-decoration-color: #7f7f7f\">live_portrait_pipeline.py</span></a><span style=\"color: #7f7f7f; text-decoration-color: #7f7f7f\">:</span><a href=\"file:///content/LivePortrait/src/live_portrait_pipeline.py#183\" target=\"_blank\"><span style=\"color: #7f7f7f; text-decoration-color: #7f7f7f\">183</span></a>\n",
              "</pre>\n"
            ]
          },
          "metadata": {}
        },
        {
          "output_type": "display_data",
          "data": {
            "text/plain": [
              "\u001b[2;36m[14:22:54]\u001b[0m\u001b[2;36m \u001b[0mThe output of image-driven portrait animation is an image.                 \u001b]8;id=936109;file:///content/LivePortrait/src/live_portrait_pipeline.py\u001b\\\u001b[2mlive_portrait_pipeline.py\u001b[0m\u001b]8;;\u001b\\\u001b[2m:\u001b[0m\u001b]8;id=322873;file:///content/LivePortrait/src/live_portrait_pipeline.py#272\u001b\\\u001b[2m272\u001b[0m\u001b]8;;\u001b\\\n"
            ],
            "text/html": [
              "<pre style=\"white-space:pre;overflow-x:auto;line-height:normal;font-family:Menlo,'DejaVu Sans Mono',consolas,'Courier New',monospace\"><span style=\"color: #7fbfbf; text-decoration-color: #7fbfbf\">[14:22:54] </span>The output of image-driven portrait animation is an image.                 <a href=\"file:///content/LivePortrait/src/live_portrait_pipeline.py\" target=\"_blank\"><span style=\"color: #7f7f7f; text-decoration-color: #7f7f7f\">live_portrait_pipeline.py</span></a><span style=\"color: #7f7f7f; text-decoration-color: #7f7f7f\">:</span><a href=\"file:///content/LivePortrait/src/live_portrait_pipeline.py#272\" target=\"_blank\"><span style=\"color: #7f7f7f; text-decoration-color: #7f7f7f\">272</span></a>\n",
              "</pre>\n"
            ]
          },
          "metadata": {}
        },
        {
          "output_type": "display_data",
          "data": {
            "text/plain": [
              "Output()"
            ],
            "application/vnd.jupyter.widget-view+json": {
              "version_major": 2,
              "version_minor": 0,
              "model_id": "52d92195544147b89a5be35fd0242385"
            }
          },
          "metadata": {}
        },
        {
          "output_type": "display_data",
          "data": {
            "text/plain": [],
            "text/html": [
              "<pre style=\"white-space:pre;overflow-x:auto;line-height:normal;font-family:Menlo,'DejaVu Sans Mono',consolas,'Courier New',monospace\"></pre>\n"
            ]
          },
          "metadata": {}
        },
        {
          "output_type": "display_data",
          "data": {
            "text/plain": [
              "\n"
            ],
            "text/html": [
              "<pre style=\"white-space:pre;overflow-x:auto;line-height:normal;font-family:Menlo,'DejaVu Sans Mono',consolas,'Courier New',monospace\">\n",
              "</pre>\n"
            ]
          },
          "metadata": {}
        },
        {
          "output_type": "display_data",
          "data": {
            "text/plain": [
              "Output()"
            ],
            "application/vnd.jupyter.widget-view+json": {
              "version_major": 2,
              "version_minor": 0,
              "model_id": "6d1ae548d0ef41fabeecda95a3d39f85"
            }
          },
          "metadata": {}
        },
        {
          "output_type": "display_data",
          "data": {
            "text/plain": [],
            "text/html": [
              "<pre style=\"white-space:pre;overflow-x:auto;line-height:normal;font-family:Menlo,'DejaVu Sans Mono',consolas,'Courier New',monospace\"></pre>\n"
            ]
          },
          "metadata": {}
        },
        {
          "output_type": "display_data",
          "data": {
            "text/plain": [
              "\n"
            ],
            "text/html": [
              "<pre style=\"white-space:pre;overflow-x:auto;line-height:normal;font-family:Menlo,'DejaVu Sans Mono',consolas,'Courier New',monospace\">\n",
              "</pre>\n"
            ]
          },
          "metadata": {}
        },
        {
          "output_type": "display_data",
          "data": {
            "text/plain": [
              "\u001b[2;36m          \u001b[0m\u001b[2;36m \u001b[0mAnimated image: animations/android-chrome-512x512--d30.jpg                 \u001b]8;id=114414;file:///content/LivePortrait/src/live_portrait_pipeline.py\u001b\\\u001b[2mlive_portrait_pipeline.py\u001b[0m\u001b]8;;\u001b\\\u001b[2m:\u001b[0m\u001b]8;id=531962;file:///content/LivePortrait/src/live_portrait_pipeline.py#515\u001b\\\u001b[2m515\u001b[0m\u001b]8;;\u001b\\\n"
            ],
            "text/html": [
              "<pre style=\"white-space:pre;overflow-x:auto;line-height:normal;font-family:Menlo,'DejaVu Sans Mono',consolas,'Courier New',monospace\"><span style=\"color: #7fbfbf; text-decoration-color: #7fbfbf\">           </span>Animated image: animations/android-chrome-512x512--d30.jpg                 <a href=\"file:///content/LivePortrait/src/live_portrait_pipeline.py\" target=\"_blank\"><span style=\"color: #7f7f7f; text-decoration-color: #7f7f7f\">live_portrait_pipeline.py</span></a><span style=\"color: #7f7f7f; text-decoration-color: #7f7f7f\">:</span><a href=\"file:///content/LivePortrait/src/live_portrait_pipeline.py#515\" target=\"_blank\"><span style=\"color: #7f7f7f; text-decoration-color: #7f7f7f\">515</span></a>\n",
              "</pre>\n"
            ]
          },
          "metadata": {}
        },
        {
          "output_type": "display_data",
          "data": {
            "text/plain": [
              "\u001b[2;36m          \u001b[0m\u001b[2;36m \u001b[0mAnimated image with concat:                                                \u001b]8;id=900551;file:///content/LivePortrait/src/live_portrait_pipeline.py\u001b\\\u001b[2mlive_portrait_pipeline.py\u001b[0m\u001b]8;;\u001b\\\u001b[2m:\u001b[0m\u001b]8;id=556;file:///content/LivePortrait/src/live_portrait_pipeline.py#516\u001b\\\u001b[2m516\u001b[0m\u001b]8;;\u001b\\\n",
              "\u001b[2;36m           \u001b[0manimations/android-chrome-512x512--d30_concat.jpg                          \u001b[2m                             \u001b[0m\n"
            ],
            "text/html": [
              "<pre style=\"white-space:pre;overflow-x:auto;line-height:normal;font-family:Menlo,'DejaVu Sans Mono',consolas,'Courier New',monospace\"><span style=\"color: #7fbfbf; text-decoration-color: #7fbfbf\">           </span>Animated image with concat:                                                <a href=\"file:///content/LivePortrait/src/live_portrait_pipeline.py\" target=\"_blank\"><span style=\"color: #7f7f7f; text-decoration-color: #7f7f7f\">live_portrait_pipeline.py</span></a><span style=\"color: #7f7f7f; text-decoration-color: #7f7f7f\">:</span><a href=\"file:///content/LivePortrait/src/live_portrait_pipeline.py#516\" target=\"_blank\"><span style=\"color: #7f7f7f; text-decoration-color: #7f7f7f\">516</span></a>\n",
              "<span style=\"color: #7fbfbf; text-decoration-color: #7fbfbf\">           </span>animations/android-chrome-512x512--d30_concat.jpg                          <span style=\"color: #7f7f7f; text-decoration-color: #7f7f7f\">                             </span>\n",
              "</pre>\n"
            ]
          },
          "metadata": {}
        },
        {
          "output_type": "display_data",
          "data": {
            "text/plain": [
              "\u001b[2;36m[14:23:24]\u001b[0m\u001b[2;36m \u001b[0mLoad source image from                                                      \u001b]8;id=326223;file:///content/LivePortrait/src/live_portrait_pipeline.py\u001b\\\u001b[2mlive_portrait_pipeline.py\u001b[0m\u001b]8;;\u001b\\\u001b[2m:\u001b[0m\u001b]8;id=465184;file:///content/LivePortrait/src/live_portrait_pipeline.py#90\u001b\\\u001b[2m90\u001b[0m\u001b]8;;\u001b\\\n",
              "\u001b[2;36m           \u001b[0m\u001b[35m/tmp/gradio/72b490bf4ece98c5f19bbbe7c4173b6d9713bba0cb27f1bdd40643697e89c65\u001b[0m \u001b[2m                            \u001b[0m\n",
              "\u001b[2;36m           \u001b[0m\u001b[35m8/\u001b[0m\u001b[95mandroid-chrome-512x512.png\u001b[0m                                                \u001b[2m                            \u001b[0m\n"
            ],
            "text/html": [
              "<pre style=\"white-space:pre;overflow-x:auto;line-height:normal;font-family:Menlo,'DejaVu Sans Mono',consolas,'Courier New',monospace\"><span style=\"color: #7fbfbf; text-decoration-color: #7fbfbf\">[14:23:24] </span>Load source image from                                                      <a href=\"file:///content/LivePortrait/src/live_portrait_pipeline.py\" target=\"_blank\"><span style=\"color: #7f7f7f; text-decoration-color: #7f7f7f\">live_portrait_pipeline.py</span></a><span style=\"color: #7f7f7f; text-decoration-color: #7f7f7f\">:</span><a href=\"file:///content/LivePortrait/src/live_portrait_pipeline.py#90\" target=\"_blank\"><span style=\"color: #7f7f7f; text-decoration-color: #7f7f7f\">90</span></a>\n",
              "<span style=\"color: #7fbfbf; text-decoration-color: #7fbfbf\">           </span><span style=\"color: #800080; text-decoration-color: #800080\">/tmp/gradio/72b490bf4ece98c5f19bbbe7c4173b6d9713bba0cb27f1bdd40643697e89c65</span> <span style=\"color: #7f7f7f; text-decoration-color: #7f7f7f\">                            </span>\n",
              "<span style=\"color: #7fbfbf; text-decoration-color: #7fbfbf\">           </span><span style=\"color: #800080; text-decoration-color: #800080\">8/</span><span style=\"color: #ff00ff; text-decoration-color: #ff00ff\">android-chrome-512x512.png</span>                                                <span style=\"color: #7f7f7f; text-decoration-color: #7f7f7f\">                            </span>\n",
              "</pre>\n"
            ]
          },
          "metadata": {}
        },
        {
          "output_type": "display_data",
          "data": {
            "text/plain": [
              "\u001b[2;36m          \u001b[0m\u001b[2;36m \u001b[0mLoad driving image from                                                    \u001b]8;id=679109;file:///content/LivePortrait/src/live_portrait_pipeline.py\u001b\\\u001b[2mlive_portrait_pipeline.py\u001b[0m\u001b]8;;\u001b\\\u001b[2m:\u001b[0m\u001b]8;id=728819;file:///content/LivePortrait/src/live_portrait_pipeline.py#139\u001b\\\u001b[2m139\u001b[0m\u001b]8;;\u001b\\\n",
              "\u001b[2;36m           \u001b[0m\u001b[35m/tmp/gradio/abf99ca1b72661934ba3fc1ebc1558bd8bb73a3c043dc506820756d0105b05\u001b[0m \u001b[2m                             \u001b[0m\n",
              "\u001b[2;36m           \u001b[0m\u001b[35mf3/\u001b[0m\u001b[95md8.jpg\u001b[0m                                                                  \u001b[2m                             \u001b[0m\n"
            ],
            "text/html": [
              "<pre style=\"white-space:pre;overflow-x:auto;line-height:normal;font-family:Menlo,'DejaVu Sans Mono',consolas,'Courier New',monospace\"><span style=\"color: #7fbfbf; text-decoration-color: #7fbfbf\">           </span>Load driving image from                                                    <a href=\"file:///content/LivePortrait/src/live_portrait_pipeline.py\" target=\"_blank\"><span style=\"color: #7f7f7f; text-decoration-color: #7f7f7f\">live_portrait_pipeline.py</span></a><span style=\"color: #7f7f7f; text-decoration-color: #7f7f7f\">:</span><a href=\"file:///content/LivePortrait/src/live_portrait_pipeline.py#139\" target=\"_blank\"><span style=\"color: #7f7f7f; text-decoration-color: #7f7f7f\">139</span></a>\n",
              "<span style=\"color: #7fbfbf; text-decoration-color: #7fbfbf\">           </span><span style=\"color: #800080; text-decoration-color: #800080\">/tmp/gradio/abf99ca1b72661934ba3fc1ebc1558bd8bb73a3c043dc506820756d0105b05</span> <span style=\"color: #7f7f7f; text-decoration-color: #7f7f7f\">                             </span>\n",
              "<span style=\"color: #7fbfbf; text-decoration-color: #7fbfbf\">           </span><span style=\"color: #800080; text-decoration-color: #800080\">f3/</span><span style=\"color: #ff00ff; text-decoration-color: #ff00ff\">d8.jpg</span>                                                                  <span style=\"color: #7f7f7f; text-decoration-color: #7f7f7f\">                             </span>\n",
              "</pre>\n"
            ]
          },
          "metadata": {}
        },
        {
          "output_type": "display_data",
          "data": {
            "text/plain": [
              "\u001b[2;36m          \u001b[0m\u001b[2;36m \u001b[0mStart making driving motion template\u001b[33m...\u001b[0m                                    \u001b]8;id=262242;file:///content/LivePortrait/src/live_portrait_pipeline.py\u001b\\\u001b[2mlive_portrait_pipeline.py\u001b[0m\u001b]8;;\u001b\\\u001b[2m:\u001b[0m\u001b]8;id=538663;file:///content/LivePortrait/src/live_portrait_pipeline.py#144\u001b\\\u001b[2m144\u001b[0m\u001b]8;;\u001b\\\n"
            ],
            "text/html": [
              "<pre style=\"white-space:pre;overflow-x:auto;line-height:normal;font-family:Menlo,'DejaVu Sans Mono',consolas,'Courier New',monospace\"><span style=\"color: #7fbfbf; text-decoration-color: #7fbfbf\">           </span>Start making driving motion template<span style=\"color: #808000; text-decoration-color: #808000\">...</span>                                    <a href=\"file:///content/LivePortrait/src/live_portrait_pipeline.py\" target=\"_blank\"><span style=\"color: #7f7f7f; text-decoration-color: #7f7f7f\">live_portrait_pipeline.py</span></a><span style=\"color: #7f7f7f; text-decoration-color: #7f7f7f\">:</span><a href=\"file:///content/LivePortrait/src/live_portrait_pipeline.py#144\" target=\"_blank\"><span style=\"color: #7f7f7f; text-decoration-color: #7f7f7f\">144</span></a>\n",
              "</pre>\n"
            ]
          },
          "metadata": {}
        },
        {
          "output_type": "display_data",
          "data": {
            "text/plain": [
              "Output()"
            ],
            "application/vnd.jupyter.widget-view+json": {
              "version_major": 2,
              "version_minor": 0,
              "model_id": "12989d93af3f4fa18fa3da7705dfac0f"
            }
          },
          "metadata": {}
        },
        {
          "output_type": "display_data",
          "data": {
            "text/plain": [],
            "text/html": [
              "<pre style=\"white-space:pre;overflow-x:auto;line-height:normal;font-family:Menlo,'DejaVu Sans Mono',consolas,'Courier New',monospace\"></pre>\n"
            ]
          },
          "metadata": {}
        },
        {
          "output_type": "display_data",
          "data": {
            "text/plain": [
              "\n"
            ],
            "text/html": [
              "<pre style=\"white-space:pre;overflow-x:auto;line-height:normal;font-family:Menlo,'DejaVu Sans Mono',consolas,'Courier New',monospace\">\n",
              "</pre>\n"
            ]
          },
          "metadata": {}
        },
        {
          "output_type": "display_data",
          "data": {
            "text/plain": [
              "\u001b[2;36m[14:23:25]\u001b[0m\u001b[2;36m \u001b[0mDump motion template to                                                    \u001b]8;id=81982;file:///content/LivePortrait/src/live_portrait_pipeline.py\u001b\\\u001b[2mlive_portrait_pipeline.py\u001b[0m\u001b]8;;\u001b\\\u001b[2m:\u001b[0m\u001b]8;id=558930;file:///content/LivePortrait/src/live_portrait_pipeline.py#172\u001b\\\u001b[2m172\u001b[0m\u001b]8;;\u001b\\\n",
              "\u001b[2;36m           \u001b[0m\u001b[35m/tmp/gradio/abf99ca1b72661934ba3fc1ebc1558bd8bb73a3c043dc506820756d0105b05\u001b[0m \u001b[2m                             \u001b[0m\n",
              "\u001b[2;36m           \u001b[0m\u001b[35mf3/\u001b[0m\u001b[95md8.pkl\u001b[0m                                                                  \u001b[2m                             \u001b[0m\n"
            ],
            "text/html": [
              "<pre style=\"white-space:pre;overflow-x:auto;line-height:normal;font-family:Menlo,'DejaVu Sans Mono',consolas,'Courier New',monospace\"><span style=\"color: #7fbfbf; text-decoration-color: #7fbfbf\">[14:23:25] </span>Dump motion template to                                                    <a href=\"file:///content/LivePortrait/src/live_portrait_pipeline.py\" target=\"_blank\"><span style=\"color: #7f7f7f; text-decoration-color: #7f7f7f\">live_portrait_pipeline.py</span></a><span style=\"color: #7f7f7f; text-decoration-color: #7f7f7f\">:</span><a href=\"file:///content/LivePortrait/src/live_portrait_pipeline.py#172\" target=\"_blank\"><span style=\"color: #7f7f7f; text-decoration-color: #7f7f7f\">172</span></a>\n",
              "<span style=\"color: #7fbfbf; text-decoration-color: #7fbfbf\">           </span><span style=\"color: #800080; text-decoration-color: #800080\">/tmp/gradio/abf99ca1b72661934ba3fc1ebc1558bd8bb73a3c043dc506820756d0105b05</span> <span style=\"color: #7f7f7f; text-decoration-color: #7f7f7f\">                             </span>\n",
              "<span style=\"color: #7fbfbf; text-decoration-color: #7fbfbf\">           </span><span style=\"color: #800080; text-decoration-color: #800080\">f3/</span><span style=\"color: #ff00ff; text-decoration-color: #ff00ff\">d8.pkl</span>                                                                  <span style=\"color: #7f7f7f; text-decoration-color: #7f7f7f\">                             </span>\n",
              "</pre>\n"
            ]
          },
          "metadata": {}
        },
        {
          "output_type": "display_data",
          "data": {
            "text/plain": [
              "\u001b[2;36m          \u001b[0m\u001b[2;36m \u001b[0mPrepared pasteback mask done.                                              \u001b]8;id=847324;file:///content/LivePortrait/src/live_portrait_pipeline.py\u001b\\\u001b[2mlive_portrait_pipeline.py\u001b[0m\u001b]8;;\u001b\\\u001b[2m:\u001b[0m\u001b]8;id=522262;file:///content/LivePortrait/src/live_portrait_pipeline.py#183\u001b\\\u001b[2m183\u001b[0m\u001b]8;;\u001b\\\n"
            ],
            "text/html": [
              "<pre style=\"white-space:pre;overflow-x:auto;line-height:normal;font-family:Menlo,'DejaVu Sans Mono',consolas,'Courier New',monospace\"><span style=\"color: #7fbfbf; text-decoration-color: #7fbfbf\">           </span>Prepared pasteback mask done.                                              <a href=\"file:///content/LivePortrait/src/live_portrait_pipeline.py\" target=\"_blank\"><span style=\"color: #7f7f7f; text-decoration-color: #7f7f7f\">live_portrait_pipeline.py</span></a><span style=\"color: #7f7f7f; text-decoration-color: #7f7f7f\">:</span><a href=\"file:///content/LivePortrait/src/live_portrait_pipeline.py#183\" target=\"_blank\"><span style=\"color: #7f7f7f; text-decoration-color: #7f7f7f\">183</span></a>\n",
              "</pre>\n"
            ]
          },
          "metadata": {}
        },
        {
          "output_type": "display_data",
          "data": {
            "text/plain": [
              "\u001b[2;36m          \u001b[0m\u001b[2;36m \u001b[0mThe output of image-driven portrait animation is an image.                 \u001b]8;id=858365;file:///content/LivePortrait/src/live_portrait_pipeline.py\u001b\\\u001b[2mlive_portrait_pipeline.py\u001b[0m\u001b]8;;\u001b\\\u001b[2m:\u001b[0m\u001b]8;id=117429;file:///content/LivePortrait/src/live_portrait_pipeline.py#272\u001b\\\u001b[2m272\u001b[0m\u001b]8;;\u001b\\\n"
            ],
            "text/html": [
              "<pre style=\"white-space:pre;overflow-x:auto;line-height:normal;font-family:Menlo,'DejaVu Sans Mono',consolas,'Courier New',monospace\"><span style=\"color: #7fbfbf; text-decoration-color: #7fbfbf\">           </span>The output of image-driven portrait animation is an image.                 <a href=\"file:///content/LivePortrait/src/live_portrait_pipeline.py\" target=\"_blank\"><span style=\"color: #7f7f7f; text-decoration-color: #7f7f7f\">live_portrait_pipeline.py</span></a><span style=\"color: #7f7f7f; text-decoration-color: #7f7f7f\">:</span><a href=\"file:///content/LivePortrait/src/live_portrait_pipeline.py#272\" target=\"_blank\"><span style=\"color: #7f7f7f; text-decoration-color: #7f7f7f\">272</span></a>\n",
              "</pre>\n"
            ]
          },
          "metadata": {}
        },
        {
          "output_type": "display_data",
          "data": {
            "text/plain": [
              "Output()"
            ],
            "application/vnd.jupyter.widget-view+json": {
              "version_major": 2,
              "version_minor": 0,
              "model_id": "7f8f55189f534558b00e454ab6342afc"
            }
          },
          "metadata": {}
        },
        {
          "output_type": "display_data",
          "data": {
            "text/plain": [],
            "text/html": [
              "<pre style=\"white-space:pre;overflow-x:auto;line-height:normal;font-family:Menlo,'DejaVu Sans Mono',consolas,'Courier New',monospace\"></pre>\n"
            ]
          },
          "metadata": {}
        },
        {
          "output_type": "display_data",
          "data": {
            "text/plain": [
              "\n"
            ],
            "text/html": [
              "<pre style=\"white-space:pre;overflow-x:auto;line-height:normal;font-family:Menlo,'DejaVu Sans Mono',consolas,'Courier New',monospace\">\n",
              "</pre>\n"
            ]
          },
          "metadata": {}
        },
        {
          "output_type": "display_data",
          "data": {
            "text/plain": [
              "Output()"
            ],
            "application/vnd.jupyter.widget-view+json": {
              "version_major": 2,
              "version_minor": 0,
              "model_id": "54fc0d0c81b341efa7586df1e2abbc58"
            }
          },
          "metadata": {}
        },
        {
          "output_type": "display_data",
          "data": {
            "text/plain": [],
            "text/html": [
              "<pre style=\"white-space:pre;overflow-x:auto;line-height:normal;font-family:Menlo,'DejaVu Sans Mono',consolas,'Courier New',monospace\"></pre>\n"
            ]
          },
          "metadata": {}
        },
        {
          "output_type": "display_data",
          "data": {
            "text/plain": [
              "\n"
            ],
            "text/html": [
              "<pre style=\"white-space:pre;overflow-x:auto;line-height:normal;font-family:Menlo,'DejaVu Sans Mono',consolas,'Courier New',monospace\">\n",
              "</pre>\n"
            ]
          },
          "metadata": {}
        },
        {
          "output_type": "display_data",
          "data": {
            "text/plain": [
              "\u001b[2;36m          \u001b[0m\u001b[2;36m \u001b[0mAnimated image: animations/android-chrome-512x512--d8.jpg                  \u001b]8;id=950972;file:///content/LivePortrait/src/live_portrait_pipeline.py\u001b\\\u001b[2mlive_portrait_pipeline.py\u001b[0m\u001b]8;;\u001b\\\u001b[2m:\u001b[0m\u001b]8;id=852522;file:///content/LivePortrait/src/live_portrait_pipeline.py#515\u001b\\\u001b[2m515\u001b[0m\u001b]8;;\u001b\\\n"
            ],
            "text/html": [
              "<pre style=\"white-space:pre;overflow-x:auto;line-height:normal;font-family:Menlo,'DejaVu Sans Mono',consolas,'Courier New',monospace\"><span style=\"color: #7fbfbf; text-decoration-color: #7fbfbf\">           </span>Animated image: animations/android-chrome-512x512--d8.jpg                  <a href=\"file:///content/LivePortrait/src/live_portrait_pipeline.py\" target=\"_blank\"><span style=\"color: #7f7f7f; text-decoration-color: #7f7f7f\">live_portrait_pipeline.py</span></a><span style=\"color: #7f7f7f; text-decoration-color: #7f7f7f\">:</span><a href=\"file:///content/LivePortrait/src/live_portrait_pipeline.py#515\" target=\"_blank\"><span style=\"color: #7f7f7f; text-decoration-color: #7f7f7f\">515</span></a>\n",
              "</pre>\n"
            ]
          },
          "metadata": {}
        },
        {
          "output_type": "display_data",
          "data": {
            "text/plain": [
              "\u001b[2;36m          \u001b[0m\u001b[2;36m \u001b[0mAnimated image with concat:                                                \u001b]8;id=952499;file:///content/LivePortrait/src/live_portrait_pipeline.py\u001b\\\u001b[2mlive_portrait_pipeline.py\u001b[0m\u001b]8;;\u001b\\\u001b[2m:\u001b[0m\u001b]8;id=684006;file:///content/LivePortrait/src/live_portrait_pipeline.py#516\u001b\\\u001b[2m516\u001b[0m\u001b]8;;\u001b\\\n",
              "\u001b[2;36m           \u001b[0manimations/android-chrome-512x512--d8_concat.jpg                           \u001b[2m                             \u001b[0m\n"
            ],
            "text/html": [
              "<pre style=\"white-space:pre;overflow-x:auto;line-height:normal;font-family:Menlo,'DejaVu Sans Mono',consolas,'Courier New',monospace\"><span style=\"color: #7fbfbf; text-decoration-color: #7fbfbf\">           </span>Animated image with concat:                                                <a href=\"file:///content/LivePortrait/src/live_portrait_pipeline.py\" target=\"_blank\"><span style=\"color: #7f7f7f; text-decoration-color: #7f7f7f\">live_portrait_pipeline.py</span></a><span style=\"color: #7f7f7f; text-decoration-color: #7f7f7f\">:</span><a href=\"file:///content/LivePortrait/src/live_portrait_pipeline.py#516\" target=\"_blank\"><span style=\"color: #7f7f7f; text-decoration-color: #7f7f7f\">516</span></a>\n",
              "<span style=\"color: #7fbfbf; text-decoration-color: #7fbfbf\">           </span>animations/android-chrome-512x512--d8_concat.jpg                           <span style=\"color: #7f7f7f; text-decoration-color: #7f7f7f\">                             </span>\n",
              "</pre>\n"
            ]
          },
          "metadata": {}
        },
        {
          "output_type": "display_data",
          "data": {
            "text/plain": [
              "\u001b[2;36m[14:24:04]\u001b[0m\u001b[2;36m \u001b[0mLoad source image from                                                      \u001b]8;id=561062;file:///content/LivePortrait/src/live_portrait_pipeline.py\u001b\\\u001b[2mlive_portrait_pipeline.py\u001b[0m\u001b]8;;\u001b\\\u001b[2m:\u001b[0m\u001b]8;id=712744;file:///content/LivePortrait/src/live_portrait_pipeline.py#90\u001b\\\u001b[2m90\u001b[0m\u001b]8;;\u001b\\\n",
              "\u001b[2;36m           \u001b[0m\u001b[35m/tmp/gradio/046ee3542238170b1377a8bf32abefd5441f122b60bf24f994b5552ae3171dc\u001b[0m \u001b[2m                            \u001b[0m\n",
              "\u001b[2;36m           \u001b[0m\u001b[35m0/\u001b[0m\u001b[95m1734888832386.jpg\u001b[0m                                                         \u001b[2m                            \u001b[0m\n"
            ],
            "text/html": [
              "<pre style=\"white-space:pre;overflow-x:auto;line-height:normal;font-family:Menlo,'DejaVu Sans Mono',consolas,'Courier New',monospace\"><span style=\"color: #7fbfbf; text-decoration-color: #7fbfbf\">[14:24:04] </span>Load source image from                                                      <a href=\"file:///content/LivePortrait/src/live_portrait_pipeline.py\" target=\"_blank\"><span style=\"color: #7f7f7f; text-decoration-color: #7f7f7f\">live_portrait_pipeline.py</span></a><span style=\"color: #7f7f7f; text-decoration-color: #7f7f7f\">:</span><a href=\"file:///content/LivePortrait/src/live_portrait_pipeline.py#90\" target=\"_blank\"><span style=\"color: #7f7f7f; text-decoration-color: #7f7f7f\">90</span></a>\n",
              "<span style=\"color: #7fbfbf; text-decoration-color: #7fbfbf\">           </span><span style=\"color: #800080; text-decoration-color: #800080\">/tmp/gradio/046ee3542238170b1377a8bf32abefd5441f122b60bf24f994b5552ae3171dc</span> <span style=\"color: #7f7f7f; text-decoration-color: #7f7f7f\">                            </span>\n",
              "<span style=\"color: #7fbfbf; text-decoration-color: #7fbfbf\">           </span><span style=\"color: #800080; text-decoration-color: #800080\">0/</span><span style=\"color: #ff00ff; text-decoration-color: #ff00ff\">1734888832386.jpg</span>                                                         <span style=\"color: #7f7f7f; text-decoration-color: #7f7f7f\">                            </span>\n",
              "</pre>\n"
            ]
          },
          "metadata": {}
        },
        {
          "output_type": "display_data",
          "data": {
            "text/plain": [
              "\u001b[2;36m          \u001b[0m\u001b[2;36m \u001b[0mLoad driving image from                                                    \u001b]8;id=907279;file:///content/LivePortrait/src/live_portrait_pipeline.py\u001b\\\u001b[2mlive_portrait_pipeline.py\u001b[0m\u001b]8;;\u001b\\\u001b[2m:\u001b[0m\u001b]8;id=809206;file:///content/LivePortrait/src/live_portrait_pipeline.py#139\u001b\\\u001b[2m139\u001b[0m\u001b]8;;\u001b\\\n",
              "\u001b[2;36m           \u001b[0m\u001b[35m/tmp/gradio/c451f054969dd7ece6ad10b0125fd2bbf7bf678dfff72bd0ceae7ea0d12d26\u001b[0m \u001b[2m                             \u001b[0m\n",
              "\u001b[2;36m           \u001b[0m\u001b[35mf7/\u001b[0m\u001b[95md12.jpg\u001b[0m                                                                 \u001b[2m                             \u001b[0m\n"
            ],
            "text/html": [
              "<pre style=\"white-space:pre;overflow-x:auto;line-height:normal;font-family:Menlo,'DejaVu Sans Mono',consolas,'Courier New',monospace\"><span style=\"color: #7fbfbf; text-decoration-color: #7fbfbf\">           </span>Load driving image from                                                    <a href=\"file:///content/LivePortrait/src/live_portrait_pipeline.py\" target=\"_blank\"><span style=\"color: #7f7f7f; text-decoration-color: #7f7f7f\">live_portrait_pipeline.py</span></a><span style=\"color: #7f7f7f; text-decoration-color: #7f7f7f\">:</span><a href=\"file:///content/LivePortrait/src/live_portrait_pipeline.py#139\" target=\"_blank\"><span style=\"color: #7f7f7f; text-decoration-color: #7f7f7f\">139</span></a>\n",
              "<span style=\"color: #7fbfbf; text-decoration-color: #7fbfbf\">           </span><span style=\"color: #800080; text-decoration-color: #800080\">/tmp/gradio/c451f054969dd7ece6ad10b0125fd2bbf7bf678dfff72bd0ceae7ea0d12d26</span> <span style=\"color: #7f7f7f; text-decoration-color: #7f7f7f\">                             </span>\n",
              "<span style=\"color: #7fbfbf; text-decoration-color: #7fbfbf\">           </span><span style=\"color: #800080; text-decoration-color: #800080\">f7/</span><span style=\"color: #ff00ff; text-decoration-color: #ff00ff\">d12.jpg</span>                                                                 <span style=\"color: #7f7f7f; text-decoration-color: #7f7f7f\">                             </span>\n",
              "</pre>\n"
            ]
          },
          "metadata": {}
        },
        {
          "output_type": "display_data",
          "data": {
            "text/plain": [
              "\u001b[2;36m          \u001b[0m\u001b[2;36m \u001b[0mStart making driving motion template\u001b[33m...\u001b[0m                                    \u001b]8;id=345019;file:///content/LivePortrait/src/live_portrait_pipeline.py\u001b\\\u001b[2mlive_portrait_pipeline.py\u001b[0m\u001b]8;;\u001b\\\u001b[2m:\u001b[0m\u001b]8;id=721270;file:///content/LivePortrait/src/live_portrait_pipeline.py#144\u001b\\\u001b[2m144\u001b[0m\u001b]8;;\u001b\\\n"
            ],
            "text/html": [
              "<pre style=\"white-space:pre;overflow-x:auto;line-height:normal;font-family:Menlo,'DejaVu Sans Mono',consolas,'Courier New',monospace\"><span style=\"color: #7fbfbf; text-decoration-color: #7fbfbf\">           </span>Start making driving motion template<span style=\"color: #808000; text-decoration-color: #808000\">...</span>                                    <a href=\"file:///content/LivePortrait/src/live_portrait_pipeline.py\" target=\"_blank\"><span style=\"color: #7f7f7f; text-decoration-color: #7f7f7f\">live_portrait_pipeline.py</span></a><span style=\"color: #7f7f7f; text-decoration-color: #7f7f7f\">:</span><a href=\"file:///content/LivePortrait/src/live_portrait_pipeline.py#144\" target=\"_blank\"><span style=\"color: #7f7f7f; text-decoration-color: #7f7f7f\">144</span></a>\n",
              "</pre>\n"
            ]
          },
          "metadata": {}
        },
        {
          "output_type": "display_data",
          "data": {
            "text/plain": [
              "Output()"
            ],
            "application/vnd.jupyter.widget-view+json": {
              "version_major": 2,
              "version_minor": 0,
              "model_id": "5d8a2cb8a6d945b1974ff33ebd6124f3"
            }
          },
          "metadata": {}
        },
        {
          "output_type": "display_data",
          "data": {
            "text/plain": [],
            "text/html": [
              "<pre style=\"white-space:pre;overflow-x:auto;line-height:normal;font-family:Menlo,'DejaVu Sans Mono',consolas,'Courier New',monospace\"></pre>\n"
            ]
          },
          "metadata": {}
        },
        {
          "output_type": "display_data",
          "data": {
            "text/plain": [
              "\n"
            ],
            "text/html": [
              "<pre style=\"white-space:pre;overflow-x:auto;line-height:normal;font-family:Menlo,'DejaVu Sans Mono',consolas,'Courier New',monospace\">\n",
              "</pre>\n"
            ]
          },
          "metadata": {}
        },
        {
          "output_type": "display_data",
          "data": {
            "text/plain": [
              "\u001b[2;36m          \u001b[0m\u001b[2;36m \u001b[0mDump motion template to                                                    \u001b]8;id=208704;file:///content/LivePortrait/src/live_portrait_pipeline.py\u001b\\\u001b[2mlive_portrait_pipeline.py\u001b[0m\u001b]8;;\u001b\\\u001b[2m:\u001b[0m\u001b]8;id=335612;file:///content/LivePortrait/src/live_portrait_pipeline.py#172\u001b\\\u001b[2m172\u001b[0m\u001b]8;;\u001b\\\n",
              "\u001b[2;36m           \u001b[0m\u001b[35m/tmp/gradio/c451f054969dd7ece6ad10b0125fd2bbf7bf678dfff72bd0ceae7ea0d12d26\u001b[0m \u001b[2m                             \u001b[0m\n",
              "\u001b[2;36m           \u001b[0m\u001b[35mf7/\u001b[0m\u001b[95md12.pkl\u001b[0m                                                                 \u001b[2m                             \u001b[0m\n"
            ],
            "text/html": [
              "<pre style=\"white-space:pre;overflow-x:auto;line-height:normal;font-family:Menlo,'DejaVu Sans Mono',consolas,'Courier New',monospace\"><span style=\"color: #7fbfbf; text-decoration-color: #7fbfbf\">           </span>Dump motion template to                                                    <a href=\"file:///content/LivePortrait/src/live_portrait_pipeline.py\" target=\"_blank\"><span style=\"color: #7f7f7f; text-decoration-color: #7f7f7f\">live_portrait_pipeline.py</span></a><span style=\"color: #7f7f7f; text-decoration-color: #7f7f7f\">:</span><a href=\"file:///content/LivePortrait/src/live_portrait_pipeline.py#172\" target=\"_blank\"><span style=\"color: #7f7f7f; text-decoration-color: #7f7f7f\">172</span></a>\n",
              "<span style=\"color: #7fbfbf; text-decoration-color: #7fbfbf\">           </span><span style=\"color: #800080; text-decoration-color: #800080\">/tmp/gradio/c451f054969dd7ece6ad10b0125fd2bbf7bf678dfff72bd0ceae7ea0d12d26</span> <span style=\"color: #7f7f7f; text-decoration-color: #7f7f7f\">                             </span>\n",
              "<span style=\"color: #7fbfbf; text-decoration-color: #7fbfbf\">           </span><span style=\"color: #800080; text-decoration-color: #800080\">f7/</span><span style=\"color: #ff00ff; text-decoration-color: #ff00ff\">d12.pkl</span>                                                                 <span style=\"color: #7f7f7f; text-decoration-color: #7f7f7f\">                             </span>\n",
              "</pre>\n"
            ]
          },
          "metadata": {}
        },
        {
          "output_type": "display_data",
          "data": {
            "text/plain": [
              "\u001b[2;36m          \u001b[0m\u001b[2;36m \u001b[0mPrepared pasteback mask done.                                              \u001b]8;id=542465;file:///content/LivePortrait/src/live_portrait_pipeline.py\u001b\\\u001b[2mlive_portrait_pipeline.py\u001b[0m\u001b]8;;\u001b\\\u001b[2m:\u001b[0m\u001b]8;id=134967;file:///content/LivePortrait/src/live_portrait_pipeline.py#183\u001b\\\u001b[2m183\u001b[0m\u001b]8;;\u001b\\\n"
            ],
            "text/html": [
              "<pre style=\"white-space:pre;overflow-x:auto;line-height:normal;font-family:Menlo,'DejaVu Sans Mono',consolas,'Courier New',monospace\"><span style=\"color: #7fbfbf; text-decoration-color: #7fbfbf\">           </span>Prepared pasteback mask done.                                              <a href=\"file:///content/LivePortrait/src/live_portrait_pipeline.py\" target=\"_blank\"><span style=\"color: #7f7f7f; text-decoration-color: #7f7f7f\">live_portrait_pipeline.py</span></a><span style=\"color: #7f7f7f; text-decoration-color: #7f7f7f\">:</span><a href=\"file:///content/LivePortrait/src/live_portrait_pipeline.py#183\" target=\"_blank\"><span style=\"color: #7f7f7f; text-decoration-color: #7f7f7f\">183</span></a>\n",
              "</pre>\n"
            ]
          },
          "metadata": {}
        },
        {
          "output_type": "display_data",
          "data": {
            "text/plain": [
              "\u001b[2;36m[14:24:05]\u001b[0m\u001b[2;36m \u001b[0mThe output of image-driven portrait animation is an image.                 \u001b]8;id=508886;file:///content/LivePortrait/src/live_portrait_pipeline.py\u001b\\\u001b[2mlive_portrait_pipeline.py\u001b[0m\u001b]8;;\u001b\\\u001b[2m:\u001b[0m\u001b]8;id=374120;file:///content/LivePortrait/src/live_portrait_pipeline.py#272\u001b\\\u001b[2m272\u001b[0m\u001b]8;;\u001b\\\n"
            ],
            "text/html": [
              "<pre style=\"white-space:pre;overflow-x:auto;line-height:normal;font-family:Menlo,'DejaVu Sans Mono',consolas,'Courier New',monospace\"><span style=\"color: #7fbfbf; text-decoration-color: #7fbfbf\">[14:24:05] </span>The output of image-driven portrait animation is an image.                 <a href=\"file:///content/LivePortrait/src/live_portrait_pipeline.py\" target=\"_blank\"><span style=\"color: #7f7f7f; text-decoration-color: #7f7f7f\">live_portrait_pipeline.py</span></a><span style=\"color: #7f7f7f; text-decoration-color: #7f7f7f\">:</span><a href=\"file:///content/LivePortrait/src/live_portrait_pipeline.py#272\" target=\"_blank\"><span style=\"color: #7f7f7f; text-decoration-color: #7f7f7f\">272</span></a>\n",
              "</pre>\n"
            ]
          },
          "metadata": {}
        },
        {
          "output_type": "display_data",
          "data": {
            "text/plain": [
              "Output()"
            ],
            "application/vnd.jupyter.widget-view+json": {
              "version_major": 2,
              "version_minor": 0,
              "model_id": "435c0e43b3a34b3990256cd5911a92a6"
            }
          },
          "metadata": {}
        },
        {
          "output_type": "display_data",
          "data": {
            "text/plain": [],
            "text/html": [
              "<pre style=\"white-space:pre;overflow-x:auto;line-height:normal;font-family:Menlo,'DejaVu Sans Mono',consolas,'Courier New',monospace\"></pre>\n"
            ]
          },
          "metadata": {}
        },
        {
          "output_type": "display_data",
          "data": {
            "text/plain": [
              "\n"
            ],
            "text/html": [
              "<pre style=\"white-space:pre;overflow-x:auto;line-height:normal;font-family:Menlo,'DejaVu Sans Mono',consolas,'Courier New',monospace\">\n",
              "</pre>\n"
            ]
          },
          "metadata": {}
        },
        {
          "output_type": "display_data",
          "data": {
            "text/plain": [
              "Output()"
            ],
            "application/vnd.jupyter.widget-view+json": {
              "version_major": 2,
              "version_minor": 0,
              "model_id": "fc73e339195540cb9c43e7fd6825d7fc"
            }
          },
          "metadata": {}
        },
        {
          "output_type": "display_data",
          "data": {
            "text/plain": [],
            "text/html": [
              "<pre style=\"white-space:pre;overflow-x:auto;line-height:normal;font-family:Menlo,'DejaVu Sans Mono',consolas,'Courier New',monospace\"></pre>\n"
            ]
          },
          "metadata": {}
        },
        {
          "output_type": "display_data",
          "data": {
            "text/plain": [
              "\n"
            ],
            "text/html": [
              "<pre style=\"white-space:pre;overflow-x:auto;line-height:normal;font-family:Menlo,'DejaVu Sans Mono',consolas,'Courier New',monospace\">\n",
              "</pre>\n"
            ]
          },
          "metadata": {}
        },
        {
          "output_type": "display_data",
          "data": {
            "text/plain": [
              "\u001b[2;36m[14:24:06]\u001b[0m\u001b[2;36m \u001b[0mAnimated image: animations/\u001b[1;36m1734888832386\u001b[0m--d12.jpg                          \u001b]8;id=187151;file:///content/LivePortrait/src/live_portrait_pipeline.py\u001b\\\u001b[2mlive_portrait_pipeline.py\u001b[0m\u001b]8;;\u001b\\\u001b[2m:\u001b[0m\u001b]8;id=756164;file:///content/LivePortrait/src/live_portrait_pipeline.py#515\u001b\\\u001b[2m515\u001b[0m\u001b]8;;\u001b\\\n"
            ],
            "text/html": [
              "<pre style=\"white-space:pre;overflow-x:auto;line-height:normal;font-family:Menlo,'DejaVu Sans Mono',consolas,'Courier New',monospace\"><span style=\"color: #7fbfbf; text-decoration-color: #7fbfbf\">[14:24:06] </span>Animated image: animations/<span style=\"color: #008080; text-decoration-color: #008080; font-weight: bold\">1734888832386</span>--d12.jpg                          <a href=\"file:///content/LivePortrait/src/live_portrait_pipeline.py\" target=\"_blank\"><span style=\"color: #7f7f7f; text-decoration-color: #7f7f7f\">live_portrait_pipeline.py</span></a><span style=\"color: #7f7f7f; text-decoration-color: #7f7f7f\">:</span><a href=\"file:///content/LivePortrait/src/live_portrait_pipeline.py#515\" target=\"_blank\"><span style=\"color: #7f7f7f; text-decoration-color: #7f7f7f\">515</span></a>\n",
              "</pre>\n"
            ]
          },
          "metadata": {}
        },
        {
          "output_type": "display_data",
          "data": {
            "text/plain": [
              "\u001b[2;36m          \u001b[0m\u001b[2;36m \u001b[0mAnimated image with concat: animations/\u001b[1;36m1734888832386\u001b[0m--d12_concat.jpg       \u001b]8;id=508948;file:///content/LivePortrait/src/live_portrait_pipeline.py\u001b\\\u001b[2mlive_portrait_pipeline.py\u001b[0m\u001b]8;;\u001b\\\u001b[2m:\u001b[0m\u001b]8;id=6494;file:///content/LivePortrait/src/live_portrait_pipeline.py#516\u001b\\\u001b[2m516\u001b[0m\u001b]8;;\u001b\\\n"
            ],
            "text/html": [
              "<pre style=\"white-space:pre;overflow-x:auto;line-height:normal;font-family:Menlo,'DejaVu Sans Mono',consolas,'Courier New',monospace\"><span style=\"color: #7fbfbf; text-decoration-color: #7fbfbf\">           </span>Animated image with concat: animations/<span style=\"color: #008080; text-decoration-color: #008080; font-weight: bold\">1734888832386</span>--d12_concat.jpg       <a href=\"file:///content/LivePortrait/src/live_portrait_pipeline.py\" target=\"_blank\"><span style=\"color: #7f7f7f; text-decoration-color: #7f7f7f\">live_portrait_pipeline.py</span></a><span style=\"color: #7f7f7f; text-decoration-color: #7f7f7f\">:</span><a href=\"file:///content/LivePortrait/src/live_portrait_pipeline.py#516\" target=\"_blank\"><span style=\"color: #7f7f7f; text-decoration-color: #7f7f7f\">516</span></a>\n",
              "</pre>\n"
            ]
          },
          "metadata": {}
        },
        {
          "output_type": "display_data",
          "data": {
            "text/plain": [
              "\u001b[2;36m[14:24:22]\u001b[0m\u001b[2;36m \u001b[0mLoad source image from                                                      \u001b]8;id=699935;file:///content/LivePortrait/src/live_portrait_pipeline.py\u001b\\\u001b[2mlive_portrait_pipeline.py\u001b[0m\u001b]8;;\u001b\\\u001b[2m:\u001b[0m\u001b]8;id=902864;file:///content/LivePortrait/src/live_portrait_pipeline.py#90\u001b\\\u001b[2m90\u001b[0m\u001b]8;;\u001b\\\n",
              "\u001b[2;36m           \u001b[0m\u001b[35m/tmp/gradio/046ee3542238170b1377a8bf32abefd5441f122b60bf24f994b5552ae3171dc\u001b[0m \u001b[2m                            \u001b[0m\n",
              "\u001b[2;36m           \u001b[0m\u001b[35m0/\u001b[0m\u001b[95m1734888832386.jpg\u001b[0m                                                         \u001b[2m                            \u001b[0m\n"
            ],
            "text/html": [
              "<pre style=\"white-space:pre;overflow-x:auto;line-height:normal;font-family:Menlo,'DejaVu Sans Mono',consolas,'Courier New',monospace\"><span style=\"color: #7fbfbf; text-decoration-color: #7fbfbf\">[14:24:22] </span>Load source image from                                                      <a href=\"file:///content/LivePortrait/src/live_portrait_pipeline.py\" target=\"_blank\"><span style=\"color: #7f7f7f; text-decoration-color: #7f7f7f\">live_portrait_pipeline.py</span></a><span style=\"color: #7f7f7f; text-decoration-color: #7f7f7f\">:</span><a href=\"file:///content/LivePortrait/src/live_portrait_pipeline.py#90\" target=\"_blank\"><span style=\"color: #7f7f7f; text-decoration-color: #7f7f7f\">90</span></a>\n",
              "<span style=\"color: #7fbfbf; text-decoration-color: #7fbfbf\">           </span><span style=\"color: #800080; text-decoration-color: #800080\">/tmp/gradio/046ee3542238170b1377a8bf32abefd5441f122b60bf24f994b5552ae3171dc</span> <span style=\"color: #7f7f7f; text-decoration-color: #7f7f7f\">                            </span>\n",
              "<span style=\"color: #7fbfbf; text-decoration-color: #7fbfbf\">           </span><span style=\"color: #800080; text-decoration-color: #800080\">0/</span><span style=\"color: #ff00ff; text-decoration-color: #ff00ff\">1734888832386.jpg</span>                                                         <span style=\"color: #7f7f7f; text-decoration-color: #7f7f7f\">                            </span>\n",
              "</pre>\n"
            ]
          },
          "metadata": {}
        },
        {
          "output_type": "display_data",
          "data": {
            "text/plain": [
              "\u001b[2;36m          \u001b[0m\u001b[2;36m \u001b[0mLoad driving image from                                                    \u001b]8;id=52247;file:///content/LivePortrait/src/live_portrait_pipeline.py\u001b\\\u001b[2mlive_portrait_pipeline.py\u001b[0m\u001b]8;;\u001b\\\u001b[2m:\u001b[0m\u001b]8;id=457688;file:///content/LivePortrait/src/live_portrait_pipeline.py#139\u001b\\\u001b[2m139\u001b[0m\u001b]8;;\u001b\\\n",
              "\u001b[2;36m           \u001b[0m\u001b[35m/tmp/gradio/26a53fdb24e180a2110d85d307ad42dedf3e9105f0a191010c54faa1e568b4\u001b[0m \u001b[2m                             \u001b[0m\n",
              "\u001b[2;36m           \u001b[0m\u001b[35m09/\u001b[0m\u001b[95md38.jpg\u001b[0m                                                                 \u001b[2m                             \u001b[0m\n"
            ],
            "text/html": [
              "<pre style=\"white-space:pre;overflow-x:auto;line-height:normal;font-family:Menlo,'DejaVu Sans Mono',consolas,'Courier New',monospace\"><span style=\"color: #7fbfbf; text-decoration-color: #7fbfbf\">           </span>Load driving image from                                                    <a href=\"file:///content/LivePortrait/src/live_portrait_pipeline.py\" target=\"_blank\"><span style=\"color: #7f7f7f; text-decoration-color: #7f7f7f\">live_portrait_pipeline.py</span></a><span style=\"color: #7f7f7f; text-decoration-color: #7f7f7f\">:</span><a href=\"file:///content/LivePortrait/src/live_portrait_pipeline.py#139\" target=\"_blank\"><span style=\"color: #7f7f7f; text-decoration-color: #7f7f7f\">139</span></a>\n",
              "<span style=\"color: #7fbfbf; text-decoration-color: #7fbfbf\">           </span><span style=\"color: #800080; text-decoration-color: #800080\">/tmp/gradio/26a53fdb24e180a2110d85d307ad42dedf3e9105f0a191010c54faa1e568b4</span> <span style=\"color: #7f7f7f; text-decoration-color: #7f7f7f\">                             </span>\n",
              "<span style=\"color: #7fbfbf; text-decoration-color: #7fbfbf\">           </span><span style=\"color: #800080; text-decoration-color: #800080\">09/</span><span style=\"color: #ff00ff; text-decoration-color: #ff00ff\">d38.jpg</span>                                                                 <span style=\"color: #7f7f7f; text-decoration-color: #7f7f7f\">                             </span>\n",
              "</pre>\n"
            ]
          },
          "metadata": {}
        },
        {
          "output_type": "display_data",
          "data": {
            "text/plain": [
              "\u001b[2;36m          \u001b[0m\u001b[2;36m \u001b[0mStart making driving motion template\u001b[33m...\u001b[0m                                    \u001b]8;id=712079;file:///content/LivePortrait/src/live_portrait_pipeline.py\u001b\\\u001b[2mlive_portrait_pipeline.py\u001b[0m\u001b]8;;\u001b\\\u001b[2m:\u001b[0m\u001b]8;id=277304;file:///content/LivePortrait/src/live_portrait_pipeline.py#144\u001b\\\u001b[2m144\u001b[0m\u001b]8;;\u001b\\\n"
            ],
            "text/html": [
              "<pre style=\"white-space:pre;overflow-x:auto;line-height:normal;font-family:Menlo,'DejaVu Sans Mono',consolas,'Courier New',monospace\"><span style=\"color: #7fbfbf; text-decoration-color: #7fbfbf\">           </span>Start making driving motion template<span style=\"color: #808000; text-decoration-color: #808000\">...</span>                                    <a href=\"file:///content/LivePortrait/src/live_portrait_pipeline.py\" target=\"_blank\"><span style=\"color: #7f7f7f; text-decoration-color: #7f7f7f\">live_portrait_pipeline.py</span></a><span style=\"color: #7f7f7f; text-decoration-color: #7f7f7f\">:</span><a href=\"file:///content/LivePortrait/src/live_portrait_pipeline.py#144\" target=\"_blank\"><span style=\"color: #7f7f7f; text-decoration-color: #7f7f7f\">144</span></a>\n",
              "</pre>\n"
            ]
          },
          "metadata": {}
        },
        {
          "output_type": "display_data",
          "data": {
            "text/plain": [
              "Output()"
            ],
            "application/vnd.jupyter.widget-view+json": {
              "version_major": 2,
              "version_minor": 0,
              "model_id": "d35e640b8e864655b1b3fb492ce8b8f3"
            }
          },
          "metadata": {}
        },
        {
          "output_type": "display_data",
          "data": {
            "text/plain": [],
            "text/html": [
              "<pre style=\"white-space:pre;overflow-x:auto;line-height:normal;font-family:Menlo,'DejaVu Sans Mono',consolas,'Courier New',monospace\"></pre>\n"
            ]
          },
          "metadata": {}
        },
        {
          "output_type": "display_data",
          "data": {
            "text/plain": [
              "\n"
            ],
            "text/html": [
              "<pre style=\"white-space:pre;overflow-x:auto;line-height:normal;font-family:Menlo,'DejaVu Sans Mono',consolas,'Courier New',monospace\">\n",
              "</pre>\n"
            ]
          },
          "metadata": {}
        },
        {
          "output_type": "display_data",
          "data": {
            "text/plain": [
              "\u001b[2;36m          \u001b[0m\u001b[2;36m \u001b[0mDump motion template to                                                    \u001b]8;id=887542;file:///content/LivePortrait/src/live_portrait_pipeline.py\u001b\\\u001b[2mlive_portrait_pipeline.py\u001b[0m\u001b]8;;\u001b\\\u001b[2m:\u001b[0m\u001b]8;id=995000;file:///content/LivePortrait/src/live_portrait_pipeline.py#172\u001b\\\u001b[2m172\u001b[0m\u001b]8;;\u001b\\\n",
              "\u001b[2;36m           \u001b[0m\u001b[35m/tmp/gradio/26a53fdb24e180a2110d85d307ad42dedf3e9105f0a191010c54faa1e568b4\u001b[0m \u001b[2m                             \u001b[0m\n",
              "\u001b[2;36m           \u001b[0m\u001b[35m09/\u001b[0m\u001b[95md38.pkl\u001b[0m                                                                 \u001b[2m                             \u001b[0m\n"
            ],
            "text/html": [
              "<pre style=\"white-space:pre;overflow-x:auto;line-height:normal;font-family:Menlo,'DejaVu Sans Mono',consolas,'Courier New',monospace\"><span style=\"color: #7fbfbf; text-decoration-color: #7fbfbf\">           </span>Dump motion template to                                                    <a href=\"file:///content/LivePortrait/src/live_portrait_pipeline.py\" target=\"_blank\"><span style=\"color: #7f7f7f; text-decoration-color: #7f7f7f\">live_portrait_pipeline.py</span></a><span style=\"color: #7f7f7f; text-decoration-color: #7f7f7f\">:</span><a href=\"file:///content/LivePortrait/src/live_portrait_pipeline.py#172\" target=\"_blank\"><span style=\"color: #7f7f7f; text-decoration-color: #7f7f7f\">172</span></a>\n",
              "<span style=\"color: #7fbfbf; text-decoration-color: #7fbfbf\">           </span><span style=\"color: #800080; text-decoration-color: #800080\">/tmp/gradio/26a53fdb24e180a2110d85d307ad42dedf3e9105f0a191010c54faa1e568b4</span> <span style=\"color: #7f7f7f; text-decoration-color: #7f7f7f\">                             </span>\n",
              "<span style=\"color: #7fbfbf; text-decoration-color: #7fbfbf\">           </span><span style=\"color: #800080; text-decoration-color: #800080\">09/</span><span style=\"color: #ff00ff; text-decoration-color: #ff00ff\">d38.pkl</span>                                                                 <span style=\"color: #7f7f7f; text-decoration-color: #7f7f7f\">                             </span>\n",
              "</pre>\n"
            ]
          },
          "metadata": {}
        },
        {
          "output_type": "display_data",
          "data": {
            "text/plain": [
              "\u001b[2;36m          \u001b[0m\u001b[2;36m \u001b[0mPrepared pasteback mask done.                                              \u001b]8;id=441699;file:///content/LivePortrait/src/live_portrait_pipeline.py\u001b\\\u001b[2mlive_portrait_pipeline.py\u001b[0m\u001b]8;;\u001b\\\u001b[2m:\u001b[0m\u001b]8;id=435927;file:///content/LivePortrait/src/live_portrait_pipeline.py#183\u001b\\\u001b[2m183\u001b[0m\u001b]8;;\u001b\\\n"
            ],
            "text/html": [
              "<pre style=\"white-space:pre;overflow-x:auto;line-height:normal;font-family:Menlo,'DejaVu Sans Mono',consolas,'Courier New',monospace\"><span style=\"color: #7fbfbf; text-decoration-color: #7fbfbf\">           </span>Prepared pasteback mask done.                                              <a href=\"file:///content/LivePortrait/src/live_portrait_pipeline.py\" target=\"_blank\"><span style=\"color: #7f7f7f; text-decoration-color: #7f7f7f\">live_portrait_pipeline.py</span></a><span style=\"color: #7f7f7f; text-decoration-color: #7f7f7f\">:</span><a href=\"file:///content/LivePortrait/src/live_portrait_pipeline.py#183\" target=\"_blank\"><span style=\"color: #7f7f7f; text-decoration-color: #7f7f7f\">183</span></a>\n",
              "</pre>\n"
            ]
          },
          "metadata": {}
        },
        {
          "output_type": "display_data",
          "data": {
            "text/plain": [
              "\u001b[2;36m[14:24:23]\u001b[0m\u001b[2;36m \u001b[0mThe output of image-driven portrait animation is an image.                 \u001b]8;id=838751;file:///content/LivePortrait/src/live_portrait_pipeline.py\u001b\\\u001b[2mlive_portrait_pipeline.py\u001b[0m\u001b]8;;\u001b\\\u001b[2m:\u001b[0m\u001b]8;id=171669;file:///content/LivePortrait/src/live_portrait_pipeline.py#272\u001b\\\u001b[2m272\u001b[0m\u001b]8;;\u001b\\\n"
            ],
            "text/html": [
              "<pre style=\"white-space:pre;overflow-x:auto;line-height:normal;font-family:Menlo,'DejaVu Sans Mono',consolas,'Courier New',monospace\"><span style=\"color: #7fbfbf; text-decoration-color: #7fbfbf\">[14:24:23] </span>The output of image-driven portrait animation is an image.                 <a href=\"file:///content/LivePortrait/src/live_portrait_pipeline.py\" target=\"_blank\"><span style=\"color: #7f7f7f; text-decoration-color: #7f7f7f\">live_portrait_pipeline.py</span></a><span style=\"color: #7f7f7f; text-decoration-color: #7f7f7f\">:</span><a href=\"file:///content/LivePortrait/src/live_portrait_pipeline.py#272\" target=\"_blank\"><span style=\"color: #7f7f7f; text-decoration-color: #7f7f7f\">272</span></a>\n",
              "</pre>\n"
            ]
          },
          "metadata": {}
        },
        {
          "output_type": "display_data",
          "data": {
            "text/plain": [
              "Output()"
            ],
            "application/vnd.jupyter.widget-view+json": {
              "version_major": 2,
              "version_minor": 0,
              "model_id": "c29b2fdafcb24843b3add381141dc14f"
            }
          },
          "metadata": {}
        },
        {
          "output_type": "display_data",
          "data": {
            "text/plain": [],
            "text/html": [
              "<pre style=\"white-space:pre;overflow-x:auto;line-height:normal;font-family:Menlo,'DejaVu Sans Mono',consolas,'Courier New',monospace\"></pre>\n"
            ]
          },
          "metadata": {}
        },
        {
          "output_type": "display_data",
          "data": {
            "text/plain": [
              "\n"
            ],
            "text/html": [
              "<pre style=\"white-space:pre;overflow-x:auto;line-height:normal;font-family:Menlo,'DejaVu Sans Mono',consolas,'Courier New',monospace\">\n",
              "</pre>\n"
            ]
          },
          "metadata": {}
        },
        {
          "output_type": "display_data",
          "data": {
            "text/plain": [
              "Output()"
            ],
            "application/vnd.jupyter.widget-view+json": {
              "version_major": 2,
              "version_minor": 0,
              "model_id": "60ea96412d21417c9da4064267e39bd2"
            }
          },
          "metadata": {}
        },
        {
          "output_type": "display_data",
          "data": {
            "text/plain": [],
            "text/html": [
              "<pre style=\"white-space:pre;overflow-x:auto;line-height:normal;font-family:Menlo,'DejaVu Sans Mono',consolas,'Courier New',monospace\"></pre>\n"
            ]
          },
          "metadata": {}
        },
        {
          "output_type": "display_data",
          "data": {
            "text/plain": [
              "\n"
            ],
            "text/html": [
              "<pre style=\"white-space:pre;overflow-x:auto;line-height:normal;font-family:Menlo,'DejaVu Sans Mono',consolas,'Courier New',monospace\">\n",
              "</pre>\n"
            ]
          },
          "metadata": {}
        },
        {
          "output_type": "display_data",
          "data": {
            "text/plain": [
              "\u001b[2;36m          \u001b[0m\u001b[2;36m \u001b[0mAnimated image: animations/\u001b[1;36m1734888832386\u001b[0m--d38.jpg                          \u001b]8;id=893951;file:///content/LivePortrait/src/live_portrait_pipeline.py\u001b\\\u001b[2mlive_portrait_pipeline.py\u001b[0m\u001b]8;;\u001b\\\u001b[2m:\u001b[0m\u001b]8;id=839131;file:///content/LivePortrait/src/live_portrait_pipeline.py#515\u001b\\\u001b[2m515\u001b[0m\u001b]8;;\u001b\\\n"
            ],
            "text/html": [
              "<pre style=\"white-space:pre;overflow-x:auto;line-height:normal;font-family:Menlo,'DejaVu Sans Mono',consolas,'Courier New',monospace\"><span style=\"color: #7fbfbf; text-decoration-color: #7fbfbf\">           </span>Animated image: animations/<span style=\"color: #008080; text-decoration-color: #008080; font-weight: bold\">1734888832386</span>--d38.jpg                          <a href=\"file:///content/LivePortrait/src/live_portrait_pipeline.py\" target=\"_blank\"><span style=\"color: #7f7f7f; text-decoration-color: #7f7f7f\">live_portrait_pipeline.py</span></a><span style=\"color: #7f7f7f; text-decoration-color: #7f7f7f\">:</span><a href=\"file:///content/LivePortrait/src/live_portrait_pipeline.py#515\" target=\"_blank\"><span style=\"color: #7f7f7f; text-decoration-color: #7f7f7f\">515</span></a>\n",
              "</pre>\n"
            ]
          },
          "metadata": {}
        },
        {
          "output_type": "display_data",
          "data": {
            "text/plain": [
              "\u001b[2;36m          \u001b[0m\u001b[2;36m \u001b[0mAnimated image with concat: animations/\u001b[1;36m1734888832386\u001b[0m--d38_concat.jpg       \u001b]8;id=873642;file:///content/LivePortrait/src/live_portrait_pipeline.py\u001b\\\u001b[2mlive_portrait_pipeline.py\u001b[0m\u001b]8;;\u001b\\\u001b[2m:\u001b[0m\u001b]8;id=332018;file:///content/LivePortrait/src/live_portrait_pipeline.py#516\u001b\\\u001b[2m516\u001b[0m\u001b]8;;\u001b\\\n"
            ],
            "text/html": [
              "<pre style=\"white-space:pre;overflow-x:auto;line-height:normal;font-family:Menlo,'DejaVu Sans Mono',consolas,'Courier New',monospace\"><span style=\"color: #7fbfbf; text-decoration-color: #7fbfbf\">           </span>Animated image with concat: animations/<span style=\"color: #008080; text-decoration-color: #008080; font-weight: bold\">1734888832386</span>--d38_concat.jpg       <a href=\"file:///content/LivePortrait/src/live_portrait_pipeline.py\" target=\"_blank\"><span style=\"color: #7f7f7f; text-decoration-color: #7f7f7f\">live_portrait_pipeline.py</span></a><span style=\"color: #7f7f7f; text-decoration-color: #7f7f7f\">:</span><a href=\"file:///content/LivePortrait/src/live_portrait_pipeline.py#516\" target=\"_blank\"><span style=\"color: #7f7f7f; text-decoration-color: #7f7f7f\">516</span></a>\n",
              "</pre>\n"
            ]
          },
          "metadata": {}
        },
        {
          "output_type": "display_data",
          "data": {
            "text/plain": [
              "\u001b[2;36m[14:24:38]\u001b[0m\u001b[2;36m \u001b[0mLoad source image from                                                      \u001b]8;id=464539;file:///content/LivePortrait/src/live_portrait_pipeline.py\u001b\\\u001b[2mlive_portrait_pipeline.py\u001b[0m\u001b]8;;\u001b\\\u001b[2m:\u001b[0m\u001b]8;id=741543;file:///content/LivePortrait/src/live_portrait_pipeline.py#90\u001b\\\u001b[2m90\u001b[0m\u001b]8;;\u001b\\\n",
              "\u001b[2;36m           \u001b[0m\u001b[35m/tmp/gradio/046ee3542238170b1377a8bf32abefd5441f122b60bf24f994b5552ae3171dc\u001b[0m \u001b[2m                            \u001b[0m\n",
              "\u001b[2;36m           \u001b[0m\u001b[35m0/\u001b[0m\u001b[95m1734888832386.jpg\u001b[0m                                                         \u001b[2m                            \u001b[0m\n"
            ],
            "text/html": [
              "<pre style=\"white-space:pre;overflow-x:auto;line-height:normal;font-family:Menlo,'DejaVu Sans Mono',consolas,'Courier New',monospace\"><span style=\"color: #7fbfbf; text-decoration-color: #7fbfbf\">[14:24:38] </span>Load source image from                                                      <a href=\"file:///content/LivePortrait/src/live_portrait_pipeline.py\" target=\"_blank\"><span style=\"color: #7f7f7f; text-decoration-color: #7f7f7f\">live_portrait_pipeline.py</span></a><span style=\"color: #7f7f7f; text-decoration-color: #7f7f7f\">:</span><a href=\"file:///content/LivePortrait/src/live_portrait_pipeline.py#90\" target=\"_blank\"><span style=\"color: #7f7f7f; text-decoration-color: #7f7f7f\">90</span></a>\n",
              "<span style=\"color: #7fbfbf; text-decoration-color: #7fbfbf\">           </span><span style=\"color: #800080; text-decoration-color: #800080\">/tmp/gradio/046ee3542238170b1377a8bf32abefd5441f122b60bf24f994b5552ae3171dc</span> <span style=\"color: #7f7f7f; text-decoration-color: #7f7f7f\">                            </span>\n",
              "<span style=\"color: #7fbfbf; text-decoration-color: #7fbfbf\">           </span><span style=\"color: #800080; text-decoration-color: #800080\">0/</span><span style=\"color: #ff00ff; text-decoration-color: #ff00ff\">1734888832386.jpg</span>                                                         <span style=\"color: #7f7f7f; text-decoration-color: #7f7f7f\">                            </span>\n",
              "</pre>\n"
            ]
          },
          "metadata": {}
        },
        {
          "output_type": "display_data",
          "data": {
            "text/plain": [
              "\u001b[2;36m          \u001b[0m\u001b[2;36m \u001b[0mLoad driving image from                                                    \u001b]8;id=754136;file:///content/LivePortrait/src/live_portrait_pipeline.py\u001b\\\u001b[2mlive_portrait_pipeline.py\u001b[0m\u001b]8;;\u001b\\\u001b[2m:\u001b[0m\u001b]8;id=964154;file:///content/LivePortrait/src/live_portrait_pipeline.py#139\u001b\\\u001b[2m139\u001b[0m\u001b]8;;\u001b\\\n",
              "\u001b[2;36m           \u001b[0m\u001b[35m/tmp/gradio/abf99ca1b72661934ba3fc1ebc1558bd8bb73a3c043dc506820756d0105b05\u001b[0m \u001b[2m                             \u001b[0m\n",
              "\u001b[2;36m           \u001b[0m\u001b[35mf3/\u001b[0m\u001b[95md8.jpg\u001b[0m                                                                  \u001b[2m                             \u001b[0m\n"
            ],
            "text/html": [
              "<pre style=\"white-space:pre;overflow-x:auto;line-height:normal;font-family:Menlo,'DejaVu Sans Mono',consolas,'Courier New',monospace\"><span style=\"color: #7fbfbf; text-decoration-color: #7fbfbf\">           </span>Load driving image from                                                    <a href=\"file:///content/LivePortrait/src/live_portrait_pipeline.py\" target=\"_blank\"><span style=\"color: #7f7f7f; text-decoration-color: #7f7f7f\">live_portrait_pipeline.py</span></a><span style=\"color: #7f7f7f; text-decoration-color: #7f7f7f\">:</span><a href=\"file:///content/LivePortrait/src/live_portrait_pipeline.py#139\" target=\"_blank\"><span style=\"color: #7f7f7f; text-decoration-color: #7f7f7f\">139</span></a>\n",
              "<span style=\"color: #7fbfbf; text-decoration-color: #7fbfbf\">           </span><span style=\"color: #800080; text-decoration-color: #800080\">/tmp/gradio/abf99ca1b72661934ba3fc1ebc1558bd8bb73a3c043dc506820756d0105b05</span> <span style=\"color: #7f7f7f; text-decoration-color: #7f7f7f\">                             </span>\n",
              "<span style=\"color: #7fbfbf; text-decoration-color: #7fbfbf\">           </span><span style=\"color: #800080; text-decoration-color: #800080\">f3/</span><span style=\"color: #ff00ff; text-decoration-color: #ff00ff\">d8.jpg</span>                                                                  <span style=\"color: #7f7f7f; text-decoration-color: #7f7f7f\">                             </span>\n",
              "</pre>\n"
            ]
          },
          "metadata": {}
        },
        {
          "output_type": "display_data",
          "data": {
            "text/plain": [
              "\u001b[2;36m          \u001b[0m\u001b[2;36m \u001b[0mStart making driving motion template\u001b[33m...\u001b[0m                                    \u001b]8;id=56083;file:///content/LivePortrait/src/live_portrait_pipeline.py\u001b\\\u001b[2mlive_portrait_pipeline.py\u001b[0m\u001b]8;;\u001b\\\u001b[2m:\u001b[0m\u001b]8;id=517218;file:///content/LivePortrait/src/live_portrait_pipeline.py#144\u001b\\\u001b[2m144\u001b[0m\u001b]8;;\u001b\\\n"
            ],
            "text/html": [
              "<pre style=\"white-space:pre;overflow-x:auto;line-height:normal;font-family:Menlo,'DejaVu Sans Mono',consolas,'Courier New',monospace\"><span style=\"color: #7fbfbf; text-decoration-color: #7fbfbf\">           </span>Start making driving motion template<span style=\"color: #808000; text-decoration-color: #808000\">...</span>                                    <a href=\"file:///content/LivePortrait/src/live_portrait_pipeline.py\" target=\"_blank\"><span style=\"color: #7f7f7f; text-decoration-color: #7f7f7f\">live_portrait_pipeline.py</span></a><span style=\"color: #7f7f7f; text-decoration-color: #7f7f7f\">:</span><a href=\"file:///content/LivePortrait/src/live_portrait_pipeline.py#144\" target=\"_blank\"><span style=\"color: #7f7f7f; text-decoration-color: #7f7f7f\">144</span></a>\n",
              "</pre>\n"
            ]
          },
          "metadata": {}
        },
        {
          "output_type": "display_data",
          "data": {
            "text/plain": [
              "Output()"
            ],
            "application/vnd.jupyter.widget-view+json": {
              "version_major": 2,
              "version_minor": 0,
              "model_id": "58ea9234fa954fa79203c506d774edc5"
            }
          },
          "metadata": {}
        },
        {
          "output_type": "display_data",
          "data": {
            "text/plain": [],
            "text/html": [
              "<pre style=\"white-space:pre;overflow-x:auto;line-height:normal;font-family:Menlo,'DejaVu Sans Mono',consolas,'Courier New',monospace\"></pre>\n"
            ]
          },
          "metadata": {}
        },
        {
          "output_type": "display_data",
          "data": {
            "text/plain": [
              "\n"
            ],
            "text/html": [
              "<pre style=\"white-space:pre;overflow-x:auto;line-height:normal;font-family:Menlo,'DejaVu Sans Mono',consolas,'Courier New',monospace\">\n",
              "</pre>\n"
            ]
          },
          "metadata": {}
        },
        {
          "output_type": "display_data",
          "data": {
            "text/plain": [
              "\u001b[2;36m[14:24:39]\u001b[0m\u001b[2;36m \u001b[0mDump motion template to                                                    \u001b]8;id=742451;file:///content/LivePortrait/src/live_portrait_pipeline.py\u001b\\\u001b[2mlive_portrait_pipeline.py\u001b[0m\u001b]8;;\u001b\\\u001b[2m:\u001b[0m\u001b]8;id=266589;file:///content/LivePortrait/src/live_portrait_pipeline.py#172\u001b\\\u001b[2m172\u001b[0m\u001b]8;;\u001b\\\n",
              "\u001b[2;36m           \u001b[0m\u001b[35m/tmp/gradio/abf99ca1b72661934ba3fc1ebc1558bd8bb73a3c043dc506820756d0105b05\u001b[0m \u001b[2m                             \u001b[0m\n",
              "\u001b[2;36m           \u001b[0m\u001b[35mf3/\u001b[0m\u001b[95md8.pkl\u001b[0m                                                                  \u001b[2m                             \u001b[0m\n"
            ],
            "text/html": [
              "<pre style=\"white-space:pre;overflow-x:auto;line-height:normal;font-family:Menlo,'DejaVu Sans Mono',consolas,'Courier New',monospace\"><span style=\"color: #7fbfbf; text-decoration-color: #7fbfbf\">[14:24:39] </span>Dump motion template to                                                    <a href=\"file:///content/LivePortrait/src/live_portrait_pipeline.py\" target=\"_blank\"><span style=\"color: #7f7f7f; text-decoration-color: #7f7f7f\">live_portrait_pipeline.py</span></a><span style=\"color: #7f7f7f; text-decoration-color: #7f7f7f\">:</span><a href=\"file:///content/LivePortrait/src/live_portrait_pipeline.py#172\" target=\"_blank\"><span style=\"color: #7f7f7f; text-decoration-color: #7f7f7f\">172</span></a>\n",
              "<span style=\"color: #7fbfbf; text-decoration-color: #7fbfbf\">           </span><span style=\"color: #800080; text-decoration-color: #800080\">/tmp/gradio/abf99ca1b72661934ba3fc1ebc1558bd8bb73a3c043dc506820756d0105b05</span> <span style=\"color: #7f7f7f; text-decoration-color: #7f7f7f\">                             </span>\n",
              "<span style=\"color: #7fbfbf; text-decoration-color: #7fbfbf\">           </span><span style=\"color: #800080; text-decoration-color: #800080\">f3/</span><span style=\"color: #ff00ff; text-decoration-color: #ff00ff\">d8.pkl</span>                                                                  <span style=\"color: #7f7f7f; text-decoration-color: #7f7f7f\">                             </span>\n",
              "</pre>\n"
            ]
          },
          "metadata": {}
        },
        {
          "output_type": "display_data",
          "data": {
            "text/plain": [
              "\u001b[2;36m          \u001b[0m\u001b[2;36m \u001b[0mPrepared pasteback mask done.                                              \u001b]8;id=521742;file:///content/LivePortrait/src/live_portrait_pipeline.py\u001b\\\u001b[2mlive_portrait_pipeline.py\u001b[0m\u001b]8;;\u001b\\\u001b[2m:\u001b[0m\u001b]8;id=215454;file:///content/LivePortrait/src/live_portrait_pipeline.py#183\u001b\\\u001b[2m183\u001b[0m\u001b]8;;\u001b\\\n"
            ],
            "text/html": [
              "<pre style=\"white-space:pre;overflow-x:auto;line-height:normal;font-family:Menlo,'DejaVu Sans Mono',consolas,'Courier New',monospace\"><span style=\"color: #7fbfbf; text-decoration-color: #7fbfbf\">           </span>Prepared pasteback mask done.                                              <a href=\"file:///content/LivePortrait/src/live_portrait_pipeline.py\" target=\"_blank\"><span style=\"color: #7f7f7f; text-decoration-color: #7f7f7f\">live_portrait_pipeline.py</span></a><span style=\"color: #7f7f7f; text-decoration-color: #7f7f7f\">:</span><a href=\"file:///content/LivePortrait/src/live_portrait_pipeline.py#183\" target=\"_blank\"><span style=\"color: #7f7f7f; text-decoration-color: #7f7f7f\">183</span></a>\n",
              "</pre>\n"
            ]
          },
          "metadata": {}
        },
        {
          "output_type": "display_data",
          "data": {
            "text/plain": [
              "\u001b[2;36m[14:24:40]\u001b[0m\u001b[2;36m \u001b[0mThe output of image-driven portrait animation is an image.                 \u001b]8;id=395795;file:///content/LivePortrait/src/live_portrait_pipeline.py\u001b\\\u001b[2mlive_portrait_pipeline.py\u001b[0m\u001b]8;;\u001b\\\u001b[2m:\u001b[0m\u001b]8;id=180559;file:///content/LivePortrait/src/live_portrait_pipeline.py#272\u001b\\\u001b[2m272\u001b[0m\u001b]8;;\u001b\\\n"
            ],
            "text/html": [
              "<pre style=\"white-space:pre;overflow-x:auto;line-height:normal;font-family:Menlo,'DejaVu Sans Mono',consolas,'Courier New',monospace\"><span style=\"color: #7fbfbf; text-decoration-color: #7fbfbf\">[14:24:40] </span>The output of image-driven portrait animation is an image.                 <a href=\"file:///content/LivePortrait/src/live_portrait_pipeline.py\" target=\"_blank\"><span style=\"color: #7f7f7f; text-decoration-color: #7f7f7f\">live_portrait_pipeline.py</span></a><span style=\"color: #7f7f7f; text-decoration-color: #7f7f7f\">:</span><a href=\"file:///content/LivePortrait/src/live_portrait_pipeline.py#272\" target=\"_blank\"><span style=\"color: #7f7f7f; text-decoration-color: #7f7f7f\">272</span></a>\n",
              "</pre>\n"
            ]
          },
          "metadata": {}
        },
        {
          "output_type": "display_data",
          "data": {
            "text/plain": [
              "Output()"
            ],
            "application/vnd.jupyter.widget-view+json": {
              "version_major": 2,
              "version_minor": 0,
              "model_id": "5a9622ef176048d7a9921c8c5672210d"
            }
          },
          "metadata": {}
        },
        {
          "output_type": "display_data",
          "data": {
            "text/plain": [],
            "text/html": [
              "<pre style=\"white-space:pre;overflow-x:auto;line-height:normal;font-family:Menlo,'DejaVu Sans Mono',consolas,'Courier New',monospace\"></pre>\n"
            ]
          },
          "metadata": {}
        },
        {
          "output_type": "display_data",
          "data": {
            "text/plain": [
              "\n"
            ],
            "text/html": [
              "<pre style=\"white-space:pre;overflow-x:auto;line-height:normal;font-family:Menlo,'DejaVu Sans Mono',consolas,'Courier New',monospace\">\n",
              "</pre>\n"
            ]
          },
          "metadata": {}
        },
        {
          "output_type": "display_data",
          "data": {
            "text/plain": [
              "Output()"
            ],
            "application/vnd.jupyter.widget-view+json": {
              "version_major": 2,
              "version_minor": 0,
              "model_id": "cf31f7644be547b89b9b8dc66e97ec87"
            }
          },
          "metadata": {}
        },
        {
          "output_type": "display_data",
          "data": {
            "text/plain": [],
            "text/html": [
              "<pre style=\"white-space:pre;overflow-x:auto;line-height:normal;font-family:Menlo,'DejaVu Sans Mono',consolas,'Courier New',monospace\"></pre>\n"
            ]
          },
          "metadata": {}
        },
        {
          "output_type": "display_data",
          "data": {
            "text/plain": [
              "\n"
            ],
            "text/html": [
              "<pre style=\"white-space:pre;overflow-x:auto;line-height:normal;font-family:Menlo,'DejaVu Sans Mono',consolas,'Courier New',monospace\">\n",
              "</pre>\n"
            ]
          },
          "metadata": {}
        },
        {
          "output_type": "display_data",
          "data": {
            "text/plain": [
              "\u001b[2;36m[14:24:43]\u001b[0m\u001b[2;36m \u001b[0mAnimated image: animations/\u001b[1;36m1734888832386\u001b[0m--d8.jpg                           \u001b]8;id=996893;file:///content/LivePortrait/src/live_portrait_pipeline.py\u001b\\\u001b[2mlive_portrait_pipeline.py\u001b[0m\u001b]8;;\u001b\\\u001b[2m:\u001b[0m\u001b]8;id=704356;file:///content/LivePortrait/src/live_portrait_pipeline.py#515\u001b\\\u001b[2m515\u001b[0m\u001b]8;;\u001b\\\n"
            ],
            "text/html": [
              "<pre style=\"white-space:pre;overflow-x:auto;line-height:normal;font-family:Menlo,'DejaVu Sans Mono',consolas,'Courier New',monospace\"><span style=\"color: #7fbfbf; text-decoration-color: #7fbfbf\">[14:24:43] </span>Animated image: animations/<span style=\"color: #008080; text-decoration-color: #008080; font-weight: bold\">1734888832386</span>--d8.jpg                           <a href=\"file:///content/LivePortrait/src/live_portrait_pipeline.py\" target=\"_blank\"><span style=\"color: #7f7f7f; text-decoration-color: #7f7f7f\">live_portrait_pipeline.py</span></a><span style=\"color: #7f7f7f; text-decoration-color: #7f7f7f\">:</span><a href=\"file:///content/LivePortrait/src/live_portrait_pipeline.py#515\" target=\"_blank\"><span style=\"color: #7f7f7f; text-decoration-color: #7f7f7f\">515</span></a>\n",
              "</pre>\n"
            ]
          },
          "metadata": {}
        },
        {
          "output_type": "display_data",
          "data": {
            "text/plain": [
              "\u001b[2;36m          \u001b[0m\u001b[2;36m \u001b[0mAnimated image with concat: animations/\u001b[1;36m1734888832386\u001b[0m--d8_concat.jpg        \u001b]8;id=487592;file:///content/LivePortrait/src/live_portrait_pipeline.py\u001b\\\u001b[2mlive_portrait_pipeline.py\u001b[0m\u001b]8;;\u001b\\\u001b[2m:\u001b[0m\u001b]8;id=792392;file:///content/LivePortrait/src/live_portrait_pipeline.py#516\u001b\\\u001b[2m516\u001b[0m\u001b]8;;\u001b\\\n"
            ],
            "text/html": [
              "<pre style=\"white-space:pre;overflow-x:auto;line-height:normal;font-family:Menlo,'DejaVu Sans Mono',consolas,'Courier New',monospace\"><span style=\"color: #7fbfbf; text-decoration-color: #7fbfbf\">           </span>Animated image with concat: animations/<span style=\"color: #008080; text-decoration-color: #008080; font-weight: bold\">1734888832386</span>--d8_concat.jpg        <a href=\"file:///content/LivePortrait/src/live_portrait_pipeline.py\" target=\"_blank\"><span style=\"color: #7f7f7f; text-decoration-color: #7f7f7f\">live_portrait_pipeline.py</span></a><span style=\"color: #7f7f7f; text-decoration-color: #7f7f7f\">:</span><a href=\"file:///content/LivePortrait/src/live_portrait_pipeline.py#516\" target=\"_blank\"><span style=\"color: #7f7f7f; text-decoration-color: #7f7f7f\">516</span></a>\n",
              "</pre>\n"
            ]
          },
          "metadata": {}
        },
        {
          "output_type": "display_data",
          "data": {
            "text/plain": [
              "\u001b[2;36m[14:25:07]\u001b[0m\u001b[2;36m \u001b[0mLoad source image from                                                      \u001b]8;id=838511;file:///content/LivePortrait/src/live_portrait_pipeline.py\u001b\\\u001b[2mlive_portrait_pipeline.py\u001b[0m\u001b]8;;\u001b\\\u001b[2m:\u001b[0m\u001b]8;id=460751;file:///content/LivePortrait/src/live_portrait_pipeline.py#90\u001b\\\u001b[2m90\u001b[0m\u001b]8;;\u001b\\\n",
              "\u001b[2;36m           \u001b[0m\u001b[35m/tmp/gradio/046ee3542238170b1377a8bf32abefd5441f122b60bf24f994b5552ae3171dc\u001b[0m \u001b[2m                            \u001b[0m\n",
              "\u001b[2;36m           \u001b[0m\u001b[35m0/\u001b[0m\u001b[95m1734888832386.jpg\u001b[0m                                                         \u001b[2m                            \u001b[0m\n"
            ],
            "text/html": [
              "<pre style=\"white-space:pre;overflow-x:auto;line-height:normal;font-family:Menlo,'DejaVu Sans Mono',consolas,'Courier New',monospace\"><span style=\"color: #7fbfbf; text-decoration-color: #7fbfbf\">[14:25:07] </span>Load source image from                                                      <a href=\"file:///content/LivePortrait/src/live_portrait_pipeline.py\" target=\"_blank\"><span style=\"color: #7f7f7f; text-decoration-color: #7f7f7f\">live_portrait_pipeline.py</span></a><span style=\"color: #7f7f7f; text-decoration-color: #7f7f7f\">:</span><a href=\"file:///content/LivePortrait/src/live_portrait_pipeline.py#90\" target=\"_blank\"><span style=\"color: #7f7f7f; text-decoration-color: #7f7f7f\">90</span></a>\n",
              "<span style=\"color: #7fbfbf; text-decoration-color: #7fbfbf\">           </span><span style=\"color: #800080; text-decoration-color: #800080\">/tmp/gradio/046ee3542238170b1377a8bf32abefd5441f122b60bf24f994b5552ae3171dc</span> <span style=\"color: #7f7f7f; text-decoration-color: #7f7f7f\">                            </span>\n",
              "<span style=\"color: #7fbfbf; text-decoration-color: #7fbfbf\">           </span><span style=\"color: #800080; text-decoration-color: #800080\">0/</span><span style=\"color: #ff00ff; text-decoration-color: #ff00ff\">1734888832386.jpg</span>                                                         <span style=\"color: #7f7f7f; text-decoration-color: #7f7f7f\">                            </span>\n",
              "</pre>\n"
            ]
          },
          "metadata": {}
        },
        {
          "output_type": "display_data",
          "data": {
            "text/plain": [
              "\u001b[2;36m          \u001b[0m\u001b[2;36m \u001b[0mLoad driving image from                                                    \u001b]8;id=300739;file:///content/LivePortrait/src/live_portrait_pipeline.py\u001b\\\u001b[2mlive_portrait_pipeline.py\u001b[0m\u001b]8;;\u001b\\\u001b[2m:\u001b[0m\u001b]8;id=16857;file:///content/LivePortrait/src/live_portrait_pipeline.py#139\u001b\\\u001b[2m139\u001b[0m\u001b]8;;\u001b\\\n",
              "\u001b[2;36m           \u001b[0m\u001b[35m/tmp/gradio/f90bb0840bbff380f4f64ae2791f2baa2fa7658aa70d612414b2be3a92f7db\u001b[0m \u001b[2m                             \u001b[0m\n",
              "\u001b[2;36m           \u001b[0m\u001b[35m2e/\u001b[0m\u001b[95md19.jpg\u001b[0m                                                                 \u001b[2m                             \u001b[0m\n"
            ],
            "text/html": [
              "<pre style=\"white-space:pre;overflow-x:auto;line-height:normal;font-family:Menlo,'DejaVu Sans Mono',consolas,'Courier New',monospace\"><span style=\"color: #7fbfbf; text-decoration-color: #7fbfbf\">           </span>Load driving image from                                                    <a href=\"file:///content/LivePortrait/src/live_portrait_pipeline.py\" target=\"_blank\"><span style=\"color: #7f7f7f; text-decoration-color: #7f7f7f\">live_portrait_pipeline.py</span></a><span style=\"color: #7f7f7f; text-decoration-color: #7f7f7f\">:</span><a href=\"file:///content/LivePortrait/src/live_portrait_pipeline.py#139\" target=\"_blank\"><span style=\"color: #7f7f7f; text-decoration-color: #7f7f7f\">139</span></a>\n",
              "<span style=\"color: #7fbfbf; text-decoration-color: #7fbfbf\">           </span><span style=\"color: #800080; text-decoration-color: #800080\">/tmp/gradio/f90bb0840bbff380f4f64ae2791f2baa2fa7658aa70d612414b2be3a92f7db</span> <span style=\"color: #7f7f7f; text-decoration-color: #7f7f7f\">                             </span>\n",
              "<span style=\"color: #7fbfbf; text-decoration-color: #7fbfbf\">           </span><span style=\"color: #800080; text-decoration-color: #800080\">2e/</span><span style=\"color: #ff00ff; text-decoration-color: #ff00ff\">d19.jpg</span>                                                                 <span style=\"color: #7f7f7f; text-decoration-color: #7f7f7f\">                             </span>\n",
              "</pre>\n"
            ]
          },
          "metadata": {}
        },
        {
          "output_type": "display_data",
          "data": {
            "text/plain": [
              "\u001b[2;36m          \u001b[0m\u001b[2;36m \u001b[0mStart making driving motion template\u001b[33m...\u001b[0m                                    \u001b]8;id=480944;file:///content/LivePortrait/src/live_portrait_pipeline.py\u001b\\\u001b[2mlive_portrait_pipeline.py\u001b[0m\u001b]8;;\u001b\\\u001b[2m:\u001b[0m\u001b]8;id=157544;file:///content/LivePortrait/src/live_portrait_pipeline.py#144\u001b\\\u001b[2m144\u001b[0m\u001b]8;;\u001b\\\n"
            ],
            "text/html": [
              "<pre style=\"white-space:pre;overflow-x:auto;line-height:normal;font-family:Menlo,'DejaVu Sans Mono',consolas,'Courier New',monospace\"><span style=\"color: #7fbfbf; text-decoration-color: #7fbfbf\">           </span>Start making driving motion template<span style=\"color: #808000; text-decoration-color: #808000\">...</span>                                    <a href=\"file:///content/LivePortrait/src/live_portrait_pipeline.py\" target=\"_blank\"><span style=\"color: #7f7f7f; text-decoration-color: #7f7f7f\">live_portrait_pipeline.py</span></a><span style=\"color: #7f7f7f; text-decoration-color: #7f7f7f\">:</span><a href=\"file:///content/LivePortrait/src/live_portrait_pipeline.py#144\" target=\"_blank\"><span style=\"color: #7f7f7f; text-decoration-color: #7f7f7f\">144</span></a>\n",
              "</pre>\n"
            ]
          },
          "metadata": {}
        },
        {
          "output_type": "display_data",
          "data": {
            "text/plain": [
              "Output()"
            ],
            "application/vnd.jupyter.widget-view+json": {
              "version_major": 2,
              "version_minor": 0,
              "model_id": "54247f86d2de4bb291753481f99f92a9"
            }
          },
          "metadata": {}
        },
        {
          "output_type": "display_data",
          "data": {
            "text/plain": [],
            "text/html": [
              "<pre style=\"white-space:pre;overflow-x:auto;line-height:normal;font-family:Menlo,'DejaVu Sans Mono',consolas,'Courier New',monospace\"></pre>\n"
            ]
          },
          "metadata": {}
        },
        {
          "output_type": "display_data",
          "data": {
            "text/plain": [
              "\n"
            ],
            "text/html": [
              "<pre style=\"white-space:pre;overflow-x:auto;line-height:normal;font-family:Menlo,'DejaVu Sans Mono',consolas,'Courier New',monospace\">\n",
              "</pre>\n"
            ]
          },
          "metadata": {}
        },
        {
          "output_type": "display_data",
          "data": {
            "text/plain": [
              "\u001b[2;36m          \u001b[0m\u001b[2;36m \u001b[0mDump motion template to                                                    \u001b]8;id=495113;file:///content/LivePortrait/src/live_portrait_pipeline.py\u001b\\\u001b[2mlive_portrait_pipeline.py\u001b[0m\u001b]8;;\u001b\\\u001b[2m:\u001b[0m\u001b]8;id=530883;file:///content/LivePortrait/src/live_portrait_pipeline.py#172\u001b\\\u001b[2m172\u001b[0m\u001b]8;;\u001b\\\n",
              "\u001b[2;36m           \u001b[0m\u001b[35m/tmp/gradio/f90bb0840bbff380f4f64ae2791f2baa2fa7658aa70d612414b2be3a92f7db\u001b[0m \u001b[2m                             \u001b[0m\n",
              "\u001b[2;36m           \u001b[0m\u001b[35m2e/\u001b[0m\u001b[95md19.pkl\u001b[0m                                                                 \u001b[2m                             \u001b[0m\n"
            ],
            "text/html": [
              "<pre style=\"white-space:pre;overflow-x:auto;line-height:normal;font-family:Menlo,'DejaVu Sans Mono',consolas,'Courier New',monospace\"><span style=\"color: #7fbfbf; text-decoration-color: #7fbfbf\">           </span>Dump motion template to                                                    <a href=\"file:///content/LivePortrait/src/live_portrait_pipeline.py\" target=\"_blank\"><span style=\"color: #7f7f7f; text-decoration-color: #7f7f7f\">live_portrait_pipeline.py</span></a><span style=\"color: #7f7f7f; text-decoration-color: #7f7f7f\">:</span><a href=\"file:///content/LivePortrait/src/live_portrait_pipeline.py#172\" target=\"_blank\"><span style=\"color: #7f7f7f; text-decoration-color: #7f7f7f\">172</span></a>\n",
              "<span style=\"color: #7fbfbf; text-decoration-color: #7fbfbf\">           </span><span style=\"color: #800080; text-decoration-color: #800080\">/tmp/gradio/f90bb0840bbff380f4f64ae2791f2baa2fa7658aa70d612414b2be3a92f7db</span> <span style=\"color: #7f7f7f; text-decoration-color: #7f7f7f\">                             </span>\n",
              "<span style=\"color: #7fbfbf; text-decoration-color: #7fbfbf\">           </span><span style=\"color: #800080; text-decoration-color: #800080\">2e/</span><span style=\"color: #ff00ff; text-decoration-color: #ff00ff\">d19.pkl</span>                                                                 <span style=\"color: #7f7f7f; text-decoration-color: #7f7f7f\">                             </span>\n",
              "</pre>\n"
            ]
          },
          "metadata": {}
        },
        {
          "output_type": "display_data",
          "data": {
            "text/plain": [
              "\u001b[2;36m          \u001b[0m\u001b[2;36m \u001b[0mPrepared pasteback mask done.                                              \u001b]8;id=376231;file:///content/LivePortrait/src/live_portrait_pipeline.py\u001b\\\u001b[2mlive_portrait_pipeline.py\u001b[0m\u001b]8;;\u001b\\\u001b[2m:\u001b[0m\u001b]8;id=414442;file:///content/LivePortrait/src/live_portrait_pipeline.py#183\u001b\\\u001b[2m183\u001b[0m\u001b]8;;\u001b\\\n"
            ],
            "text/html": [
              "<pre style=\"white-space:pre;overflow-x:auto;line-height:normal;font-family:Menlo,'DejaVu Sans Mono',consolas,'Courier New',monospace\"><span style=\"color: #7fbfbf; text-decoration-color: #7fbfbf\">           </span>Prepared pasteback mask done.                                              <a href=\"file:///content/LivePortrait/src/live_portrait_pipeline.py\" target=\"_blank\"><span style=\"color: #7f7f7f; text-decoration-color: #7f7f7f\">live_portrait_pipeline.py</span></a><span style=\"color: #7f7f7f; text-decoration-color: #7f7f7f\">:</span><a href=\"file:///content/LivePortrait/src/live_portrait_pipeline.py#183\" target=\"_blank\"><span style=\"color: #7f7f7f; text-decoration-color: #7f7f7f\">183</span></a>\n",
              "</pre>\n"
            ]
          },
          "metadata": {}
        },
        {
          "output_type": "display_data",
          "data": {
            "text/plain": [
              "\u001b[2;36m[14:25:08]\u001b[0m\u001b[2;36m \u001b[0mThe output of image-driven portrait animation is an image.                 \u001b]8;id=28415;file:///content/LivePortrait/src/live_portrait_pipeline.py\u001b\\\u001b[2mlive_portrait_pipeline.py\u001b[0m\u001b]8;;\u001b\\\u001b[2m:\u001b[0m\u001b]8;id=953452;file:///content/LivePortrait/src/live_portrait_pipeline.py#272\u001b\\\u001b[2m272\u001b[0m\u001b]8;;\u001b\\\n"
            ],
            "text/html": [
              "<pre style=\"white-space:pre;overflow-x:auto;line-height:normal;font-family:Menlo,'DejaVu Sans Mono',consolas,'Courier New',monospace\"><span style=\"color: #7fbfbf; text-decoration-color: #7fbfbf\">[14:25:08] </span>The output of image-driven portrait animation is an image.                 <a href=\"file:///content/LivePortrait/src/live_portrait_pipeline.py\" target=\"_blank\"><span style=\"color: #7f7f7f; text-decoration-color: #7f7f7f\">live_portrait_pipeline.py</span></a><span style=\"color: #7f7f7f; text-decoration-color: #7f7f7f\">:</span><a href=\"file:///content/LivePortrait/src/live_portrait_pipeline.py#272\" target=\"_blank\"><span style=\"color: #7f7f7f; text-decoration-color: #7f7f7f\">272</span></a>\n",
              "</pre>\n"
            ]
          },
          "metadata": {}
        },
        {
          "output_type": "display_data",
          "data": {
            "text/plain": [
              "Output()"
            ],
            "application/vnd.jupyter.widget-view+json": {
              "version_major": 2,
              "version_minor": 0,
              "model_id": "803e38bd78884b28bf172e008da76963"
            }
          },
          "metadata": {}
        },
        {
          "output_type": "display_data",
          "data": {
            "text/plain": [],
            "text/html": [
              "<pre style=\"white-space:pre;overflow-x:auto;line-height:normal;font-family:Menlo,'DejaVu Sans Mono',consolas,'Courier New',monospace\"></pre>\n"
            ]
          },
          "metadata": {}
        },
        {
          "output_type": "display_data",
          "data": {
            "text/plain": [
              "\n"
            ],
            "text/html": [
              "<pre style=\"white-space:pre;overflow-x:auto;line-height:normal;font-family:Menlo,'DejaVu Sans Mono',consolas,'Courier New',monospace\">\n",
              "</pre>\n"
            ]
          },
          "metadata": {}
        },
        {
          "output_type": "display_data",
          "data": {
            "text/plain": [
              "Output()"
            ],
            "application/vnd.jupyter.widget-view+json": {
              "version_major": 2,
              "version_minor": 0,
              "model_id": "4a867e16458641a48597795eee19df62"
            }
          },
          "metadata": {}
        },
        {
          "output_type": "display_data",
          "data": {
            "text/plain": [],
            "text/html": [
              "<pre style=\"white-space:pre;overflow-x:auto;line-height:normal;font-family:Menlo,'DejaVu Sans Mono',consolas,'Courier New',monospace\"></pre>\n"
            ]
          },
          "metadata": {}
        },
        {
          "output_type": "display_data",
          "data": {
            "text/plain": [
              "\n"
            ],
            "text/html": [
              "<pre style=\"white-space:pre;overflow-x:auto;line-height:normal;font-family:Menlo,'DejaVu Sans Mono',consolas,'Courier New',monospace\">\n",
              "</pre>\n"
            ]
          },
          "metadata": {}
        },
        {
          "output_type": "display_data",
          "data": {
            "text/plain": [
              "\u001b[2;36m[14:25:11]\u001b[0m\u001b[2;36m \u001b[0mAnimated image: animations/\u001b[1;36m1734888832386\u001b[0m--d19.jpg                          \u001b]8;id=53810;file:///content/LivePortrait/src/live_portrait_pipeline.py\u001b\\\u001b[2mlive_portrait_pipeline.py\u001b[0m\u001b]8;;\u001b\\\u001b[2m:\u001b[0m\u001b]8;id=302969;file:///content/LivePortrait/src/live_portrait_pipeline.py#515\u001b\\\u001b[2m515\u001b[0m\u001b]8;;\u001b\\\n"
            ],
            "text/html": [
              "<pre style=\"white-space:pre;overflow-x:auto;line-height:normal;font-family:Menlo,'DejaVu Sans Mono',consolas,'Courier New',monospace\"><span style=\"color: #7fbfbf; text-decoration-color: #7fbfbf\">[14:25:11] </span>Animated image: animations/<span style=\"color: #008080; text-decoration-color: #008080; font-weight: bold\">1734888832386</span>--d19.jpg                          <a href=\"file:///content/LivePortrait/src/live_portrait_pipeline.py\" target=\"_blank\"><span style=\"color: #7f7f7f; text-decoration-color: #7f7f7f\">live_portrait_pipeline.py</span></a><span style=\"color: #7f7f7f; text-decoration-color: #7f7f7f\">:</span><a href=\"file:///content/LivePortrait/src/live_portrait_pipeline.py#515\" target=\"_blank\"><span style=\"color: #7f7f7f; text-decoration-color: #7f7f7f\">515</span></a>\n",
              "</pre>\n"
            ]
          },
          "metadata": {}
        },
        {
          "output_type": "display_data",
          "data": {
            "text/plain": [
              "\u001b[2;36m          \u001b[0m\u001b[2;36m \u001b[0mAnimated image with concat: animations/\u001b[1;36m1734888832386\u001b[0m--d19_concat.jpg       \u001b]8;id=405690;file:///content/LivePortrait/src/live_portrait_pipeline.py\u001b\\\u001b[2mlive_portrait_pipeline.py\u001b[0m\u001b]8;;\u001b\\\u001b[2m:\u001b[0m\u001b]8;id=213323;file:///content/LivePortrait/src/live_portrait_pipeline.py#516\u001b\\\u001b[2m516\u001b[0m\u001b]8;;\u001b\\\n"
            ],
            "text/html": [
              "<pre style=\"white-space:pre;overflow-x:auto;line-height:normal;font-family:Menlo,'DejaVu Sans Mono',consolas,'Courier New',monospace\"><span style=\"color: #7fbfbf; text-decoration-color: #7fbfbf\">           </span>Animated image with concat: animations/<span style=\"color: #008080; text-decoration-color: #008080; font-weight: bold\">1734888832386</span>--d19_concat.jpg       <a href=\"file:///content/LivePortrait/src/live_portrait_pipeline.py\" target=\"_blank\"><span style=\"color: #7f7f7f; text-decoration-color: #7f7f7f\">live_portrait_pipeline.py</span></a><span style=\"color: #7f7f7f; text-decoration-color: #7f7f7f\">:</span><a href=\"file:///content/LivePortrait/src/live_portrait_pipeline.py#516\" target=\"_blank\"><span style=\"color: #7f7f7f; text-decoration-color: #7f7f7f\">516</span></a>\n",
              "</pre>\n"
            ]
          },
          "metadata": {}
        },
        {
          "output_type": "display_data",
          "data": {
            "text/plain": [
              "\u001b[2;36m[14:25:22]\u001b[0m\u001b[2;36m \u001b[0mLoad source image from                                                      \u001b]8;id=96699;file:///content/LivePortrait/src/live_portrait_pipeline.py\u001b\\\u001b[2mlive_portrait_pipeline.py\u001b[0m\u001b]8;;\u001b\\\u001b[2m:\u001b[0m\u001b]8;id=984099;file:///content/LivePortrait/src/live_portrait_pipeline.py#90\u001b\\\u001b[2m90\u001b[0m\u001b]8;;\u001b\\\n",
              "\u001b[2;36m           \u001b[0m\u001b[35m/tmp/gradio/046ee3542238170b1377a8bf32abefd5441f122b60bf24f994b5552ae3171dc\u001b[0m \u001b[2m                            \u001b[0m\n",
              "\u001b[2;36m           \u001b[0m\u001b[35m0/\u001b[0m\u001b[95m1734888832386.jpg\u001b[0m                                                         \u001b[2m                            \u001b[0m\n"
            ],
            "text/html": [
              "<pre style=\"white-space:pre;overflow-x:auto;line-height:normal;font-family:Menlo,'DejaVu Sans Mono',consolas,'Courier New',monospace\"><span style=\"color: #7fbfbf; text-decoration-color: #7fbfbf\">[14:25:22] </span>Load source image from                                                      <a href=\"file:///content/LivePortrait/src/live_portrait_pipeline.py\" target=\"_blank\"><span style=\"color: #7f7f7f; text-decoration-color: #7f7f7f\">live_portrait_pipeline.py</span></a><span style=\"color: #7f7f7f; text-decoration-color: #7f7f7f\">:</span><a href=\"file:///content/LivePortrait/src/live_portrait_pipeline.py#90\" target=\"_blank\"><span style=\"color: #7f7f7f; text-decoration-color: #7f7f7f\">90</span></a>\n",
              "<span style=\"color: #7fbfbf; text-decoration-color: #7fbfbf\">           </span><span style=\"color: #800080; text-decoration-color: #800080\">/tmp/gradio/046ee3542238170b1377a8bf32abefd5441f122b60bf24f994b5552ae3171dc</span> <span style=\"color: #7f7f7f; text-decoration-color: #7f7f7f\">                            </span>\n",
              "<span style=\"color: #7fbfbf; text-decoration-color: #7fbfbf\">           </span><span style=\"color: #800080; text-decoration-color: #800080\">0/</span><span style=\"color: #ff00ff; text-decoration-color: #ff00ff\">1734888832386.jpg</span>                                                         <span style=\"color: #7f7f7f; text-decoration-color: #7f7f7f\">                            </span>\n",
              "</pre>\n"
            ]
          },
          "metadata": {}
        },
        {
          "output_type": "display_data",
          "data": {
            "text/plain": [
              "\u001b[2;36m          \u001b[0m\u001b[2;36m \u001b[0mLoad driving image from                                                    \u001b]8;id=120640;file:///content/LivePortrait/src/live_portrait_pipeline.py\u001b\\\u001b[2mlive_portrait_pipeline.py\u001b[0m\u001b]8;;\u001b\\\u001b[2m:\u001b[0m\u001b]8;id=466946;file:///content/LivePortrait/src/live_portrait_pipeline.py#139\u001b\\\u001b[2m139\u001b[0m\u001b]8;;\u001b\\\n",
              "\u001b[2;36m           \u001b[0m\u001b[35m/tmp/gradio/da765840c0bb4d74b4b06673e3ec0486a5f22681af46aa76e72ebd24a118df\u001b[0m \u001b[2m                             \u001b[0m\n",
              "\u001b[2;36m           \u001b[0m\u001b[35ma4/\u001b[0m\u001b[95md9.jpg\u001b[0m                                                                  \u001b[2m                             \u001b[0m\n"
            ],
            "text/html": [
              "<pre style=\"white-space:pre;overflow-x:auto;line-height:normal;font-family:Menlo,'DejaVu Sans Mono',consolas,'Courier New',monospace\"><span style=\"color: #7fbfbf; text-decoration-color: #7fbfbf\">           </span>Load driving image from                                                    <a href=\"file:///content/LivePortrait/src/live_portrait_pipeline.py\" target=\"_blank\"><span style=\"color: #7f7f7f; text-decoration-color: #7f7f7f\">live_portrait_pipeline.py</span></a><span style=\"color: #7f7f7f; text-decoration-color: #7f7f7f\">:</span><a href=\"file:///content/LivePortrait/src/live_portrait_pipeline.py#139\" target=\"_blank\"><span style=\"color: #7f7f7f; text-decoration-color: #7f7f7f\">139</span></a>\n",
              "<span style=\"color: #7fbfbf; text-decoration-color: #7fbfbf\">           </span><span style=\"color: #800080; text-decoration-color: #800080\">/tmp/gradio/da765840c0bb4d74b4b06673e3ec0486a5f22681af46aa76e72ebd24a118df</span> <span style=\"color: #7f7f7f; text-decoration-color: #7f7f7f\">                             </span>\n",
              "<span style=\"color: #7fbfbf; text-decoration-color: #7fbfbf\">           </span><span style=\"color: #800080; text-decoration-color: #800080\">a4/</span><span style=\"color: #ff00ff; text-decoration-color: #ff00ff\">d9.jpg</span>                                                                  <span style=\"color: #7f7f7f; text-decoration-color: #7f7f7f\">                             </span>\n",
              "</pre>\n"
            ]
          },
          "metadata": {}
        },
        {
          "output_type": "display_data",
          "data": {
            "text/plain": [
              "\u001b[2;36m          \u001b[0m\u001b[2;36m \u001b[0mStart making driving motion template\u001b[33m...\u001b[0m                                    \u001b]8;id=777485;file:///content/LivePortrait/src/live_portrait_pipeline.py\u001b\\\u001b[2mlive_portrait_pipeline.py\u001b[0m\u001b]8;;\u001b\\\u001b[2m:\u001b[0m\u001b]8;id=57429;file:///content/LivePortrait/src/live_portrait_pipeline.py#144\u001b\\\u001b[2m144\u001b[0m\u001b]8;;\u001b\\\n"
            ],
            "text/html": [
              "<pre style=\"white-space:pre;overflow-x:auto;line-height:normal;font-family:Menlo,'DejaVu Sans Mono',consolas,'Courier New',monospace\"><span style=\"color: #7fbfbf; text-decoration-color: #7fbfbf\">           </span>Start making driving motion template<span style=\"color: #808000; text-decoration-color: #808000\">...</span>                                    <a href=\"file:///content/LivePortrait/src/live_portrait_pipeline.py\" target=\"_blank\"><span style=\"color: #7f7f7f; text-decoration-color: #7f7f7f\">live_portrait_pipeline.py</span></a><span style=\"color: #7f7f7f; text-decoration-color: #7f7f7f\">:</span><a href=\"file:///content/LivePortrait/src/live_portrait_pipeline.py#144\" target=\"_blank\"><span style=\"color: #7f7f7f; text-decoration-color: #7f7f7f\">144</span></a>\n",
              "</pre>\n"
            ]
          },
          "metadata": {}
        },
        {
          "output_type": "display_data",
          "data": {
            "text/plain": [
              "Output()"
            ],
            "application/vnd.jupyter.widget-view+json": {
              "version_major": 2,
              "version_minor": 0,
              "model_id": "00c56f61eec646248abe369d1099de98"
            }
          },
          "metadata": {}
        },
        {
          "output_type": "display_data",
          "data": {
            "text/plain": [],
            "text/html": [
              "<pre style=\"white-space:pre;overflow-x:auto;line-height:normal;font-family:Menlo,'DejaVu Sans Mono',consolas,'Courier New',monospace\"></pre>\n"
            ]
          },
          "metadata": {}
        },
        {
          "output_type": "display_data",
          "data": {
            "text/plain": [
              "\n"
            ],
            "text/html": [
              "<pre style=\"white-space:pre;overflow-x:auto;line-height:normal;font-family:Menlo,'DejaVu Sans Mono',consolas,'Courier New',monospace\">\n",
              "</pre>\n"
            ]
          },
          "metadata": {}
        },
        {
          "output_type": "display_data",
          "data": {
            "text/plain": [
              "\u001b[2;36m          \u001b[0m\u001b[2;36m \u001b[0mDump motion template to                                                    \u001b]8;id=317535;file:///content/LivePortrait/src/live_portrait_pipeline.py\u001b\\\u001b[2mlive_portrait_pipeline.py\u001b[0m\u001b]8;;\u001b\\\u001b[2m:\u001b[0m\u001b]8;id=951811;file:///content/LivePortrait/src/live_portrait_pipeline.py#172\u001b\\\u001b[2m172\u001b[0m\u001b]8;;\u001b\\\n",
              "\u001b[2;36m           \u001b[0m\u001b[35m/tmp/gradio/da765840c0bb4d74b4b06673e3ec0486a5f22681af46aa76e72ebd24a118df\u001b[0m \u001b[2m                             \u001b[0m\n",
              "\u001b[2;36m           \u001b[0m\u001b[35ma4/\u001b[0m\u001b[95md9.pkl\u001b[0m                                                                  \u001b[2m                             \u001b[0m\n"
            ],
            "text/html": [
              "<pre style=\"white-space:pre;overflow-x:auto;line-height:normal;font-family:Menlo,'DejaVu Sans Mono',consolas,'Courier New',monospace\"><span style=\"color: #7fbfbf; text-decoration-color: #7fbfbf\">           </span>Dump motion template to                                                    <a href=\"file:///content/LivePortrait/src/live_portrait_pipeline.py\" target=\"_blank\"><span style=\"color: #7f7f7f; text-decoration-color: #7f7f7f\">live_portrait_pipeline.py</span></a><span style=\"color: #7f7f7f; text-decoration-color: #7f7f7f\">:</span><a href=\"file:///content/LivePortrait/src/live_portrait_pipeline.py#172\" target=\"_blank\"><span style=\"color: #7f7f7f; text-decoration-color: #7f7f7f\">172</span></a>\n",
              "<span style=\"color: #7fbfbf; text-decoration-color: #7fbfbf\">           </span><span style=\"color: #800080; text-decoration-color: #800080\">/tmp/gradio/da765840c0bb4d74b4b06673e3ec0486a5f22681af46aa76e72ebd24a118df</span> <span style=\"color: #7f7f7f; text-decoration-color: #7f7f7f\">                             </span>\n",
              "<span style=\"color: #7fbfbf; text-decoration-color: #7fbfbf\">           </span><span style=\"color: #800080; text-decoration-color: #800080\">a4/</span><span style=\"color: #ff00ff; text-decoration-color: #ff00ff\">d9.pkl</span>                                                                  <span style=\"color: #7f7f7f; text-decoration-color: #7f7f7f\">                             </span>\n",
              "</pre>\n"
            ]
          },
          "metadata": {}
        },
        {
          "output_type": "display_data",
          "data": {
            "text/plain": [
              "\u001b[2;36m          \u001b[0m\u001b[2;36m \u001b[0mPrepared pasteback mask done.                                              \u001b]8;id=158944;file:///content/LivePortrait/src/live_portrait_pipeline.py\u001b\\\u001b[2mlive_portrait_pipeline.py\u001b[0m\u001b]8;;\u001b\\\u001b[2m:\u001b[0m\u001b]8;id=32542;file:///content/LivePortrait/src/live_portrait_pipeline.py#183\u001b\\\u001b[2m183\u001b[0m\u001b]8;;\u001b\\\n"
            ],
            "text/html": [
              "<pre style=\"white-space:pre;overflow-x:auto;line-height:normal;font-family:Menlo,'DejaVu Sans Mono',consolas,'Courier New',monospace\"><span style=\"color: #7fbfbf; text-decoration-color: #7fbfbf\">           </span>Prepared pasteback mask done.                                              <a href=\"file:///content/LivePortrait/src/live_portrait_pipeline.py\" target=\"_blank\"><span style=\"color: #7f7f7f; text-decoration-color: #7f7f7f\">live_portrait_pipeline.py</span></a><span style=\"color: #7f7f7f; text-decoration-color: #7f7f7f\">:</span><a href=\"file:///content/LivePortrait/src/live_portrait_pipeline.py#183\" target=\"_blank\"><span style=\"color: #7f7f7f; text-decoration-color: #7f7f7f\">183</span></a>\n",
              "</pre>\n"
            ]
          },
          "metadata": {}
        },
        {
          "output_type": "display_data",
          "data": {
            "text/plain": [
              "\u001b[2;36m[14:25:23]\u001b[0m\u001b[2;36m \u001b[0mThe output of image-driven portrait animation is an image.                 \u001b]8;id=717383;file:///content/LivePortrait/src/live_portrait_pipeline.py\u001b\\\u001b[2mlive_portrait_pipeline.py\u001b[0m\u001b]8;;\u001b\\\u001b[2m:\u001b[0m\u001b]8;id=737509;file:///content/LivePortrait/src/live_portrait_pipeline.py#272\u001b\\\u001b[2m272\u001b[0m\u001b]8;;\u001b\\\n"
            ],
            "text/html": [
              "<pre style=\"white-space:pre;overflow-x:auto;line-height:normal;font-family:Menlo,'DejaVu Sans Mono',consolas,'Courier New',monospace\"><span style=\"color: #7fbfbf; text-decoration-color: #7fbfbf\">[14:25:23] </span>The output of image-driven portrait animation is an image.                 <a href=\"file:///content/LivePortrait/src/live_portrait_pipeline.py\" target=\"_blank\"><span style=\"color: #7f7f7f; text-decoration-color: #7f7f7f\">live_portrait_pipeline.py</span></a><span style=\"color: #7f7f7f; text-decoration-color: #7f7f7f\">:</span><a href=\"file:///content/LivePortrait/src/live_portrait_pipeline.py#272\" target=\"_blank\"><span style=\"color: #7f7f7f; text-decoration-color: #7f7f7f\">272</span></a>\n",
              "</pre>\n"
            ]
          },
          "metadata": {}
        },
        {
          "output_type": "display_data",
          "data": {
            "text/plain": [
              "Output()"
            ],
            "application/vnd.jupyter.widget-view+json": {
              "version_major": 2,
              "version_minor": 0,
              "model_id": "8ee45c9870b44813a6aa5bb5c4c34229"
            }
          },
          "metadata": {}
        },
        {
          "output_type": "display_data",
          "data": {
            "text/plain": [],
            "text/html": [
              "<pre style=\"white-space:pre;overflow-x:auto;line-height:normal;font-family:Menlo,'DejaVu Sans Mono',consolas,'Courier New',monospace\"></pre>\n"
            ]
          },
          "metadata": {}
        },
        {
          "output_type": "display_data",
          "data": {
            "text/plain": [
              "\n"
            ],
            "text/html": [
              "<pre style=\"white-space:pre;overflow-x:auto;line-height:normal;font-family:Menlo,'DejaVu Sans Mono',consolas,'Courier New',monospace\">\n",
              "</pre>\n"
            ]
          },
          "metadata": {}
        },
        {
          "output_type": "display_data",
          "data": {
            "text/plain": [
              "Output()"
            ],
            "application/vnd.jupyter.widget-view+json": {
              "version_major": 2,
              "version_minor": 0,
              "model_id": "ba63078be3ab4c28b40f30c5624eb354"
            }
          },
          "metadata": {}
        },
        {
          "output_type": "display_data",
          "data": {
            "text/plain": [],
            "text/html": [
              "<pre style=\"white-space:pre;overflow-x:auto;line-height:normal;font-family:Menlo,'DejaVu Sans Mono',consolas,'Courier New',monospace\"></pre>\n"
            ]
          },
          "metadata": {}
        },
        {
          "output_type": "display_data",
          "data": {
            "text/plain": [
              "\n"
            ],
            "text/html": [
              "<pre style=\"white-space:pre;overflow-x:auto;line-height:normal;font-family:Menlo,'DejaVu Sans Mono',consolas,'Courier New',monospace\">\n",
              "</pre>\n"
            ]
          },
          "metadata": {}
        },
        {
          "output_type": "display_data",
          "data": {
            "text/plain": [
              "\u001b[2;36m          \u001b[0m\u001b[2;36m \u001b[0mAnimated image: animations/\u001b[1;36m1734888832386\u001b[0m--d9.jpg                           \u001b]8;id=727332;file:///content/LivePortrait/src/live_portrait_pipeline.py\u001b\\\u001b[2mlive_portrait_pipeline.py\u001b[0m\u001b]8;;\u001b\\\u001b[2m:\u001b[0m\u001b]8;id=244327;file:///content/LivePortrait/src/live_portrait_pipeline.py#515\u001b\\\u001b[2m515\u001b[0m\u001b]8;;\u001b\\\n"
            ],
            "text/html": [
              "<pre style=\"white-space:pre;overflow-x:auto;line-height:normal;font-family:Menlo,'DejaVu Sans Mono',consolas,'Courier New',monospace\"><span style=\"color: #7fbfbf; text-decoration-color: #7fbfbf\">           </span>Animated image: animations/<span style=\"color: #008080; text-decoration-color: #008080; font-weight: bold\">1734888832386</span>--d9.jpg                           <a href=\"file:///content/LivePortrait/src/live_portrait_pipeline.py\" target=\"_blank\"><span style=\"color: #7f7f7f; text-decoration-color: #7f7f7f\">live_portrait_pipeline.py</span></a><span style=\"color: #7f7f7f; text-decoration-color: #7f7f7f\">:</span><a href=\"file:///content/LivePortrait/src/live_portrait_pipeline.py#515\" target=\"_blank\"><span style=\"color: #7f7f7f; text-decoration-color: #7f7f7f\">515</span></a>\n",
              "</pre>\n"
            ]
          },
          "metadata": {}
        },
        {
          "output_type": "display_data",
          "data": {
            "text/plain": [
              "\u001b[2;36m          \u001b[0m\u001b[2;36m \u001b[0mAnimated image with concat: animations/\u001b[1;36m1734888832386\u001b[0m--d9_concat.jpg        \u001b]8;id=484073;file:///content/LivePortrait/src/live_portrait_pipeline.py\u001b\\\u001b[2mlive_portrait_pipeline.py\u001b[0m\u001b]8;;\u001b\\\u001b[2m:\u001b[0m\u001b]8;id=576256;file:///content/LivePortrait/src/live_portrait_pipeline.py#516\u001b\\\u001b[2m516\u001b[0m\u001b]8;;\u001b\\\n"
            ],
            "text/html": [
              "<pre style=\"white-space:pre;overflow-x:auto;line-height:normal;font-family:Menlo,'DejaVu Sans Mono',consolas,'Courier New',monospace\"><span style=\"color: #7fbfbf; text-decoration-color: #7fbfbf\">           </span>Animated image with concat: animations/<span style=\"color: #008080; text-decoration-color: #008080; font-weight: bold\">1734888832386</span>--d9_concat.jpg        <a href=\"file:///content/LivePortrait/src/live_portrait_pipeline.py\" target=\"_blank\"><span style=\"color: #7f7f7f; text-decoration-color: #7f7f7f\">live_portrait_pipeline.py</span></a><span style=\"color: #7f7f7f; text-decoration-color: #7f7f7f\">:</span><a href=\"file:///content/LivePortrait/src/live_portrait_pipeline.py#516\" target=\"_blank\"><span style=\"color: #7f7f7f; text-decoration-color: #7f7f7f\">516</span></a>\n",
              "</pre>\n"
            ]
          },
          "metadata": {}
        },
        {
          "output_type": "display_data",
          "data": {
            "text/plain": [
              "\u001b[2;36m[14:25:37]\u001b[0m\u001b[2;36m \u001b[0mLoad source image from                                                      \u001b]8;id=971287;file:///content/LivePortrait/src/live_portrait_pipeline.py\u001b\\\u001b[2mlive_portrait_pipeline.py\u001b[0m\u001b]8;;\u001b\\\u001b[2m:\u001b[0m\u001b]8;id=263086;file:///content/LivePortrait/src/live_portrait_pipeline.py#90\u001b\\\u001b[2m90\u001b[0m\u001b]8;;\u001b\\\n",
              "\u001b[2;36m           \u001b[0m\u001b[35m/tmp/gradio/046ee3542238170b1377a8bf32abefd5441f122b60bf24f994b5552ae3171dc\u001b[0m \u001b[2m                            \u001b[0m\n",
              "\u001b[2;36m           \u001b[0m\u001b[35m0/\u001b[0m\u001b[95m1734888832386.jpg\u001b[0m                                                         \u001b[2m                            \u001b[0m\n"
            ],
            "text/html": [
              "<pre style=\"white-space:pre;overflow-x:auto;line-height:normal;font-family:Menlo,'DejaVu Sans Mono',consolas,'Courier New',monospace\"><span style=\"color: #7fbfbf; text-decoration-color: #7fbfbf\">[14:25:37] </span>Load source image from                                                      <a href=\"file:///content/LivePortrait/src/live_portrait_pipeline.py\" target=\"_blank\"><span style=\"color: #7f7f7f; text-decoration-color: #7f7f7f\">live_portrait_pipeline.py</span></a><span style=\"color: #7f7f7f; text-decoration-color: #7f7f7f\">:</span><a href=\"file:///content/LivePortrait/src/live_portrait_pipeline.py#90\" target=\"_blank\"><span style=\"color: #7f7f7f; text-decoration-color: #7f7f7f\">90</span></a>\n",
              "<span style=\"color: #7fbfbf; text-decoration-color: #7fbfbf\">           </span><span style=\"color: #800080; text-decoration-color: #800080\">/tmp/gradio/046ee3542238170b1377a8bf32abefd5441f122b60bf24f994b5552ae3171dc</span> <span style=\"color: #7f7f7f; text-decoration-color: #7f7f7f\">                            </span>\n",
              "<span style=\"color: #7fbfbf; text-decoration-color: #7fbfbf\">           </span><span style=\"color: #800080; text-decoration-color: #800080\">0/</span><span style=\"color: #ff00ff; text-decoration-color: #ff00ff\">1734888832386.jpg</span>                                                         <span style=\"color: #7f7f7f; text-decoration-color: #7f7f7f\">                            </span>\n",
              "</pre>\n"
            ]
          },
          "metadata": {}
        },
        {
          "output_type": "display_data",
          "data": {
            "text/plain": [
              "\u001b[2;36m          \u001b[0m\u001b[2;36m \u001b[0mLoad driving image from                                                    \u001b]8;id=499045;file:///content/LivePortrait/src/live_portrait_pipeline.py\u001b\\\u001b[2mlive_portrait_pipeline.py\u001b[0m\u001b]8;;\u001b\\\u001b[2m:\u001b[0m\u001b]8;id=376674;file:///content/LivePortrait/src/live_portrait_pipeline.py#139\u001b\\\u001b[2m139\u001b[0m\u001b]8;;\u001b\\\n",
              "\u001b[2;36m           \u001b[0m\u001b[35m/tmp/gradio/7e1ea23c1d6f5069c45983ecd9c41ec8489432b72a62c75f056a810e425706\u001b[0m \u001b[2m                             \u001b[0m\n",
              "\u001b[2;36m           \u001b[0m\u001b[35mce/\u001b[0m\u001b[95md30.jpg\u001b[0m                                                                 \u001b[2m                             \u001b[0m\n"
            ],
            "text/html": [
              "<pre style=\"white-space:pre;overflow-x:auto;line-height:normal;font-family:Menlo,'DejaVu Sans Mono',consolas,'Courier New',monospace\"><span style=\"color: #7fbfbf; text-decoration-color: #7fbfbf\">           </span>Load driving image from                                                    <a href=\"file:///content/LivePortrait/src/live_portrait_pipeline.py\" target=\"_blank\"><span style=\"color: #7f7f7f; text-decoration-color: #7f7f7f\">live_portrait_pipeline.py</span></a><span style=\"color: #7f7f7f; text-decoration-color: #7f7f7f\">:</span><a href=\"file:///content/LivePortrait/src/live_portrait_pipeline.py#139\" target=\"_blank\"><span style=\"color: #7f7f7f; text-decoration-color: #7f7f7f\">139</span></a>\n",
              "<span style=\"color: #7fbfbf; text-decoration-color: #7fbfbf\">           </span><span style=\"color: #800080; text-decoration-color: #800080\">/tmp/gradio/7e1ea23c1d6f5069c45983ecd9c41ec8489432b72a62c75f056a810e425706</span> <span style=\"color: #7f7f7f; text-decoration-color: #7f7f7f\">                             </span>\n",
              "<span style=\"color: #7fbfbf; text-decoration-color: #7fbfbf\">           </span><span style=\"color: #800080; text-decoration-color: #800080\">ce/</span><span style=\"color: #ff00ff; text-decoration-color: #ff00ff\">d30.jpg</span>                                                                 <span style=\"color: #7f7f7f; text-decoration-color: #7f7f7f\">                             </span>\n",
              "</pre>\n"
            ]
          },
          "metadata": {}
        },
        {
          "output_type": "display_data",
          "data": {
            "text/plain": [
              "\u001b[2;36m          \u001b[0m\u001b[2;36m \u001b[0mStart making driving motion template\u001b[33m...\u001b[0m                                    \u001b]8;id=916150;file:///content/LivePortrait/src/live_portrait_pipeline.py\u001b\\\u001b[2mlive_portrait_pipeline.py\u001b[0m\u001b]8;;\u001b\\\u001b[2m:\u001b[0m\u001b]8;id=654806;file:///content/LivePortrait/src/live_portrait_pipeline.py#144\u001b\\\u001b[2m144\u001b[0m\u001b]8;;\u001b\\\n"
            ],
            "text/html": [
              "<pre style=\"white-space:pre;overflow-x:auto;line-height:normal;font-family:Menlo,'DejaVu Sans Mono',consolas,'Courier New',monospace\"><span style=\"color: #7fbfbf; text-decoration-color: #7fbfbf\">           </span>Start making driving motion template<span style=\"color: #808000; text-decoration-color: #808000\">...</span>                                    <a href=\"file:///content/LivePortrait/src/live_portrait_pipeline.py\" target=\"_blank\"><span style=\"color: #7f7f7f; text-decoration-color: #7f7f7f\">live_portrait_pipeline.py</span></a><span style=\"color: #7f7f7f; text-decoration-color: #7f7f7f\">:</span><a href=\"file:///content/LivePortrait/src/live_portrait_pipeline.py#144\" target=\"_blank\"><span style=\"color: #7f7f7f; text-decoration-color: #7f7f7f\">144</span></a>\n",
              "</pre>\n"
            ]
          },
          "metadata": {}
        },
        {
          "output_type": "display_data",
          "data": {
            "text/plain": [
              "\u001b[2;36m          \u001b[0m\u001b[2;36m \u001b[0mDriving video is cropped, \u001b[1;36m1\u001b[0m frames are processed.                          \u001b]8;id=923589;file:///content/LivePortrait/src/live_portrait_pipeline.py\u001b\\\u001b[2mlive_portrait_pipeline.py\u001b[0m\u001b]8;;\u001b\\\u001b[2m:\u001b[0m\u001b]8;id=716983;file:///content/LivePortrait/src/live_portrait_pipeline.py#155\u001b\\\u001b[2m155\u001b[0m\u001b]8;;\u001b\\\n"
            ],
            "text/html": [
              "<pre style=\"white-space:pre;overflow-x:auto;line-height:normal;font-family:Menlo,'DejaVu Sans Mono',consolas,'Courier New',monospace\"><span style=\"color: #7fbfbf; text-decoration-color: #7fbfbf\">           </span>Driving video is cropped, <span style=\"color: #008080; text-decoration-color: #008080; font-weight: bold\">1</span> frames are processed.                          <a href=\"file:///content/LivePortrait/src/live_portrait_pipeline.py\" target=\"_blank\"><span style=\"color: #7f7f7f; text-decoration-color: #7f7f7f\">live_portrait_pipeline.py</span></a><span style=\"color: #7f7f7f; text-decoration-color: #7f7f7f\">:</span><a href=\"file:///content/LivePortrait/src/live_portrait_pipeline.py#155\" target=\"_blank\"><span style=\"color: #7f7f7f; text-decoration-color: #7f7f7f\">155</span></a>\n",
              "</pre>\n"
            ]
          },
          "metadata": {}
        },
        {
          "output_type": "display_data",
          "data": {
            "text/plain": [
              "Output()"
            ],
            "application/vnd.jupyter.widget-view+json": {
              "version_major": 2,
              "version_minor": 0,
              "model_id": "b6e920ccf02d4a7d839dd676c32ba515"
            }
          },
          "metadata": {}
        },
        {
          "output_type": "display_data",
          "data": {
            "text/plain": [],
            "text/html": [
              "<pre style=\"white-space:pre;overflow-x:auto;line-height:normal;font-family:Menlo,'DejaVu Sans Mono',consolas,'Courier New',monospace\"></pre>\n"
            ]
          },
          "metadata": {}
        },
        {
          "output_type": "display_data",
          "data": {
            "text/plain": [
              "\n"
            ],
            "text/html": [
              "<pre style=\"white-space:pre;overflow-x:auto;line-height:normal;font-family:Menlo,'DejaVu Sans Mono',consolas,'Courier New',monospace\">\n",
              "</pre>\n"
            ]
          },
          "metadata": {}
        },
        {
          "output_type": "display_data",
          "data": {
            "text/plain": [
              "\u001b[2;36m[14:25:38]\u001b[0m\u001b[2;36m \u001b[0mDump motion template to                                                    \u001b]8;id=540413;file:///content/LivePortrait/src/live_portrait_pipeline.py\u001b\\\u001b[2mlive_portrait_pipeline.py\u001b[0m\u001b]8;;\u001b\\\u001b[2m:\u001b[0m\u001b]8;id=629218;file:///content/LivePortrait/src/live_portrait_pipeline.py#172\u001b\\\u001b[2m172\u001b[0m\u001b]8;;\u001b\\\n",
              "\u001b[2;36m           \u001b[0m\u001b[35m/tmp/gradio/7e1ea23c1d6f5069c45983ecd9c41ec8489432b72a62c75f056a810e425706\u001b[0m \u001b[2m                             \u001b[0m\n",
              "\u001b[2;36m           \u001b[0m\u001b[35mce/\u001b[0m\u001b[95md30.pkl\u001b[0m                                                                 \u001b[2m                             \u001b[0m\n"
            ],
            "text/html": [
              "<pre style=\"white-space:pre;overflow-x:auto;line-height:normal;font-family:Menlo,'DejaVu Sans Mono',consolas,'Courier New',monospace\"><span style=\"color: #7fbfbf; text-decoration-color: #7fbfbf\">[14:25:38] </span>Dump motion template to                                                    <a href=\"file:///content/LivePortrait/src/live_portrait_pipeline.py\" target=\"_blank\"><span style=\"color: #7f7f7f; text-decoration-color: #7f7f7f\">live_portrait_pipeline.py</span></a><span style=\"color: #7f7f7f; text-decoration-color: #7f7f7f\">:</span><a href=\"file:///content/LivePortrait/src/live_portrait_pipeline.py#172\" target=\"_blank\"><span style=\"color: #7f7f7f; text-decoration-color: #7f7f7f\">172</span></a>\n",
              "<span style=\"color: #7fbfbf; text-decoration-color: #7fbfbf\">           </span><span style=\"color: #800080; text-decoration-color: #800080\">/tmp/gradio/7e1ea23c1d6f5069c45983ecd9c41ec8489432b72a62c75f056a810e425706</span> <span style=\"color: #7f7f7f; text-decoration-color: #7f7f7f\">                             </span>\n",
              "<span style=\"color: #7fbfbf; text-decoration-color: #7fbfbf\">           </span><span style=\"color: #800080; text-decoration-color: #800080\">ce/</span><span style=\"color: #ff00ff; text-decoration-color: #ff00ff\">d30.pkl</span>                                                                 <span style=\"color: #7f7f7f; text-decoration-color: #7f7f7f\">                             </span>\n",
              "</pre>\n"
            ]
          },
          "metadata": {}
        },
        {
          "output_type": "display_data",
          "data": {
            "text/plain": [
              "\u001b[2;36m          \u001b[0m\u001b[2;36m \u001b[0mPrepared pasteback mask done.                                              \u001b]8;id=130472;file:///content/LivePortrait/src/live_portrait_pipeline.py\u001b\\\u001b[2mlive_portrait_pipeline.py\u001b[0m\u001b]8;;\u001b\\\u001b[2m:\u001b[0m\u001b]8;id=162635;file:///content/LivePortrait/src/live_portrait_pipeline.py#183\u001b\\\u001b[2m183\u001b[0m\u001b]8;;\u001b\\\n"
            ],
            "text/html": [
              "<pre style=\"white-space:pre;overflow-x:auto;line-height:normal;font-family:Menlo,'DejaVu Sans Mono',consolas,'Courier New',monospace\"><span style=\"color: #7fbfbf; text-decoration-color: #7fbfbf\">           </span>Prepared pasteback mask done.                                              <a href=\"file:///content/LivePortrait/src/live_portrait_pipeline.py\" target=\"_blank\"><span style=\"color: #7f7f7f; text-decoration-color: #7f7f7f\">live_portrait_pipeline.py</span></a><span style=\"color: #7f7f7f; text-decoration-color: #7f7f7f\">:</span><a href=\"file:///content/LivePortrait/src/live_portrait_pipeline.py#183\" target=\"_blank\"><span style=\"color: #7f7f7f; text-decoration-color: #7f7f7f\">183</span></a>\n",
              "</pre>\n"
            ]
          },
          "metadata": {}
        },
        {
          "output_type": "display_data",
          "data": {
            "text/plain": [
              "\u001b[2;36m          \u001b[0m\u001b[2;36m \u001b[0mThe output of image-driven portrait animation is an image.                 \u001b]8;id=610089;file:///content/LivePortrait/src/live_portrait_pipeline.py\u001b\\\u001b[2mlive_portrait_pipeline.py\u001b[0m\u001b]8;;\u001b\\\u001b[2m:\u001b[0m\u001b]8;id=383196;file:///content/LivePortrait/src/live_portrait_pipeline.py#272\u001b\\\u001b[2m272\u001b[0m\u001b]8;;\u001b\\\n"
            ],
            "text/html": [
              "<pre style=\"white-space:pre;overflow-x:auto;line-height:normal;font-family:Menlo,'DejaVu Sans Mono',consolas,'Courier New',monospace\"><span style=\"color: #7fbfbf; text-decoration-color: #7fbfbf\">           </span>The output of image-driven portrait animation is an image.                 <a href=\"file:///content/LivePortrait/src/live_portrait_pipeline.py\" target=\"_blank\"><span style=\"color: #7f7f7f; text-decoration-color: #7f7f7f\">live_portrait_pipeline.py</span></a><span style=\"color: #7f7f7f; text-decoration-color: #7f7f7f\">:</span><a href=\"file:///content/LivePortrait/src/live_portrait_pipeline.py#272\" target=\"_blank\"><span style=\"color: #7f7f7f; text-decoration-color: #7f7f7f\">272</span></a>\n",
              "</pre>\n"
            ]
          },
          "metadata": {}
        },
        {
          "output_type": "display_data",
          "data": {
            "text/plain": [
              "Output()"
            ],
            "application/vnd.jupyter.widget-view+json": {
              "version_major": 2,
              "version_minor": 0,
              "model_id": "f3be96622b5e47d7a254ef4ad20ecb95"
            }
          },
          "metadata": {}
        },
        {
          "output_type": "display_data",
          "data": {
            "text/plain": [],
            "text/html": [
              "<pre style=\"white-space:pre;overflow-x:auto;line-height:normal;font-family:Menlo,'DejaVu Sans Mono',consolas,'Courier New',monospace\"></pre>\n"
            ]
          },
          "metadata": {}
        },
        {
          "output_type": "display_data",
          "data": {
            "text/plain": [
              "\n"
            ],
            "text/html": [
              "<pre style=\"white-space:pre;overflow-x:auto;line-height:normal;font-family:Menlo,'DejaVu Sans Mono',consolas,'Courier New',monospace\">\n",
              "</pre>\n"
            ]
          },
          "metadata": {}
        },
        {
          "output_type": "display_data",
          "data": {
            "text/plain": [
              "Output()"
            ],
            "application/vnd.jupyter.widget-view+json": {
              "version_major": 2,
              "version_minor": 0,
              "model_id": "8f562e7932d8459e9d1884aef71a32bd"
            }
          },
          "metadata": {}
        },
        {
          "output_type": "display_data",
          "data": {
            "text/plain": [],
            "text/html": [
              "<pre style=\"white-space:pre;overflow-x:auto;line-height:normal;font-family:Menlo,'DejaVu Sans Mono',consolas,'Courier New',monospace\"></pre>\n"
            ]
          },
          "metadata": {}
        },
        {
          "output_type": "display_data",
          "data": {
            "text/plain": [
              "\n"
            ],
            "text/html": [
              "<pre style=\"white-space:pre;overflow-x:auto;line-height:normal;font-family:Menlo,'DejaVu Sans Mono',consolas,'Courier New',monospace\">\n",
              "</pre>\n"
            ]
          },
          "metadata": {}
        },
        {
          "output_type": "display_data",
          "data": {
            "text/plain": [
              "\u001b[2;36m          \u001b[0m\u001b[2;36m \u001b[0mAnimated image: animations/\u001b[1;36m1734888832386\u001b[0m--d30.jpg                          \u001b]8;id=843834;file:///content/LivePortrait/src/live_portrait_pipeline.py\u001b\\\u001b[2mlive_portrait_pipeline.py\u001b[0m\u001b]8;;\u001b\\\u001b[2m:\u001b[0m\u001b]8;id=239772;file:///content/LivePortrait/src/live_portrait_pipeline.py#515\u001b\\\u001b[2m515\u001b[0m\u001b]8;;\u001b\\\n"
            ],
            "text/html": [
              "<pre style=\"white-space:pre;overflow-x:auto;line-height:normal;font-family:Menlo,'DejaVu Sans Mono',consolas,'Courier New',monospace\"><span style=\"color: #7fbfbf; text-decoration-color: #7fbfbf\">           </span>Animated image: animations/<span style=\"color: #008080; text-decoration-color: #008080; font-weight: bold\">1734888832386</span>--d30.jpg                          <a href=\"file:///content/LivePortrait/src/live_portrait_pipeline.py\" target=\"_blank\"><span style=\"color: #7f7f7f; text-decoration-color: #7f7f7f\">live_portrait_pipeline.py</span></a><span style=\"color: #7f7f7f; text-decoration-color: #7f7f7f\">:</span><a href=\"file:///content/LivePortrait/src/live_portrait_pipeline.py#515\" target=\"_blank\"><span style=\"color: #7f7f7f; text-decoration-color: #7f7f7f\">515</span></a>\n",
              "</pre>\n"
            ]
          },
          "metadata": {}
        },
        {
          "output_type": "display_data",
          "data": {
            "text/plain": [
              "\u001b[2;36m          \u001b[0m\u001b[2;36m \u001b[0mAnimated image with concat: animations/\u001b[1;36m1734888832386\u001b[0m--d30_concat.jpg       \u001b]8;id=233023;file:///content/LivePortrait/src/live_portrait_pipeline.py\u001b\\\u001b[2mlive_portrait_pipeline.py\u001b[0m\u001b]8;;\u001b\\\u001b[2m:\u001b[0m\u001b]8;id=188406;file:///content/LivePortrait/src/live_portrait_pipeline.py#516\u001b\\\u001b[2m516\u001b[0m\u001b]8;;\u001b\\\n"
            ],
            "text/html": [
              "<pre style=\"white-space:pre;overflow-x:auto;line-height:normal;font-family:Menlo,'DejaVu Sans Mono',consolas,'Courier New',monospace\"><span style=\"color: #7fbfbf; text-decoration-color: #7fbfbf\">           </span>Animated image with concat: animations/<span style=\"color: #008080; text-decoration-color: #008080; font-weight: bold\">1734888832386</span>--d30_concat.jpg       <a href=\"file:///content/LivePortrait/src/live_portrait_pipeline.py\" target=\"_blank\"><span style=\"color: #7f7f7f; text-decoration-color: #7f7f7f\">live_portrait_pipeline.py</span></a><span style=\"color: #7f7f7f; text-decoration-color: #7f7f7f\">:</span><a href=\"file:///content/LivePortrait/src/live_portrait_pipeline.py#516\" target=\"_blank\"><span style=\"color: #7f7f7f; text-decoration-color: #7f7f7f\">516</span></a>\n",
              "</pre>\n"
            ]
          },
          "metadata": {}
        },
        {
          "output_type": "stream",
          "name": "stderr",
          "text": [
            "Traceback (most recent call last):\n",
            "  File \"/usr/local/lib/python3.10/dist-packages/gradio/queueing.py\", line 622, in process_events\n",
            "    response = await route_utils.call_process_api(\n",
            "  File \"/usr/local/lib/python3.10/dist-packages/gradio/route_utils.py\", line 323, in call_process_api\n",
            "    output = await app.get_blocks().process_api(\n",
            "  File \"/usr/local/lib/python3.10/dist-packages/gradio/blocks.py\", line 2010, in process_api\n",
            "    inputs = await self.preprocess_data(\n",
            "  File \"/usr/local/lib/python3.10/dist-packages/gradio/blocks.py\", line 1709, in preprocess_data\n",
            "    processed_input.append(block.preprocess(inputs_cached))\n",
            "  File \"/usr/local/lib/python3.10/dist-packages/gradio/components/file.py\", line 163, in preprocess\n",
            "    return self._process_single_file(payload)\n",
            "  File \"/usr/local/lib/python3.10/dist-packages/gradio/components/file.py\", line 132, in _process_single_file\n",
            "    raise Error(\n",
            "gradio.exceptions.Error: \"Invalid file type. Please upload a file that is one of these formats: ['.pkl']\"\n"
          ]
        },
        {
          "output_type": "stream",
          "name": "stdout",
          "text": [
            "Keyboard interruption in main thread... closing server.\n",
            "Killing tunnel 127.0.0.1:7860 <> https://e4c4c5e8cd18916b09.gradio.live\n"
          ]
        },
        {
          "output_type": "execute_result",
          "data": {
            "text/plain": []
          },
          "metadata": {},
          "execution_count": 1
        }
      ]
    },
    {
      "cell_type": "code",
      "source": [
        "#@title Animal\n",
        "base_path=\"/content\"\n",
        "%cd $base_path/LivePortrait\n",
        "\"\"\"\n",
        "The entrance of the gradio for animal\n",
        "\"\"\"\n",
        "\n",
        "import os\n",
        "import tyro\n",
        "import subprocess\n",
        "import gradio as gr\n",
        "import os.path as osp\n",
        "from src.utils.helper import load_description\n",
        "from src.gradio_pipeline import GradioPipelineAnimal\n",
        "from src.config.crop_config import CropConfig\n",
        "from src.config.argument_config import ArgumentConfig\n",
        "from src.config.inference_config import InferenceConfig\n",
        "\n",
        "\n",
        "def partial_fields(target_class, kwargs):\n",
        "    return target_class(**{k: v for k, v in kwargs.items() if hasattr(target_class, k)})\n",
        "\n",
        "\n",
        "def fast_check_ffmpeg():\n",
        "    try:\n",
        "        subprocess.run([\"ffmpeg\", \"-version\"], capture_output=True, check=True)\n",
        "        return True\n",
        "    except:\n",
        "        return False\n",
        "\n",
        "\n",
        "# # set tyro theme\n",
        "# tyro.extras.set_accent_color(\"bright_cyan\")\n",
        "# args = tyro.cli(ArgumentConfig)\n",
        "\n",
        "\n",
        "\n",
        "default_args = {\n",
        "    \"server_name\": \"0.0.0.0\",\n",
        "    \"server_port\": 7860,\n",
        "    \"share\": True,\n",
        "    # Add other default values as needed\n",
        "}\n",
        "\n",
        "# Create an args object with default values\n",
        "args = ArgumentConfig(**default_args)\n",
        "\n",
        "\n",
        "\n",
        "\n",
        "ffmpeg_dir = os.path.join(os.getcwd(), \"ffmpeg\")\n",
        "if osp.exists(ffmpeg_dir):\n",
        "    os.environ[\"PATH\"] += (os.pathsep + ffmpeg_dir)\n",
        "\n",
        "if not fast_check_ffmpeg():\n",
        "    raise ImportError(\n",
        "        \"FFmpeg is not installed. Please install FFmpeg (including ffmpeg and ffprobe) before running this script. https://ffmpeg.org/download.html\"\n",
        "    )\n",
        "# specify configs for inference\n",
        "inference_cfg = partial_fields(InferenceConfig, args.__dict__)  # use attribute of args to initial InferenceConfig\n",
        "crop_cfg = partial_fields(CropConfig, args.__dict__)  # use attribute of args to initial CropConfig\n",
        "\n",
        "gradio_pipeline_animal: GradioPipelineAnimal = GradioPipelineAnimal(\n",
        "    inference_cfg=inference_cfg,\n",
        "    crop_cfg=crop_cfg,\n",
        "    args=args\n",
        ")\n",
        "\n",
        "if args.gradio_temp_dir not in (None, ''):\n",
        "    os.environ[\"GRADIO_TEMP_DIR\"] = args.gradio_temp_dir\n",
        "    os.makedirs(args.gradio_temp_dir, exist_ok=True)\n",
        "\n",
        "def gpu_wrapped_execute_video(*args, **kwargs):\n",
        "    return gradio_pipeline_animal.execute_video(*args, **kwargs)\n",
        "\n",
        "\n",
        "# assets\n",
        "title_md = \"assets/gradio/gradio_title.md\"\n",
        "example_portrait_dir = \"assets/examples/source\"\n",
        "example_video_dir = \"assets/examples/driving\"\n",
        "data_examples_i2v = [\n",
        "    [osp.join(example_portrait_dir, \"s41.jpg\"), osp.join(example_video_dir, \"d3.mp4\"), True, False, False, False],\n",
        "    [osp.join(example_portrait_dir, \"s40.jpg\"), osp.join(example_video_dir, \"d6.mp4\"), True, False, False, False],\n",
        "    [osp.join(example_portrait_dir, \"s25.jpg\"), osp.join(example_video_dir, \"d19.mp4\"), True, False, False, False],\n",
        "]\n",
        "data_examples_i2v_pickle = [\n",
        "    [osp.join(example_portrait_dir, \"s25.jpg\"), osp.join(example_video_dir, \"wink.pkl\"), True, False, False, False],\n",
        "    [osp.join(example_portrait_dir, \"s40.jpg\"), osp.join(example_video_dir, \"talking.pkl\"), True, False, False, False],\n",
        "    [osp.join(example_portrait_dir, \"s41.jpg\"), osp.join(example_video_dir, \"aggrieved.pkl\"), True, False, False, False],\n",
        "]\n",
        "#################### interface logic ####################\n",
        "\n",
        "# Define components first\n",
        "output_image = gr.Image(type=\"numpy\")\n",
        "output_image_paste_back = gr.Image(type=\"numpy\")\n",
        "output_video_i2v = gr.Video(autoplay=False)\n",
        "output_video_concat_i2v = gr.Video(autoplay=False)\n",
        "output_video_i2v_gif = gr.Image(type=\"numpy\")\n",
        "\n",
        "\n",
        "with gr.Blocks(theme=gr.themes.Soft(font=[gr.themes.GoogleFont(\"Plus Jakarta Sans\")])) as demo:\n",
        "    gr.HTML(load_description(title_md))\n",
        "\n",
        "    gr.Markdown(load_description(\"assets/gradio/gradio_description_upload_animal.md\"))\n",
        "    with gr.Row():\n",
        "        with gr.Column():\n",
        "            with gr.Accordion(open=True, label=\"🐱 Source Animal Image\"):\n",
        "                source_image_input = gr.Image(type=\"filepath\")\n",
        "                gr.Examples(\n",
        "                    examples=[\n",
        "                        [osp.join(example_portrait_dir, \"s25.jpg\")],\n",
        "                        [osp.join(example_portrait_dir, \"s30.jpg\")],\n",
        "                        [osp.join(example_portrait_dir, \"s31.jpg\")],\n",
        "                        [osp.join(example_portrait_dir, \"s32.jpg\")],\n",
        "                        [osp.join(example_portrait_dir, \"s39.jpg\")],\n",
        "                        [osp.join(example_portrait_dir, \"s40.jpg\")],\n",
        "                        [osp.join(example_portrait_dir, \"s41.jpg\")],\n",
        "                        [osp.join(example_portrait_dir, \"s38.jpg\")],\n",
        "                        [osp.join(example_portrait_dir, \"s36.jpg\")],\n",
        "                    ],\n",
        "                    inputs=[source_image_input],\n",
        "                    cache_examples=False,\n",
        "                )\n",
        "\n",
        "            with gr.Accordion(open=True, label=\"Cropping Options for Source Image\"):\n",
        "                with gr.Row():\n",
        "                    flag_do_crop_input = gr.Checkbox(value=True, label=\"do crop (source)\")\n",
        "                    scale = gr.Number(value=2.3, label=\"source crop scale\", minimum=1.8, maximum=3.2, step=0.05)\n",
        "                    vx_ratio = gr.Number(value=0.0, label=\"source crop x\", minimum=-0.5, maximum=0.5, step=0.01)\n",
        "                    vy_ratio = gr.Number(value=-0.125, label=\"source crop y\", minimum=-0.5, maximum=0.5, step=0.01)\n",
        "\n",
        "        with gr.Column():\n",
        "            with gr.Tabs():\n",
        "                with gr.TabItem(\"📁 Driving Pickle\") as tab_pickle:\n",
        "                    with gr.Accordion(open=True, label=\"Driving Pickle\"):\n",
        "                        driving_video_pickle_input = gr.File()\n",
        "                        gr.Examples(\n",
        "                            examples=[\n",
        "                                [osp.join(example_video_dir, \"wink.pkl\")],\n",
        "                                [osp.join(example_video_dir, \"shy.pkl\")],\n",
        "                                [osp.join(example_video_dir, \"aggrieved.pkl\")],\n",
        "                                [osp.join(example_video_dir, \"open_lip.pkl\")],\n",
        "                                [osp.join(example_video_dir, \"laugh.pkl\")],\n",
        "                                [osp.join(example_video_dir, \"talking.pkl\")],\n",
        "                                [osp.join(example_video_dir, \"shake_face.pkl\")],\n",
        "                            ],\n",
        "                            inputs=[driving_video_pickle_input],\n",
        "                            cache_examples=False,\n",
        "                        )\n",
        "                with gr.TabItem(\"🎞️ Driving Video\") as tab_video:\n",
        "                    with gr.Accordion(open=True, label=\"Driving Video\"):\n",
        "                        driving_video_input = gr.Video()\n",
        "                        gr.Examples(\n",
        "                            examples=[\n",
        "                                # [osp.join(example_video_dir, \"d0.mp4\")],\n",
        "                                # [osp.join(example_video_dir, \"d18.mp4\")],\n",
        "                                [osp.join(example_video_dir, \"d19.mp4\")],\n",
        "                                [osp.join(example_video_dir, \"d14.mp4\")],\n",
        "                                [osp.join(example_video_dir, \"d6.mp4\")],\n",
        "                                [osp.join(example_video_dir, \"d3.mp4\")],\n",
        "                            ],\n",
        "                            inputs=[driving_video_input],\n",
        "                            cache_examples=False,\n",
        "                        )\n",
        "\n",
        "                    tab_selection = gr.Textbox(visible=False)\n",
        "                    tab_pickle.select(lambda: \"Pickle\", None, tab_selection)\n",
        "                    tab_video.select(lambda: \"Video\", None, tab_selection)\n",
        "            with gr.Accordion(open=True, label=\"Cropping Options for Driving Video\"):\n",
        "                with gr.Row():\n",
        "                    flag_crop_driving_video_input = gr.Checkbox(value=False, label=\"do crop (driving)\")\n",
        "                    scale_crop_driving_video = gr.Number(value=2.2, label=\"driving crop scale\", minimum=1.8, maximum=3.2, step=0.05)\n",
        "                    vx_ratio_crop_driving_video = gr.Number(value=0.0, label=\"driving crop x\", minimum=-0.5, maximum=0.5, step=0.01)\n",
        "                    vy_ratio_crop_driving_video = gr.Number(value=-0.1, label=\"driving crop y\", minimum=-0.5, maximum=0.5, step=0.01)\n",
        "\n",
        "    with gr.Row():\n",
        "        with gr.Accordion(open=False, label=\"Animation Options\"):\n",
        "            with gr.Row():\n",
        "                flag_stitching = gr.Checkbox(value=False, label=\"stitching (not recommended)\")\n",
        "                flag_remap_input = gr.Checkbox(value=False, label=\"paste-back (not recommended)\")\n",
        "                driving_multiplier = gr.Number(value=1.0, label=\"driving multiplier\", minimum=0.0, maximum=2.0, step=0.02)\n",
        "\n",
        "    gr.Markdown(load_description(\"assets/gradio/gradio_description_animate_clear.md\"))\n",
        "    with gr.Row():\n",
        "        process_button_animation = gr.Button(\"🚀 Animate\", variant=\"primary\")\n",
        "    with gr.Row():\n",
        "        with gr.Column():\n",
        "            with gr.Accordion(open=True, label=\"The animated video in the cropped image space\"):\n",
        "                output_video_i2v.render()\n",
        "        with gr.Column():\n",
        "            with gr.Accordion(open=True, label=\"The animated gif in the cropped image space\"):\n",
        "                output_video_i2v_gif.render()\n",
        "        with gr.Column():\n",
        "            with gr.Accordion(open=True, label=\"The animated video\"):\n",
        "                output_video_concat_i2v.render()\n",
        "    with gr.Row():\n",
        "        process_button_reset = gr.ClearButton([source_image_input, driving_video_input, output_video_i2v, output_video_concat_i2v, output_video_i2v_gif], value=\"🧹 Clear\")\n",
        "\n",
        "    with gr.Row():\n",
        "        # Examples\n",
        "        gr.Markdown(\"## You could also choose the examples below by one click ⬇️\")\n",
        "    with gr.Row():\n",
        "        with gr.Tabs():\n",
        "            with gr.TabItem(\"📁 Driving Pickle\") as tab_video:\n",
        "                gr.Examples(\n",
        "                    examples=data_examples_i2v_pickle,\n",
        "                    fn=gpu_wrapped_execute_video,\n",
        "                    inputs=[\n",
        "                        source_image_input,\n",
        "                        driving_video_pickle_input,\n",
        "                        flag_do_crop_input,\n",
        "                        flag_stitching,\n",
        "                        flag_remap_input,\n",
        "                        flag_crop_driving_video_input,\n",
        "                    ],\n",
        "                    outputs=[output_image, output_image_paste_back, output_video_i2v_gif],\n",
        "                    examples_per_page=len(data_examples_i2v_pickle),\n",
        "                    cache_examples=False,\n",
        "                )\n",
        "            with gr.TabItem(\"🎞️ Driving Video\") as tab_video:\n",
        "                gr.Examples(\n",
        "                    examples=data_examples_i2v,\n",
        "                    fn=gpu_wrapped_execute_video,\n",
        "                    inputs=[\n",
        "                        source_image_input,\n",
        "                        driving_video_input,\n",
        "                        flag_do_crop_input,\n",
        "                        flag_stitching,\n",
        "                        flag_remap_input,\n",
        "                        flag_crop_driving_video_input,\n",
        "                    ],\n",
        "                    outputs=[output_image, output_image_paste_back, output_video_i2v_gif],\n",
        "                    examples_per_page=len(data_examples_i2v),\n",
        "                    cache_examples=False,\n",
        "                )\n",
        "\n",
        "    process_button_animation.click(\n",
        "        fn=gpu_wrapped_execute_video,\n",
        "        inputs=[\n",
        "            source_image_input,\n",
        "            driving_video_input,\n",
        "            driving_video_pickle_input,\n",
        "            flag_do_crop_input,\n",
        "            flag_remap_input,\n",
        "            driving_multiplier,\n",
        "            flag_stitching,\n",
        "            flag_crop_driving_video_input,\n",
        "            scale,\n",
        "            vx_ratio,\n",
        "            vy_ratio,\n",
        "            scale_crop_driving_video,\n",
        "            vx_ratio_crop_driving_video,\n",
        "            vy_ratio_crop_driving_video,\n",
        "            tab_selection,\n",
        "        ],\n",
        "        outputs=[output_video_i2v, output_video_concat_i2v, output_video_i2v_gif],\n",
        "        show_progress=True\n",
        "    )\n",
        "\n",
        "demo.launch(\n",
        "    share=True,\n",
        "    debug=True\n",
        ")\n"
      ],
      "metadata": {
        "cellView": "form",
        "id": "sn_lN052W8QX"
      },
      "execution_count": null,
      "outputs": []
    }
  ]
}